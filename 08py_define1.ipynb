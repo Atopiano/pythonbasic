{
 "cells": [
  {
   "cell_type": "code",
   "execution_count": 1,
   "id": "298d7c0d-b183-43a4-9db0-a8f950cdbcc4",
   "metadata": {},
   "outputs": [
    {
     "name": "stdout",
     "output_type": "stream",
     "text": [
      "[2, 2, 1, 1, 2, 1, 2, 1, 2, 1]\n"
     ]
    }
   ],
   "source": [
    "import random\n",
    "random_list = [random.randint(1, 2) for _ in range(10)]\n",
    "print(random_list)"
   ]
  },
  {
   "cell_type": "markdown",
   "id": "c5d39c68-7f71-4023-9e72-0d17c1eabdcc",
   "metadata": {},
   "source": [
    "# 연습 문제\n",
    "\n",
    "사용자가 원하는 개수만큼의 로또 번호 생성기를 만들고자 합니다. 로또 번호 규칙은  \n",
    "다음과 같습니다.\n",
    "\n",
    "1. 번호의 범위는 1 ~ 45 사이입니다.\n",
    "2. 총 6개의 번호를 생성합니다.\n",
    "3. 생성된 번호는 오름차순으로 정리합니다.\n",
    "4. 생선된 번호들에 중복이 있어선 안 됩니다."
   ]
  },
  {
   "cell_type": "code",
   "execution_count": 2,
   "id": "444ba00d-8154-4671-ba18-6b0c1debd6c7",
   "metadata": {},
   "outputs": [
    {
     "name": "stdin",
     "output_type": "stream",
     "text": [
      "로또 번호 몇 개 드릴까요? 6\n"
     ]
    },
    {
     "name": "stdout",
     "output_type": "stream",
     "text": [
      "[1, 12, 25, 34, 36, 38]\n",
      "[5, 10, 16, 23, 31, 32]\n",
      "[5, 11, 17, 21, 40, 44]\n",
      "[5, 17, 22, 33, 34, 41]\n",
      "[5, 8, 15, 27, 30, 44]\n",
      "[20, 22, 31, 38, 44, 45]\n"
     ]
    }
   ],
   "source": [
    "# 입력값 6\n",
    "import random\n",
    "times = int(input(\"로또 번호 몇 개 드릴까요?\"))\n",
    "for i in range(times):\n",
    "    while 1:\n",
    "        lotto_list = [random.randint(1,45) for k in range(6)]\n",
    "        for j in range(6):\n",
    "            if lotto_list.count(lotto_list[j]) > 1:\n",
    "                for i in range(lotto_list.count(lotto_list[j])-1):\n",
    "                    lotto_list.remove(lotto_list[j])\n",
    "                    lotto_list.append(random.randint(1,45))\n",
    "                    continue\n",
    "            else:\n",
    "                lotto_list.sort()\n",
    "        break\n",
    "    print(lotto_list)"
   ]
  },
  {
   "cell_type": "code",
   "execution_count": 3,
   "id": "35c03f50-ce1e-41d1-9807-8f7e62138da3",
   "metadata": {},
   "outputs": [
    {
     "data": {
      "text/plain": [
       "6"
      ]
     },
     "execution_count": 3,
     "metadata": {},
     "output_type": "execute_result"
    }
   ],
   "source": [
    "lotto_list = [random.randint(1,45) for k in range(6)]\n",
    "len(lotto_list)"
   ]
  },
  {
   "cell_type": "code",
   "execution_count": 4,
   "id": "5fbd4561-b0e3-41a1-8633-9a1b450a891f",
   "metadata": {},
   "outputs": [
    {
     "name": "stdin",
     "output_type": "stream",
     "text": [
      "로또 번호 몇 개 드릴까요? 6\n"
     ]
    },
    {
     "name": "stdout",
     "output_type": "stream",
     "text": [
      "[7, 18, 26, 36, 40, 42]\n",
      "[7, 8, 19, 20, 30, 40]\n",
      "[16, 20, 23, 31, 35, 39]\n",
      "[1, 2, 3, 7, 18, 28]\n",
      "[2, 10, 11, 30, 34, 40]\n",
      "[1, 18, 21, 25, 31, 37]\n"
     ]
    }
   ],
   "source": [
    "# 입력값 6\n",
    "import random\n",
    "\n",
    "count = int(input(\"로또 번호 몇 개 드릴까요?\"))\n",
    "\n",
    "for i in range(count):\n",
    "    lotto_numbers = []\n",
    "    while len(lotto_numbers) < 6:\n",
    "        lotto_number = random.randint(1,45)\n",
    "        if lotto_number not in lotto_numbers:\n",
    "            lotto_numbers.append(lotto_number)\n",
    "    lotto_numbers.sort()\n",
    "    print(lotto_numbers)"
   ]
  },
  {
   "cell_type": "code",
   "execution_count": 5,
   "id": "934ef0ac-1588-4209-8cb2-517c69b47944",
   "metadata": {},
   "outputs": [
    {
     "name": "stdin",
     "output_type": "stream",
     "text": [
      "로또 번호 몇 개 드릴까요? 6\n"
     ]
    },
    {
     "name": "stdout",
     "output_type": "stream",
     "text": [
      "[9, 10, 16, 24, 31, 43]\n",
      "[10, 17, 24, 28, 30, 36]\n",
      "[8, 12, 13, 16, 18, 34]\n",
      "[9, 23, 38, 40, 42, 43]\n",
      "[5, 21, 23, 32, 36, 45]\n",
      "[4, 14, 15, 30, 39, 42]\n"
     ]
    }
   ],
   "source": [
    "# 입력값 6\n",
    "import random\n",
    "\n",
    "count = int(input(\"로또 번호 몇 개 드릴까요?\"))\n",
    "\n",
    "for i in range(count):\n",
    "    lotto = [j for j in range(1, 46)]\n",
    "    lotto_numbers = []\n",
    "    for _ in range(6):\n",
    "        lotto_number = lotto[random.randint(1, len(lotto) - 1)]\n",
    "        lotto_numbers.append(lotto_number)\n",
    "        lotto.remove(lotto_number)\n",
    "        lotto_numbers.sort()\n",
    "    print(lotto_numbers)"
   ]
  },
  {
   "cell_type": "code",
   "execution_count": 6,
   "id": "3d56d374-ebf8-47c4-8b34-675f4149c101",
   "metadata": {},
   "outputs": [
    {
     "data": {
      "text/plain": [
       "45"
      ]
     },
     "execution_count": 6,
     "metadata": {},
     "output_type": "execute_result"
    }
   ],
   "source": [
    "lotto = [j for j in range(1, 46)]\n",
    "len(lotto)"
   ]
  },
  {
   "cell_type": "code",
   "execution_count": 7,
   "id": "69dccc12-4c43-4143-9c2f-cfed93706491",
   "metadata": {},
   "outputs": [
    {
     "name": "stdin",
     "output_type": "stream",
     "text": [
      "로또 번호 몇 개 드릴까요? 6\n"
     ]
    },
    {
     "name": "stdout",
     "output_type": "stream",
     "text": [
      "{32, 5, 43, 13, 16, 31}\n",
      "{32, 38, 8, 45, 17, 24}\n",
      "{38, 41, 42, 44, 15, 25}\n",
      "{4, 5, 38, 9, 44, 24}\n",
      "{33, 2, 9, 17, 21, 22}\n",
      "{38, 11, 43, 45, 18, 23}\n"
     ]
    }
   ],
   "source": [
    "# 입력값 6\n",
    "import random\n",
    "\n",
    "n = int(input(\"로또 번호 몇 개 드릴까요?\"))\n",
    "for i in range(n):\n",
    "    lotto_list = set()\n",
    "    while len(lotto_list) != 6:\n",
    "        lotto_list.add(random.randint(1,45))\n",
    "    print(lotto_list)"
   ]
  },
  {
   "cell_type": "code",
   "execution_count": 9,
   "id": "50563b9d-8cb7-45d3-a0c9-cf6cac0c7078",
   "metadata": {},
   "outputs": [
    {
     "name": "stdin",
     "output_type": "stream",
     "text": [
      "로또 번호 몇 개 드릴까요? 6\n"
     ]
    },
    {
     "name": "stdout",
     "output_type": "stream",
     "text": [
      "{33, 8, 42, 23, 24}\n",
      "{2, 42, 13, 23}\n",
      "{3, 5, 6, 40, 8, 23}\n",
      "{39, 12, 13, 15, 22, 26}\n",
      "{41, 42, 13, 19, 22, 24}\n",
      "{35, 4, 5, 8, 17, 31}\n"
     ]
    }
   ],
   "source": [
    "# 입력값 6\n",
    "count = int(input(\"로또 번호 몇 개 드릴까요?\"))\n",
    "\n",
    "import random\n",
    "# 만약 중복이 나온다면 개수가 6개가 아니게 됩니다.\n",
    "\n",
    "for _ in range(count):\n",
    "    set_num = {random.randint(1, 45) for _ in range(6)}\n",
    "    print(set_num)"
   ]
  },
  {
   "cell_type": "code",
   "execution_count": 10,
   "id": "80e48d64-824d-420c-b7d9-b67b35732399",
   "metadata": {},
   "outputs": [
    {
     "name": "stdout",
     "output_type": "stream",
     "text": [
      "[3, 9, 10, 12, 31, 45]\n"
     ]
    }
   ],
   "source": [
    "import random\n",
    "# 만약 중복이 나온다면 개수가 6개가 아니게 됩니다.\n",
    "lotto = {}\n",
    "while len(lotto) != 6:\n",
    "    lotto = {random.randint(1, 45) for _ in range(6)}\n",
    "result = list(lotto)\n",
    "result.sort()\n",
    "print(result)"
   ]
  },
  {
   "cell_type": "markdown",
   "id": "d7afd693-6eb8-4666-8978-40724a23e393",
   "metadata": {},
   "source": [
    "# 연습 문제\n",
    "\n",
    "아래와 같은 리스트가 있을 때 set 자료형을 통해 중복을 제거하고 출력해보세요.  \n",
    "\n",
    "- list_sample = [1, 2, 2, 3, 3, 3, 4, 4, 4, 4]"
   ]
  },
  {
   "cell_type": "code",
   "execution_count": 11,
   "id": "5a82a2ed-9a05-4ad7-b760-91184e0b263d",
   "metadata": {},
   "outputs": [
    {
     "name": "stdout",
     "output_type": "stream",
     "text": [
      "{1, 2, 3, 4}\n"
     ]
    }
   ],
   "source": [
    "list_sample = [1, 2, 2, 3, 3, 3, 4, 4, 4, 4]\n",
    "\n",
    "result = set(list_sample)\n",
    "\n",
    "print(result)"
   ]
  },
  {
   "cell_type": "markdown",
   "id": "0eac26af-8e8f-4102-8319-617c182bc03b",
   "metadata": {},
   "source": [
    "# 연습 문제\n",
    "\n",
    "집합 컴프리헨션을 활용해서 1 ~ 100 사이의 3의 공배수를 구하고 set_3 변수에 담습니다.  \n",
    "집합 컴프리헨션을 활용해서 1 ~ 100 사이의 5의 공배수를 구하고 set_5 변수에 담습니다.  \n",
    "이들의 교집합을 구하고 result_set 변수에 담습니다. 그리고 그 result_set을 출력해보세요.  \n",
    "- set의 특성상 출력된 값의 순서는 상관없습니다."
   ]
  },
  {
   "cell_type": "code",
   "execution_count": 12,
   "id": "5316df5b-3239-453c-8441-4ed566ea75b7",
   "metadata": {},
   "outputs": [
    {
     "name": "stdout",
     "output_type": "stream",
     "text": [
      "{75, 45, 15, 90, 60, 30}\n"
     ]
    }
   ],
   "source": [
    "set_3 = {_ for _ in range(0,101,3) if _ != 0}\n",
    "set_5 = {_ for _ in range(0,101,5) if _ != 0}\n",
    "\n",
    "result_set = set_3 & set_5\n",
    "\n",
    "print(result_set)"
   ]
  },
  {
   "cell_type": "markdown",
   "id": "93a0f943-997f-44bc-bbb3-171c2df4094d",
   "metadata": {},
   "source": [
    "# 연습 문제\n",
    "\n",
    "시스템 관리자이자 겸직으로 인사팀에 있는 A 씨의 권한은 role_admin, role hr,  \n",
    "role_user 를 갖습니다. 이때 권한마다 갖는 홈페이지 메뉴가 다음과 같습니다.  \n",
    "\n",
    "- role_admin = (\"회계 관리\", \"인사 관리\", \"구매 관리\", \"시스템 관리\")\n",
    "- role_hr =  (\"인사 관리\", \"개인정보 조회\", \"회계 관리\", \"근태 관리\")\n",
    "- role_user = (\"개인정보 조회\", \"근태관리\")\n",
    "\n",
    "세 개 권한으로부터 가질 수 있는 메뉴들을 중복 없이 오름차순으로 출력해보세요.  "
   ]
  },
  {
   "cell_type": "code",
   "execution_count": 13,
   "id": "52e21025-92eb-461b-b8b0-542123705841",
   "metadata": {},
   "outputs": [
    {
     "name": "stdout",
     "output_type": "stream",
     "text": [
      "개인정보 조회, 구매 관리, 근태 관리, 근태관리, 시스템 관리, 인사 관리, 회계 관리\n"
     ]
    }
   ],
   "source": [
    "role_admin = {\"회계 관리\", \"인사 관리\", \"구매 관리\", \"시스템 관리\"}\n",
    "role_hr =  {\"인사 관리\", \"개인정보 조회\", \"회계 관리\", \"근태 관리\"}\n",
    "role_user = {\"개인정보 조회\", \"근태관리\"}\n",
    "            \n",
    "result = role_admin | role_hr | role_user\n",
    "result_list = list(result)\n",
    "result_list.sort()\n",
    "\n",
    "for _ in range(len(result_list)):\n",
    "    if _ == len(result_list) - 1:\n",
    "        print(result_list[_])\n",
    "    else:\n",
    "        print(result_list[_], end = \", \")"
   ]
  },
  {
   "cell_type": "code",
   "execution_count": 14,
   "id": "365e0602-c228-4faa-8d2a-8f536abab979",
   "metadata": {},
   "outputs": [
    {
     "name": "stdout",
     "output_type": "stream",
     "text": [
      "['개인정보 조회', '구매 관리', '근태 관리', '근태관리', '시스템 관리', '인사 관리', '회계 관리']\n"
     ]
    }
   ],
   "source": [
    "role_admin = (\"회계 관리\", \"인사 관리\", \"구매 관리\", \"시스템 관리\")\n",
    "role_hr =  (\"인사 관리\", \"개인정보 조회\", \"회계 관리\", \"근태 관리\")\n",
    "role_user = (\"개인정보 조회\", \"근태관리\")\n",
    "\n",
    "role_union_tuple = role_admin + role_hr + role_user\n",
    "\n",
    "result = set(role_union_tuple)\n",
    "            \n",
    "result_list = list(result)\n",
    "result_list.sort()\n",
    "print(result_list)"
   ]
  },
  {
   "cell_type": "code",
   "execution_count": 15,
   "id": "7b042901-c7e5-4ef5-b186-650e95c79001",
   "metadata": {},
   "outputs": [
    {
     "name": "stdout",
     "output_type": "stream",
     "text": [
      "개인정보 조회, 구매 관리, 근태 관리, 근태관리, 시스템 관리, 인사 관리, 회계 관리"
     ]
    }
   ],
   "source": [
    "role_admin = (\"회계 관리\", \"인사 관리\", \"구매 관리\", \"시스템 관리\")\n",
    "role_hr =  (\"인사 관리\", \"개인정보 조회\", \"회계 관리\", \"근태 관리\")\n",
    "role_user = (\"개인정보 조회\", \"근태관리\")\n",
    "\n",
    "menus = list(set(role_admin + role_hr + role_user))\n",
    "menus.sort()\n",
    "end_char = \", \"\n",
    "for menu in menus:\n",
    "    if menus[-1] == menu:\n",
    "        end_char = \"\"\n",
    "    print(menu, end = end_char)"
   ]
  },
  {
   "cell_type": "markdown",
   "id": "c5731640-d693-4f61-a813-730e12c81b9f",
   "metadata": {},
   "source": [
    "# 연습 문제\n",
    "\n",
    "2부터 입력 받은 수까지의 소수를 한줄에 7개씩 보여주는 프로그램을 작성하라.  \n",
    "\n",
    "- 소수 : 1보다 큰 자연수 중 1과 그 수 자신만을 약수로 갖는 자연수\n",
    "- 모든 소수의 약수는 2개임"
   ]
  },
  {
   "cell_type": "code",
   "execution_count": 17,
   "id": "c954675f-e69b-4493-b2d2-ae3c7e8b0d9c",
   "metadata": {},
   "outputs": [
    {
     "name": "stdout",
     "output_type": "stream",
     "text": [
      "2부터 입력하신 수까지의 모든 소수를 찾는 프로그램입니다.\n"
     ]
    },
    {
     "name": "stdin",
     "output_type": "stream",
     "text": [
      "찾는 범위를 입력하세요 : 100\n"
     ]
    },
    {
     "name": "stdout",
     "output_type": "stream",
     "text": [
      "2 3 5 7 11 13 17 \n",
      "19 23 29 31 37 41 43 \n",
      "47 53 59 61 67 71 73 \n",
      "79 83 89 97 "
     ]
    }
   ],
   "source": [
    "# 입력값 100\n",
    "print(\"2부터 입력하신 수까지의 모든 소수를 찾는 프로그램입니다.\")\n",
    "amount = int(input(\"찾는 범위를 입력하세요 :\"))\n",
    "line_change = 0\n",
    "\n",
    "for _ in range(2, amount + 1):\n",
    "    if _ % 2 != 0 and _ % 3 != 0 and _ % 5 != 0 and _ % 7 != 0:\n",
    "        print(_, end = \" \")\n",
    "        line_change += 1\n",
    "    elif _ == 2 or _ == 3 or _ == 5 or _ == 7:\n",
    "        print(_, end = \" \")\n",
    "        line_change += 1\n",
    "    elif line_change == 7:\n",
    "        print()\n",
    "        line_change = 0"
   ]
  },
  {
   "cell_type": "code",
   "execution_count": 18,
   "id": "314129b9-b2ff-420f-a38c-4944d1cd16e4",
   "metadata": {},
   "outputs": [
    {
     "name": "stdout",
     "output_type": "stream",
     "text": [
      "2부터 입력하신 수까지의 모든 소수를 찾는 프로그램입니다.\n"
     ]
    },
    {
     "name": "stdin",
     "output_type": "stream",
     "text": [
      "찾는 범위를 입력하세요 : 100\n"
     ]
    },
    {
     "name": "stdout",
     "output_type": "stream",
     "text": [
      "2 3 5 7 11 13 17 \n",
      "19 23 29 31 37 41 43 \n",
      "47 53 59 61 67 71 73 \n",
      "79 83 89 97 "
     ]
    }
   ],
   "source": [
    "# 입력값 100\n",
    "print(\"2부터 입력하신 수까지의 모든 소수를 찾는 프로그램입니다.\")\n",
    "inData = int(input(\"찾는 범위를 입력하세요 :\"))\n",
    "i = 2\n",
    "line = 0\n",
    "while i <= inData:\n",
    "    j = 2\n",
    "    while j <= i:\n",
    "        if i % j == 0:\n",
    "            break\n",
    "        j += 1\n",
    "    if i == j:\n",
    "        print(i, end = ' ')\n",
    "        line = line + 1\n",
    "        if line == 7:\n",
    "            line = 0\n",
    "            print()\n",
    "    i += 1"
   ]
  },
  {
   "cell_type": "code",
   "execution_count": 19,
   "id": "1a595405-2f5b-4cd5-b0fd-bfb4e4d44e05",
   "metadata": {},
   "outputs": [
    {
     "name": "stdout",
     "output_type": "stream",
     "text": [
      "2부터 입력하신 수까지의 모든 소수를 찾는 프로그램입니다.\n"
     ]
    },
    {
     "name": "stdin",
     "output_type": "stream",
     "text": [
      "찾는 범위를 입력하세요 : 100\n"
     ]
    },
    {
     "name": "stdout",
     "output_type": "stream",
     "text": [
      "2 3 5 7 11 13 17 19 23 29 31 37 41 43 47 53 59 61 67 71 73 79 83 89 97 "
     ]
    }
   ],
   "source": [
    "# 입력값 100\n",
    "print(\"2부터 입력하신 수까지의 모든 소수를 찾는 프로그램입니다.\")\n",
    "amount = int(input(\"찾는 범위를 입력하세요 :\"))\n",
    "amount_list = [_ for _ in range(1, amount + 1)]\n",
    "for i in range(2, amount + 1):\n",
    "    Flag = True\n",
    "    for j in range(2,i):\n",
    "        if i % j == 0:\n",
    "            Flag = False\n",
    "    if Flag == True:\n",
    "        print(i,end=\" \")"
   ]
  },
  {
   "cell_type": "code",
   "execution_count": 21,
   "id": "984d523d-7502-4778-9e03-2e7daf4dbd71",
   "metadata": {},
   "outputs": [
    {
     "name": "stdin",
     "output_type": "stream",
     "text": [
      "찾는 범위:  100\n"
     ]
    },
    {
     "name": "stdout",
     "output_type": "stream",
     "text": [
      "2 3 5 7 11 13 17 \n",
      "19 23 29 31 37 41 43 \n",
      "47 53 59 61 67 71 73 \n",
      "79 83 89 97 "
     ]
    }
   ],
   "source": [
    "# 입력값 100\n",
    "def isPrime(num):\n",
    "    primes = [False, False] + [True]*(num-1)\n",
    "    for i in range(2, num+1):\n",
    "        if primes[i]:\n",
    "            for _ in range(i * 2, num+1, i):\n",
    "                primes[_] = False\n",
    "    return primes[num]\n",
    "get = int(input(\"찾는 범위: \"))\n",
    "lst = [_ for _ in range(2, get) if isPrime(_)]\n",
    "count = 0\n",
    "for _ in lst:\n",
    "    count+=1\n",
    "    print(_,end=\" \")\n",
    "    if count%7 == 0:\n",
    "        print()"
   ]
  },
  {
   "cell_type": "code",
   "execution_count": 23,
   "id": "e4706a28-4e63-4c6f-8d1e-4e05d19d971b",
   "metadata": {},
   "outputs": [
    {
     "name": "stdout",
     "output_type": "stream",
     "text": [
      "2부터 입력하신 수까지의 모든 소수를 찾는 프로그램입니다.\n"
     ]
    },
    {
     "name": "stdin",
     "output_type": "stream",
     "text": [
      "찾는 범위를 입력하세요: 100\n"
     ]
    },
    {
     "name": "stdout",
     "output_type": "stream",
     "text": [
      "2 3 5 7 11 13 17 19 23 29 31 37 41 43 47 53 59 61 67 71 73 79 83 89 97 "
     ]
    }
   ],
   "source": [
    "# 입력값 100\n",
    "print(\"2부터 입력하신 수까지의 모든 소수를 찾는 프로그램입니다.\")\n",
    "N = int(input(\"찾는 범위를 입력하세요:\"))\n",
    "for i in range(2,N+1):\n",
    "    Flag = True\n",
    "    for j in range(2,i//2+1):\n",
    "        if i%j == 0 :\n",
    "            Flag = False\n",
    "    if Flag == True:\n",
    "        print(i,end=\" \")"
   ]
  },
  {
   "cell_type": "code",
   "execution_count": 25,
   "id": "cd0b8b1c-d542-47f8-b4c8-d4d21cdbc2ee",
   "metadata": {},
   "outputs": [],
   "source": [
    "def function_name(message):\n",
    "    x = input(message)\n",
    "    print(x)\n",
    "    print(x)"
   ]
  },
  {
   "cell_type": "code",
   "execution_count": 27,
   "id": "8cdc8696-ac97-442b-9b0d-2b6be52f4df0",
   "metadata": {},
   "outputs": [
    {
     "name": "stdin",
     "output_type": "stream",
     "text": [
      "값을 입력해주세요 hello\n"
     ]
    },
    {
     "name": "stdout",
     "output_type": "stream",
     "text": [
      "hello\n",
      "hello\n"
     ]
    }
   ],
   "source": [
    "# 입력값 hello\n",
    "function_name(\"값을 입력해주세요\")"
   ]
  },
  {
   "cell_type": "markdown",
   "id": "558d32ec-22f8-44fa-99f7-8e97608ca757",
   "metadata": {},
   "source": [
    "```python\n",
    "def 함수_이름(위치_인자, 위치_인자2, *가변_위치, 키워드_인자, 키워드_인자2, **가변_키워드):\n",
    "    \"\"\"\n",
    "    \n",
    "    Doc String을 적는 곳입니다.\n",
    "    \n",
    "    작성자: 이기수\n",
    "    작성일자: 2020.02.03\n",
    "    \n",
    "    \"\"\"\n",
    "    함수의 바디\n",
    "    함수의 바디\n",
    "    \n",
    "    return 반환값\n",
    "```"
   ]
  },
  {
   "cell_type": "code",
   "execution_count": 28,
   "id": "5c6b61b6-9c70-4d86-a007-1676ad75f0da",
   "metadata": {},
   "outputs": [],
   "source": [
    "def function2():\n",
    "    \"\"\"\n",
    "    Docs string 부분입니다.\n",
    "    이곳에 함수의 설명에 대해 적어놓으면 좋습니다.\n",
    "    \"\"\"\n",
    "    pass"
   ]
  },
  {
   "cell_type": "code",
   "execution_count": 29,
   "id": "86f5be81-6a8c-4008-b987-713d98d596b0",
   "metadata": {},
   "outputs": [
    {
     "name": "stdout",
     "output_type": "stream",
     "text": [
      "\n",
      "    Docs string 부분입니다.\n",
      "    이곳에 함수의 설명에 대해 적어놓으면 좋습니다.\n",
      "    \n"
     ]
    }
   ],
   "source": [
    "print(function2.__doc__)"
   ]
  },
  {
   "cell_type": "code",
   "execution_count": 30,
   "id": "20200920-2f91-488b-b664-61f822367f49",
   "metadata": {},
   "outputs": [
    {
     "name": "stdout",
     "output_type": "stream",
     "text": [
      "Built-in mutable sequence.\n",
      "\n",
      "If no argument is given, the constructor creates a new empty list.\n",
      "The argument must be an iterable if specified.\n"
     ]
    }
   ],
   "source": [
    "print(list.__doc__)"
   ]
  },
  {
   "cell_type": "code",
   "execution_count": 31,
   "id": "5724032a-e8a0-4d84-a60e-bc9a50b06248",
   "metadata": {},
   "outputs": [
    {
     "name": "stdout",
     "output_type": "stream",
     "text": [
      "1 2 3 4 5 6\n"
     ]
    }
   ],
   "source": [
    "print(\"1\", \"2\", \"3\", \"4\", \"5\", \"6\")"
   ]
  },
  {
   "cell_type": "code",
   "execution_count": 32,
   "id": "49312758-31ef-4908-9f83-0431e48cda02",
   "metadata": {},
   "outputs": [],
   "source": [
    "# 함수 정의절\n",
    "\n",
    "def function_name(positional, positional2, *args, keyword1 = 1, **kargs):\n",
    "    pass # body"
   ]
  },
  {
   "cell_type": "code",
   "execution_count": 33,
   "id": "df4bb59c-5659-4c69-8fa0-8a1bd20b86d6",
   "metadata": {},
   "outputs": [],
   "source": [
    "# 함수 정의절\n",
    "def get_grade(score=100):\n",
    "    \"\"\"\n",
    "    숫자로 된 점수를 넣으시면 학점의 결과를 반환합니다.\n",
    "    \"\"\"\n",
    "    if 85 <= score <= 100:\n",
    "        return \"A\"\n",
    "    elif 70 <= score <= 84:\n",
    "        return \"B\"\n",
    "    elif 55 <= score <= 69:\n",
    "        return \"C\"\n",
    "    elif 40 <= score <= 54:\n",
    "        return \"D\"\n",
    "    elif 0 <= score <= 39:\n",
    "        return \"E\""
   ]
  },
  {
   "cell_type": "code",
   "execution_count": 34,
   "id": "121c0c11-6696-41ee-b7dd-eba168c3b98a",
   "metadata": {},
   "outputs": [
    {
     "data": {
      "text/plain": [
       "'A'"
      ]
     },
     "execution_count": 34,
     "metadata": {},
     "output_type": "execute_result"
    }
   ],
   "source": [
    "get_grade()"
   ]
  },
  {
   "cell_type": "code",
   "execution_count": 35,
   "id": "2161be48-0446-4965-b09e-50c9e8895690",
   "metadata": {},
   "outputs": [
    {
     "name": "stdout",
     "output_type": "stream",
     "text": [
      "안녕\n",
      "하세요\n",
      "반갑습니다\n"
     ]
    }
   ],
   "source": [
    "print(\"안녕\", \"하세요\", \"반갑습니다\", sep = \"\\n\")"
   ]
  },
  {
   "cell_type": "code",
   "execution_count": 36,
   "id": "32329e62-7d03-43e6-a761-82ec73f7287f",
   "metadata": {},
   "outputs": [
    {
     "name": "stdout",
     "output_type": "stream",
     "text": [
      "\n",
      "    숫자로 된 점수를 넣으시면 학점의 결과를 반환합니다.\n",
      "    \n"
     ]
    }
   ],
   "source": [
    "print(get_grade.__doc__)"
   ]
  },
  {
   "cell_type": "code",
   "execution_count": 37,
   "id": "925f445e-e2f4-424e-8abe-7e504689e7d8",
   "metadata": {},
   "outputs": [
    {
     "name": "stdout",
     "output_type": "stream",
     "text": [
      "A\n"
     ]
    }
   ],
   "source": [
    "result = get_grade(100) # \"A\"\n",
    "print(result)"
   ]
  },
  {
   "cell_type": "code",
   "execution_count": 38,
   "id": "34247342-968d-4421-9b4b-f10c592b4db7",
   "metadata": {},
   "outputs": [
    {
     "name": "stdout",
     "output_type": "stream",
     "text": [
      "[60, 71, 47, 83, 100, 85, 62, 69, 33, 27, 54, 46, 79, 59, 68, 11, 49, 98, 7, 43]\n"
     ]
    }
   ],
   "source": [
    "import random\n",
    "\n",
    "# 20명의 점수를 입력했다.\n",
    "scores = [random.randint(1, 100) for _ in range(20)]\n",
    "print(scores)"
   ]
  },
  {
   "cell_type": "code",
   "execution_count": 39,
   "id": "6cc6e3eb-b977-4c54-8aa6-37b4a85d5f24",
   "metadata": {},
   "outputs": [
    {
     "name": "stdout",
     "output_type": "stream",
     "text": [
      "['C', 'B', 'D', 'B', 'A', 'A', 'C', 'C', 'E', 'E', 'D', 'D', 'B', 'C', 'C', 'E', 'D', 'A', 'E', 'D']\n"
     ]
    }
   ],
   "source": [
    "grades = list(map(get_grade, scores))\n",
    "print(grades)"
   ]
  },
  {
   "cell_type": "code",
   "execution_count": 40,
   "id": "9740349f-092b-4803-a869-4e3914c55ff2",
   "metadata": {},
   "outputs": [],
   "source": [
    "# 함수 정의절\n",
    "def get_grade(score, student_number, name=\"홍길동\"):\n",
    "    \"\"\"\n",
    "    숫자로 된 점수를 넣으시면 학점의 결과를 반환합니다.\n",
    "    \"\"\"\n",
    "    print(f\"{student_number}, {name}의 성적을 확인합니다.\")\n",
    "    if 85 <= score <= 100:\n",
    "        return \"A\"\n",
    "    elif 70 <= score <= 84:\n",
    "        return \"B\"\n",
    "    elif 55 <= score <= 69:\n",
    "        return \"C\"\n",
    "    elif 40 <= score <= 54:\n",
    "        return \"D\"\n",
    "    elif 0 <= score <= 39:\n",
    "        return \"E\""
   ]
  },
  {
   "cell_type": "code",
   "execution_count": 41,
   "id": "07a9670b-14df-4bf7-9110-20004156469b",
   "metadata": {},
   "outputs": [
    {
     "name": "stdout",
     "output_type": "stream",
     "text": [
      "19999999, 이기수의 성적을 확인합니다.\n"
     ]
    },
    {
     "data": {
      "text/plain": [
       "'A'"
      ]
     },
     "execution_count": 41,
     "metadata": {},
     "output_type": "execute_result"
    }
   ],
   "source": [
    "# 함수 호출\n",
    "# 인수(arguments)\n",
    "get_grade(score = 100, student_number = \"19999999\", name = \"이기수\")"
   ]
  },
  {
   "cell_type": "code",
   "execution_count": 42,
   "id": "5bf38588-8a37-4991-9103-316431b87cf7",
   "metadata": {},
   "outputs": [],
   "source": [
    "print(sep=\"\", end=\"\")"
   ]
  },
  {
   "cell_type": "code",
   "execution_count": 46,
   "id": "dc5edefe-bfe7-4908-9027-f38427814bc3",
   "metadata": {},
   "outputs": [],
   "source": [
    "# 함수 정의절\n",
    "# 인자(매개변수, parameter) - non-default, default 종류\n",
    "# positional-only: / 문자를 기준으로 왼편에 온다.\n",
    "def add_number(number2, number1 = 3, /):\n",
    "    \"\"\"\n",
    "    숫자 number1과 숫자 number2를 전달 받아 더한 결과를 반환합니다.\n",
    "    \"\"\"\n",
    "    return number1 + number2"
   ]
  },
  {
   "cell_type": "code",
   "execution_count": 50,
   "id": "b5096a2d-5042-4579-9e32-b81a736950bb",
   "metadata": {},
   "outputs": [],
   "source": [
    "# 인수(argument) - positional argument, keyword argument\n",
    "result = add_number(2) # 소괄호 --> call\n"
   ]
  },
  {
   "cell_type": "code",
   "execution_count": 51,
   "id": "b5939b15-aca2-4099-a052-7176a9527362",
   "metadata": {},
   "outputs": [
    {
     "name": "stdout",
     "output_type": "stream",
     "text": [
      "5\n"
     ]
    }
   ],
   "source": [
    "print(result)"
   ]
  },
  {
   "cell_type": "code",
   "execution_count": 52,
   "id": "2ac37a5c-8c70-4f6e-98bb-0b44dd6f9bee",
   "metadata": {},
   "outputs": [],
   "source": [
    "# 함수 정의절\n",
    "# 인자(매개변수, parameter) - non-default, default 종류\n",
    "# keyword-only: * 문자를 기준으로 왼편에 온다.\n",
    "def minus_number(*, number1, number2 = 3):\n",
    "    \"\"\"\n",
    "    숫자 number1과 숫자 number2를 전달 받아 더한 결과를 반환합니다.\n",
    "    \"\"\"\n",
    "    return number1 - number2"
   ]
  },
  {
   "cell_type": "code",
   "execution_count": 53,
   "id": "11cb8cfe-9327-4057-aaf3-a3226789eef3",
   "metadata": {},
   "outputs": [
    {
     "data": {
      "text/plain": [
       "15"
      ]
     },
     "execution_count": 53,
     "metadata": {},
     "output_type": "execute_result"
    }
   ],
   "source": [
    "# 함수를 호출(Call)\n",
    "# 인수(argument) - positional argument, keyword argument\n",
    "minus_number(number1 = 20, number2 = 5)"
   ]
  },
  {
   "cell_type": "code",
   "execution_count": 54,
   "id": "0b098a11-21f8-4cf4-80ed-a3f937e8acf6",
   "metadata": {},
   "outputs": [],
   "source": [
    "# 함수 정의절\n",
    "# 인자(매개변수, parameter) - non-default, default 종류\n",
    "# positional - only: / 문자를 기준으로 왼편에 온다.\n",
    "# keyword-only: * 문자를 기준으로 왼편에 온다.\n",
    "def multi_number(number1, /, *, number2 = 3):\n",
    "    \"\"\"\n",
    "    숫자 number1과 숫자 number2를 전달 받아 더한 결과를 반환합니다.\n",
    "    \"\"\"\n",
    "    return number1 * number2"
   ]
  },
  {
   "cell_type": "code",
   "execution_count": 55,
   "id": "c87fd208-f66d-4120-9cbc-5b9d2244831a",
   "metadata": {},
   "outputs": [
    {
     "data": {
      "text/plain": [
       "30"
      ]
     },
     "execution_count": 55,
     "metadata": {},
     "output_type": "execute_result"
    }
   ],
   "source": [
    "multi_number(3, number2 = 10)"
   ]
  },
  {
   "cell_type": "code",
   "execution_count": 56,
   "id": "8c306cde-25ea-485d-88e7-fd2e5f253dc4",
   "metadata": {},
   "outputs": [],
   "source": [
    "def string_line(str_value, /, str_len = 70, *, sep = \"#\"):\n",
    "    \"\"\"\n",
    "    str_value는 가운데 오는 텍스트입니다.\n",
    "    str_len은 텍스트의 설정할 길이입니다.\n",
    "    sep는 구분선을 그을때 쓰는 문자입니다.\n",
    "    \"\"\"\n",
    "    print(str_value.center(str_len, sep))"
   ]
  },
  {
   "cell_type": "code",
   "execution_count": 57,
   "id": "7c0643f6-2964-43fd-bea7-59a654805014",
   "metadata": {},
   "outputs": [
    {
     "name": "stdout",
     "output_type": "stream",
     "text": [
      "************************구분************************\n"
     ]
    }
   ],
   "source": [
    "string_line(\"구분\", 50, sep = \"*\")"
   ]
  },
  {
   "cell_type": "code",
   "execution_count": 58,
   "id": "9619603b-5fdc-4bad-9575-d5e646bd8ae1",
   "metadata": {},
   "outputs": [
    {
     "data": {
      "text/plain": [
       "50"
      ]
     },
     "execution_count": 58,
     "metadata": {},
     "output_type": "execute_result"
    }
   ],
   "source": [
    "len('************************구분************************')"
   ]
  },
  {
   "cell_type": "code",
   "execution_count": 59,
   "id": "3f5ff18e-6af9-47e5-8be0-dc8fd35f08f1",
   "metadata": {},
   "outputs": [
    {
     "name": "stdout",
     "output_type": "stream",
     "text": [
      "------------------------------------------------절취선-------------------------------------------------\n"
     ]
    }
   ],
   "source": [
    "string_line(\"절취선\", str_len = 100, sep = \"-\")"
   ]
  },
  {
   "cell_type": "code",
   "execution_count": 60,
   "id": "d8db5ec5-6cdd-4ee3-ad56-4dab04e4a786",
   "metadata": {},
   "outputs": [
    {
     "data": {
      "text/plain": [
       "100"
      ]
     },
     "execution_count": 60,
     "metadata": {},
     "output_type": "execute_result"
    }
   ],
   "source": [
    "len('------------------------------------------------절취선-------------------------------------------------')"
   ]
  },
  {
   "cell_type": "code",
   "execution_count": 61,
   "id": "cdf253c0-3471-477a-8fad-fd9b3c9a2317",
   "metadata": {},
   "outputs": [
    {
     "name": "stdout",
     "output_type": "stream",
     "text": [
      "1 1 1 1 1 1 1 1 1 1\n"
     ]
    }
   ],
   "source": [
    "print(\"1\", \"1\", \"1\", \"1\", \"1\", \"1\", \"1\", \"1\", \"1\", \"1\",)"
   ]
  },
  {
   "cell_type": "code",
   "execution_count": 62,
   "id": "37b975d3-e97f-4c78-b1e7-95b6931640b1",
   "metadata": {},
   "outputs": [],
   "source": [
    "# *args: var positional 가변 위치\n",
    "def test_func(a, b, c,*args):\n",
    "    print(f\"a: {a} b: {b} c: {c}\")\n",
    "    print(type(args))\n",
    "    print(args)"
   ]
  },
  {
   "cell_type": "code",
   "execution_count": 63,
   "id": "d382eb0d-8aa3-4bb1-9f9c-fb99bc33fee3",
   "metadata": {},
   "outputs": [
    {
     "name": "stdout",
     "output_type": "stream",
     "text": [
      "a: a 위치입니다. b: b 위치입니다 c: c 위치입니다\n",
      "<class 'tuple'>\n",
      "('여기는', '어딜까요', '몇개', '더')\n"
     ]
    }
   ],
   "source": [
    "test_func(\"a 위치입니다.\", \"b 위치입니다\", \"c 위치입니다\", \"여기는\", \"어딜까요\", \"몇개\", \"더\")"
   ]
  },
  {
   "cell_type": "code",
   "execution_count": 64,
   "id": "6b11f455-2182-4144-be29-2423e3aff67b",
   "metadata": {},
   "outputs": [],
   "source": [
    "# **kargs; var keyword 가변 키워드\n",
    "def test_fun2(a = \"a\", b = \"b\", **kargs):\n",
    "    print(a, b)\n",
    "    print(type(kargs))\n",
    "    print(kargs)"
   ]
  },
  {
   "cell_type": "code",
   "execution_count": 65,
   "id": "2063b26f-a695-40b5-bd65-4454d401385f",
   "metadata": {},
   "outputs": [
    {
     "name": "stdout",
     "output_type": "stream",
     "text": [
      "ab bc\n",
      "<class 'dict'>\n",
      "{'key': 'value', 'key2': 'value2'}\n"
     ]
    }
   ],
   "source": [
    "test_fun2(a=\"ab\", b=\"bc\", key=\"value\", key2=\"value2\")"
   ]
  },
  {
   "cell_type": "markdown",
   "id": "a3013ebc-dce6-4c61-8ad1-eac754aae8fb",
   "metadata": {},
   "source": [
    "# 연습 문제\n",
    "\n",
    "각 입력받은 정수를 10씩 더해서 반환하는 함수를 만들어 보세요.\n",
    "\n",
    "- 함수명: plus_ten"
   ]
  },
  {
   "cell_type": "code",
   "execution_count": 66,
   "id": "e0508110-7711-4323-ac4b-90e30a2ad26a",
   "metadata": {},
   "outputs": [],
   "source": [
    "def plus_ten(A):\n",
    "    return A + 10"
   ]
  },
  {
   "cell_type": "code",
   "execution_count": 67,
   "id": "ea526fff-23a2-4069-8238-90a2596bf93c",
   "metadata": {},
   "outputs": [
    {
     "data": {
      "text/plain": [
       "80"
      ]
     },
     "execution_count": 67,
     "metadata": {},
     "output_type": "execute_result"
    }
   ],
   "source": [
    "plus_ten(70)"
   ]
  }
 ],
 "metadata": {
  "kernelspec": {
   "display_name": "Python 3 (ipykernel)",
   "language": "python",
   "name": "python3"
  },
  "language_info": {
   "codemirror_mode": {
    "name": "ipython",
    "version": 3
   },
   "file_extension": ".py",
   "mimetype": "text/x-python",
   "name": "python",
   "nbconvert_exporter": "python",
   "pygments_lexer": "ipython3",
   "version": "3.9.13"
  }
 },
 "nbformat": 4,
 "nbformat_minor": 5
}
