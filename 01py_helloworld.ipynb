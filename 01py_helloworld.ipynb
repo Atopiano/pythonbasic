{
 "cells": [
  {
   "cell_type": "code",
   "execution_count": 1,
   "id": "dc9273b0-0533-4d13-8a0f-55c0aace63a2",
   "metadata": {},
   "outputs": [
    {
     "name": "stdout",
     "output_type": "stream",
     "text": [
      "3.9.13 (main, Aug 25 2022, 23:51:50) [MSC v.1916 64 bit (AMD64)]\n"
     ]
    }
   ],
   "source": [
    "import sys\n",
    "print(sys.version)"
   ]
  },
  {
   "cell_type": "code",
   "execution_count": 2,
   "id": "488a57b5-925d-47f6-8632-ba553ae4c0c8",
   "metadata": {},
   "outputs": [
    {
     "name": "stdout",
     "output_type": "stream",
     "text": [
      " C 드라이브의 볼륨: Acer\n",
      " 볼륨 일련 번호: B82C-A7E1\n",
      "\n",
      " C:\\python 디렉터리\n",
      "\n",
      "2023-02-22  오전 10:22    <DIR>          .\n",
      "2023-01-30  오후 12:07                25 .gitignore\n",
      "2023-02-22  오전 10:13    <DIR>          .ipynb_checkpoints\n",
      "2023-02-22  오전 10:22            69,288 01practice_LV1.ipynb\n",
      "2023-02-22  오전 08:45             2,165 01py_helloworld.ipynb\n",
      "2023-02-22  오전 08:45            31,388 02py_indexing,slicing.ipynb\n",
      "2023-02-22  오전 08:46            37,368 03py_list,tuple,input.ipynb\n",
      "2023-01-09  오전 09:11            68,781 04py_if,for.ipynb\n",
      "2023-02-22  오전 08:46            21,582 05py_while.ipynb\n",
      "2023-02-22  오전 08:46            24,343 06py_for,while_practice.ipynb\n",
      "2023-01-11  오후 05:48            32,744 07py_for,while_pracatice2.ipynb\n",
      "2023-01-13  오전 08:49            42,352 08python_basic.ipynb\n",
      "2023-01-13  오후 05:57            28,850 09python_basic.ipynb\n",
      "2023-01-17  오전 09:39           100,367 10python_basic.ipynb\n",
      "2023-01-23  오후 10:47            68,113 11python_basic.ipynb\n",
      "2023-01-31  오후 02:36           152,540 12python_basic.ipynb\n",
      "2023-01-26  오후 03:12           136,865 13python_basic.ipynb\n",
      "2023-01-31  오후 02:36           237,500 14python_basic.ipynb\n",
      "2023-01-31  오후 05:08           825,746 15python_basic.ipynb\n",
      "2023-01-31  오후 05:08         1,953,275 16python_basic.ipynb\n",
      "2023-01-31  오후 05:07         4,921,131 17python_basic.ipynb\n",
      "2023-02-02  오전 10:31         1,451,389 18python_basic.ipynb\n",
      "2023-02-01  오전 09:04         4,645,818 19python_basic.ipynb\n",
      "2023-01-10  오전 08:40             2,705 2023_01_09_퀴즈2.ipynb\n",
      "2023-01-12  오후 05:48             4,958 BJ .ipynb\n",
      "2023-01-31  오후 05:33           307,047 Country.html\n",
      "2023-02-02  오후 05:35    <DIR>          data\n",
      "2023-01-31  오후 05:33           109,034 DevType.png\n",
      "2023-02-02  오후 05:48    <DIR>          fonts\n",
      "2023-01-18  오후 04:17             3,399 markdown.ipynb\n",
      "2023-01-19  오전 11:13                49 sample1.csv\n",
      "2023-01-19  오전 11:13                39 sample2.csv\n",
      "2023-01-19  오전 11:13               151 sample3.txt\n",
      "2023-01-19  오전 11:13               113 sample4.txt\n",
      "2023-01-19  오전 11:15                54 sample5.txt\n",
      "2023-01-19  오전 11:18                66 sample6.csv\n",
      "2023-01-26  오후 03:10            51,295 titanic_age\n",
      "2023-01-19  오후 02:50            33,901 train.csv\n",
      "              34개 파일          15,364,441 바이트\n",
      "               4개 디렉터리  303,126,114,304 바이트 남음\n"
     ]
    }
   ],
   "source": [
    "!dir"
   ]
  },
  {
   "cell_type": "code",
   "execution_count": 3,
   "id": "a26bd6ac-6c99-4be7-9165-953aef9116f5",
   "metadata": {},
   "outputs": [
    {
     "name": "stdout",
     "output_type": "stream",
     "text": [
      "Hello world\n"
     ]
    }
   ],
   "source": [
    "print(\"Hello world\")"
   ]
  }
 ],
 "metadata": {
  "kernelspec": {
   "display_name": "Python 3 (ipykernel)",
   "language": "python",
   "name": "python3"
  },
  "language_info": {
   "codemirror_mode": {
    "name": "ipython",
    "version": 3
   },
   "file_extension": ".py",
   "mimetype": "text/x-python",
   "name": "python",
   "nbconvert_exporter": "python",
   "pygments_lexer": "ipython3",
   "version": "3.9.13"
  },
  "vscode": {
   "interpreter": {
    "hash": "2701035f62c8526adc246c1ce198c646a908962c9f03e53671c46035159238ce"
   }
  }
 },
 "nbformat": 4,
 "nbformat_minor": 5
}
