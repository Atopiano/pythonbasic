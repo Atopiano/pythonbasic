{
 "cells": [
  {
   "cell_type": "code",
   "execution_count": 2,
   "id": "298d7c0d-b183-43a4-9db0-a8f950cdbcc4",
   "metadata": {},
   "outputs": [
    {
     "name": "stdout",
     "output_type": "stream",
     "text": [
      "[1, 1, 2, 1, 1, 2, 2, 2, 2, 2]\n"
     ]
    }
   ],
   "source": [
    "import random\n",
    "random_list = [random.randint(1, 2) for _ in range(10)]\n",
    "print(random_list)"
   ]
  },
  {
   "cell_type": "markdown",
   "id": "c5d39c68-7f71-4023-9e72-0d17c1eabdcc",
   "metadata": {},
   "source": [
    "# 연습 문제\n",
    "\n",
    "사용자가 원하는 개수만큼의 로또 번호 생성기를 만들고자 합니다. 로또 번호 규칙은  \n",
    "다음과 같습니다.\n",
    "\n",
    "1. 번호의 범위는 1 ~ 45 사이입니다.\n",
    "2. 총 6개의 번호를 생성합니다.\n",
    "3. 생성된 번호는 오름차순으로 정리합니다.\n",
    "4. 생선된 번호들에 중복이 있어선 안 됩니다."
   ]
  },
  {
   "cell_type": "code",
   "execution_count": 95,
   "id": "444ba00d-8154-4671-ba18-6b0c1debd6c7",
   "metadata": {},
   "outputs": [
    {
     "name": "stdin",
     "output_type": "stream",
     "text": [
      "로또 번호 몇 개 드릴까요? 10\n"
     ]
    },
    {
     "name": "stdout",
     "output_type": "stream",
     "text": [
      "[10, 12, 20, 32, 36, 44]\n",
      "[3, 20, 22, 27, 31, 43]\n",
      "[13, 15, 19, 21, 34, 39]\n",
      "[4, 5, 17, 25, 42, 45]\n",
      "[9, 13, 26, 27, 36, 40]\n",
      "[1, 2, 8, 16, 20, 39]\n",
      "[8, 18, 26, 32, 33, 36]\n",
      "[8, 10, 15, 16, 35, 39]\n",
      "[1, 2, 14, 15, 41, 43]\n",
      "[8, 10, 22, 23, 36, 42]\n"
     ]
    }
   ],
   "source": [
    "import random\n",
    "times = int(input(\"로또 번호 몇 개 드릴까요?\"))\n",
    "for i in range(times):\n",
    "    while 1:\n",
    "        lotto_list = [random.randint(1,45) for k in range(6)]\n",
    "        for j in range(6):\n",
    "            if lotto_list.count(lotto_list[j]) > 1:\n",
    "                for i in range(lotto_list.count(lotto_list[j])-1):\n",
    "                    lotto_list.remove(lotto_list[j])\n",
    "                    lotto_list.append(random.randint(1,45))\n",
    "                    continue\n",
    "            else:\n",
    "                lotto_list.sort()\n",
    "        break\n",
    "    print(lotto_list)"
   ]
  },
  {
   "cell_type": "code",
   "execution_count": 99,
   "id": "35c03f50-ce1e-41d1-9807-8f7e62138da3",
   "metadata": {},
   "outputs": [
    {
     "data": {
      "text/plain": [
       "6"
      ]
     },
     "execution_count": 99,
     "metadata": {},
     "output_type": "execute_result"
    }
   ],
   "source": [
    "lotto_list = [random.randint(1,45) for k in range(6)]\n",
    "len(lotto_list)"
   ]
  },
  {
   "cell_type": "code",
   "execution_count": 96,
   "id": "5fbd4561-b0e3-41a1-8633-9a1b450a891f",
   "metadata": {},
   "outputs": [
    {
     "name": "stdin",
     "output_type": "stream",
     "text": [
      "로또 번호 몇 개 드릴까요? 5\n"
     ]
    },
    {
     "name": "stdout",
     "output_type": "stream",
     "text": [
      "[10, 19, 35, 39, 43, 45]\n",
      "[9, 13, 22, 32, 33, 42]\n",
      "[5, 7, 11, 36, 37, 44]\n",
      "[6, 11, 29, 30, 38, 39]\n",
      "[12, 24, 33, 41, 42, 45]\n"
     ]
    }
   ],
   "source": [
    "import random\n",
    "\n",
    "count = int(input(\"로또 번호 몇 개 드릴까요?\"))\n",
    "\n",
    "for i in range(count):\n",
    "    lotto_numbers = []\n",
    "    while len(lotto_numbers) < 6:\n",
    "        lotto_number = random.randint(1,45)\n",
    "        if lotto_number not in lotto_numbers:\n",
    "            lotto_numbers.append(lotto_number)\n",
    "    lotto_numbers.sort()\n",
    "    print(lotto_numbers)"
   ]
  },
  {
   "cell_type": "code",
   "execution_count": 97,
   "id": "934ef0ac-1588-4209-8cb2-517c69b47944",
   "metadata": {},
   "outputs": [
    {
     "name": "stdin",
     "output_type": "stream",
     "text": [
      "로또 번호 몇 개 드릴까요? 5\n"
     ]
    },
    {
     "name": "stdout",
     "output_type": "stream",
     "text": [
      "[8, 14, 23, 28, 37, 45]\n",
      "[4, 8, 17, 20, 36, 37]\n",
      "[9, 13, 15, 18, 34, 41]\n",
      "[2, 11, 14, 34, 44, 45]\n",
      "[17, 21, 27, 37, 38, 41]\n"
     ]
    }
   ],
   "source": [
    "import random\n",
    "\n",
    "count = int(input(\"로또 번호 몇 개 드릴까요?\"))\n",
    "\n",
    "for i in range(count):\n",
    "    lotto = [j for j in range(1, 46)]\n",
    "    lotto_numbers = []\n",
    "    for _ in range(6):\n",
    "        lotto_number = lotto[random.randint(1, len(lotto) - 1)]\n",
    "        lotto_numbers.append(lotto_number)\n",
    "        lotto.remove(lotto_number)\n",
    "        lotto_numbers.sort()\n",
    "    print(lotto_numbers)"
   ]
  },
  {
   "cell_type": "code",
   "execution_count": 98,
   "id": "3d56d374-ebf8-47c4-8b34-675f4149c101",
   "metadata": {},
   "outputs": [
    {
     "data": {
      "text/plain": [
       "45"
      ]
     },
     "execution_count": 98,
     "metadata": {},
     "output_type": "execute_result"
    }
   ],
   "source": [
    "lotto = [j for j in range(1, 46)]\n",
    "len(lotto)"
   ]
  },
  {
   "cell_type": "code",
   "execution_count": 101,
   "id": "69dccc12-4c43-4143-9c2f-cfed93706491",
   "metadata": {},
   "outputs": [
    {
     "name": "stdin",
     "output_type": "stream",
     "text": [
      "로또 번호 몇 개 드릴까요? 5\n"
     ]
    },
    {
     "name": "stdout",
     "output_type": "stream",
     "text": [
      "{37, 39, 9, 43, 18, 21}\n",
      "{1, 36, 4, 41, 42, 18}\n",
      "{32, 34, 44, 15, 21, 24}\n",
      "{37, 42, 11, 13, 16, 24}\n",
      "{7, 39, 9, 10, 16, 23}\n"
     ]
    }
   ],
   "source": [
    "import random\n",
    "\n",
    "n = int(input(\"로또 번호 몇 개 드릴까요?\"))\n",
    "for i in range(n):\n",
    "    lotto_list = set()\n",
    "    while len(lotto_list) != 6:\n",
    "        lotto_list.add(random.randint(1,45))\n",
    "    print(lotto_list)"
   ]
  },
  {
   "cell_type": "code",
   "execution_count": 109,
   "id": "50563b9d-8cb7-45d3-a0c9-cf6cac0c7078",
   "metadata": {},
   "outputs": [
    {
     "name": "stdin",
     "output_type": "stream",
     "text": [
      "로또 번호 몇 개 드릴까요? 10\n"
     ]
    },
    {
     "name": "stdout",
     "output_type": "stream",
     "text": [
      "{37, 5, 39, 21, 25, 29}\n",
      "{34, 36, 8, 9, 16, 17}\n",
      "{33, 7, 8, 9, 12, 31}\n",
      "{40, 41, 18, 22, 25, 31}\n",
      "{32, 42, 19, 21, 29, 30}\n",
      "{3, 38, 7, 10, 45, 14}\n",
      "{11, 12, 45, 24, 28}\n",
      "{4, 5, 12, 14, 30, 31}\n",
      "{2, 4, 41, 23, 26}\n",
      "{2, 38, 10, 18, 26, 28}\n"
     ]
    }
   ],
   "source": [
    "count = int(input(\"로또 번호 몇 개 드릴까요?\"))\n",
    "\n",
    "import random\n",
    "# 만약 중복이 나온다면 개수가 6개가 아니게 됩니다.\n",
    "\n",
    "for _ in range(count):\n",
    "    set_num = {random.randint(1, 45) for _ in range(6)}\n",
    "    print(set_num)"
   ]
  },
  {
   "cell_type": "code",
   "execution_count": 142,
   "id": "80e48d64-824d-420c-b7d9-b67b35732399",
   "metadata": {},
   "outputs": [
    {
     "name": "stdout",
     "output_type": "stream",
     "text": [
      "[3, 5, 7, 11, 17, 45]\n"
     ]
    }
   ],
   "source": [
    "import random\n",
    "# 만약 중복이 나온다면 개수가 6개가 아니게 됩니다.\n",
    "lotto = {}\n",
    "while len(lotto) != 6:\n",
    "    lotto = {random.randint(1, 45) for _ in range(6)}\n",
    "result = list(lotto)\n",
    "result.sort()\n",
    "print(result)"
   ]
  },
  {
   "cell_type": "markdown",
   "id": "d7afd693-6eb8-4666-8978-40724a23e393",
   "metadata": {},
   "source": [
    "# 연습 문제\n",
    "\n",
    "아래와 같은 리스트가 있을 때 set 자료형을 통해 중복을 제거하고 출력해보세요.  \n",
    "\n",
    "- list_sample = [1, 2, 2, 3, 3, 3, 4, 4, 4, 4]"
   ]
  },
  {
   "cell_type": "code",
   "execution_count": 144,
   "id": "5a82a2ed-9a05-4ad7-b760-91184e0b263d",
   "metadata": {},
   "outputs": [
    {
     "name": "stdout",
     "output_type": "stream",
     "text": [
      "{1, 2, 3, 4}\n"
     ]
    }
   ],
   "source": [
    "list_sample = [1, 2, 2, 3, 3, 3, 4, 4, 4, 4]\n",
    "\n",
    "result = set(list_sample)\n",
    "\n",
    "print(result)"
   ]
  },
  {
   "cell_type": "markdown",
   "id": "0eac26af-8e8f-4102-8319-617c182bc03b",
   "metadata": {},
   "source": [
    "# 연습 문제\n",
    "\n",
    "집합 컴프리헨션을 활용해서 1 ~ 100 사이의 3의 공배수를 구하고 set_3 변수에 담습니다.  \n",
    "집합 컴프리헨션을 활용해서 1 ~ 100 사이의 5의 공배수를 구하고 set_5 변수에 담습니다.  \n",
    "이들의 교집합을 구하고 result_set 변수에 담습니다. 그리고 그 result_set을 출력해보세요.  \n",
    "- set의 특성상 출력된 값의 순서는 상관없습니다."
   ]
  },
  {
   "cell_type": "code",
   "execution_count": 149,
   "id": "5316df5b-3239-453c-8441-4ed566ea75b7",
   "metadata": {},
   "outputs": [
    {
     "name": "stdout",
     "output_type": "stream",
     "text": [
      "{75, 45, 15, 90, 60, 30}\n"
     ]
    }
   ],
   "source": [
    "set_3 = {_ for _ in range(0,101,3) if _ != 0}\n",
    "set_5 = {_ for _ in range(0,101,5) if _ != 0}\n",
    "\n",
    "result_set = set_3 & set_5\n",
    "\n",
    "print(result_set)"
   ]
  },
  {
   "cell_type": "markdown",
   "id": "93a0f943-997f-44bc-bbb3-171c2df4094d",
   "metadata": {},
   "source": [
    "# 연습 문제\n",
    "\n",
    "시스템 관리자이자 겸직으로 인사팀에 있는 A 씨의 권한은 role_admin, role hr,  \n",
    "role_user 를 갖습니다. 이때 권한마다 갖는 홈페이지 메뉴가 다음과 같습니다.  \n",
    "\n",
    "- role_admin = (\"회계 관리\", \"인사 관리\", \"구매 관리\", \"시스템 관리\")\n",
    "- role_hr =  (\"인사 관리\", \"개인정보 조회\", \"회계 관리\", \"근태 관리\")\n",
    "- role_user = (\"개인정보 조회\", \"근태관리\")\n",
    "\n",
    "세 개 권한으로부터 가질 수 있는 메뉴들을 중복 없이 오름차순으로 출력해보세요.  "
   ]
  },
  {
   "cell_type": "code",
   "execution_count": 179,
   "id": "52e21025-92eb-461b-b8b0-542123705841",
   "metadata": {},
   "outputs": [
    {
     "name": "stdout",
     "output_type": "stream",
     "text": [
      "개인정보 조회, 구매 관리, 근태 관리, 근태관리, 시스템 관리, 인사 관리, 회계 관리\n"
     ]
    }
   ],
   "source": [
    "role_admin = {\"회계 관리\", \"인사 관리\", \"구매 관리\", \"시스템 관리\"}\n",
    "role_hr =  {\"인사 관리\", \"개인정보 조회\", \"회계 관리\", \"근태 관리\"}\n",
    "role_user = {\"개인정보 조회\", \"근태관리\"}\n",
    "            \n",
    "result = role_admin | role_hr | role_user\n",
    "result_list = list(result)\n",
    "result_list.sort()\n",
    "\n",
    "for _ in range(len(result_list)):\n",
    "    if _ == len(result_list) - 1:\n",
    "        print(result_list[_])\n",
    "    else:\n",
    "        print(result_list[_], end = \", \")"
   ]
  },
  {
   "cell_type": "code",
   "execution_count": 155,
   "id": "365e0602-c228-4faa-8d2a-8f536abab979",
   "metadata": {},
   "outputs": [
    {
     "name": "stdout",
     "output_type": "stream",
     "text": [
      "['개인정보 조회', '구매 관리', '근태 관리', '근태관리', '시스템 관리', '인사 관리', '회계 관리']\n"
     ]
    }
   ],
   "source": [
    "role_admin = (\"회계 관리\", \"인사 관리\", \"구매 관리\", \"시스템 관리\")\n",
    "role_hr =  (\"인사 관리\", \"개인정보 조회\", \"회계 관리\", \"근태 관리\")\n",
    "role_user = (\"개인정보 조회\", \"근태관리\")\n",
    "\n",
    "role_union_tuple = role_admin + role_hr + role_user\n",
    "\n",
    "result = set(role_union_tuple)\n",
    "            \n",
    "result_list = list(result)\n",
    "result_list.sort()\n",
    "print(result_list)"
   ]
  },
  {
   "cell_type": "code",
   "execution_count": 181,
   "id": "7b042901-c7e5-4ef5-b186-650e95c79001",
   "metadata": {},
   "outputs": [
    {
     "name": "stdout",
     "output_type": "stream",
     "text": [
      "개인정보 조회, 구매 관리, 근태 관리, 근태관리, 시스템 관리, 인사 관리, 회계 관리"
     ]
    }
   ],
   "source": [
    "role_admin = (\"회계 관리\", \"인사 관리\", \"구매 관리\", \"시스템 관리\")\n",
    "role_hr =  (\"인사 관리\", \"개인정보 조회\", \"회계 관리\", \"근태 관리\")\n",
    "role_user = (\"개인정보 조회\", \"근태관리\")\n",
    "\n",
    "menus = list(set(role_admin + role_hr + role_user))\n",
    "menus.sort()\n",
    "end_char = \", \"\n",
    "for menu in menus:\n",
    "    if menus[-1] == menu:\n",
    "        end_char = \"\"\n",
    "    print(menu, end = end_char)"
   ]
  },
  {
   "cell_type": "markdown",
   "id": "c5731640-d693-4f61-a813-730e12c81b9f",
   "metadata": {},
   "source": [
    "# 연습 문제\n",
    "\n",
    "2부터 입력 받은 수까지의 소수를 한줄에 7개씩 보여주는 프로그램을 작성하라.  \n",
    "\n",
    "- 소수 : 1보다 큰 자연수 중 1과 그 수 자신만을 약수로 갖는 자연수\n",
    "- 모든 소수의 약수는 2개임"
   ]
  },
  {
   "cell_type": "code",
   "execution_count": 192,
   "id": "c954675f-e69b-4493-b2d2-ae3c7e8b0d9c",
   "metadata": {},
   "outputs": [
    {
     "name": "stdout",
     "output_type": "stream",
     "text": [
      "2부터 입력하신 수까지의 모든 소수를 찾는 프로그램입니다.\n"
     ]
    },
    {
     "name": "stdin",
     "output_type": "stream",
     "text": [
      "찾는 범위를 입력하세요 : 100\n"
     ]
    },
    {
     "name": "stdout",
     "output_type": "stream",
     "text": [
      "2 3 5 7 11 13 17 \n",
      "19 23 29 31 37 41 43 \n",
      "47 53 59 61 67 71 73 \n",
      "79 83 89 97 "
     ]
    }
   ],
   "source": [
    "print(\"2부터 입력하신 수까지의 모든 소수를 찾는 프로그램입니다.\")\n",
    "amount = int(input(\"찾는 범위를 입력하세요 :\"))\n",
    "line_change = 0\n",
    "\n",
    "for _ in range(2, amount + 1):\n",
    "    if _ % 2 != 0 and _ % 3 != 0 and _ % 5 != 0 and _ % 7 != 0:\n",
    "        print(_, end = \" \")\n",
    "        line_change += 1\n",
    "    elif _ == 2 or _ == 3 or _ == 5 or _ == 7:\n",
    "        print(_, end = \" \")\n",
    "        line_change += 1\n",
    "    elif line_change == 7:\n",
    "        print()\n",
    "        line_change = 0"
   ]
  },
  {
   "cell_type": "code",
   "execution_count": 229,
   "id": "e7718755-3ee9-41b4-a4c4-f2c76ba42e50",
   "metadata": {},
   "outputs": [
    {
     "name": "stdout",
     "output_type": "stream",
     "text": [
      "2부터 입력하신 수까지의 모든 소수를 찾는 프로그램입니다.\n"
     ]
    },
    {
     "name": "stdin",
     "output_type": "stream",
     "text": [
      "찾는 범위를 입력하세요 : 10\n"
     ]
    },
    {
     "name": "stdout",
     "output_type": "stream",
     "text": [
      "3 4 5 6 7 8 9 10 "
     ]
    }
   ],
   "source": [
    "print(\"2부터 입력하신 수까지의 모든 소수를 찾는 프로그램입니다.\")\n",
    "amount = int(input(\"찾는 범위를 입력하세요 :\"))\n",
    "amount_list = [_ for _ in range(1, amount + 1)]\n",
    "\n",
    "for i in range(2, amount + 1):\n",
    "    for j in range(2, i):\n",
    "        if i % amount_list[j - 1] != 0:\n",
    "            Flag = 1\n",
    "    if Flag == 1\n",
    "        print(i, end = \" \")"
   ]
  },
  {
   "cell_type": "code",
   "execution_count": 232,
   "id": "314129b9-b2ff-420f-a38c-4944d1cd16e4",
   "metadata": {},
   "outputs": [
    {
     "name": "stdout",
     "output_type": "stream",
     "text": [
      "2부터 입력하신 수까지의 모든 소수를 찾는 프로그램입니다.\n"
     ]
    },
    {
     "name": "stdin",
     "output_type": "stream",
     "text": [
      "찾는 범위를 입력하세요 : 100\n"
     ]
    },
    {
     "name": "stdout",
     "output_type": "stream",
     "text": [
      "2 3 5 7 11 13 17 \n",
      "19 23 29 31 37 41 43 \n",
      "47 53 59 61 67 71 73 \n",
      "79 83 89 97 "
     ]
    }
   ],
   "source": [
    "print(\"2부터 입력하신 수까지의 모든 소수를 찾는 프로그램입니다.\")\n",
    "inData = int(input(\"찾는 범위를 입력하세요 :\"))\n",
    "i = 2\n",
    "line = 0\n",
    "while i <= inData:\n",
    "    j = 2\n",
    "    while j <= i:\n",
    "        if i % j == 0:\n",
    "            break\n",
    "        j += 1\n",
    "    if i == j:\n",
    "        print(i, end = ' ')\n",
    "        line = line + 1\n",
    "        if line == 7:\n",
    "            line = 0\n",
    "            print()\n",
    "    i += 1"
   ]
  },
  {
   "cell_type": "code",
   "execution_count": 233,
   "id": "1a595405-2f5b-4cd5-b0fd-bfb4e4d44e05",
   "metadata": {},
   "outputs": [
    {
     "name": "stdout",
     "output_type": "stream",
     "text": [
      "2부터 입력하신 수까지의 모든 소수를 찾는 프로그램입니다.\n"
     ]
    },
    {
     "name": "stdin",
     "output_type": "stream",
     "text": [
      "찾는 범위를 입력하세요 : 100\n"
     ]
    },
    {
     "name": "stdout",
     "output_type": "stream",
     "text": [
      "2 3 5 7 11 13 17 19 23 29 31 37 41 43 47 53 59 61 67 71 73 79 83 89 97 "
     ]
    }
   ],
   "source": [
    "print(\"2부터 입력하신 수까지의 모든 소수를 찾는 프로그램입니다.\")\n",
    "amount = int(input(\"찾는 범위를 입력하세요 :\"))\n",
    "amount_list = [_ for _ in range(1, amount + 1)]\n",
    "for i in range(2, amount + 1):\n",
    "    Flag = True\n",
    "    for j in range(2,i):\n",
    "        if i % j == 0:\n",
    "            Flag = False\n",
    "    if Flag == True:\n",
    "        print(i,end=\" \")"
   ]
  },
  {
   "cell_type": "code",
   "execution_count": 236,
   "id": "984d523d-7502-4778-9e03-2e7daf4dbd71",
   "metadata": {},
   "outputs": [
    {
     "name": "stdin",
     "output_type": "stream",
     "text": [
      "찾는 범위:  100\n"
     ]
    },
    {
     "name": "stdout",
     "output_type": "stream",
     "text": [
      "2 3 5 7 11 13 17 \n",
      "19 23 29 31 37 41 43 \n",
      "47 53 59 61 67 71 73 \n",
      "79 83 89 97 "
     ]
    }
   ],
   "source": [
    "def isPrime(num):\n",
    "    primes = [False, False] + [True]*(num-1)\n",
    "    for i in range(2, num+1):\n",
    "        if primes[i]:\n",
    "            for _ in range(i * 2, num+1, i):\n",
    "                primes[_] = False\n",
    "    return primes[num]\n",
    "get = int(input(\"찾는 범위: \"))\n",
    "lst = [_ for _ in range(2, get) if isPrime(_)]\n",
    "count = 0\n",
    "for _ in lst:\n",
    "    count+=1\n",
    "    print(_,end=\" \")\n",
    "    if count%7 == 0:\n",
    "        print()"
   ]
  },
  {
   "cell_type": "code",
   "execution_count": 237,
   "id": "e4706a28-4e63-4c6f-8d1e-4e05d19d971b",
   "metadata": {},
   "outputs": [
    {
     "name": "stdout",
     "output_type": "stream",
     "text": [
      "2부터 입력하신 수까지의 모든 소수를 찾는 프로그램입니다.\n"
     ]
    },
    {
     "name": "stdin",
     "output_type": "stream",
     "text": [
      "찾는 범위를 입력하세요: 100\n"
     ]
    },
    {
     "name": "stdout",
     "output_type": "stream",
     "text": [
      "2 3 5 7 11 13 17 19 23 29 31 37 41 43 47 53 59 61 67 71 73 79 83 89 97 "
     ]
    }
   ],
   "source": [
    "print(\"2부터 입력하신 수까지의 모든 소수를 찾는 프로그램입니다.\")\n",
    "N = int(input(\"찾는 범위를 입력하세요:\"))\n",
    "for i in range(2,N+1):\n",
    "    Flag = True\n",
    "    for j in range(2,i//2+1):\n",
    "        if i%j == 0 :\n",
    "            Flag = False\n",
    "    if Flag == True:\n",
    "        print(i,end=\" \")"
   ]
  },
  {
   "cell_type": "code",
   "execution_count": 241,
   "id": "8cdc8696-ac97-442b-9b0d-2b6be52f4df0",
   "metadata": {},
   "outputs": [
    {
     "ename": "KeyboardInterrupt",
     "evalue": "Interrupted by user",
     "output_type": "error",
     "traceback": [
      "\u001b[1;31m---------------------------------------------------------------------------\u001b[0m",
      "\u001b[1;31mKeyboardInterrupt\u001b[0m                         Traceback (most recent call last)",
      "\u001b[1;32m~\\AppData\\Local\\Temp\\ipykernel_2256\\790757278.py\u001b[0m in \u001b[0;36m<module>\u001b[1;34m\u001b[0m\n\u001b[1;32m----> 1\u001b[1;33m \u001b[0mfunction_name\u001b[0m\u001b[1;33m(\u001b[0m\u001b[1;34m\"값을 입력해주세요\"\u001b[0m\u001b[1;33m)\u001b[0m\u001b[1;33m\u001b[0m\u001b[1;33m\u001b[0m\u001b[0m\n\u001b[0m\u001b[0;32m      2\u001b[0m \u001b[1;33m\u001b[0m\u001b[0m\n\u001b[0;32m      3\u001b[0m \u001b[0mfunction_name\u001b[0m\u001b[1;33m(\u001b[0m\u001b[1;34m\"값을 입력해주세요\"\u001b[0m\u001b[1;33m)\u001b[0m\u001b[1;33m\u001b[0m\u001b[1;33m\u001b[0m\u001b[0m\n\u001b[0;32m      4\u001b[0m \u001b[0mfunction_name\u001b[0m\u001b[1;33m(\u001b[0m\u001b[1;34m\"값을 입력해주세요\"\u001b[0m\u001b[1;33m)\u001b[0m\u001b[1;33m\u001b[0m\u001b[1;33m\u001b[0m\u001b[0m\n\u001b[0;32m      5\u001b[0m \u001b[0mfunction_name\u001b[0m\u001b[1;33m(\u001b[0m\u001b[1;34m\"값을 입력해주세요\"\u001b[0m\u001b[1;33m)\u001b[0m\u001b[1;33m\u001b[0m\u001b[1;33m\u001b[0m\u001b[0m\n",
      "\u001b[1;32m~\\AppData\\Local\\Temp\\ipykernel_2256\\4258039876.py\u001b[0m in \u001b[0;36mfunction_name\u001b[1;34m(message)\u001b[0m\n\u001b[0;32m      1\u001b[0m \u001b[1;32mdef\u001b[0m \u001b[0mfunction_name\u001b[0m\u001b[1;33m(\u001b[0m\u001b[0mmessage\u001b[0m\u001b[1;33m)\u001b[0m\u001b[1;33m:\u001b[0m\u001b[1;33m\u001b[0m\u001b[1;33m\u001b[0m\u001b[0m\n\u001b[1;32m----> 2\u001b[1;33m     \u001b[0mx\u001b[0m \u001b[1;33m=\u001b[0m \u001b[0minput\u001b[0m\u001b[1;33m(\u001b[0m\u001b[0mmessage\u001b[0m\u001b[1;33m)\u001b[0m\u001b[1;33m\u001b[0m\u001b[1;33m\u001b[0m\u001b[0m\n\u001b[0m\u001b[0;32m      3\u001b[0m     \u001b[0mprint\u001b[0m\u001b[1;33m(\u001b[0m\u001b[0mx\u001b[0m\u001b[1;33m)\u001b[0m\u001b[1;33m\u001b[0m\u001b[1;33m\u001b[0m\u001b[0m\n\u001b[0;32m      4\u001b[0m     \u001b[0mprint\u001b[0m\u001b[1;33m(\u001b[0m\u001b[0mx\u001b[0m\u001b[1;33m)\u001b[0m\u001b[1;33m\u001b[0m\u001b[1;33m\u001b[0m\u001b[0m\n",
      "\u001b[1;32m~\\anaconda3\\lib\\site-packages\\ipykernel\\kernelbase.py\u001b[0m in \u001b[0;36mraw_input\u001b[1;34m(self, prompt)\u001b[0m\n\u001b[0;32m   1175\u001b[0m                 \u001b[1;34m\"raw_input was called, but this frontend does not support input requests.\"\u001b[0m\u001b[1;33m\u001b[0m\u001b[1;33m\u001b[0m\u001b[0m\n\u001b[0;32m   1176\u001b[0m             )\n\u001b[1;32m-> 1177\u001b[1;33m         return self._input_request(\n\u001b[0m\u001b[0;32m   1178\u001b[0m             \u001b[0mstr\u001b[0m\u001b[1;33m(\u001b[0m\u001b[0mprompt\u001b[0m\u001b[1;33m)\u001b[0m\u001b[1;33m,\u001b[0m\u001b[1;33m\u001b[0m\u001b[1;33m\u001b[0m\u001b[0m\n\u001b[0;32m   1179\u001b[0m             \u001b[0mself\u001b[0m\u001b[1;33m.\u001b[0m\u001b[0m_parent_ident\u001b[0m\u001b[1;33m[\u001b[0m\u001b[1;34m\"shell\"\u001b[0m\u001b[1;33m]\u001b[0m\u001b[1;33m,\u001b[0m\u001b[1;33m\u001b[0m\u001b[1;33m\u001b[0m\u001b[0m\n",
      "\u001b[1;32m~\\anaconda3\\lib\\site-packages\\ipykernel\\kernelbase.py\u001b[0m in \u001b[0;36m_input_request\u001b[1;34m(self, prompt, ident, parent, password)\u001b[0m\n\u001b[0;32m   1217\u001b[0m             \u001b[1;32mexcept\u001b[0m \u001b[0mKeyboardInterrupt\u001b[0m\u001b[1;33m:\u001b[0m\u001b[1;33m\u001b[0m\u001b[1;33m\u001b[0m\u001b[0m\n\u001b[0;32m   1218\u001b[0m                 \u001b[1;31m# re-raise KeyboardInterrupt, to truncate traceback\u001b[0m\u001b[1;33m\u001b[0m\u001b[1;33m\u001b[0m\u001b[0m\n\u001b[1;32m-> 1219\u001b[1;33m                 \u001b[1;32mraise\u001b[0m \u001b[0mKeyboardInterrupt\u001b[0m\u001b[1;33m(\u001b[0m\u001b[1;34m\"Interrupted by user\"\u001b[0m\u001b[1;33m)\u001b[0m \u001b[1;32mfrom\u001b[0m \u001b[1;32mNone\u001b[0m\u001b[1;33m\u001b[0m\u001b[1;33m\u001b[0m\u001b[0m\n\u001b[0m\u001b[0;32m   1220\u001b[0m             \u001b[1;32mexcept\u001b[0m \u001b[0mException\u001b[0m\u001b[1;33m:\u001b[0m\u001b[1;33m\u001b[0m\u001b[1;33m\u001b[0m\u001b[0m\n\u001b[0;32m   1221\u001b[0m                 \u001b[0mself\u001b[0m\u001b[1;33m.\u001b[0m\u001b[0mlog\u001b[0m\u001b[1;33m.\u001b[0m\u001b[0mwarning\u001b[0m\u001b[1;33m(\u001b[0m\u001b[1;34m\"Invalid Message:\"\u001b[0m\u001b[1;33m,\u001b[0m \u001b[0mexc_info\u001b[0m\u001b[1;33m=\u001b[0m\u001b[1;32mTrue\u001b[0m\u001b[1;33m)\u001b[0m\u001b[1;33m\u001b[0m\u001b[1;33m\u001b[0m\u001b[0m\n",
      "\u001b[1;31mKeyboardInterrupt\u001b[0m: Interrupted by user"
     ]
    }
   ],
   "source": [
    "function_name(\"값을 입력해주세요\")\n",
    "function_name(\"값을 입력해주세요\")\n",
    "function_name(\"값을 입력해주세요\")\n",
    "function_name(\"값을 입력해주세요\")\n",
    "function_name(\"값을 입력해주세요\")\n",
    "function_name(\"값을 입력해주세요\")\n",
    "function_name(\"값을 입력해주세요\")"
   ]
  },
  {
   "cell_type": "code",
   "execution_count": 242,
   "id": "cd0b8b1c-d542-47f8-b4c8-d4d21cdbc2ee",
   "metadata": {},
   "outputs": [],
   "source": [
    "def function_name(message):\n",
    "    x = input(message)\n",
    "    print(x)\n",
    "    print(x)"
   ]
  },
  {
   "cell_type": "code",
   "execution_count": 243,
   "id": "4eb2c10a-fc98-48de-80d7-7e86004e3999",
   "metadata": {},
   "outputs": [
    {
     "ename": "SyntaxError",
     "evalue": "invalid syntax (2829506136.py, line 10)",
     "output_type": "error",
     "traceback": [
      "\u001b[1;36m  File \u001b[1;32m\"C:\\Users\\wkddl\\AppData\\Local\\Temp\\ipykernel_2256\\2829506136.py\"\u001b[1;36m, line \u001b[1;32m10\u001b[0m\n\u001b[1;33m    함수의 바디\u001b[0m\n\u001b[1;37m        ^\u001b[0m\n\u001b[1;31mSyntaxError\u001b[0m\u001b[1;31m:\u001b[0m invalid syntax\n"
     ]
    }
   ],
   "source": [
    "def 함수_이름(위치_인자, 위치_인자2, *가변_위치, 키워드_인자, 키워드_인자2, **가변_키워드):\n",
    "    \"\"\"\n",
    "    \n",
    "    Doc String을 적는 곳입니다.\n",
    "    \n",
    "    작성자: 이기수\n",
    "    작성일자: 2020.02.03\n",
    "    \n",
    "    \"\"\"\n",
    "    함수의 바디\n",
    "    함수의 바디\n",
    "    \n",
    "    return 반환값"
   ]
  },
  {
   "cell_type": "code",
   "execution_count": 244,
   "id": "5c6b61b6-9c70-4d86-a007-1676ad75f0da",
   "metadata": {},
   "outputs": [],
   "source": [
    "def function2():\n",
    "    \"\"\"\n",
    "    Docs string 부분입니다.\n",
    "    이곳에 함수의 설명에 대해 적어놓으면 좋습니다.\n",
    "    \"\"\"\n",
    "    pass"
   ]
  },
  {
   "cell_type": "code",
   "execution_count": 246,
   "id": "86f5be81-6a8c-4008-b987-713d98d596b0",
   "metadata": {},
   "outputs": [
    {
     "name": "stdout",
     "output_type": "stream",
     "text": [
      "\n",
      "    Docs string 부분입니다.\n",
      "    이곳에 함수의 설명에 대해 적어놓으면 좋습니다.\n",
      "    \n"
     ]
    }
   ],
   "source": [
    "print(function2.__doc__)"
   ]
  },
  {
   "cell_type": "code",
   "execution_count": 248,
   "id": "20200920-2f91-488b-b664-61f822367f49",
   "metadata": {},
   "outputs": [
    {
     "name": "stdout",
     "output_type": "stream",
     "text": [
      "Built-in mutable sequence.\n",
      "\n",
      "If no argument is given, the constructor creates a new empty list.\n",
      "The argument must be an iterable if specified.\n"
     ]
    }
   ],
   "source": [
    "print(list.__doc__)"
   ]
  },
  {
   "cell_type": "code",
   "execution_count": 249,
   "id": "5724032a-e8a0-4d84-a60e-bc9a50b06248",
   "metadata": {},
   "outputs": [
    {
     "name": "stdout",
     "output_type": "stream",
     "text": [
      "1 2 3 4 5 6\n"
     ]
    }
   ],
   "source": [
    "print(\"1\", \"2\", \"3\", \"4\", \"5\", \"6\")"
   ]
  },
  {
   "cell_type": "code",
   "execution_count": 250,
   "id": "49312758-31ef-4908-9f83-0431e48cda02",
   "metadata": {},
   "outputs": [],
   "source": [
    "# 함수 정의절\n",
    "\n",
    "def function_name(positional, positional2, *args, keyword1 = 1, **kargs):\n",
    "    pass # body"
   ]
  },
  {
   "cell_type": "code",
   "execution_count": 266,
   "id": "df4bb59c-5659-4c69-8fa0-8a1bd20b86d6",
   "metadata": {},
   "outputs": [],
   "source": [
    "# 함수 정의절\n",
    "def get_grade(score=100):\n",
    "    \"\"\"\n",
    "    숫자로 된 점수를 넣으시면 학점의 결과를 반환합니다.\n",
    "    \"\"\"\n",
    "    if 85 <= score <= 100:\n",
    "        return \"A\"\n",
    "    elif 70 <= score <= 84:\n",
    "        return \"B\"\n",
    "    elif 55 <= score <= 69:\n",
    "        return \"C\"\n",
    "    elif 40 <= score <= 54:\n",
    "        return \"D\"\n",
    "    elif 0 <= score <= 39:\n",
    "        return \"E\""
   ]
  },
  {
   "cell_type": "code",
   "execution_count": 267,
   "id": "121c0c11-6696-41ee-b7dd-eba168c3b98a",
   "metadata": {},
   "outputs": [
    {
     "data": {
      "text/plain": [
       "'A'"
      ]
     },
     "execution_count": 267,
     "metadata": {},
     "output_type": "execute_result"
    }
   ],
   "source": [
    "get_grade()"
   ]
  },
  {
   "cell_type": "code",
   "execution_count": 265,
   "id": "2161be48-0446-4965-b09e-50c9e8895690",
   "metadata": {},
   "outputs": [
    {
     "name": "stdout",
     "output_type": "stream",
     "text": [
      "안녕\n",
      "하세요\n",
      "반갑습니다\n"
     ]
    }
   ],
   "source": [
    "print(\"안녕\", \"하세요\", \"반갑습니다\", sep = \"\\n\")"
   ]
  },
  {
   "cell_type": "code",
   "execution_count": 260,
   "id": "32329e62-7d03-43e6-a761-82ec73f7287f",
   "metadata": {},
   "outputs": [
    {
     "name": "stdout",
     "output_type": "stream",
     "text": [
      "\n",
      "    숫자로 된 점수를 넣으시면 학점의 결과를 반환합니다.\n",
      "    \n"
     ]
    }
   ],
   "source": [
    "print(get_grade.__doc__)"
   ]
  },
  {
   "cell_type": "code",
   "execution_count": 255,
   "id": "925f445e-e2f4-424e-8abe-7e504689e7d8",
   "metadata": {},
   "outputs": [
    {
     "name": "stdout",
     "output_type": "stream",
     "text": [
      "A\n"
     ]
    }
   ],
   "source": [
    "result = get_grade(100) # \"A\"\n",
    "print(result)"
   ]
  },
  {
   "cell_type": "code",
   "execution_count": 256,
   "id": "34247342-968d-4421-9b4b-f10c592b4db7",
   "metadata": {},
   "outputs": [
    {
     "name": "stdout",
     "output_type": "stream",
     "text": [
      "[41, 85, 36, 1, 25, 68, 89, 63, 58, 51, 9, 75, 6, 3, 34, 25, 81, 23, 86, 91]\n"
     ]
    }
   ],
   "source": [
    "import random\n",
    "\n",
    "# 20명의 점수를 입력했다.\n",
    "scores = [random.randint(1, 100) for _ in range(20)]\n",
    "print(scores)"
   ]
  },
  {
   "cell_type": "code",
   "execution_count": 259,
   "id": "6cc6e3eb-b977-4c54-8aa6-37b4a85d5f24",
   "metadata": {},
   "outputs": [
    {
     "name": "stdout",
     "output_type": "stream",
     "text": [
      "['D', 'A', 'E', 'E', 'E', 'C', 'A', 'C', 'C', 'D', 'E', 'B', 'E', 'E', 'E', 'E', 'B', 'E', 'A', 'A']\n"
     ]
    }
   ],
   "source": [
    "grades = list(map(get_grade, scores))\n",
    "print(grades)"
   ]
  },
  {
   "cell_type": "code",
   "execution_count": 276,
   "id": "9740349f-092b-4803-a869-4e3914c55ff2",
   "metadata": {},
   "outputs": [],
   "source": [
    "# 함수 정의절\n",
    "def get_grade(score, student_number, name=\"홍길동\"):\n",
    "    \"\"\"\n",
    "    숫자로 된 점수를 넣으시면 학점의 결과를 반환합니다.\n",
    "    \"\"\"\n",
    "    print(f\"{student_number}, {name}의 성적을 확인합니다.\")\n",
    "    if 85 <= score <= 100:\n",
    "        return \"A\"\n",
    "    elif 70 <= score <= 84:\n",
    "        return \"B\"\n",
    "    elif 55 <= score <= 69:\n",
    "        return \"C\"\n",
    "    elif 40 <= score <= 54:\n",
    "        return \"D\"\n",
    "    elif 0 <= score <= 39:\n",
    "        return \"E\""
   ]
  },
  {
   "cell_type": "code",
   "execution_count": 279,
   "id": "07a9670b-14df-4bf7-9110-20004156469b",
   "metadata": {},
   "outputs": [
    {
     "name": "stdout",
     "output_type": "stream",
     "text": [
      "19999999, 이기수의 성적을 확인합니다.\n"
     ]
    },
    {
     "data": {
      "text/plain": [
       "'A'"
      ]
     },
     "execution_count": 279,
     "metadata": {},
     "output_type": "execute_result"
    }
   ],
   "source": [
    "# 함수 호출\n",
    "# 인수(arguments)\n",
    "get_grade(score = 100, student_number = \"19999999\", name = \"이기수\")"
   ]
  },
  {
   "cell_type": "code",
   "execution_count": 280,
   "id": "5bf38588-8a37-4991-9103-316431b87cf7",
   "metadata": {},
   "outputs": [],
   "source": [
    "print(sep=\"\", end=\"\")"
   ]
  },
  {
   "cell_type": "code",
   "execution_count": 299,
   "id": "dc5edefe-bfe7-4908-9027-f38427814bc3",
   "metadata": {},
   "outputs": [],
   "source": [
    "# 함수 정의절\n",
    "# 인자(매개변수, parameter) - non-default, default 종류\n",
    "# positional-only: / 문자를 기준으로 왼편에 온다.\n",
    "def minus_number(number2, number1 = 3, /):\n",
    "    \"\"\"\n",
    "    숫자 number1과 숫자 number2를 전달 받아 더한 결과를 반환합니다.\n",
    "    \"\"\"\n",
    "    return number1 + number2"
   ]
  },
  {
   "cell_type": "code",
   "execution_count": 303,
   "id": "b5096a2d-5042-4579-9e32-b81a736950bb",
   "metadata": {},
   "outputs": [],
   "source": [
    "# 인수(argument) - positional argument, keyword argument\n",
    "result = add_number(2) # 소괄호 --> call"
   ]
  },
  {
   "cell_type": "code",
   "execution_count": 304,
   "id": "b5939b15-aca2-4099-a052-7176a9527362",
   "metadata": {},
   "outputs": [
    {
     "name": "stdout",
     "output_type": "stream",
     "text": [
      "5\n"
     ]
    }
   ],
   "source": [
    "print(result)"
   ]
  },
  {
   "cell_type": "code",
   "execution_count": 309,
   "id": "2ac37a5c-8c70-4f6e-98bb-0b44dd6f9bee",
   "metadata": {},
   "outputs": [],
   "source": [
    "# 함수 정의절\n",
    "# 인자(매개변수, parameter) - non-default, default 종류\n",
    "# keyword-only: * 문자를 기준으로 왼편에 온다.\n",
    "def minus_number(*, number1, number2 = 3):\n",
    "    \"\"\"\n",
    "    숫자 number1과 숫자 number2를 전달 받아 더한 결과를 반환합니다.\n",
    "    \"\"\"\n",
    "    return number1 - number2"
   ]
  },
  {
   "cell_type": "code",
   "execution_count": 310,
   "id": "11cb8cfe-9327-4057-aaf3-a3226789eef3",
   "metadata": {},
   "outputs": [
    {
     "data": {
      "text/plain": [
       "15"
      ]
     },
     "execution_count": 310,
     "metadata": {},
     "output_type": "execute_result"
    }
   ],
   "source": [
    "# 함수를 호출(Call)\n",
    "# 인수(argument) - positional argument, keyword argument\n",
    "minus_number(number1 = 20, number2 = 5)"
   ]
  },
  {
   "cell_type": "code",
   "execution_count": 314,
   "id": "0b098a11-21f8-4cf4-80ed-a3f937e8acf6",
   "metadata": {},
   "outputs": [],
   "source": [
    "# 함수 정의절\n",
    "# 인자(매개변수, parameter) - non-default, default 종류\n",
    "# positional - only: / 문자를 기준으로 왼편에 온다.\n",
    "# keyword-only: * 문자를 기준으로 왼편에 온다.\n",
    "def multi_number(number1, /, *, number2 = 3):\n",
    "    \"\"\"\n",
    "    숫자 number1과 숫자 number2를 전달 받아 더한 결과를 반환합니다.\n",
    "    \"\"\"\n",
    "    return number1 * number2"
   ]
  },
  {
   "cell_type": "code",
   "execution_count": 315,
   "id": "c87fd208-f66d-4120-9cbc-5b9d2244831a",
   "metadata": {},
   "outputs": [
    {
     "data": {
      "text/plain": [
       "30"
      ]
     },
     "execution_count": 315,
     "metadata": {},
     "output_type": "execute_result"
    }
   ],
   "source": [
    "multi_number(3, number2 = 10)"
   ]
  },
  {
   "cell_type": "code",
   "execution_count": 316,
   "id": "8c306cde-25ea-485d-88e7-fd2e5f253dc4",
   "metadata": {},
   "outputs": [],
   "source": [
    "def string_line(str_value, /, str_len = 70, *, sep = \"#\"):\n",
    "    \"\"\"\n",
    "    str_value는 가운데 오는 텍스트입니다.\n",
    "    str_len은 텍스트의 설정할 길이입니다.\n",
    "    sep는 구분선을 그을때 쓰는 문자입니다.\n",
    "    \"\"\"\n",
    "    print(str_value.center(str_len, sep))"
   ]
  },
  {
   "cell_type": "code",
   "execution_count": 317,
   "id": "7c0643f6-2964-43fd-bea7-59a654805014",
   "metadata": {},
   "outputs": [
    {
     "name": "stdout",
     "output_type": "stream",
     "text": [
      "************************구분************************\n"
     ]
    }
   ],
   "source": [
    "string_line(\"구분\", 50, sep = \"*\")"
   ]
  },
  {
   "cell_type": "code",
   "execution_count": 318,
   "id": "9619603b-5fdc-4bad-9575-d5e646bd8ae1",
   "metadata": {},
   "outputs": [
    {
     "data": {
      "text/plain": [
       "50"
      ]
     },
     "execution_count": 318,
     "metadata": {},
     "output_type": "execute_result"
    }
   ],
   "source": [
    "len('************************구분************************')"
   ]
  },
  {
   "cell_type": "code",
   "execution_count": 319,
   "id": "3f5ff18e-6af9-47e5-8be0-dc8fd35f08f1",
   "metadata": {},
   "outputs": [
    {
     "name": "stdout",
     "output_type": "stream",
     "text": [
      "------------------------------------------------절취선-------------------------------------------------\n"
     ]
    }
   ],
   "source": [
    "string_line(\"절취선\", str_len = 100, sep = \"-\")"
   ]
  },
  {
   "cell_type": "code",
   "execution_count": 320,
   "id": "d8db5ec5-6cdd-4ee3-ad56-4dab04e4a786",
   "metadata": {},
   "outputs": [
    {
     "data": {
      "text/plain": [
       "100"
      ]
     },
     "execution_count": 320,
     "metadata": {},
     "output_type": "execute_result"
    }
   ],
   "source": [
    "len('------------------------------------------------절취선-------------------------------------------------')"
   ]
  },
  {
   "cell_type": "code",
   "execution_count": 321,
   "id": "cdf253c0-3471-477a-8fad-fd9b3c9a2317",
   "metadata": {},
   "outputs": [
    {
     "name": "stdout",
     "output_type": "stream",
     "text": [
      "1 1 1 1 1 1 1 1 1 1\n"
     ]
    }
   ],
   "source": [
    "print(\"1\", \"1\", \"1\", \"1\", \"1\", \"1\", \"1\", \"1\", \"1\", \"1\",)"
   ]
  },
  {
   "cell_type": "code",
   "execution_count": 328,
   "id": "37b975d3-e97f-4c78-b1e7-95b6931640b1",
   "metadata": {},
   "outputs": [],
   "source": [
    "# *args: var positional 가변 위치\n",
    "def test_func(a, b, c,*args):\n",
    "    print(f\"a: {a} b: {b} c: {c}\")\n",
    "    print(type(args))\n",
    "    print(args)"
   ]
  },
  {
   "cell_type": "code",
   "execution_count": 330,
   "id": "d382eb0d-8aa3-4bb1-9f9c-fb99bc33fee3",
   "metadata": {},
   "outputs": [
    {
     "name": "stdout",
     "output_type": "stream",
     "text": [
      "a: a 위치입니다. b: b 위치입니다 c: c 위치입니다\n",
      "<class 'tuple'>\n",
      "('여기는', '어딜까요', '몇개', '더')\n"
     ]
    }
   ],
   "source": [
    "test_func(\"a 위치입니다.\", \"b 위치입니다\", \"c 위치입니다\", \"여기는\", \"어딜까요\", \"몇개\", \"더\")"
   ]
  },
  {
   "cell_type": "code",
   "execution_count": 333,
   "id": "6b11f455-2182-4144-be29-2423e3aff67b",
   "metadata": {},
   "outputs": [],
   "source": [
    "# **kargs; var keyword 가변 키워드\n",
    "def test_fun2(a = \"a\", b = \"b\", **kargs):\n",
    "    print(a, b)\n",
    "    print(type(kargs))\n",
    "    print(kargs)"
   ]
  },
  {
   "cell_type": "code",
   "execution_count": 334,
   "id": "2063b26f-a695-40b5-bd65-4454d401385f",
   "metadata": {},
   "outputs": [
    {
     "name": "stdout",
     "output_type": "stream",
     "text": [
      "ab bc\n",
      "<class 'dict'>\n",
      "{'key': 'value', 'key2': 'value2'}\n"
     ]
    }
   ],
   "source": [
    "test_fun2(a=\"ab\", b=\"bc\", key=\"value\", key2=\"value2\")"
   ]
  },
  {
   "cell_type": "markdown",
   "id": "a3013ebc-dce6-4c61-8ad1-eac754aae8fb",
   "metadata": {},
   "source": [
    "# 연습 문제\n",
    "\n",
    "각 입력받은 정수를 10씩 더해서 반환하는 함수를 만들어 보세요.\n",
    "\n",
    "- 함수명: plus_ten"
   ]
  },
  {
   "cell_type": "code",
   "execution_count": 342,
   "id": "e0508110-7711-4323-ac4b-90e30a2ad26a",
   "metadata": {},
   "outputs": [],
   "source": [
    "def plus_ten(A):\n",
    "    return A + 10"
   ]
  },
  {
   "cell_type": "code",
   "execution_count": 343,
   "id": "ea526fff-23a2-4069-8238-90a2596bf93c",
   "metadata": {},
   "outputs": [
    {
     "data": {
      "text/plain": [
       "80"
      ]
     },
     "execution_count": 343,
     "metadata": {},
     "output_type": "execute_result"
    }
   ],
   "source": [
    "plus_ten(70)"
   ]
  },
  {
   "cell_type": "code",
   "execution_count": null,
   "id": "4816d2be-f3c2-4b0e-bcd5-f5e8ca6f9cae",
   "metadata": {},
   "outputs": [],
   "source": []
  }
 ],
 "metadata": {
  "kernelspec": {
   "display_name": "Python 3 (ipykernel)",
   "language": "python",
   "name": "python3"
  },
  "language_info": {
   "codemirror_mode": {
    "name": "ipython",
    "version": 3
   },
   "file_extension": ".py",
   "mimetype": "text/x-python",
   "name": "python",
   "nbconvert_exporter": "python",
   "pygments_lexer": "ipython3",
   "version": "3.9.13"
  }
 },
 "nbformat": 4,
 "nbformat_minor": 5
}
