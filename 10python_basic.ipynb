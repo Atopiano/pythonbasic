{
 "cells": [
  {
   "cell_type": "code",
   "execution_count": 1,
   "id": "277ee13e-cf0c-44fa-8c53-0a1803cd4f23",
   "metadata": {},
   "outputs": [
    {
     "data": {
      "text/plain": [
       "20"
      ]
     },
     "execution_count": 1,
     "metadata": {},
     "output_type": "execute_result"
    }
   ],
   "source": [
    "(lambda x: x + 10)(10)"
   ]
  },
  {
   "cell_type": "code",
   "execution_count": 2,
   "id": "47c533a0-c83b-4d91-be0d-7a12080ed12c",
   "metadata": {},
   "outputs": [
    {
     "name": "stdout",
     "output_type": "stream",
     "text": [
      "20\n"
     ]
    }
   ],
   "source": [
    "twice = lambda x: x*2\n",
    "print(twice(10))"
   ]
  },
  {
   "cell_type": "code",
   "execution_count": 4,
   "id": "97dffa4e-4512-4a66-97e1-c34add4ff440",
   "metadata": {},
   "outputs": [
    {
     "ename": "SyntaxError",
     "evalue": "invalid syntax (1727540298.py, line 1)",
     "output_type": "error",
     "traceback": [
      "\u001b[1;36m  File \u001b[1;32m\"C:\\Users\\wkddl\\AppData\\Local\\Temp\\ipykernel_12056\\1727540298.py\"\u001b[1;36m, line \u001b[1;32m1\u001b[0m\n\u001b[1;33m    (lambda x: y=10; x+y)(1)\u001b[0m\n\u001b[1;37m                ^\u001b[0m\n\u001b[1;31mSyntaxError\u001b[0m\u001b[1;31m:\u001b[0m invalid syntax\n"
     ]
    }
   ],
   "source": [
    "(lambda x: y=10; x+y)(1)"
   ]
  },
  {
   "cell_type": "code",
   "execution_count": 6,
   "id": "ddd5a4ab-9aea-4d93-bccb-0f49c2f2775f",
   "metadata": {},
   "outputs": [
    {
     "data": {
      "text/plain": [
       "'B'"
      ]
     },
     "execution_count": 6,
     "metadata": {},
     "output_type": "execute_result"
    }
   ],
   "source": [
    "score = 90 \n",
    "'A' if 90<score<=100 else 'B' if 80<score else 'C'"
   ]
  },
  {
   "cell_type": "code",
   "execution_count": 7,
   "id": "4b84bceb-cac7-411d-b84a-4072714d33f0",
   "metadata": {},
   "outputs": [
    {
     "name": "stdout",
     "output_type": "stream",
     "text": [
      "[0, 4, 12, 24, 40]\n"
     ]
    },
    {
     "data": {
      "text/plain": [
       "100"
      ]
     },
     "execution_count": 7,
     "metadata": {},
     "output_type": "execute_result"
    }
   ],
   "source": [
    "a = [_ for _ in range(5)]\n",
    "b = [_ for _ in range(2, 11, 2)]\n",
    "c = (list(map(lambda x, y: x * y, a, b)))\n",
    "print(c)\n",
    "((lambda x : x ** 2)(10))"
   ]
  },
  {
   "cell_type": "code",
   "execution_count": 8,
   "id": "c5d29634-dc6f-4de0-9c50-22faae7de150",
   "metadata": {},
   "outputs": [
    {
     "data": {
      "text/plain": [
       "[3, 9, 9]"
      ]
     },
     "execution_count": 8,
     "metadata": {},
     "output_type": "execute_result"
    }
   ],
   "source": [
    "a = [3, 2, 8, 22, 10, 7, 0, 11, 9, 9]\n",
    "list(filter(lambda x: x % 3 == 0 and 0 < x < 10, a))"
   ]
  },
  {
   "cell_type": "code",
   "execution_count": 28,
   "id": "3fc7b2fd-af41-4600-8317-7f4f49eaa1b0",
   "metadata": {},
   "outputs": [],
   "source": [
    "# class\n",
    "class Student: \n",
    "    def __init__(self):\n",
    "        self.hello = \"안녕하세요.\"\n",
    "        \n",
    "    def greeting(self):\n",
    "        print(self.hello)"
   ]
  },
  {
   "cell_type": "code",
   "execution_count": 1,
   "id": "3729ac38-ce34-4635-aff8-c21bfa178edd",
   "metadata": {},
   "outputs": [
    {
     "ename": "NameError",
     "evalue": "name 'Student' is not defined",
     "output_type": "error",
     "traceback": [
      "\u001b[1;31m---------------------------------------------------------------------------\u001b[0m",
      "\u001b[1;31mNameError\u001b[0m                                 Traceback (most recent call last)",
      "\u001b[1;32m~\\AppData\\Local\\Temp\\ipykernel_3960\\2491985521.py\u001b[0m in \u001b[0;36m<module>\u001b[1;34m\u001b[0m\n\u001b[0;32m      1\u001b[0m \u001b[1;31m# stu_a, stu_b 는 독립적으로 존재\u001b[0m\u001b[1;33m\u001b[0m\u001b[1;33m\u001b[0m\u001b[0m\n\u001b[1;32m----> 2\u001b[1;33m \u001b[0mstu_a\u001b[0m \u001b[1;33m=\u001b[0m \u001b[0mStudent\u001b[0m\u001b[1;33m(\u001b[0m\u001b[1;33m)\u001b[0m \u001b[1;31m# 클래스로부터 인스턴스 초기화\u001b[0m\u001b[1;33m\u001b[0m\u001b[1;33m\u001b[0m\u001b[0m\n\u001b[0m\u001b[0;32m      3\u001b[0m \u001b[0mstu_b\u001b[0m \u001b[1;33m=\u001b[0m \u001b[0mStudent\u001b[0m\u001b[1;33m(\u001b[0m\u001b[1;33m)\u001b[0m \u001b[1;31m# 클래스로부터 인스턴스 초기화\u001b[0m\u001b[1;33m\u001b[0m\u001b[1;33m\u001b[0m\u001b[0m\n",
      "\u001b[1;31mNameError\u001b[0m: name 'Student' is not defined"
     ]
    }
   ],
   "source": [
    "# stu_a, stu_b 는 독립적으로 존재\n",
    "stu_a = Student() # 클래스로부터 인스턴스 초기화\n",
    "stu_b = Student() # 클래스로부터 인스턴스 초기화"
   ]
  },
  {
   "cell_type": "code",
   "execution_count": 30,
   "id": "d4f10600-e017-45ba-8d81-765ebcf010e5",
   "metadata": {},
   "outputs": [
    {
     "name": "stdout",
     "output_type": "stream",
     "text": [
      "안녕하세요.\n"
     ]
    }
   ],
   "source": [
    "stu_a.greeting()"
   ]
  },
  {
   "cell_type": "code",
   "execution_count": 18,
   "id": "11affda4-4952-48c6-aeb9-44507e40462b",
   "metadata": {},
   "outputs": [],
   "source": [
    "stu_a.name = \"학생A\""
   ]
  },
  {
   "cell_type": "code",
   "execution_count": 31,
   "id": "d7bb1f23-4c7f-481c-887a-46e699fd3602",
   "metadata": {},
   "outputs": [
    {
     "name": "stdout",
     "output_type": "stream",
     "text": [
      "안녕하세요.\n"
     ]
    }
   ],
   "source": [
    "stu_b.greeting()"
   ]
  },
  {
   "cell_type": "code",
   "execution_count": 19,
   "id": "60580318-da02-4a55-946d-2ba9f72edcf0",
   "metadata": {},
   "outputs": [
    {
     "name": "stdout",
     "output_type": "stream",
     "text": [
      "학생A\n"
     ]
    }
   ],
   "source": [
    "print(stu_a.name)"
   ]
  },
  {
   "cell_type": "code",
   "execution_count": 21,
   "id": "5f86b270-ba25-4458-a538-3e98781d2f5a",
   "metadata": {},
   "outputs": [
    {
     "name": "stdout",
     "output_type": "stream",
     "text": [
      "안녕하세요.\n"
     ]
    }
   ],
   "source": [
    "print(stu_a.hello)"
   ]
  },
  {
   "cell_type": "code",
   "execution_count": 20,
   "id": "3bc7167d-f7a1-451b-9c07-0d05188b408c",
   "metadata": {},
   "outputs": [
    {
     "ename": "AttributeError",
     "evalue": "'Student' object has no attribute 'name'",
     "output_type": "error",
     "traceback": [
      "\u001b[1;31m---------------------------------------------------------------------------\u001b[0m",
      "\u001b[1;31mAttributeError\u001b[0m                            Traceback (most recent call last)",
      "\u001b[1;32m~\\AppData\\Local\\Temp\\ipykernel_12056\\4197292589.py\u001b[0m in \u001b[0;36m<module>\u001b[1;34m\u001b[0m\n\u001b[1;32m----> 1\u001b[1;33m \u001b[0mprint\u001b[0m\u001b[1;33m(\u001b[0m\u001b[0mstu_b\u001b[0m\u001b[1;33m.\u001b[0m\u001b[0mname\u001b[0m\u001b[1;33m)\u001b[0m\u001b[1;33m\u001b[0m\u001b[1;33m\u001b[0m\u001b[0m\n\u001b[0m",
      "\u001b[1;31mAttributeError\u001b[0m: 'Student' object has no attribute 'name'"
     ]
    }
   ],
   "source": [
    "print(stu_b.name)"
   ]
  },
  {
   "cell_type": "code",
   "execution_count": 13,
   "id": "c3b9dffc-08f3-4a55-9a79-fc6c9709dfe0",
   "metadata": {},
   "outputs": [
    {
     "ename": "NameError",
     "evalue": "name 'stu_b' is not defined",
     "output_type": "error",
     "traceback": [
      "\u001b[1;31m---------------------------------------------------------------------------\u001b[0m",
      "\u001b[1;31mNameError\u001b[0m                                 Traceback (most recent call last)",
      "\u001b[1;32m~\\AppData\\Local\\Temp\\ipykernel_12056\\608909897.py\u001b[0m in \u001b[0;36m<module>\u001b[1;34m\u001b[0m\n\u001b[1;32m----> 1\u001b[1;33m \u001b[0mprint\u001b[0m\u001b[1;33m(\u001b[0m\u001b[0mstu_b\u001b[0m\u001b[1;33m.\u001b[0m\u001b[0mhello\u001b[0m\u001b[1;33m)\u001b[0m\u001b[1;33m\u001b[0m\u001b[1;33m\u001b[0m\u001b[0m\n\u001b[0m",
      "\u001b[1;31mNameError\u001b[0m: name 'stu_b' is not defined"
     ]
    }
   ],
   "source": [
    "print(stu_b.hello)"
   ]
  },
  {
   "cell_type": "code",
   "execution_count": 41,
   "id": "34fa9f91-93bd-48d2-9a23-bf862bf75253",
   "metadata": {},
   "outputs": [],
   "source": [
    "class Person:\n",
    "    def __init__(self, name, age):\n",
    "        self.name = name\n",
    "        self.age = age"
   ]
  },
  {
   "cell_type": "code",
   "execution_count": 42,
   "id": "47e03955-6b72-4af4-9bf6-d1312fa0e0bf",
   "metadata": {},
   "outputs": [],
   "source": [
    "p1 = Person(\"name1\", 40)\n",
    "p2 = Person(\"name2\", 32)"
   ]
  },
  {
   "cell_type": "code",
   "execution_count": 44,
   "id": "3950248d-8fba-4d04-b853-7e050a098778",
   "metadata": {},
   "outputs": [
    {
     "data": {
      "text/plain": [
       "{'name': 'name1', 'age': 40}"
      ]
     },
     "execution_count": 44,
     "metadata": {},
     "output_type": "execute_result"
    }
   ],
   "source": [
    "p1.__dict__"
   ]
  },
  {
   "cell_type": "code",
   "execution_count": 45,
   "id": "4c2566b8-ad1e-4fe2-8723-7f95ccbd0235",
   "metadata": {},
   "outputs": [
    {
     "data": {
      "text/plain": [
       "{'name': 'name2', 'age': 32}"
      ]
     },
     "execution_count": 45,
     "metadata": {},
     "output_type": "execute_result"
    }
   ],
   "source": [
    "p2.__dict__"
   ]
  },
  {
   "cell_type": "code",
   "execution_count": 46,
   "id": "5ff4481d-c2a5-4484-ab0e-fb01e9d26f61",
   "metadata": {},
   "outputs": [],
   "source": [
    "# p1.name =\"name1\"\n",
    "# p1.age = 40\n",
    "\n",
    "# p2.name = \"name2\"\n",
    "# p2.age = 32"
   ]
  },
  {
   "cell_type": "code",
   "execution_count": 57,
   "id": "d7d0923b-6086-4269-9612-35675ffa3a45",
   "metadata": {},
   "outputs": [
    {
     "name": "stdout",
     "output_type": "stream",
     "text": [
      "안녕하세요. 제 이름은 마리아입니다.\n",
      "이름: 마리아\n",
      "나이: 20\n",
      "주소: 서울시 서초구 반포동\n"
     ]
    }
   ],
   "source": [
    "class Person:\n",
    "    def __init__(self, name, age, address):\n",
    "        self.hello = \"안녕하세요.\"\n",
    "        self.name = name\n",
    "        self.age = age\n",
    "        self.address = address\n",
    "        \n",
    "    def greeting(self):\n",
    "        print(f\"{self.hello} 제 이름은 {self.name}입니다.\")\n",
    "        \n",
    "maria = Person(\"마리아\", 20, \"서울시 서초구 반포동\")\n",
    "maria.greeting()\n",
    "\n",
    "print(\"이름:\", maria.name)\n",
    "print(\"나이:\", maria.age)\n",
    "print(\"주소:\", maria.address)"
   ]
  },
  {
   "cell_type": "code",
   "execution_count": 53,
   "id": "9d0ac7bb-1d63-49c5-85b3-4a233b82823b",
   "metadata": {},
   "outputs": [],
   "source": [
    "class Person2:\n",
    "    def __init__(self, name, age, address):\n",
    "        self.hello = \"안녕하세요.\"\n",
    "        self.name = name\n",
    "        self.age = age\n",
    "        self.address = address\n",
    "        \n",
    "    def greeting(self):\n",
    "        print(f\"{self.hello} 제 이름은 {self.name}입니다.\")"
   ]
  },
  {
   "cell_type": "code",
   "execution_count": 55,
   "id": "91605a3d-6ecd-4d6f-9cce-78b10170465a",
   "metadata": {},
   "outputs": [
    {
     "name": "stdout",
     "output_type": "stream",
     "text": [
      "안녕하세요. 제 이름은 마리아입니다.\n"
     ]
    }
   ],
   "source": [
    "maria = Person2(\"마리아\", 23, \"서울시 마포구\")\n",
    "maria.greeting()"
   ]
  },
  {
   "cell_type": "code",
   "execution_count": 56,
   "id": "9a5cba03-b2d0-439d-820f-7a9543d9b21c",
   "metadata": {},
   "outputs": [
    {
     "data": {
      "text/plain": [
       "{'hello': '안녕하세요.', 'name': '마리아', 'age': 23, 'address': '서울시 마포구'}"
      ]
     },
     "execution_count": 56,
     "metadata": {},
     "output_type": "execute_result"
    }
   ],
   "source": [
    "maria.__dict__"
   ]
  },
  {
   "cell_type": "markdown",
   "id": "97a85756-8673-4bb9-92db-41b1fe726e5a",
   "metadata": {
    "tags": []
   },
   "source": [
    "## 연습문제\n",
    "\n",
    "Person 클래스로 maria, james라는 인스턴스를 생성합니다.  \n",
    "maria와 james 두 사람의 나이, 이름, 주소를 받아와 객체에 저장하고 화면에  \n",
    "출력해보세요."
   ]
  },
  {
   "cell_type": "code",
   "execution_count": 72,
   "id": "7587abf4-7bf2-471b-b9b2-a8ce7e0b41e5",
   "metadata": {},
   "outputs": [
    {
     "name": "stdin",
     "output_type": "stream",
     "text": [
      "이름은 무엇인가요? 마리아\n",
      "나이는 무엇인가요? 20\n",
      "주소는 무엇인가요? 서울시 강남구\n",
      "이름은 무엇인가요? 제임스\n",
      "나이는 무엇인가요? 21\n",
      "주소는 무엇인가요? 서울시 구로구\n"
     ]
    },
    {
     "name": "stdout",
     "output_type": "stream",
     "text": [
      "첫번째 이름:마리아\n",
      "첫번째 나이:20\n",
      "첫번째 주소:서울시 강남구\n",
      "두번째 이름:제임스\n",
      "두번째 나이:21\n",
      "두번째 주소:서울시 구로구\n"
     ]
    }
   ],
   "source": [
    "class Person:\n",
    "    def __init__(self, order, name, age, address):\n",
    "        self.order = order\n",
    "        self.name = name\n",
    "        self.age = age\n",
    "        self.address = address\n",
    "        \n",
    "    def greeting(self):\n",
    "        print(f\"{self.order} 이름:{self.name}\")\n",
    "        print(f\"{self.order} 나이:{self.age}\")\n",
    "        print(f\"{self.order} 주소:{self.address}\")\n",
    "      \n",
    "name1 = input(\"이름은 무엇인가요?\")\n",
    "age1 = input(\"나이는 무엇인가요?\")\n",
    "address1 = input(\"주소는 무엇인가요?\")\n",
    "\n",
    "name2 = input(\"이름은 무엇인가요?\")\n",
    "age2 = input(\"나이는 무엇인가요?\")\n",
    "address2 = input(\"주소는 무엇인가요?\")\n",
    "\n",
    "maria = Person(\"첫번째\", name1, age1, address1)\n",
    "james = Person(\"두번째\", name2, age2, address2)\n",
    "\n",
    "maria.greeting()\n",
    "james.greeting()"
   ]
  },
  {
   "cell_type": "code",
   "execution_count": 73,
   "id": "42889684-a491-4b06-8828-1e93649e08d2",
   "metadata": {},
   "outputs": [],
   "source": [
    "class ClassName:\n",
    "    def __init__(self, param1, param2):\n",
    "        self.attr1 = param1\n",
    "        self.__attr2 = param2 # 비공개 속성"
   ]
  },
  {
   "cell_type": "code",
   "execution_count": 107,
   "id": "026691bc-c9a1-40d4-bfd8-450f46c9a0a2",
   "metadata": {},
   "outputs": [],
   "source": [
    "class Person3:\n",
    "    def __init__(self, name, age, address, wallet):\n",
    "        self.hello = \"안녕하세요.\"\n",
    "        self.name = name\n",
    "        self.age = age\n",
    "        self.address = address\n",
    "        self.__wallet = wallet\n",
    "        \n",
    "    def greeting(self):\n",
    "        print(f\"{self.hello} 제 이름은 {self.name}입니다.\")\n",
    "        \n",
    "    def amount(self):\n",
    "        print(self.__wallet)\n",
    "        \n",
    "    def pay(self, amount):\n",
    "        if self.__wallet < amount:\n",
    "            print(\"돈이 모자랍니다.\")\n",
    "            return\n",
    "        self.__wallet -= amount"
   ]
  },
  {
   "cell_type": "code",
   "execution_count": 100,
   "id": "12476c34-a04f-425f-be02-b9570c7e4a23",
   "metadata": {},
   "outputs": [],
   "source": [
    "lks = Person3(\"이기수\", 88, \"경기도 시흥\", 20000)"
   ]
  },
  {
   "cell_type": "code",
   "execution_count": 101,
   "id": "85d432d3-220b-4892-b228-bd45324d1af7",
   "metadata": {},
   "outputs": [
    {
     "name": "stdout",
     "output_type": "stream",
     "text": [
      "20000\n"
     ]
    }
   ],
   "source": [
    "lks.amount()"
   ]
  },
  {
   "cell_type": "code",
   "execution_count": 102,
   "id": "bc2b47fa-4950-444b-a4a7-94c3aa2e0a45",
   "metadata": {},
   "outputs": [],
   "source": [
    "lks.pay(10000)"
   ]
  },
  {
   "cell_type": "code",
   "execution_count": 104,
   "id": "2f51aebd-4cfe-40ab-a0d4-98b33fd6eb0a",
   "metadata": {},
   "outputs": [
    {
     "name": "stdout",
     "output_type": "stream",
     "text": [
      "10000\n"
     ]
    }
   ],
   "source": [
    "lks.amount()"
   ]
  },
  {
   "cell_type": "code",
   "execution_count": 105,
   "id": "d27bd8cd-1307-4f0d-8133-f4397969f943",
   "metadata": {},
   "outputs": [
    {
     "name": "stdout",
     "output_type": "stream",
     "text": [
      "돈이 모자랍니다.\n"
     ]
    }
   ],
   "source": [
    "lks.pay(15000)"
   ]
  },
  {
   "cell_type": "code",
   "execution_count": 77,
   "id": "53f780da-5a9f-4cb7-82df-8e4b9380cfa7",
   "metadata": {},
   "outputs": [
    {
     "name": "stdout",
     "output_type": "stream",
     "text": [
      "이기수\n"
     ]
    }
   ],
   "source": [
    "print(lks.name)"
   ]
  },
  {
   "cell_type": "code",
   "execution_count": 78,
   "id": "a9970a43-9dc3-479d-bf17-83fb2182ccac",
   "metadata": {},
   "outputs": [
    {
     "name": "stdout",
     "output_type": "stream",
     "text": [
      "88\n"
     ]
    }
   ],
   "source": [
    "print(lks.age)"
   ]
  },
  {
   "cell_type": "code",
   "execution_count": 79,
   "id": "d06203b5-2f1a-48e0-9c7d-6df37b0f1f85",
   "metadata": {},
   "outputs": [
    {
     "name": "stdout",
     "output_type": "stream",
     "text": [
      "경기도 시흥\n"
     ]
    }
   ],
   "source": [
    "print(lks.address)"
   ]
  },
  {
   "cell_type": "code",
   "execution_count": 81,
   "id": "6eb20ddf-1c04-400e-a158-bc44406abdb0",
   "metadata": {},
   "outputs": [
    {
     "ename": "AttributeError",
     "evalue": "'Person3' object has no attribute '__wallet'",
     "output_type": "error",
     "traceback": [
      "\u001b[1;31m---------------------------------------------------------------------------\u001b[0m",
      "\u001b[1;31mAttributeError\u001b[0m                            Traceback (most recent call last)",
      "\u001b[1;32m~\\AppData\\Local\\Temp\\ipykernel_12056\\3635496569.py\u001b[0m in \u001b[0;36m<module>\u001b[1;34m\u001b[0m\n\u001b[1;32m----> 1\u001b[1;33m \u001b[0mprint\u001b[0m\u001b[1;33m(\u001b[0m\u001b[0mlks\u001b[0m\u001b[1;33m.\u001b[0m\u001b[0m__wallet\u001b[0m\u001b[1;33m)\u001b[0m\u001b[1;33m\u001b[0m\u001b[1;33m\u001b[0m\u001b[0m\n\u001b[0m",
      "\u001b[1;31mAttributeError\u001b[0m: 'Person3' object has no attribute '__wallet'"
     ]
    }
   ],
   "source": [
    "print(lks.__wallet)"
   ]
  },
  {
   "cell_type": "code",
   "execution_count": 86,
   "id": "f0b00150-e550-4527-a1dd-1db8161a4a79",
   "metadata": {},
   "outputs": [
    {
     "ename": "NameError",
     "evalue": "name 'maria_wallet' is not defined",
     "output_type": "error",
     "traceback": [
      "\u001b[1;31m---------------------------------------------------------------------------\u001b[0m",
      "\u001b[1;31mNameError\u001b[0m                                 Traceback (most recent call last)",
      "\u001b[1;32m~\\AppData\\Local\\Temp\\ipykernel_12056\\416130531.py\u001b[0m in \u001b[0;36m<module>\u001b[1;34m\u001b[0m\n\u001b[0;32m      7\u001b[0m \u001b[1;33m\u001b[0m\u001b[0m\n\u001b[0;32m      8\u001b[0m \u001b[0mmaria\u001b[0m \u001b[1;33m=\u001b[0m \u001b[0mPerson\u001b[0m\u001b[1;33m(\u001b[0m\u001b[1;34m\"마리아\"\u001b[0m\u001b[1;33m,\u001b[0m \u001b[1;36m20\u001b[0m\u001b[1;33m,\u001b[0m \u001b[1;34m\"서울시 서초구 반포동\"\u001b[0m\u001b[1;33m,\u001b[0m \u001b[1;36m10000\u001b[0m\u001b[1;33m)\u001b[0m\u001b[1;33m\u001b[0m\u001b[1;33m\u001b[0m\u001b[0m\n\u001b[1;32m----> 9\u001b[1;33m \u001b[0mmaria_wallet\u001b[0m \u001b[1;33m-=\u001b[0m \u001b[1;36m10000\u001b[0m \u001b[1;31m# 클래스 바깥에서 비공개 속성에 접근하면 에러 발생\u001b[0m\u001b[1;33m\u001b[0m\u001b[1;33m\u001b[0m\u001b[0m\n\u001b[0m",
      "\u001b[1;31mNameError\u001b[0m: name 'maria_wallet' is not defined"
     ]
    }
   ],
   "source": [
    "class Person:\n",
    "    def __init__(self, name, age, address, wallet):\n",
    "        self.name = name\n",
    "        self.age = age\n",
    "        self.address = address\n",
    "        self.__wallet = wallet # 변수 앞에 __를 붙여서 비공개 속성으로 만듦\n",
    "        \n",
    "maria = Person(\"마리아\", 20, \"서울시 서초구 반포동\", 10000)\n",
    "maria_wallet -= 10000 # 클래스 바깥에서 비공개 속성에 접근하면 에러 발생"
   ]
  },
  {
   "cell_type": "markdown",
   "id": "a0904ce4-b8dd-41c4-9a27-89fe3837c90e",
   "metadata": {
    "tags": []
   },
   "source": [
    "## 연습문제\n",
    "\n",
    "사용자로부터 체력, 마나, AP를 입력받아 옵니다. 주어진 코드에서 애니(Annie)  \n",
    "클래스를 작성하고 티버(tibbers) 스킬의 피해량이 출력되게 만들어보세요. 티버의  \n",
    "피해량은 AP * 0.65 + 400이며 AP(Ability Power, 주문력)는 마법 능력치를 뜻합니다.  \n",
    "\n",
    "> 실행결과:   \n",
    "체력, 마나, AP를 입력하세요. 511.68 334.0 298  \n",
    "티버: 피해량 593.7  \n",
    "\n",
    "> 실행결과:  \n",
    "체력, 마나, AP를 입력하세요. 1803.68 1184.0 645  \n",
    "티버: 피해량 819.25  "
   ]
  },
  {
   "cell_type": "code",
   "execution_count": 115,
   "id": "7aeacf4d-69a9-452d-b82e-b55a252c935c",
   "metadata": {},
   "outputs": [
    {
     "name": "stdin",
     "output_type": "stream",
     "text": [
      "체력, 마나, AP를 입력하세요. 511.68 334.0 298\n"
     ]
    },
    {
     "name": "stdout",
     "output_type": "stream",
     "text": [
      "티버: 피해량 593.7\n"
     ]
    }
   ],
   "source": [
    "class Annie:\n",
    "    def __init__(self, hp, mp, ap):\n",
    "        self.hp = hp\n",
    "        self.mp = mp\n",
    "        self.ap = ap\n",
    "        \n",
    "    def tibbers(self):\n",
    "        damage = self.ap * 0.65 + 400\n",
    "        print(f'티버: 피해량 {damage}')\n",
    "        \n",
    "hp, mp, ap = map(float,input(\"체력, 마나, AP를 입력하세요.\").split(\" \"))\n",
    "annie = Annie(hp, mp, ap)\n",
    "annie.tibbers()"
   ]
  },
  {
   "cell_type": "markdown",
   "id": "bdc4dd13-21b8-4b0a-bd50-191d4006f1eb",
   "metadata": {},
   "source": [
    "# NumPy"
   ]
  },
  {
   "cell_type": "code",
   "execution_count": 121,
   "id": "9191d1e7-d5b0-4ef2-af98-d19c3ecc0d33",
   "metadata": {},
   "outputs": [],
   "source": [
    "import numpy as np"
   ]
  },
  {
   "cell_type": "markdown",
   "id": "6562c146-9859-4ec3-a7e3-b2caf74ec959",
   "metadata": {},
   "source": [
    "## 1차원 배열 만들기"
   ]
  },
  {
   "cell_type": "code",
   "execution_count": 122,
   "id": "8f2b8424-7993-4a81-ac72-490d937f0686",
   "metadata": {},
   "outputs": [
    {
     "data": {
      "text/plain": [
       "array([0, 1, 2, 3, 4, 5, 6, 7, 8, 9])"
      ]
     },
     "execution_count": 122,
     "metadata": {},
     "output_type": "execute_result"
    }
   ],
   "source": [
    "ar = np.array([_ for _ in range(10)])\n",
    "ar"
   ]
  },
  {
   "cell_type": "code",
   "execution_count": 123,
   "id": "aba6f113-48ad-45ef-8c19-9ac7167bda8d",
   "metadata": {},
   "outputs": [
    {
     "data": {
      "text/plain": [
       "(10,)"
      ]
     },
     "execution_count": 123,
     "metadata": {},
     "output_type": "execute_result"
    }
   ],
   "source": [
    "ar.shape"
   ]
  },
  {
   "cell_type": "code",
   "execution_count": 124,
   "id": "a1810c97-baf9-42df-b9d1-d8b281a22598",
   "metadata": {
    "scrolled": true,
    "tags": []
   },
   "outputs": [
    {
     "name": "stdout",
     "output_type": "stream",
     "text": [
      "# packages in environment at C:\\Users\\wkddl\\anaconda3:\n",
      "#\n",
      "# Name                    Version                   Build  Channel\n",
      "_ipyw_jlab_nb_ext_conf    0.1.0            py39haa95532_0  \n",
      "alabaster                 0.7.12             pyhd3eb1b0_0  \n",
      "anaconda                  2022.10                  py39_0  \n",
      "anaconda-client           1.11.0           py39haa95532_0  \n",
      "anaconda-navigator        2.3.1            py39haa95532_0  \n",
      "anaconda-project          0.11.1           py39haa95532_0  \n",
      "anyio                     3.5.0            py39haa95532_0  \n",
      "appdirs                   1.4.4              pyhd3eb1b0_0  \n",
      "argon2-cffi               21.3.0             pyhd3eb1b0_0  \n",
      "argon2-cffi-bindings      21.2.0           py39h2bbff1b_0  \n",
      "arrow                     1.2.2              pyhd3eb1b0_0  \n",
      "astroid                   2.11.7           py39haa95532_0  \n",
      "astropy                   5.1              py39h080aedc_0  \n",
      "atomicwrites              1.4.0                      py_0  \n",
      "attrs                     21.4.0             pyhd3eb1b0_0  \n",
      "automat                   20.2.0                     py_0  \n",
      "autopep8                  1.6.0              pyhd3eb1b0_1  \n",
      "babel                     2.9.1              pyhd3eb1b0_0  \n",
      "backcall                  0.2.0              pyhd3eb1b0_0  \n",
      "backports                 1.1                pyhd3eb1b0_0  \n",
      "backports.functools_lru_cache 1.6.4              pyhd3eb1b0_0  \n",
      "backports.tempfile        1.0                pyhd3eb1b0_1  \n",
      "backports.weakref         1.0.post1                  py_1  \n",
      "bcrypt                    3.2.0            py39h2bbff1b_1  \n",
      "beautifulsoup4            4.11.1           py39haa95532_0  \n",
      "binaryornot               0.4.4              pyhd3eb1b0_1  \n",
      "bitarray                  2.5.1            py39h2bbff1b_0  \n",
      "bkcharts                  0.2              py39haa95532_1  \n",
      "black                     22.6.0           py39haa95532_0  \n",
      "blas                      1.0                         mkl  \n",
      "bleach                    4.1.0              pyhd3eb1b0_0  \n",
      "blosc                     1.21.0               h19a0ad4_1  \n",
      "bokeh                     2.4.3            py39haa95532_0  \n",
      "boto3                     1.24.28          py39haa95532_0  \n",
      "botocore                  1.27.28          py39haa95532_0  \n",
      "bottleneck                1.3.5            py39h080aedc_0  \n",
      "brotli                    1.0.9                h2bbff1b_7  \n",
      "brotli-bin                1.0.9                h2bbff1b_7  \n",
      "brotlipy                  0.7.0           py39h2bbff1b_1003  \n",
      "bzip2                     1.0.8                he774522_0  \n",
      "ca-certificates           2022.07.19           haa95532_0  \n",
      "certifi                   2022.9.14        py39haa95532_0  \n",
      "cffi                      1.15.1           py39h2bbff1b_0  \n",
      "cfitsio                   3.470                h2bbff1b_7  \n",
      "chardet                   4.0.0           py39haa95532_1003  \n",
      "charls                    2.2.0                h6c2663c_0  \n",
      "charset-normalizer        2.0.4              pyhd3eb1b0_0  \n",
      "click                     8.0.4            py39haa95532_0  \n",
      "cloudpickle               2.0.0              pyhd3eb1b0_0  \n",
      "clyent                    1.2.2            py39haa95532_1  \n",
      "colorama                  0.4.5            py39haa95532_0  \n",
      "colorcet                  3.0.0            py39haa95532_0  \n",
      "comtypes                  1.1.10          py39haa95532_1002  \n",
      "conda                     22.9.0           py39haa95532_0  \n",
      "conda-build               3.22.0           py39haa95532_0  \n",
      "conda-content-trust       0.1.3            py39haa95532_0  \n",
      "conda-env                 2.6.0                haa95532_1  \n",
      "conda-pack                0.6.0              pyhd3eb1b0_0  \n",
      "conda-package-handling    1.9.0            py39h8cc25b3_0  \n",
      "conda-repo-cli            1.0.20           py39haa95532_0  \n",
      "conda-token               0.4.0              pyhd3eb1b0_0  \n",
      "conda-verify              3.4.2                      py_1  \n",
      "console_shortcut          0.1.1                         4  \n",
      "constantly                15.1.0             pyh2b92418_0  \n",
      "cookiecutter              1.7.3              pyhd3eb1b0_0  \n",
      "cryptography              37.0.1           py39h21b164f_0  \n",
      "cssselect                 1.1.0              pyhd3eb1b0_0  \n",
      "curl                      7.84.0               h2bbff1b_0  \n",
      "cycler                    0.11.0             pyhd3eb1b0_0  \n",
      "cython                    0.29.32          py39hd77b12b_0  \n",
      "cytoolz                   0.11.0           py39h2bbff1b_0  \n",
      "daal4py                   2021.6.0         py39h757b272_1  \n",
      "dal                       2021.6.0           h59b6b97_874  \n",
      "dask                      2022.7.0         py39haa95532_0  \n",
      "dask-core                 2022.7.0         py39haa95532_0  \n",
      "dataclasses               0.8                pyh6d0b6a4_7  \n",
      "datashader                0.14.1           py39haa95532_0  \n",
      "datashape                 0.5.4            py39haa95532_1  \n",
      "debugpy                   1.5.1            py39hd77b12b_0  \n",
      "decorator                 5.1.1              pyhd3eb1b0_0  \n",
      "defusedxml                0.7.1              pyhd3eb1b0_0  \n",
      "diff-match-patch          20200713           pyhd3eb1b0_0  \n",
      "dill                      0.3.4              pyhd3eb1b0_0  \n",
      "distributed               2022.7.0         py39haa95532_0  \n",
      "docutils                  0.18.1           py39haa95532_3  \n",
      "entrypoints               0.4              py39haa95532_0  \n",
      "et_xmlfile                1.1.0            py39haa95532_0  \n",
      "fftw                      3.3.9                h2bbff1b_1  \n",
      "filelock                  3.6.0              pyhd3eb1b0_0  \n",
      "flake8                    4.0.1              pyhd3eb1b0_1  \n",
      "flask                     1.1.2              pyhd3eb1b0_0  \n",
      "fonttools                 4.25.0             pyhd3eb1b0_0  \n",
      "freetype                  2.10.4               hd328e21_0  \n",
      "fsspec                    2022.7.1         py39haa95532_0  \n",
      "future                    0.18.2           py39haa95532_1  \n",
      "gensim                    4.1.2            py39hd77b12b_0  \n",
      "giflib                    5.2.1                h62dcd97_0  \n",
      "glob2                     0.7                pyhd3eb1b0_0  \n",
      "greenlet                  1.1.1            py39hd77b12b_0  \n",
      "h5py                      3.7.0            py39h3de5c98_0  \n",
      "hdf5                      1.10.6               h1756f20_1  \n",
      "heapdict                  1.0.1              pyhd3eb1b0_0  \n",
      "holoviews                 1.15.0           py39haa95532_0  \n",
      "hvplot                    0.8.0            py39haa95532_0  \n",
      "hyperlink                 21.0.0             pyhd3eb1b0_0  \n",
      "icc_rt                    2022.1.0             h6049295_2  \n",
      "icu                       58.2                 ha925a31_3  \n",
      "idna                      3.3                pyhd3eb1b0_0  \n",
      "imagecodecs               2021.8.26        py39hc0a7faf_1  \n",
      "imageio                   2.19.3           py39haa95532_0  \n",
      "imagesize                 1.4.1            py39haa95532_0  \n",
      "importlib-metadata        4.11.3           py39haa95532_0  \n",
      "importlib_metadata        4.11.3               hd3eb1b0_0  \n",
      "incremental               21.3.0             pyhd3eb1b0_0  \n",
      "inflection                0.5.1            py39haa95532_0  \n",
      "iniconfig                 1.1.1              pyhd3eb1b0_0  \n",
      "intake                    0.6.5              pyhd3eb1b0_0  \n",
      "intel-openmp              2021.4.0          haa95532_3556  \n",
      "intervaltree              3.1.0              pyhd3eb1b0_0  \n",
      "ipykernel                 6.15.2           py39haa95532_0  \n",
      "ipython                   7.31.1           py39haa95532_1  \n",
      "ipython_genutils          0.2.0              pyhd3eb1b0_1  \n",
      "ipywidgets                7.6.5              pyhd3eb1b0_1  \n",
      "isort                     5.9.3              pyhd3eb1b0_0  \n",
      "itemadapter               0.3.0              pyhd3eb1b0_0  \n",
      "itemloaders               1.0.4              pyhd3eb1b0_1  \n",
      "itsdangerous              2.0.1              pyhd3eb1b0_0  \n",
      "jdcal                     1.4.1              pyhd3eb1b0_0  \n",
      "jedi                      0.18.1           py39haa95532_1  \n",
      "jellyfish                 0.9.0            py39h2bbff1b_0  \n",
      "jinja2                    2.11.3             pyhd3eb1b0_0  \n",
      "jinja2-time               0.2.0              pyhd3eb1b0_3  \n",
      "jmespath                  0.10.0             pyhd3eb1b0_0  \n",
      "joblib                    1.1.0              pyhd3eb1b0_0  \n",
      "jpeg                      9e                   h2bbff1b_0  \n",
      "jq                        1.6                  haa95532_1  \n",
      "json5                     0.9.6              pyhd3eb1b0_0  \n",
      "jsonschema                4.16.0           py39haa95532_0  \n",
      "jupyter                   1.0.0            py39haa95532_8  \n",
      "jupyter_client            7.3.4            py39haa95532_0  \n",
      "jupyter_console           6.4.3              pyhd3eb1b0_0  \n",
      "jupyter_core              4.11.1           py39haa95532_0  \n",
      "jupyter_server            1.18.1           py39haa95532_0  \n",
      "jupyterlab                3.4.4            py39haa95532_0  \n",
      "jupyterlab_pygments       0.1.2                      py_0  \n",
      "jupyterlab_server         2.10.3             pyhd3eb1b0_1  \n",
      "jupyterlab_widgets        1.0.0              pyhd3eb1b0_1  \n",
      "keyring                   23.4.0           py39haa95532_0  \n",
      "kiwisolver                1.4.2            py39hd77b12b_0  \n",
      "lazy-object-proxy         1.6.0            py39h2bbff1b_0  \n",
      "lcms2                     2.12                 h83e58a3_0  \n",
      "lerc                      3.0                  hd77b12b_0  \n",
      "libaec                    1.0.4                h33f27b4_1  \n",
      "libarchive                3.6.1                hebabd0d_0  \n",
      "libbrotlicommon           1.0.9                h2bbff1b_7  \n",
      "libbrotlidec              1.0.9                h2bbff1b_7  \n",
      "libbrotlienc              1.0.9                h2bbff1b_7  \n",
      "libcurl                   7.84.0               h86230a5_0  \n",
      "libdeflate                1.8                  h2bbff1b_5  \n",
      "libiconv                  1.16                 h2bbff1b_2  \n",
      "liblief                   0.11.5               hd77b12b_1  \n",
      "libpng                    1.6.37               h2a8f88b_0  \n",
      "libsodium                 1.0.18               h62dcd97_0  \n",
      "libspatialindex           1.9.3                h6c2663c_0  \n",
      "libssh2                   1.10.0               hcd4344a_0  \n",
      "libtiff                   4.4.0                h8a3f274_0  \n",
      "libwebp                   1.2.2                h2bbff1b_0  \n",
      "libxml2                   2.9.14               h0ad7f3c_0  \n",
      "libxslt                   1.1.35               h2bbff1b_0  \n",
      "libzopfli                 1.0.3                ha925a31_0  \n",
      "llvmlite                  0.38.0           py39h23ce68f_0  \n",
      "locket                    1.0.0            py39haa95532_0  \n",
      "lxml                      4.9.1            py39h1985fb9_0  \n",
      "lz4                       3.1.3            py39h2bbff1b_0  \n",
      "lz4-c                     1.9.3                h2bbff1b_1  \n",
      "lzo                       2.10                 he774522_2  \n",
      "m2-msys2-runtime          2.5.0.17080.65c939c               3  \n",
      "m2-patch                  2.7.5                         2  \n",
      "m2w64-libwinpthread-git   5.0.0.4634.697f757               2  \n",
      "markdown                  3.3.4            py39haa95532_0  \n",
      "markupsafe                2.0.1            py39h2bbff1b_0  \n",
      "matplotlib                3.5.2            py39haa95532_0  \n",
      "matplotlib-base           3.5.2            py39hd77b12b_0  \n",
      "matplotlib-inline         0.1.6            py39haa95532_0  \n",
      "mccabe                    0.6.1            py39haa95532_2  \n",
      "menuinst                  1.4.19           py39h59b6b97_0  \n",
      "mistune                   0.8.4           py39h2bbff1b_1000  \n",
      "mkl                       2021.4.0           haa95532_640  \n",
      "mkl-service               2.4.0            py39h2bbff1b_0  \n",
      "mkl_fft                   1.3.1            py39h277e83a_0  \n",
      "mkl_random                1.2.2            py39hf11a4ad_0  \n",
      "mock                      4.0.3              pyhd3eb1b0_0  \n",
      "mpmath                    1.2.1            py39haa95532_0  \n",
      "msgpack-python            1.0.3            py39h59b6b97_0  \n",
      "msys2-conda-epoch         20160418                      1  \n",
      "multipledispatch          0.6.0            py39haa95532_0  \n",
      "munkres                   1.1.4                      py_0  \n",
      "mypy_extensions           0.4.3            py39haa95532_1  \n",
      "navigator-updater         0.3.0            py39haa95532_0  \n",
      "nbclassic                 0.3.5              pyhd3eb1b0_0  \n",
      "nbclient                  0.5.13           py39haa95532_0  \n",
      "nbconvert                 6.4.4            py39haa95532_0  \n",
      "nbformat                  5.5.0            py39haa95532_0  \n",
      "nest-asyncio              1.5.5            py39haa95532_0  \n",
      "networkx                  2.8.4            py39haa95532_0  \n",
      "nltk                      3.7                pyhd3eb1b0_0  \n",
      "nose                      1.3.7           pyhd3eb1b0_1008  \n",
      "notebook                  6.4.12           py39haa95532_0  \n",
      "numba                     0.55.1           py39hf11a4ad_0  \n",
      "numexpr                   2.8.3            py39hb80d3ca_0  \n",
      "numpy                     1.21.5           py39h7a0a035_3  \n",
      "numpy-base                1.21.5           py39hca35cd5_3  \n",
      "numpydoc                  1.4.0            py39haa95532_0  \n",
      "olefile                   0.46               pyhd3eb1b0_0  \n",
      "openjpeg                  2.4.0                h4fc8c34_0  \n",
      "openpyxl                  3.0.10           py39h2bbff1b_0  \n",
      "openssl                   1.1.1q               h2bbff1b_0  \n",
      "packaging                 21.3               pyhd3eb1b0_0  \n",
      "pandas                    1.4.4            py39hd77b12b_0  \n",
      "pandocfilters             1.5.0              pyhd3eb1b0_0  \n",
      "panel                     0.13.1           py39haa95532_0  \n",
      "param                     1.12.0             pyhd3eb1b0_0  \n",
      "paramiko                  2.8.1              pyhd3eb1b0_0  \n",
      "parsel                    1.6.0            py39haa95532_0  \n",
      "parso                     0.8.3              pyhd3eb1b0_0  \n",
      "partd                     1.2.0              pyhd3eb1b0_1  \n",
      "pathlib                   1.0.1              pyhd3eb1b0_1  \n",
      "pathspec                  0.9.0            py39haa95532_0  \n",
      "patsy                     0.5.2            py39haa95532_1  \n",
      "pep8                      1.7.1            py39haa95532_1  \n",
      "pexpect                   4.8.0              pyhd3eb1b0_3  \n",
      "pickleshare               0.7.5           pyhd3eb1b0_1003  \n",
      "pillow                    9.2.0            py39hdc2b20a_1  \n",
      "pip                       22.2.2           py39haa95532_0  \n",
      "pkginfo                   1.8.2              pyhd3eb1b0_0  \n",
      "platformdirs              2.5.2            py39haa95532_0  \n",
      "plotly                    5.9.0            py39haa95532_0  \n",
      "pluggy                    1.0.0            py39haa95532_1  \n",
      "powershell_shortcut       0.0.1                         3  \n",
      "poyo                      0.5.0              pyhd3eb1b0_0  \n",
      "prometheus_client         0.14.1           py39haa95532_0  \n",
      "prompt-toolkit            3.0.20             pyhd3eb1b0_0  \n",
      "prompt_toolkit            3.0.20               hd3eb1b0_0  \n",
      "protego                   0.1.16                     py_0  \n",
      "psutil                    5.9.0            py39h2bbff1b_0  \n",
      "ptyprocess                0.7.0              pyhd3eb1b0_2  \n",
      "py                        1.11.0             pyhd3eb1b0_0  \n",
      "py-lief                   0.11.5           py39hd77b12b_1  \n",
      "pyasn1                    0.4.8              pyhd3eb1b0_0  \n",
      "pyasn1-modules            0.2.8                      py_0  \n",
      "pycodestyle               2.8.0              pyhd3eb1b0_0  \n",
      "pycosat                   0.6.3            py39h2bbff1b_0  \n",
      "pycparser                 2.21               pyhd3eb1b0_0  \n",
      "pyct                      0.4.8            py39haa95532_1  \n",
      "pycurl                    7.45.1           py39hcd4344a_0  \n",
      "pydispatcher              2.0.5            py39haa95532_2  \n",
      "pydocstyle                6.1.1              pyhd3eb1b0_0  \n",
      "pyerfa                    2.0.0            py39h2bbff1b_0  \n",
      "pyflakes                  2.4.0              pyhd3eb1b0_0  \n",
      "pygments                  2.11.2             pyhd3eb1b0_0  \n",
      "pyhamcrest                2.0.2              pyhd3eb1b0_2  \n",
      "pyjwt                     2.4.0            py39haa95532_0  \n",
      "pylint                    2.14.5           py39haa95532_0  \n",
      "pyls-spyder               0.4.0              pyhd3eb1b0_0  \n",
      "pynacl                    1.5.0            py39h8cc25b3_0  \n",
      "pyodbc                    4.0.34           py39hd77b12b_0  \n",
      "pyopenssl                 22.0.0             pyhd3eb1b0_0  \n",
      "pyparsing                 3.0.9            py39haa95532_0  \n",
      "pyqt                      5.9.2            py39hd77b12b_6  \n",
      "pyrsistent                0.18.0           py39h196d8e1_0  \n",
      "pysocks                   1.7.1            py39haa95532_0  \n",
      "pytables                  3.6.1            py39h56d22b6_1  \n",
      "pytest                    7.1.2            py39haa95532_0  \n",
      "python                    3.9.13               h6244533_1  \n",
      "python-dateutil           2.8.2              pyhd3eb1b0_0  \n",
      "python-fastjsonschema     2.16.2           py39haa95532_0  \n",
      "python-libarchive-c       2.9                pyhd3eb1b0_1  \n",
      "python-lsp-black          1.0.0              pyhd3eb1b0_0  \n",
      "python-lsp-jsonrpc        1.0.0              pyhd3eb1b0_0  \n",
      "python-lsp-server         1.3.3              pyhd3eb1b0_0  \n",
      "python-slugify            5.0.2              pyhd3eb1b0_0  \n",
      "python-snappy             0.6.0            py39hd77b12b_3  \n",
      "pytz                      2022.1           py39haa95532_0  \n",
      "pyviz_comms               2.0.2              pyhd3eb1b0_0  \n",
      "pywavelets                1.3.0            py39h2bbff1b_0  \n",
      "pywin32                   302              py39h2bbff1b_2  \n",
      "pywin32-ctypes            0.2.0           py39haa95532_1000  \n",
      "pywinpty                  2.0.2            py39h5da7b33_0  \n",
      "pyyaml                    6.0              py39h2bbff1b_1  \n",
      "pyzmq                     23.2.0           py39hd77b12b_0  \n",
      "qdarkstyle                3.0.2              pyhd3eb1b0_0  \n",
      "qstylizer                 0.1.10             pyhd3eb1b0_0  \n",
      "qt                        5.9.7            vc14h73c81de_0  \n",
      "qtawesome                 1.0.3              pyhd3eb1b0_0  \n",
      "qtconsole                 5.2.2              pyhd3eb1b0_0  \n",
      "qtpy                      2.2.0            py39haa95532_0  \n",
      "queuelib                  1.5.0            py39haa95532_0  \n",
      "regex                     2022.7.9         py39h2bbff1b_0  \n",
      "requests                  2.28.1           py39haa95532_0  \n",
      "requests-file             1.5.1              pyhd3eb1b0_0  \n",
      "rope                      0.22.0             pyhd3eb1b0_0  \n",
      "rtree                     0.9.7            py39h2eaa2aa_1  \n",
      "ruamel_yaml               0.15.100         py39h2bbff1b_0  \n",
      "s3transfer                0.6.0            py39haa95532_0  \n",
      "scikit-image              0.19.2           py39hf11a4ad_0  \n",
      "scikit-learn              1.0.2            py39hf11a4ad_1  \n",
      "scikit-learn-intelex      2021.6.0         py39haa95532_0  \n",
      "scipy                     1.9.1            py39he11b74f_0  \n",
      "scrapy                    2.6.2            py39haa95532_0  \n",
      "seaborn                   0.11.2             pyhd3eb1b0_0  \n",
      "send2trash                1.8.0              pyhd3eb1b0_1  \n",
      "service_identity          18.1.0             pyhd3eb1b0_1  \n",
      "setuptools                63.4.1           py39haa95532_0  \n",
      "sip                       4.19.13          py39hd77b12b_0  \n",
      "six                       1.16.0             pyhd3eb1b0_1  \n",
      "smart_open                5.2.1            py39haa95532_0  \n",
      "snappy                    1.1.9                h6c2663c_0  \n",
      "sniffio                   1.2.0            py39haa95532_1  \n",
      "snowballstemmer           2.2.0              pyhd3eb1b0_0  \n",
      "sortedcollections         2.1.0              pyhd3eb1b0_0  \n",
      "sortedcontainers          2.4.0              pyhd3eb1b0_0  \n",
      "soupsieve                 2.3.1              pyhd3eb1b0_0  \n",
      "sphinx                    5.0.2            py39haa95532_0  \n",
      "sphinxcontrib-applehelp   1.0.2              pyhd3eb1b0_0  \n",
      "sphinxcontrib-devhelp     1.0.2              pyhd3eb1b0_0  \n",
      "sphinxcontrib-htmlhelp    2.0.0              pyhd3eb1b0_0  \n",
      "sphinxcontrib-jsmath      1.0.1              pyhd3eb1b0_0  \n",
      "sphinxcontrib-qthelp      1.0.3              pyhd3eb1b0_0  \n",
      "sphinxcontrib-serializinghtml 1.1.5              pyhd3eb1b0_0  \n",
      "spyder                    5.2.2            py39haa95532_1  \n",
      "spyder-kernels            2.2.1            py39haa95532_0  \n",
      "sqlalchemy                1.4.39           py39h2bbff1b_0  \n",
      "sqlite                    3.39.3               h2bbff1b_0  \n",
      "statsmodels               0.13.2           py39h2bbff1b_0  \n",
      "sympy                     1.10.1           py39haa95532_0  \n",
      "tabulate                  0.8.10           py39haa95532_0  \n",
      "tbb                       2021.6.0             h59b6b97_0  \n",
      "tbb4py                    2021.6.0         py39h59b6b97_0  \n",
      "tblib                     1.7.0              pyhd3eb1b0_0  \n",
      "tenacity                  8.0.1            py39haa95532_1  \n",
      "terminado                 0.13.1           py39haa95532_0  \n",
      "testpath                  0.6.0            py39haa95532_0  \n",
      "text-unidecode            1.3                pyhd3eb1b0_0  \n",
      "textdistance              4.2.1              pyhd3eb1b0_0  \n",
      "threadpoolctl             2.2.0              pyh0d69192_0  \n",
      "three-merge               0.1.1              pyhd3eb1b0_0  \n",
      "tifffile                  2021.7.2           pyhd3eb1b0_2  \n",
      "tinycss                   0.4             pyhd3eb1b0_1002  \n",
      "tk                        8.6.12               h2bbff1b_0  \n",
      "tldextract                3.2.0              pyhd3eb1b0_0  \n",
      "toml                      0.10.2             pyhd3eb1b0_0  \n",
      "tomli                     2.0.1            py39haa95532_0  \n",
      "tomlkit                   0.11.1           py39haa95532_0  \n",
      "toolz                     0.11.2             pyhd3eb1b0_0  \n",
      "tornado                   6.1              py39h2bbff1b_0  \n",
      "tqdm                      4.64.1           py39haa95532_0  \n",
      "traitlets                 5.1.1              pyhd3eb1b0_0  \n",
      "twisted                   22.2.0           py39h2bbff1b_1  \n",
      "twisted-iocpsupport       1.0.2            py39h2bbff1b_0  \n",
      "typing-extensions         4.3.0            py39haa95532_0  \n",
      "typing_extensions         4.3.0            py39haa95532_0  \n",
      "tzdata                    2022c                h04d1e81_0  \n",
      "ujson                     5.4.0            py39hd77b12b_0  \n",
      "unidecode                 1.2.0              pyhd3eb1b0_0  \n",
      "urllib3                   1.26.11          py39haa95532_0  \n",
      "vc                        14.2                 h21ff451_1  \n",
      "vs2015_runtime            14.27.29016          h5e58377_2  \n",
      "w3lib                     1.21.0             pyhd3eb1b0_0  \n",
      "watchdog                  2.1.6            py39haa95532_0  \n",
      "wcwidth                   0.2.5              pyhd3eb1b0_0  \n",
      "webencodings              0.5.1            py39haa95532_1  \n",
      "websocket-client          0.58.0           py39haa95532_4  \n",
      "werkzeug                  2.0.3              pyhd3eb1b0_0  \n",
      "wheel                     0.37.1             pyhd3eb1b0_0  \n",
      "widgetsnbextension        3.5.2            py39haa95532_0  \n",
      "win_inet_pton             1.1.0            py39haa95532_0  \n",
      "win_unicode_console       0.5              py39haa95532_0  \n",
      "wincertstore              0.2              py39haa95532_2  \n",
      "winpty                    0.4.3                         4  \n",
      "wrapt                     1.14.1           py39h2bbff1b_0  \n",
      "xarray                    0.20.1             pyhd3eb1b0_1  \n",
      "xlrd                      2.0.1              pyhd3eb1b0_0  \n",
      "xlsxwriter                3.0.3              pyhd3eb1b0_0  \n",
      "xlwings                   0.27.15          py39haa95532_0  \n",
      "xz                        5.2.6                h8cc25b3_0  \n",
      "yaml                      0.2.5                he774522_0  \n",
      "yapf                      0.31.0             pyhd3eb1b0_0  \n",
      "zeromq                    4.3.4                hd77b12b_0  \n",
      "zfp                       0.5.5                hd77b12b_6  \n",
      "zict                      2.1.0            py39haa95532_0  \n",
      "zipp                      3.8.0            py39haa95532_0  \n",
      "zlib                      1.2.12               h8cc25b3_3  \n",
      "zope                      1.0              py39haa95532_1  \n",
      "zope.interface            5.4.0            py39h2bbff1b_0  \n",
      "zstd                      1.5.2                h19a0ad4_0  \n"
     ]
    }
   ],
   "source": [
    "!conda list"
   ]
  },
  {
   "cell_type": "code",
   "execution_count": null,
   "id": "ba54eee3-8b71-4587-88a6-e70f1885ede7",
   "metadata": {},
   "outputs": [],
   "source": [
    "# NumPy를 임포트\n",
    "# jupyter lab에서 1회만 실행하면 그 아래 코드에선 다 사용 가능합니다.\n",
    "import numpy as np"
   ]
  },
  {
   "cell_type": "code",
   "execution_count": 126,
   "id": "98e1897c-429b-49e5-9b7d-eddc4932716d",
   "metadata": {},
   "outputs": [],
   "source": [
    "ar = np.array([_ for _ in range(10)])"
   ]
  },
  {
   "cell_type": "code",
   "execution_count": 127,
   "id": "45aedb7e-0fcf-436a-977a-3ccad58f2da4",
   "metadata": {},
   "outputs": [
    {
     "data": {
      "text/plain": [
       "array([0, 1, 2, 3, 4, 5, 6, 7, 8, 9])"
      ]
     },
     "execution_count": 127,
     "metadata": {},
     "output_type": "execute_result"
    }
   ],
   "source": [
    "ar"
   ]
  },
  {
   "cell_type": "code",
   "execution_count": 128,
   "id": "c57f310c-76b3-439f-ada3-561871a75562",
   "metadata": {},
   "outputs": [
    {
     "data": {
      "text/plain": [
       "(10,)"
      ]
     },
     "execution_count": 128,
     "metadata": {},
     "output_type": "execute_result"
    }
   ],
   "source": [
    "ar.shape"
   ]
  },
  {
   "cell_type": "code",
   "execution_count": 129,
   "id": "1f53f3fc-c078-446b-aed7-6749c38f881a",
   "metadata": {},
   "outputs": [
    {
     "data": {
      "text/plain": [
       "numpy.ndarray"
      ]
     },
     "execution_count": 129,
     "metadata": {},
     "output_type": "execute_result"
    }
   ],
   "source": [
    "type(ar)"
   ]
  },
  {
   "cell_type": "code",
   "execution_count": 130,
   "id": "4c717bab-47c1-4710-93fd-cd23567f6c7d",
   "metadata": {},
   "outputs": [
    {
     "data": {
      "text/plain": [
       "array([0, 1, 2, 3, 4, 5, 6, 7, 8, 9])"
      ]
     },
     "execution_count": 130,
     "metadata": {},
     "output_type": "execute_result"
    }
   ],
   "source": [
    "ar = np.array([_ for _ in range(10)])\n",
    "ar"
   ]
  },
  {
   "cell_type": "code",
   "execution_count": 131,
   "id": "ad0770e3-0f51-4266-a2ff-cff68df6a16c",
   "metadata": {},
   "outputs": [
    {
     "data": {
      "text/plain": [
       "array([ 0.1,  5. ,  4. , 12. ,  0.5])"
      ]
     },
     "execution_count": 131,
     "metadata": {},
     "output_type": "execute_result"
    }
   ],
   "source": [
    "ar2 = np.array([0.1, 5, 4, 12, 0.5])\n",
    "ar2"
   ]
  },
  {
   "cell_type": "code",
   "execution_count": 132,
   "id": "3ce78981-cca1-4f65-8399-e6abfd75c7d8",
   "metadata": {},
   "outputs": [
    {
     "data": {
      "text/plain": [
       "dtype('int32')"
      ]
     },
     "execution_count": 132,
     "metadata": {},
     "output_type": "execute_result"
    }
   ],
   "source": [
    "import numpy as np\n",
    "x = np.array([1, 2, 3])\n",
    "x.dtype"
   ]
  },
  {
   "cell_type": "code",
   "execution_count": 133,
   "id": "a4874502-4185-4131-b8a5-397cc3cf0d17",
   "metadata": {},
   "outputs": [
    {
     "data": {
      "text/plain": [
       "dtype('float64')"
      ]
     },
     "execution_count": 133,
     "metadata": {},
     "output_type": "execute_result"
    }
   ],
   "source": [
    "x = np.array([1.0, 2.0, 3.0])\n",
    "x.dtype"
   ]
  },
  {
   "cell_type": "code",
   "execution_count": 136,
   "id": "4c6e20b5-ad32-4874-b3f4-75eacf78c7a1",
   "metadata": {},
   "outputs": [
    {
     "data": {
      "text/plain": [
       "dtype('float64')"
      ]
     },
     "execution_count": 136,
     "metadata": {},
     "output_type": "execute_result"
    }
   ],
   "source": [
    "x = np.array([1, 2, 3.0])\n",
    "x.dtype"
   ]
  },
  {
   "cell_type": "code",
   "execution_count": 134,
   "id": "b27d4785-b3eb-4cf5-943a-755782182e5f",
   "metadata": {},
   "outputs": [
    {
     "data": {
      "text/plain": [
       "dtype('int32')"
      ]
     },
     "execution_count": 134,
     "metadata": {},
     "output_type": "execute_result"
    }
   ],
   "source": [
    "ar.dtype"
   ]
  },
  {
   "cell_type": "code",
   "execution_count": 135,
   "id": "f7899405-e30b-4b3b-80cc-1420e8661b17",
   "metadata": {},
   "outputs": [
    {
     "data": {
      "text/plain": [
       "dtype('float64')"
      ]
     },
     "execution_count": 135,
     "metadata": {},
     "output_type": "execute_result"
    }
   ],
   "source": [
    "ar2.dtype"
   ]
  },
  {
   "cell_type": "code",
   "execution_count": 139,
   "id": "7e25444b-16f2-45c0-8a0e-11e2bb8424aa",
   "metadata": {},
   "outputs": [],
   "source": [
    "# 01010101 -> 8bit == 1byte"
   ]
  },
  {
   "cell_type": "code",
   "execution_count": 144,
   "id": "3f2984b0-7a84-4217-a8db-6cf9e5d76697",
   "metadata": {},
   "outputs": [
    {
     "name": "stdout",
     "output_type": "stream",
     "text": [
      "[3 6 9]\n",
      "int64\n"
     ]
    }
   ],
   "source": [
    "ar3 = np.array([_ for _ in range(3, 10, 3)], 'i8') # int8bytes --> int8*8bit\n",
    "print(ar3)\n",
    "print(ar3.dtype)"
   ]
  },
  {
   "cell_type": "code",
   "execution_count": 143,
   "id": "23dae3a1-4eb5-442d-b6d4-7843a0203d96",
   "metadata": {},
   "outputs": [
    {
     "name": "stdout",
     "output_type": "stream",
     "text": [
      "[2. 4. 6. 8.]\n",
      "float64\n"
     ]
    }
   ],
   "source": [
    "ar4 = np.array([_ for _ in range(2, 10, 2)], 'f8')\n",
    "print(ar4)\n",
    "print(ar4.dtype)"
   ]
  },
  {
   "cell_type": "code",
   "execution_count": 150,
   "id": "5e971420-28ee-4011-ba26-d59f2a248277",
   "metadata": {},
   "outputs": [
    {
     "name": "stdout",
     "output_type": "stream",
     "text": [
      "['가나다라마' '바사아' '자' '차카']\n",
      "<U8\n"
     ]
    }
   ],
   "source": [
    "# 'U8' 유니코드 8글자 자료형을 명시적으로 선언\n",
    "# 그래서 시퀀스 자료형 중 제일 큰 값이 <U5이지만 <U8로 타입이 지정되었다.\n",
    "ar5 = np.array([\"가나다라마\", \"바사아\", \"자\", \"차카\"], 'U8') \n",
    "print(ar5)\n",
    "print(ar5.dtype)\n",
    "# <U8은 최대 8글자의 유니코드 자료형이다."
   ]
  },
  {
   "cell_type": "code",
   "execution_count": 156,
   "id": "daf828b1-9eb3-4c7c-9439-b0770d5e37b3",
   "metadata": {},
   "outputs": [
    {
     "data": {
      "text/plain": [
       "dtype('float32')"
      ]
     },
     "execution_count": 156,
     "metadata": {},
     "output_type": "execute_result"
    }
   ],
   "source": [
    "x = np.array([1, 2, 3], dtype = 'f')\n",
    "x.dtype"
   ]
  },
  {
   "cell_type": "code",
   "execution_count": 157,
   "id": "bc4c1ae2-c2db-4f1e-8b96-3bb1a45c4ee6",
   "metadata": {},
   "outputs": [
    {
     "data": {
      "text/plain": [
       "3.0"
      ]
     },
     "execution_count": 157,
     "metadata": {},
     "output_type": "execute_result"
    }
   ],
   "source": [
    "x[0] + x[1]"
   ]
  },
  {
   "cell_type": "code",
   "execution_count": 160,
   "id": "97977699-50f6-4206-a3f3-d7d4c643881a",
   "metadata": {},
   "outputs": [
    {
     "data": {
      "text/plain": [
       "dtype('<U1')"
      ]
     },
     "execution_count": 160,
     "metadata": {},
     "output_type": "execute_result"
    }
   ],
   "source": [
    "x = np.array([1, 2, 3], dtype = 'U')\n",
    "x.dtype"
   ]
  },
  {
   "cell_type": "code",
   "execution_count": 161,
   "id": "4eafd455-010f-40d6-a908-fc11c5cf7c9d",
   "metadata": {},
   "outputs": [
    {
     "data": {
      "text/plain": [
       "'12'"
      ]
     },
     "execution_count": 161,
     "metadata": {},
     "output_type": "execute_result"
    }
   ],
   "source": [
    "x[0] + x[1]"
   ]
  },
  {
   "cell_type": "code",
   "execution_count": 162,
   "id": "60ebbc04-a86f-447c-bc84-8252da472f88",
   "metadata": {},
   "outputs": [
    {
     "name": "stderr",
     "output_type": "stream",
     "text": [
      "C:\\Users\\wkddl\\AppData\\Local\\Temp\\ipykernel_12056\\2068585620.py:1: RuntimeWarning: divide by zero encountered in true_divide\n",
      "  np.array([0, 1, -1, 0]) / np.array([1, 0, 0, 0])\n",
      "C:\\Users\\wkddl\\AppData\\Local\\Temp\\ipykernel_12056\\2068585620.py:1: RuntimeWarning: invalid value encountered in true_divide\n",
      "  np.array([0, 1, -1, 0]) / np.array([1, 0, 0, 0])\n"
     ]
    },
    {
     "data": {
      "text/plain": [
       "array([  0.,  inf, -inf,  nan])"
      ]
     },
     "execution_count": 162,
     "metadata": {},
     "output_type": "execute_result"
    }
   ],
   "source": [
    "np.array([0, 1, -1, 0]) / np.array([1, 0, 0, 0])"
   ]
  },
  {
   "cell_type": "code",
   "execution_count": 163,
   "id": "388352a1-e8aa-4351-856e-cbb716d1eb7b",
   "metadata": {},
   "outputs": [
    {
     "name": "stderr",
     "output_type": "stream",
     "text": [
      "C:\\Users\\wkddl\\AppData\\Local\\Temp\\ipykernel_12056\\2933082444.py:1: RuntimeWarning: divide by zero encountered in log\n",
      "  np.log(0)\n"
     ]
    },
    {
     "data": {
      "text/plain": [
       "-inf"
      ]
     },
     "execution_count": 163,
     "metadata": {},
     "output_type": "execute_result"
    }
   ],
   "source": [
    "np.log(0)"
   ]
  },
  {
   "cell_type": "code",
   "execution_count": 164,
   "id": "ed8ea099-86ed-40ec-ac2d-e0bc3320676c",
   "metadata": {},
   "outputs": [
    {
     "data": {
      "text/plain": [
       "0.0"
      ]
     },
     "execution_count": 164,
     "metadata": {},
     "output_type": "execute_result"
    }
   ],
   "source": [
    "np.exp(-np.inf)"
   ]
  },
  {
   "cell_type": "markdown",
   "id": "f6c6b54b-c7ad-47ab-b5f0-d054824c55e6",
   "metadata": {},
   "source": [
    "## 벡터화 연산(Vectoriaed Operaton"
   ]
  },
  {
   "cell_type": "code",
   "execution_count": 165,
   "id": "0156cb37-c932-4699-ae80-3c49af8ecc44",
   "metadata": {},
   "outputs": [],
   "source": [
    "data = [0, 1, 2, 3, 4, 5, 6, 7, 8, 9]"
   ]
  },
  {
   "cell_type": "code",
   "execution_count": 166,
   "id": "20af7669-ad1c-4411-81b1-c0c36dbc802f",
   "metadata": {},
   "outputs": [],
   "source": [
    "answer = [2 * d for d in data]"
   ]
  },
  {
   "cell_type": "code",
   "execution_count": 167,
   "id": "2fc102a9-16cb-4270-9416-156c718d18d2",
   "metadata": {},
   "outputs": [
    {
     "data": {
      "text/plain": [
       "[0, 2, 4, 6, 8, 10, 12, 14, 16, 18]"
      ]
     },
     "execution_count": 167,
     "metadata": {},
     "output_type": "execute_result"
    }
   ],
   "source": [
    "answer"
   ]
  },
  {
   "cell_type": "code",
   "execution_count": 169,
   "id": "54dec40f-4107-4410-b597-d999566634dd",
   "metadata": {},
   "outputs": [
    {
     "data": {
      "text/plain": [
       "array([0, 1, 2, 3, 4, 5, 6, 7, 8, 9])"
      ]
     },
     "execution_count": 169,
     "metadata": {},
     "output_type": "execute_result"
    }
   ],
   "source": [
    "x = np.array(data)\n",
    "x"
   ]
  },
  {
   "cell_type": "code",
   "execution_count": 173,
   "id": "05615cef-3a62-47c3-aa13-8afbd997a675",
   "metadata": {},
   "outputs": [
    {
     "data": {
      "text/plain": [
       "array([ 0,  2,  4,  6,  8, 10, 12, 14, 16, 18])"
      ]
     },
     "execution_count": 173,
     "metadata": {},
     "output_type": "execute_result"
    }
   ],
   "source": [
    "2 * x"
   ]
  },
  {
   "cell_type": "code",
   "execution_count": 174,
   "id": "5aae002b-c101-42f5-9be4-4b3c1d6a30dd",
   "metadata": {},
   "outputs": [
    {
     "name": "stdout",
     "output_type": "stream",
     "text": [
      "[0, 1, 2, 0, 1, 2, 0, 1, 2, 0, 1, 2, 0, 1, 2]\n"
     ]
    }
   ],
   "source": [
    "list_samp = [_ for _ in range(3)]\n",
    "print(list_samp * 5)"
   ]
  },
  {
   "cell_type": "code",
   "execution_count": 175,
   "id": "9e6bb226-d469-4909-93de-8ae2cdad3471",
   "metadata": {},
   "outputs": [],
   "source": [
    "a = np.array([1, 2, 3])\n",
    "b = np.array([10, 20, 30])"
   ]
  },
  {
   "cell_type": "code",
   "execution_count": 176,
   "id": "b46983e9-9fa7-4fbe-94ac-950666767454",
   "metadata": {},
   "outputs": [
    {
     "data": {
      "text/plain": [
       "array([12, 24, 36])"
      ]
     },
     "execution_count": 176,
     "metadata": {},
     "output_type": "execute_result"
    }
   ],
   "source": [
    "2 * a + b"
   ]
  },
  {
   "cell_type": "code",
   "execution_count": 177,
   "id": "e9416b64-513b-4978-8bd7-97838705e6f2",
   "metadata": {},
   "outputs": [
    {
     "data": {
      "text/plain": [
       "array([False,  True, False])"
      ]
     },
     "execution_count": 177,
     "metadata": {},
     "output_type": "execute_result"
    }
   ],
   "source": [
    "a == 2"
   ]
  },
  {
   "cell_type": "code",
   "execution_count": 178,
   "id": "e0405ccd-ca0e-440d-962e-c801246528ba",
   "metadata": {},
   "outputs": [
    {
     "data": {
      "text/plain": [
       "array([False,  True,  True])"
      ]
     },
     "execution_count": 178,
     "metadata": {},
     "output_type": "execute_result"
    }
   ],
   "source": [
    "b > 10"
   ]
  },
  {
   "cell_type": "code",
   "execution_count": 179,
   "id": "bac565d2-38eb-457b-ba00-215ccab0dcfa",
   "metadata": {},
   "outputs": [
    {
     "data": {
      "text/plain": [
       "array([False,  True, False])"
      ]
     },
     "execution_count": 179,
     "metadata": {},
     "output_type": "execute_result"
    }
   ],
   "source": [
    "(a == 2) & (b > 10)"
   ]
  },
  {
   "cell_type": "markdown",
   "id": "08b81a2b-7cc0-4c2d-bb5b-858f5fb3ee81",
   "metadata": {},
   "source": [
    "## 2차원 배열 만들기"
   ]
  },
  {
   "cell_type": "code",
   "execution_count": 180,
   "id": "f85f488f-11e0-4e7b-9224-37ea3d8c5028",
   "metadata": {},
   "outputs": [
    {
     "data": {
      "text/plain": [
       "array([[0, 1, 2],\n",
       "       [3, 4, 5]])"
      ]
     },
     "execution_count": 180,
     "metadata": {},
     "output_type": "execute_result"
    }
   ],
   "source": [
    "c = np.array([[0, 1, 2], [3, 4, 5]]) # 2 x 3 array\n",
    "c"
   ]
  },
  {
   "cell_type": "code",
   "execution_count": 181,
   "id": "76dc49b9-84d1-485a-931f-27af4ca5d462",
   "metadata": {},
   "outputs": [
    {
     "data": {
      "text/plain": [
       "(2, 3)"
      ]
     },
     "execution_count": 181,
     "metadata": {},
     "output_type": "execute_result"
    }
   ],
   "source": [
    "c.shape"
   ]
  },
  {
   "cell_type": "code",
   "execution_count": 182,
   "id": "c5e5a77d-5bd1-427e-99df-594f2a8af589",
   "metadata": {},
   "outputs": [
    {
     "data": {
      "text/plain": [
       "2"
      ]
     },
     "execution_count": 182,
     "metadata": {},
     "output_type": "execute_result"
    }
   ],
   "source": [
    "# 행의 갯수\n",
    "len(c)"
   ]
  },
  {
   "cell_type": "code",
   "execution_count": 183,
   "id": "61e830c0-e71b-45d1-b90f-a6125bbdccac",
   "metadata": {},
   "outputs": [
    {
     "data": {
      "text/plain": [
       "3"
      ]
     },
     "execution_count": 183,
     "metadata": {},
     "output_type": "execute_result"
    }
   ],
   "source": [
    "len(c[0])"
   ]
  },
  {
   "cell_type": "markdown",
   "id": "827a2bd9-4373-4edb-a4b0-5aa51881b770",
   "metadata": {
    "tags": []
   },
   "source": [
    "## 연습문제\n",
    "\n",
    "넘파이를 사용하여 다음과 같은 행렬을 만들어보세요.\n",
    "\n",
    "> 실행결과 :  \n",
    "array([[10, 20, 30, 40],  \n",
    "       [50, 60, 70, 80]])"
   ]
  },
  {
   "cell_type": "code",
   "execution_count": 185,
   "id": "ef6a27b9-4755-42fe-ba13-21d9ed4cd365",
   "metadata": {},
   "outputs": [
    {
     "data": {
      "text/plain": [
       "array([[10, 20, 30, 40],\n",
       "       [50, 60, 70, 80]])"
      ]
     },
     "execution_count": 185,
     "metadata": {},
     "output_type": "execute_result"
    }
   ],
   "source": [
    "x = np.array([[10, 20, 30, 40], [50, 60, 70, 80]])\n",
    "x"
   ]
  },
  {
   "cell_type": "markdown",
   "id": "df86a21d-c9c8-4f1c-aa71-ebdef065dcd9",
   "metadata": {
    "jp-MarkdownHeadingCollapsed": true,
    "tags": []
   },
   "source": [
    "## 3차원 배열 만들기"
   ]
  },
  {
   "cell_type": "code",
   "execution_count": 186,
   "id": "f870267b-2c8b-4579-a9e2-3948e7a15447",
   "metadata": {},
   "outputs": [],
   "source": [
    "# 2 x 3 x 4\n",
    "d = np.array([[[1, 2, 3, 4],\n",
    "               [5, 6, 7, 8],\n",
    "               [9, 10, 11, 12]],\n",
    "              [[11, 12, 13, 14],\n",
    "               [15, 16, 17, 18], \n",
    "               [19, 20, 21, 22]]])"
   ]
  },
  {
   "cell_type": "code",
   "execution_count": 188,
   "id": "07ede3c5-c480-4f97-9660-f316bcedd33d",
   "metadata": {},
   "outputs": [
    {
     "data": {
      "text/plain": [
       "(2, 3, 4)"
      ]
     },
     "execution_count": 188,
     "metadata": {},
     "output_type": "execute_result"
    }
   ],
   "source": [
    "len(d), len(d[0]), len(d[0][0])"
   ]
  },
  {
   "cell_type": "code",
   "execution_count": 189,
   "id": "cce91a07-97ad-4235-ba95-dac66664de0a",
   "metadata": {},
   "outputs": [
    {
     "data": {
      "text/plain": [
       "(2, 3, 4)"
      ]
     },
     "execution_count": 189,
     "metadata": {},
     "output_type": "execute_result"
    }
   ],
   "source": [
    "d.shape"
   ]
  },
  {
   "cell_type": "code",
   "execution_count": 190,
   "id": "4d3f5ec5-9184-45fc-9a87-3efdd262dc1f",
   "metadata": {},
   "outputs": [
    {
     "name": "stdout",
     "output_type": "stream",
     "text": [
      "1\n",
      "(3,)\n"
     ]
    }
   ],
   "source": [
    "# a = np.array([1, 2, 3])\n",
    "print(a.ndim)\n",
    "print(a.shape)"
   ]
  },
  {
   "cell_type": "code",
   "execution_count": 191,
   "id": "53381dc3-1692-4eb7-b0a7-1ad68c03ce44",
   "metadata": {},
   "outputs": [
    {
     "name": "stdout",
     "output_type": "stream",
     "text": [
      "2\n",
      "(2, 3)\n"
     ]
    }
   ],
   "source": [
    "# c = np.array([[0, 1, 2], [3, 4, 5]])\n",
    "print(c.ndim)\n",
    "print(c.shape)"
   ]
  },
  {
   "cell_type": "code",
   "execution_count": 192,
   "id": "6f961fc2-f1ad-4045-aea3-60e5230ba238",
   "metadata": {},
   "outputs": [
    {
     "name": "stdout",
     "output_type": "stream",
     "text": [
      "3\n",
      "(2, 3, 4)\n"
     ]
    }
   ],
   "source": [
    "print(d.ndim)\n",
    "print(d.shape)"
   ]
  },
  {
   "cell_type": "markdown",
   "id": "01cff95e-f856-4b9f-a5e0-b5cc254fa8d9",
   "metadata": {
    "jp-MarkdownHeadingCollapsed": true,
    "tags": []
   },
   "source": [
    "## 배열의 인덱싱"
   ]
  },
  {
   "cell_type": "code",
   "execution_count": 193,
   "id": "3fd19c7a-777e-4124-9cc8-dbf48c48fde8",
   "metadata": {},
   "outputs": [],
   "source": [
    "list_sample = [[0, 1, 2], [3, 4, 5]]"
   ]
  },
  {
   "cell_type": "code",
   "execution_count": 199,
   "id": "5a88ba56-862c-4678-802b-7e466d178ae9",
   "metadata": {},
   "outputs": [
    {
     "data": {
      "text/plain": [
       "1"
      ]
     },
     "execution_count": 199,
     "metadata": {},
     "output_type": "execute_result"
    }
   ],
   "source": [
    "list_sample[0][0]"
   ]
  },
  {
   "cell_type": "code",
   "execution_count": 200,
   "id": "40519022-c468-4429-910d-510d6b7e4319",
   "metadata": {},
   "outputs": [
    {
     "data": {
      "text/plain": [
       "2"
      ]
     },
     "execution_count": 200,
     "metadata": {},
     "output_type": "execute_result"
    }
   ],
   "source": [
    "list_sample[0][1]"
   ]
  },
  {
   "cell_type": "code",
   "execution_count": 194,
   "id": "9a8c2b35-1ae6-4ab9-b633-cf081a3e56c2",
   "metadata": {},
   "outputs": [
    {
     "data": {
      "text/plain": [
       "array([[0, 1, 2],\n",
       "       [3, 4, 5]])"
      ]
     },
     "execution_count": 194,
     "metadata": {},
     "output_type": "execute_result"
    }
   ],
   "source": [
    "a = np.array([[0, 1, 2], [3, 4, 5]])\n",
    "a"
   ]
  },
  {
   "cell_type": "code",
   "execution_count": 195,
   "id": "33bafa7c-dade-44c7-8843-0c175c6559ff",
   "metadata": {},
   "outputs": [
    {
     "data": {
      "text/plain": [
       "0"
      ]
     },
     "execution_count": 195,
     "metadata": {},
     "output_type": "execute_result"
    }
   ],
   "source": [
    "a[0, 0] # 첫번째 행의 첫번째 열"
   ]
  },
  {
   "cell_type": "code",
   "execution_count": 196,
   "id": "673cf2d2-989a-4f3f-a0a6-5dc15fda8304",
   "metadata": {},
   "outputs": [
    {
     "data": {
      "text/plain": [
       "1"
      ]
     },
     "execution_count": 196,
     "metadata": {},
     "output_type": "execute_result"
    }
   ],
   "source": [
    "a[0, 1] # 첫번째 행의 두번째 열"
   ]
  },
  {
   "cell_type": "code",
   "execution_count": 197,
   "id": "1b3c52ae-b4a7-40c1-ab51-1d88176e7aa4",
   "metadata": {},
   "outputs": [
    {
     "data": {
      "text/plain": [
       "5"
      ]
     },
     "execution_count": 197,
     "metadata": {},
     "output_type": "execute_result"
    }
   ],
   "source": [
    "a[-1, -1] # 마지막 행의 마지막 열"
   ]
  },
  {
   "cell_type": "markdown",
   "id": "4093c42b-2e0f-4aea-ae8f-10e6d36e71a9",
   "metadata": {
    "jp-MarkdownHeadingCollapsed": true,
    "tags": []
   },
   "source": [
    "## 배열의 슬라이싱"
   ]
  },
  {
   "cell_type": "code",
   "execution_count": 201,
   "id": "d9459afa-32d2-415a-9795-80ecac75bec0",
   "metadata": {},
   "outputs": [
    {
     "data": {
      "text/plain": [
       "array([[0, 1, 2, 3],\n",
       "       [4, 5, 6, 7]])"
      ]
     },
     "execution_count": 201,
     "metadata": {},
     "output_type": "execute_result"
    }
   ],
   "source": [
    "a = np.array([[0, 1, 2, 3], [4, 5, 6, 7]])\n",
    "a"
   ]
  },
  {
   "cell_type": "code",
   "execution_count": 207,
   "id": "61d9de7e-d483-4ffa-b4f5-fcafa7aad69f",
   "metadata": {},
   "outputs": [
    {
     "data": {
      "text/plain": [
       "array([[0, 1, 2, 3],\n",
       "       [4, 5, 6, 7]])"
      ]
     },
     "execution_count": 207,
     "metadata": {},
     "output_type": "execute_result"
    }
   ],
   "source": [
    "a = np.array([_ for _ in range(8)]).reshape(2, 4)\n",
    "a"
   ]
  },
  {
   "cell_type": "code",
   "execution_count": 202,
   "id": "23e5d2c7-e4cc-4bd6-810c-9f69d0ee4680",
   "metadata": {},
   "outputs": [
    {
     "data": {
      "text/plain": [
       "array([0, 1, 2, 3])"
      ]
     },
     "execution_count": 202,
     "metadata": {},
     "output_type": "execute_result"
    }
   ],
   "source": [
    "a[0, :] # 첫번째 행 전체"
   ]
  },
  {
   "cell_type": "code",
   "execution_count": 203,
   "id": "bb512c1e-86dd-44e2-a84c-e6dabefa125c",
   "metadata": {},
   "outputs": [
    {
     "data": {
      "text/plain": [
       "array([1, 5])"
      ]
     },
     "execution_count": 203,
     "metadata": {},
     "output_type": "execute_result"
    }
   ],
   "source": [
    "a[:, 1] # 두번째 열 전체"
   ]
  },
  {
   "cell_type": "code",
   "execution_count": 204,
   "id": "dda80e47-d0a2-4a55-8d66-01157f7fed29",
   "metadata": {},
   "outputs": [
    {
     "data": {
      "text/plain": [
       "array([5, 6, 7])"
      ]
     },
     "execution_count": 204,
     "metadata": {},
     "output_type": "execute_result"
    }
   ],
   "source": [
    "a[1, 1:] # 두번째 행의 두번째 열부터 끝열까지"
   ]
  },
  {
   "cell_type": "code",
   "execution_count": 205,
   "id": "bc2fe45d-5344-424c-9f41-70dcd970d141",
   "metadata": {},
   "outputs": [
    {
     "data": {
      "text/plain": [
       "array([[0, 1],\n",
       "       [4, 5]])"
      ]
     },
     "execution_count": 205,
     "metadata": {},
     "output_type": "execute_result"
    }
   ],
   "source": [
    "a[:2, :2]"
   ]
  },
  {
   "cell_type": "markdown",
   "id": "eb297701-2c5d-4131-9239-da06551176f1",
   "metadata": {
    "tags": []
   },
   "source": [
    "# 연습 문제\n",
    "\n",
    "다음의 행렬이 주어졌을 때 1~5까지 문제를 풀어보세요.\n",
    "\n",
    "```python\n",
    "m = np.array([[0, 1, 2, 3, 4],\n",
    "              [5, 6, 7, 8, 9],\n",
    "              [10, 11, 12, 13, 14]])\n",
    "```\n",
    "\n",
    "1. 이 행렬에서 값 7을 인덱싱한다.\n",
    "2. 이 행렬에서 값 14을 인덱싱한다.\n",
    "3. 이 행렬에서 배열 [6, 7]을 슬라이싱한다.\n",
    "4. 이 행렬에서 배열 [7, 12]을 슬라이싱한다.\n",
    "5. 이 행렬에서 배열 [[3, 4], [8, 9]]을 슬라이싱한다."
   ]
  },
  {
   "cell_type": "code",
   "execution_count": 234,
   "id": "3af3b10f-febc-4cf6-bb82-8238b1dcc9cd",
   "metadata": {},
   "outputs": [
    {
     "name": "stdout",
     "output_type": "stream",
     "text": [
      "7\n",
      "14\n",
      "[6 7]\n",
      "[ 7 12]\n",
      "[[3 4]\n",
      " [8 9]]\n"
     ]
    }
   ],
   "source": [
    "m = np.array([i for i in range(15)]).reshape(3, 5)\n",
    "\n",
    "print(m[1, 2])\n",
    "print(m[2, 4])\n",
    "print(m[1, 1:3])\n",
    "print(m[1:3, 2])\n",
    "print(m[:2, 3:])"
   ]
  },
  {
   "cell_type": "markdown",
   "id": "44cd8393-abb2-4a76-9659-bd22cec499b8",
   "metadata": {
    "tags": []
   },
   "source": [
    "## 배열 생성"
   ]
  },
  {
   "cell_type": "code",
   "execution_count": 235,
   "id": "cf28cb02-19ed-43e1-bf41-be612749dccc",
   "metadata": {},
   "outputs": [
    {
     "data": {
      "text/plain": [
       "array([0., 0., 0., 0., 0.])"
      ]
     },
     "execution_count": 235,
     "metadata": {},
     "output_type": "execute_result"
    }
   ],
   "source": [
    "a = np.zeros(5)\n",
    "a"
   ]
  },
  {
   "cell_type": "code",
   "execution_count": 236,
   "id": "9aba7a42-4bab-4ab6-889d-abd9b817e523",
   "metadata": {},
   "outputs": [
    {
     "data": {
      "text/plain": [
       "array([[0, 0],\n",
       "       [0, 0],\n",
       "       [0, 0],\n",
       "       [0, 0],\n",
       "       [0, 0]], dtype=int32)"
      ]
     },
     "execution_count": 236,
     "metadata": {},
     "output_type": "execute_result"
    }
   ],
   "source": [
    "c = np.zeros((5, 2), dtype = \"i\")\n",
    "c"
   ]
  },
  {
   "cell_type": "code",
   "execution_count": 238,
   "id": "df8990f5-a046-46c5-91f2-94cba2296f1c",
   "metadata": {},
   "outputs": [
    {
     "data": {
      "text/plain": [
       "array(['', '', '', '', ''], dtype='<U4')"
      ]
     },
     "execution_count": 238,
     "metadata": {},
     "output_type": "execute_result"
    }
   ],
   "source": [
    "d = np.zeros(5, dtype = \"U4\")\n",
    "d"
   ]
  },
  {
   "cell_type": "code",
   "execution_count": 239,
   "id": "6e303b35-b09b-423a-b14d-c1f39dc3039c",
   "metadata": {},
   "outputs": [
    {
     "data": {
      "text/plain": [
       "array(['abc', 'abcd', 'ABCD', '', ''], dtype='<U4')"
      ]
     },
     "execution_count": 239,
     "metadata": {},
     "output_type": "execute_result"
    }
   ],
   "source": [
    "d[0] = \"abc\"\n",
    "d[1] = \"abcd\"\n",
    "d[2] = \"ABCDE\"\n",
    "d"
   ]
  },
  {
   "cell_type": "code",
   "execution_count": 240,
   "id": "4ee74f5d-0a40-4f7e-a3b2-b200894e043e",
   "metadata": {},
   "outputs": [
    {
     "data": {
      "text/plain": [
       "array([[[1, 1, 1, 1],\n",
       "        [1, 1, 1, 1],\n",
       "        [1, 1, 1, 1]],\n",
       "\n",
       "       [[1, 1, 1, 1],\n",
       "        [1, 1, 1, 1],\n",
       "        [1, 1, 1, 1]]], dtype=int64)"
      ]
     },
     "execution_count": 240,
     "metadata": {},
     "output_type": "execute_result"
    }
   ],
   "source": [
    "e = np.ones((2, 3, 4), dtype = \"i8\")\n",
    "e"
   ]
  },
  {
   "cell_type": "code",
   "execution_count": 241,
   "id": "8a322cd1-2e10-4dc4-9a7d-213914ce5226",
   "metadata": {},
   "outputs": [
    {
     "data": {
      "text/plain": [
       "array([1., 1., 1.], dtype=float32)"
      ]
     },
     "execution_count": 241,
     "metadata": {},
     "output_type": "execute_result"
    }
   ],
   "source": [
    "f = np.ones_like(b, dtype = \"f\")\n",
    "f"
   ]
  },
  {
   "cell_type": "code",
   "execution_count": 243,
   "id": "9c464398-b81d-4b63-a282-6b1cbf45915d",
   "metadata": {},
   "outputs": [
    {
     "data": {
      "text/plain": [
       "array([[1.06123595e-311, 2.47032823e-322, 0.00000000e+000],\n",
       "       [0.00000000e+000, 1.14587773e-312, 1.04082753e-047],\n",
       "       [5.45214695e-090, 7.11286183e-038, 8.46402186e+164],\n",
       "       [2.21603337e+160, 3.99910963e+252, 1.01334814e-070]])"
      ]
     },
     "execution_count": 243,
     "metadata": {},
     "output_type": "execute_result"
    }
   ],
   "source": [
    "g = np.empty((4, 3))\n",
    "g"
   ]
  },
  {
   "cell_type": "code",
   "execution_count": 244,
   "id": "559bb550-dcc9-4e00-9fad-b289c49729b7",
   "metadata": {},
   "outputs": [
    {
     "data": {
      "text/plain": [
       "array([0, 1, 2, 3, 4, 5, 6, 7, 8, 9])"
      ]
     },
     "execution_count": 244,
     "metadata": {},
     "output_type": "execute_result"
    }
   ],
   "source": [
    "np.arange(10) # 0 .. n-1"
   ]
  },
  {
   "cell_type": "code",
   "execution_count": 245,
   "id": "abf25083-fe9c-4538-9db0-998f9864a936",
   "metadata": {},
   "outputs": [
    {
     "data": {
      "text/plain": [
       "array([ 3,  5,  7,  9, 11, 13, 15, 17, 19])"
      ]
     },
     "execution_count": 245,
     "metadata": {},
     "output_type": "execute_result"
    }
   ],
   "source": [
    "np.arange(3, 21, 2) # 시작, 끝(포함하지 않음), 단계"
   ]
  },
  {
   "cell_type": "code",
   "execution_count": 246,
   "id": "5fd5e38a-279b-4d16-94fe-de0b607c0260",
   "metadata": {},
   "outputs": [
    {
     "data": {
      "text/plain": [
       "array([  0.,  25.,  50.,  75., 100.])"
      ]
     },
     "execution_count": 246,
     "metadata": {},
     "output_type": "execute_result"
    }
   ],
   "source": [
    "np.linspace(0, 100, 5) # 시작, 끝(포함), 갯수"
   ]
  },
  {
   "cell_type": "code",
   "execution_count": 254,
   "id": "5f181576-1565-4305-a2c6-8308f0863448",
   "metadata": {},
   "outputs": [
    {
     "data": {
      "text/plain": [
       "array([1.e+000, 1.e+025, 1.e+050, 1.e+075, 1.e+100])"
      ]
     },
     "execution_count": 254,
     "metadata": {},
     "output_type": "execute_result"
    }
   ],
   "source": [
    "np.logspace(0, 100, 5) # 시작, 끝(포함), 갯수"
   ]
  },
  {
   "cell_type": "code",
   "execution_count": 251,
   "id": "dbb04316-f7d7-4877-b2c2-9ada80472820",
   "metadata": {},
   "outputs": [
    {
     "data": {
      "text/plain": [
       "array([  0.        ,   7.14285714,  14.28571429,  21.42857143,\n",
       "        28.57142857,  35.71428571,  42.85714286,  50.        ,\n",
       "        57.14285714,  64.28571429,  71.42857143,  78.57142857,\n",
       "        85.71428571,  92.85714286, 100.        ])"
      ]
     },
     "execution_count": 251,
     "metadata": {},
     "output_type": "execute_result"
    }
   ],
   "source": [
    "ex = np.linspace(0, 100, 15)\n",
    "ex"
   ]
  },
  {
   "cell_type": "code",
   "execution_count": 253,
   "id": "2c635208-bfc6-4cdb-a8ce-7966f34e0eca",
   "metadata": {},
   "outputs": [
    {
     "data": {
      "text/plain": [
       "array([1.e+000, 1.e+025, 1.e+050, 1.e+075, 1.e+100])"
      ]
     },
     "execution_count": 253,
     "metadata": {},
     "output_type": "execute_result"
    }
   ],
   "source": [
    "ex2 = np.logspace(0, 100, 5)\n",
    "ex2"
   ]
  },
  {
   "cell_type": "markdown",
   "id": "d36b7e2d-b000-41d2-97b6-49003ec914f4",
   "metadata": {
    "tags": []
   },
   "source": [
    "## 전치 연산"
   ]
  },
  {
   "cell_type": "code",
   "execution_count": 255,
   "id": "222fc461-eda0-4528-af6e-fa79cf1f45cd",
   "metadata": {},
   "outputs": [
    {
     "data": {
      "text/plain": [
       "array([[1, 2, 3],\n",
       "       [4, 5, 6]])"
      ]
     },
     "execution_count": 255,
     "metadata": {},
     "output_type": "execute_result"
    }
   ],
   "source": [
    "A = np.array([[1, 2, 3], [4, 5, 6]])\n",
    "A"
   ]
  },
  {
   "cell_type": "code",
   "execution_count": 256,
   "id": "ad9e1f50-7845-497e-9902-d2e8f4f07a14",
   "metadata": {},
   "outputs": [
    {
     "data": {
      "text/plain": [
       "array([[1, 4],\n",
       "       [2, 5],\n",
       "       [3, 6]])"
      ]
     },
     "execution_count": 256,
     "metadata": {},
     "output_type": "execute_result"
    }
   ],
   "source": [
    "A.T"
   ]
  },
  {
   "cell_type": "markdown",
   "id": "ce0b4415-f7ae-4180-a6e4-8686b1bae578",
   "metadata": {
    "tags": []
   },
   "source": [
    "## 배열의 크기 변형"
   ]
  },
  {
   "cell_type": "code",
   "execution_count": 257,
   "id": "78b04ea7-6082-45c2-a1cf-542996c406f6",
   "metadata": {},
   "outputs": [
    {
     "data": {
      "text/plain": [
       "array([ 0,  1,  2,  3,  4,  5,  6,  7,  8,  9, 10, 11])"
      ]
     },
     "execution_count": 257,
     "metadata": {},
     "output_type": "execute_result"
    }
   ],
   "source": [
    "a = np.arange(12)\n",
    "a"
   ]
  },
  {
   "cell_type": "code",
   "execution_count": 258,
   "id": "084428d0-1c30-4de9-8cd3-46824ea8dcfb",
   "metadata": {},
   "outputs": [
    {
     "data": {
      "text/plain": [
       "array([[ 0,  1,  2,  3],\n",
       "       [ 4,  5,  6,  7],\n",
       "       [ 8,  9, 10, 11]])"
      ]
     },
     "execution_count": 258,
     "metadata": {},
     "output_type": "execute_result"
    }
   ],
   "source": [
    "b = a.reshape(3, 4)\n",
    "b"
   ]
  },
  {
   "cell_type": "code",
   "execution_count": 260,
   "id": "7798f002-2377-468e-a35d-27c6fe45678b",
   "metadata": {},
   "outputs": [
    {
     "data": {
      "text/plain": [
       "array([[ 0,  1,  2,  3],\n",
       "       [ 4,  5,  6,  7],\n",
       "       [ 8,  9, 10, 11]])"
      ]
     },
     "execution_count": 260,
     "metadata": {},
     "output_type": "execute_result"
    }
   ],
   "source": [
    "ex3 = np.arange(12)\n",
    "ex3.reshape(3, 4)"
   ]
  },
  {
   "cell_type": "code",
   "execution_count": 261,
   "id": "c1d1bc0f-e918-4bf1-94d8-20727e3819e2",
   "metadata": {},
   "outputs": [
    {
     "data": {
      "text/plain": [
       "array([[ 0,  1,  2,  3],\n",
       "       [ 4,  5,  6,  7],\n",
       "       [ 8,  9, 10, 11]])"
      ]
     },
     "execution_count": 261,
     "metadata": {},
     "output_type": "execute_result"
    }
   ],
   "source": [
    "a.reshape(3, -1)"
   ]
  },
  {
   "cell_type": "code",
   "execution_count": 262,
   "id": "419054e7-caec-4dbf-a635-3ef8987a2158",
   "metadata": {},
   "outputs": [
    {
     "data": {
      "text/plain": [
       "array([[[ 0,  1,  2],\n",
       "        [ 3,  4,  5]],\n",
       "\n",
       "       [[ 6,  7,  8],\n",
       "        [ 9, 10, 11]]])"
      ]
     },
     "execution_count": 262,
     "metadata": {},
     "output_type": "execute_result"
    }
   ],
   "source": [
    "a.reshape(2, 2, -1)"
   ]
  },
  {
   "cell_type": "code",
   "execution_count": 263,
   "id": "77fdcc42-0028-4f06-93b1-18ce0c0b374c",
   "metadata": {},
   "outputs": [
    {
     "data": {
      "text/plain": [
       "array([ 0,  1,  2,  3,  4,  5,  6,  7,  8,  9, 10, 11])"
      ]
     },
     "execution_count": 263,
     "metadata": {},
     "output_type": "execute_result"
    }
   ],
   "source": [
    "a.flatten()"
   ]
  },
  {
   "cell_type": "code",
   "execution_count": 264,
   "id": "cf42558a-04a6-449c-8d2a-bed2dca444d2",
   "metadata": {},
   "outputs": [
    {
     "data": {
      "text/plain": [
       "array([ 0,  1,  2,  3,  4,  5,  6,  7,  8,  9, 10, 11])"
      ]
     },
     "execution_count": 264,
     "metadata": {},
     "output_type": "execute_result"
    }
   ],
   "source": [
    "a.ravel()"
   ]
  },
  {
   "cell_type": "code",
   "execution_count": 265,
   "id": "2fedca06-c688-4b07-aa69-1983f93818e0",
   "metadata": {},
   "outputs": [
    {
     "data": {
      "text/plain": [
       "array([0, 1, 2, 3, 4])"
      ]
     },
     "execution_count": 265,
     "metadata": {},
     "output_type": "execute_result"
    }
   ],
   "source": [
    "x = np.arange(5)\n",
    "x"
   ]
  },
  {
   "cell_type": "code",
   "execution_count": 266,
   "id": "2354fe7e-29db-4da0-aeca-08656a5e5bc7",
   "metadata": {},
   "outputs": [
    {
     "data": {
      "text/plain": [
       "array([[0, 1, 2, 3, 4]])"
      ]
     },
     "execution_count": 266,
     "metadata": {},
     "output_type": "execute_result"
    }
   ],
   "source": [
    "x.reshape(1, 5)"
   ]
  },
  {
   "cell_type": "code",
   "execution_count": 268,
   "id": "5b14bc4e-0b07-44b9-a5f3-3f358134d72f",
   "metadata": {},
   "outputs": [
    {
     "data": {
      "text/plain": [
       "array([[0],\n",
       "       [1],\n",
       "       [2],\n",
       "       [3],\n",
       "       [4]])"
      ]
     },
     "execution_count": 268,
     "metadata": {},
     "output_type": "execute_result"
    }
   ],
   "source": [
    "x.reshape(5, 1)"
   ]
  },
  {
   "cell_type": "code",
   "execution_count": 269,
   "id": "e83cbe99-93d4-44f6-bfbd-6f0f41e07046",
   "metadata": {},
   "outputs": [
    {
     "data": {
      "text/plain": [
       "array([[0],\n",
       "       [1],\n",
       "       [2],\n",
       "       [3],\n",
       "       [4]])"
      ]
     },
     "execution_count": 269,
     "metadata": {},
     "output_type": "execute_result"
    }
   ],
   "source": [
    "x[:, np.newaxis]"
   ]
  },
  {
   "cell_type": "markdown",
   "id": "94a3ce47-5d96-4a86-8941-652436b6eaf0",
   "metadata": {
    "tags": []
   },
   "source": [
    "## 배열 연결"
   ]
  },
  {
   "cell_type": "code",
   "execution_count": 270,
   "id": "81bc5f52-6cf5-4ff3-bee1-8d1c22539d2e",
   "metadata": {},
   "outputs": [
    {
     "data": {
      "text/plain": [
       "array([[1., 1., 1.],\n",
       "       [1., 1., 1.]])"
      ]
     },
     "execution_count": 270,
     "metadata": {},
     "output_type": "execute_result"
    }
   ],
   "source": [
    "a1 = np.ones((2, 3))\n",
    "a1"
   ]
  },
  {
   "cell_type": "code",
   "execution_count": 271,
   "id": "bd8e7c8f-e10d-4fbb-9d0f-292f3e3d128b",
   "metadata": {},
   "outputs": [
    {
     "data": {
      "text/plain": [
       "array([[0., 0.],\n",
       "       [0., 0.]])"
      ]
     },
     "execution_count": 271,
     "metadata": {},
     "output_type": "execute_result"
    }
   ],
   "source": [
    "a2 = np.zeros((2, 2))\n",
    "a2"
   ]
  },
  {
   "cell_type": "code",
   "execution_count": 272,
   "id": "8d862dfb-eba1-4406-bc0e-dc25f180dbe9",
   "metadata": {},
   "outputs": [
    {
     "data": {
      "text/plain": [
       "array([[1., 1., 1., 0., 0.],\n",
       "       [1., 1., 1., 0., 0.]])"
      ]
     },
     "execution_count": 272,
     "metadata": {},
     "output_type": "execute_result"
    }
   ],
   "source": [
    "np.hstack([a1, a2])"
   ]
  },
  {
   "cell_type": "code",
   "execution_count": 273,
   "id": "d6dfab74-1156-49e1-b7d9-257b0aa77d38",
   "metadata": {},
   "outputs": [
    {
     "data": {
      "text/plain": [
       "array([[1., 1., 1.],\n",
       "       [1., 1., 1.]])"
      ]
     },
     "execution_count": 273,
     "metadata": {},
     "output_type": "execute_result"
    }
   ],
   "source": [
    "b1 = np.ones((2, 3))\n",
    "b1"
   ]
  },
  {
   "cell_type": "code",
   "execution_count": 275,
   "id": "5edf4c83-7bcf-4b24-9618-40428d45bef1",
   "metadata": {},
   "outputs": [
    {
     "data": {
      "text/plain": [
       "array([[0., 0., 0.],\n",
       "       [0., 0., 0.],\n",
       "       [0., 0., 0.]])"
      ]
     },
     "execution_count": 275,
     "metadata": {},
     "output_type": "execute_result"
    }
   ],
   "source": [
    "b2 = np.zeros((3, 3))\n",
    "b2"
   ]
  },
  {
   "cell_type": "code",
   "execution_count": 279,
   "id": "ff7d3c62-1030-4e2f-926b-67c18b026e88",
   "metadata": {},
   "outputs": [
    {
     "data": {
      "text/plain": [
       "array([[1., 1., 1.],\n",
       "       [1., 1., 1.],\n",
       "       [0., 0., 0.],\n",
       "       [0., 0., 0.],\n",
       "       [0., 0., 0.]])"
      ]
     },
     "execution_count": 279,
     "metadata": {},
     "output_type": "execute_result"
    }
   ],
   "source": [
    "np.vstack([b1, b2])"
   ]
  },
  {
   "cell_type": "code",
   "execution_count": 280,
   "id": "f8026b1a-cf4f-4f22-899d-8dc76fa9220c",
   "metadata": {},
   "outputs": [
    {
     "data": {
      "text/plain": [
       "array([[1., 1., 1., 1.],\n",
       "       [1., 1., 1., 1.],\n",
       "       [1., 1., 1., 1.]])"
      ]
     },
     "execution_count": 280,
     "metadata": {},
     "output_type": "execute_result"
    }
   ],
   "source": [
    "c1 = np.ones((3, 4))\n",
    "c1"
   ]
  },
  {
   "cell_type": "code",
   "execution_count": 281,
   "id": "931af816-f8bc-4101-b4ad-bc360b178eae",
   "metadata": {},
   "outputs": [
    {
     "data": {
      "text/plain": [
       "array([[0., 0., 0., 0.],\n",
       "       [0., 0., 0., 0.],\n",
       "       [0., 0., 0., 0.]])"
      ]
     },
     "execution_count": 281,
     "metadata": {},
     "output_type": "execute_result"
    }
   ],
   "source": [
    "c2 = np.zeros((3, 4))\n",
    "c2"
   ]
  },
  {
   "cell_type": "code",
   "execution_count": 282,
   "id": "07a20401-30b0-484e-9fd7-20563e44aa33",
   "metadata": {},
   "outputs": [
    {
     "data": {
      "text/plain": [
       "array([[[1., 0.],\n",
       "        [1., 0.],\n",
       "        [1., 0.],\n",
       "        [1., 0.]],\n",
       "\n",
       "       [[1., 0.],\n",
       "        [1., 0.],\n",
       "        [1., 0.],\n",
       "        [1., 0.]],\n",
       "\n",
       "       [[1., 0.],\n",
       "        [1., 0.],\n",
       "        [1., 0.],\n",
       "        [1., 0.]]])"
      ]
     },
     "execution_count": 282,
     "metadata": {},
     "output_type": "execute_result"
    }
   ],
   "source": [
    "np.dstack([c1, c2])"
   ]
  },
  {
   "cell_type": "code",
   "execution_count": 283,
   "id": "a0e0574f-0fff-495d-87bc-48919133542b",
   "metadata": {},
   "outputs": [
    {
     "data": {
      "text/plain": [
       "(3, 4, 2)"
      ]
     },
     "execution_count": 283,
     "metadata": {},
     "output_type": "execute_result"
    }
   ],
   "source": [
    "(np.dstack([c1, c2])).shape"
   ]
  },
  {
   "cell_type": "code",
   "execution_count": 284,
   "id": "4cfe4f28-f49f-4d1f-afe5-1201a18fecc0",
   "metadata": {},
   "outputs": [
    {
     "data": {
      "text/plain": [
       "array([[[1., 1., 1., 1.],\n",
       "        [1., 1., 1., 1.],\n",
       "        [1., 1., 1., 1.]],\n",
       "\n",
       "       [[0., 0., 0., 0.],\n",
       "        [0., 0., 0., 0.],\n",
       "        [0., 0., 0., 0.]]])"
      ]
     },
     "execution_count": 284,
     "metadata": {},
     "output_type": "execute_result"
    }
   ],
   "source": [
    "c = np.stack([c1, c2])\n",
    "c"
   ]
  },
  {
   "cell_type": "code",
   "execution_count": 285,
   "id": "51ced5da-ca96-4f51-b8ca-463eb97dff63",
   "metadata": {},
   "outputs": [
    {
     "data": {
      "text/plain": [
       "(2, 3, 4)"
      ]
     },
     "execution_count": 285,
     "metadata": {},
     "output_type": "execute_result"
    }
   ],
   "source": [
    "c.shape"
   ]
  },
  {
   "cell_type": "code",
   "execution_count": 286,
   "id": "d48fe672-a558-4d06-906e-54fbb110f244",
   "metadata": {},
   "outputs": [
    {
     "data": {
      "text/plain": [
       "array([[[1., 1., 1., 1.],\n",
       "        [0., 0., 0., 0.]],\n",
       "\n",
       "       [[1., 1., 1., 1.],\n",
       "        [0., 0., 0., 0.]],\n",
       "\n",
       "       [[1., 1., 1., 1.],\n",
       "        [0., 0., 0., 0.]]])"
      ]
     },
     "execution_count": 286,
     "metadata": {},
     "output_type": "execute_result"
    }
   ],
   "source": [
    "c = np.stack([c1, c2], axis = 1)\n",
    "c"
   ]
  },
  {
   "cell_type": "code",
   "execution_count": 287,
   "id": "28e7f987-93e3-4c94-b58a-93ece8aebd55",
   "metadata": {},
   "outputs": [
    {
     "data": {
      "text/plain": [
       "array([1, 2, 3, 4, 5, 6])"
      ]
     },
     "execution_count": 287,
     "metadata": {},
     "output_type": "execute_result"
    }
   ],
   "source": [
    "np.r_[np.array([1, 2, 3]), np.array([4, 5, 6])]"
   ]
  },
  {
   "cell_type": "code",
   "execution_count": 288,
   "id": "c1c89e04-f4f3-42e0-b8fd-15ea8d20d595",
   "metadata": {},
   "outputs": [
    {
     "data": {
      "text/plain": [
       "array([[1, 4],\n",
       "       [2, 5],\n",
       "       [3, 6]])"
      ]
     },
     "execution_count": 288,
     "metadata": {},
     "output_type": "execute_result"
    }
   ],
   "source": [
    "np.c_[np.array([1, 2, 3]), np.array([4, 5, 6])]"
   ]
  },
  {
   "cell_type": "code",
   "execution_count": 289,
   "id": "7db8a06e-f92b-41e8-a874-54fc0f78424a",
   "metadata": {},
   "outputs": [
    {
     "data": {
      "text/plain": [
       "array([[0, 1, 2, 0, 1, 2],\n",
       "       [3, 4, 5, 3, 4, 5]])"
      ]
     },
     "execution_count": 289,
     "metadata": {},
     "output_type": "execute_result"
    }
   ],
   "source": [
    "a = np.array([[0, 1, 2], [3, 4, 5]])\n",
    "np.tile(a, 2)"
   ]
  },
  {
   "cell_type": "code",
   "execution_count": 290,
   "id": "6200f1e9-0a3e-4e2a-960c-e3e3048fb398",
   "metadata": {},
   "outputs": [
    {
     "data": {
      "text/plain": [
       "array([[0, 1, 2, 0, 1, 2],\n",
       "       [3, 4, 5, 3, 4, 5],\n",
       "       [0, 1, 2, 0, 1, 2],\n",
       "       [3, 4, 5, 3, 4, 5],\n",
       "       [0, 1, 2, 0, 1, 2],\n",
       "       [3, 4, 5, 3, 4, 5]])"
      ]
     },
     "execution_count": 290,
     "metadata": {},
     "output_type": "execute_result"
    }
   ],
   "source": [
    "np.tile(a, (3, 2))"
   ]
  },
  {
   "cell_type": "markdown",
   "id": "a3be2a43-16f9-446c-a447-2dd3ea4479bb",
   "metadata": {},
   "source": [
    "## 연습 문제\n",
    "\n",
    "앞서 배운 내용을 활용해서 다음과 동일한 배열을 만들어보세요."
   ]
  },
  {
   "cell_type": "code",
   "execution_count": 308,
   "id": "cb570e16-3c7d-4a5b-956f-ceed5f428289",
   "metadata": {},
   "outputs": [
    {
     "data": {
      "text/plain": [
       "array([[  0.,   0.,   0.,   1.,   1.],\n",
       "       [  0.,   0.,   0.,   1.,   1.],\n",
       "       [  0.,   0.,   0.,   1.,   1.],\n",
       "       [ 10.,  20.,  30.,  40.,  50.],\n",
       "       [ 60.,  70.,  80.,  90., 100.],\n",
       "       [110., 120., 130., 140., 150.],\n",
       "       [  0.,   0.,   0.,   1.,   1.],\n",
       "       [  0.,   0.,   0.,   1.,   1.],\n",
       "       [  0.,   0.,   0.,   1.,   1.],\n",
       "       [ 10.,  20.,  30.,  40.,  50.],\n",
       "       [ 60.,  70.,  80.,  90., 100.],\n",
       "       [110., 120., 130., 140., 150.]])"
      ]
     },
     "execution_count": 308,
     "metadata": {},
     "output_type": "execute_result"
    }
   ],
   "source": [
    "a = np.zeros((3,3))\n",
    "b = np.ones((3,2))\n",
    "c = np.array([_ for _ in range(10, 151, 10)]).reshape(3, 5)\n",
    "\n",
    "d = np.hstack([a, b])\n",
    "e = np.vstack([d, c])\n",
    "f = np.vstack([e, e])\n",
    "f"
   ]
  },
  {
   "cell_type": "code",
   "execution_count": null,
   "id": "f57d1695-1d86-4025-a029-ae27173a2ef3",
   "metadata": {},
   "outputs": [],
   "source": []
  }
 ],
 "metadata": {
  "kernelspec": {
   "display_name": "Python 3 (ipykernel)",
   "language": "python",
   "name": "python3"
  },
  "language_info": {
   "codemirror_mode": {
    "name": "ipython",
    "version": 3
   },
   "file_extension": ".py",
   "mimetype": "text/x-python",
   "name": "python",
   "nbconvert_exporter": "python",
   "pygments_lexer": "ipython3",
   "version": "3.9.13"
  }
 },
 "nbformat": 4,
 "nbformat_minor": 5
}
