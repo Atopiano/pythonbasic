{
 "cells": [
  {
   "cell_type": "markdown",
   "id": "9a4846a8-a893-43c9-a7d9-0da540168ebb",
   "metadata": {},
   "source": [
    "# 비교연산자"
   ]
  },
  {
   "cell_type": "code",
   "execution_count": 17,
   "id": "67df5421-2ec6-4899-8013-629448354e6c",
   "metadata": {},
   "outputs": [
    {
     "name": "stdout",
     "output_type": "stream",
     "text": [
      "False\n"
     ]
    }
   ],
   "source": [
    "# [국어, 영어, 한국사, 선택 교과1, 선택 교과2]\n",
    "scores = [88, 73, 89, 59, 77]\n",
    "\n",
    "# scores 값들이 60 이상이니?\n",
    "print(scores[0] >= 60 and scores[1] >= 60 and scores[2] >= 60 and scores[3] >= 60 and scores[4] >= 60) "
   ]
  },
  {
   "cell_type": "markdown",
   "id": "47873eea-6f78-4fe8-b278-51dd2176ce04",
   "metadata": {},
   "source": [
    "# 리스트 메소드"
   ]
  },
  {
   "cell_type": "markdown",
   "id": "5e705739-43b8-41c5-b7dd-366121f294bf",
   "metadata": {},
   "source": [
    "### append 리스트 제일 뒤에 요소 추가"
   ]
  },
  {
   "cell_type": "code",
   "execution_count": 19,
   "id": "568d8858-9a9c-453e-9498-7a9ef2b251fd",
   "metadata": {},
   "outputs": [
    {
     "name": "stdout",
     "output_type": "stream",
     "text": [
      "[1, 2, 3, 4, 5, 6, 7, 8]\n"
     ]
    }
   ],
   "source": [
    "numbers = [1, 2, 3, 4, 5, 6, 7]\n",
    "numbers.append(8)\n",
    "print(numbers)"
   ]
  },
  {
   "cell_type": "markdown",
   "id": "1c90813d-ea03-4ea5-9227-c1a74f175d1c",
   "metadata": {},
   "source": [
    "## insert는 요소를 원하는 인덱스 위치에 넣을 수 있다."
   ]
  },
  {
   "cell_type": "code",
   "execution_count": 20,
   "id": "03068a46-704d-4492-9b5e-b9621d59ad62",
   "metadata": {},
   "outputs": [
    {
     "name": "stdout",
     "output_type": "stream",
     "text": [
      "[0, 1, 2, 3, 0, 4, 0, 5, 6, 7, 8, 0]\n"
     ]
    }
   ],
   "source": [
    "numbers.insert(0, 0)\n",
    "numbers.insert(4, 0)\n",
    "numbers.insert(6, 0)\n",
    "numbers.insert(len(numbers), 0)\n",
    "print(numbers)"
   ]
  },
  {
   "cell_type": "markdown",
   "id": "0f48df16-b953-40a4-a6ff-d1d91f988c6b",
   "metadata": {},
   "source": [
    "## extend는 리스트1에 리스트2를 뒤로 붙인다."
   ]
  },
  {
   "cell_type": "markdown",
   "id": "643e9df2-1f3e-4052-9550-e666cf335690",
   "metadata": {},
   "source": [
    "### 리스트1.extend(리스트2)"
   ]
  },
  {
   "cell_type": "code",
   "execution_count": 21,
   "id": "a3f26c7f-1270-48b4-95c3-6ec4954791b4",
   "metadata": {},
   "outputs": [
    {
     "name": "stdout",
     "output_type": "stream",
     "text": [
      "[0, 1, 2, 3, 0, 4, 0, 5, 6, 7, 8, 0, 9, 10, 11]\n"
     ]
    }
   ],
   "source": [
    "numbers.extend([9, 10, 11])\n",
    "print(numbers)"
   ]
  },
  {
   "cell_type": "markdown",
   "id": "9dcb7c40-1b50-4b13-aec2-01a76a1ea71b",
   "metadata": {},
   "source": [
    "## remove(요소) 리스트에서 요소와 같은 첫번째 것 삭제한다."
   ]
  },
  {
   "cell_type": "code",
   "execution_count": 22,
   "id": "933eb270-01dc-4ba6-8773-43a2ff1b9d7e",
   "metadata": {},
   "outputs": [
    {
     "name": "stdout",
     "output_type": "stream",
     "text": [
      "[1, 2, 3, 0, 4, 0, 5, 6, 7, 8, 0, 9, 10, 11]\n"
     ]
    }
   ],
   "source": [
    "numbers.remove(0)\n",
    "print(numbers)"
   ]
  },
  {
   "cell_type": "code",
   "execution_count": 23,
   "id": "366da5e5-de60-45e8-9f35-e46a5b7af038",
   "metadata": {},
   "outputs": [],
   "source": [
    "del numbers[0]"
   ]
  },
  {
   "cell_type": "code",
   "execution_count": 24,
   "id": "2752fa9c-eb27-4bb3-81ba-c584bb4403b2",
   "metadata": {},
   "outputs": [
    {
     "name": "stdout",
     "output_type": "stream",
     "text": [
      "[2, 3, 0, 4, 0, 5, 6, 7, 8, 0, 9, 10, 11]\n"
     ]
    }
   ],
   "source": [
    "print(numbers)"
   ]
  },
  {
   "cell_type": "markdown",
   "id": "63f08a03-31ae-43fa-ab0a-40774a55abf3",
   "metadata": {},
   "source": [
    "### pop() --> 제일 뒤에 오는 요소를 반환한다. 그리고 리스트에서 삭제한다."
   ]
  },
  {
   "cell_type": "code",
   "execution_count": 25,
   "id": "ad3ad3a8-c707-41b0-b022-39d936d70b53",
   "metadata": {},
   "outputs": [
    {
     "name": "stdout",
     "output_type": "stream",
     "text": [
      "11\n"
     ]
    }
   ],
   "source": [
    "print(numbers.pop())"
   ]
  },
  {
   "cell_type": "code",
   "execution_count": 26,
   "id": "44a6a5ac-70da-4e41-94ac-696eb5085606",
   "metadata": {},
   "outputs": [
    {
     "name": "stdout",
     "output_type": "stream",
     "text": [
      "[2, 3, 0, 4, 0, 5, 6, 7, 8, 0, 9, 10]\n"
     ]
    }
   ],
   "source": [
    "print(numbers)"
   ]
  },
  {
   "cell_type": "markdown",
   "id": "6e924b81-05aa-4c83-89ed-af2f66c375f1",
   "metadata": {},
   "source": [
    "### index(요소) 리스트 안에 인자와 같은 요소를 앞에서부터 찾습니다. 제일 처음 발견된 요소의 인덱스 위치를 반환합니다."
   ]
  },
  {
   "cell_type": "code",
   "execution_count": 27,
   "id": "c5fb75bc-abfa-4a70-9f57-9fc968050c28",
   "metadata": {},
   "outputs": [
    {
     "name": "stdout",
     "output_type": "stream",
     "text": [
      "2\n"
     ]
    }
   ],
   "source": [
    "print(numbers.index(0))"
   ]
  },
  {
   "cell_type": "markdown",
   "id": "3e633493-e37d-4b9e-bef3-6de2e979b594",
   "metadata": {},
   "source": [
    "### count(인자) 리스트 안에 인자와 같은 요소가 몇 개가 있는지 반환"
   ]
  },
  {
   "cell_type": "code",
   "execution_count": 28,
   "id": "7c5b2f1a-43a6-4109-bf30-5e62757275cf",
   "metadata": {},
   "outputs": [
    {
     "name": "stdout",
     "output_type": "stream",
     "text": [
      "[2, 3, 0, 4, 0, 5, 6, 7, 8, 0, 9, 10]\n",
      "3\n"
     ]
    }
   ],
   "source": [
    "print(numbers)\n",
    "print(numbers.count(0))"
   ]
  },
  {
   "cell_type": "markdown",
   "id": "94ad9aee-320d-477c-8e6a-121c6c7d2fb1",
   "metadata": {},
   "source": [
    "### 리스트 정렬하기\n",
    "- sort()는 오름차순\n",
    "- reverse()는 순서를 거꾸로  \n",
    "반환 값은 둘다 None"
   ]
  },
  {
   "cell_type": "code",
   "execution_count": 29,
   "id": "0e4f738b-d702-486f-a873-c603e3a18dc2",
   "metadata": {},
   "outputs": [
    {
     "name": "stdout",
     "output_type": "stream",
     "text": [
      "None\n",
      "None\n"
     ]
    }
   ],
   "source": [
    "print(numbers.sort())\n",
    "print(numbers.reverse())"
   ]
  },
  {
   "cell_type": "code",
   "execution_count": 30,
   "id": "5153cc2d-365c-47f3-bb91-2eff7774ee61",
   "metadata": {},
   "outputs": [
    {
     "name": "stdout",
     "output_type": "stream",
     "text": [
      "[0, 0, 0, 2, 3, 4, 5, 6, 7, 8, 9, 10]\n"
     ]
    }
   ],
   "source": [
    "numbers.sort()\n",
    "print(numbers)"
   ]
  },
  {
   "cell_type": "code",
   "execution_count": 31,
   "id": "cf45bdbc-91f2-43f8-8018-6e030b1cbce6",
   "metadata": {},
   "outputs": [
    {
     "name": "stdout",
     "output_type": "stream",
     "text": [
      "[10, 9, 8, 7, 6, 5, 4, 3, 2, 0, 0, 0]\n"
     ]
    }
   ],
   "source": [
    "numbers.reverse()\n",
    "print(numbers)"
   ]
  },
  {
   "cell_type": "code",
   "execution_count": 32,
   "id": "d976ae60-a1b2-4bae-a1d2-07950791dbe2",
   "metadata": {},
   "outputs": [
    {
     "name": "stdout",
     "output_type": "stream",
     "text": [
      "[3, 4, 5, 6, 7]\n",
      "7\n",
      "[3, 4, 5, 6]\n",
      "6\n",
      "5\n",
      "[3, 4]\n"
     ]
    }
   ],
   "source": [
    "stack = [3, 4, 5]\n",
    "stack.append(6)\n",
    "stack.append(7)\n",
    "print(stack)\n",
    "\n",
    "print(stack.pop())\n",
    "\n",
    "print(stack)\n",
    "\n",
    "print(stack.pop())\n",
    "\n",
    "print(stack.pop())\n",
    "\n",
    "print(stack)"
   ]
  },
  {
   "cell_type": "markdown",
   "id": "1731ab3e-9d7a-4f44-bba1-4628064d2766",
   "metadata": {},
   "source": [
    "# 튜플\n",
    "## 튜플은 수정이 불가하다"
   ]
  },
  {
   "cell_type": "code",
   "execution_count": 34,
   "id": "a86d49e2-6f9a-4135-b0f9-5474fdfa41bd",
   "metadata": {},
   "outputs": [
    {
     "ename": "TypeError",
     "evalue": "'tuple' object does not support item assignment",
     "output_type": "error",
     "traceback": [
      "\u001b[1;31m---------------------------------------------------------------------------\u001b[0m",
      "\u001b[1;31mTypeError\u001b[0m                                 Traceback (most recent call last)",
      "\u001b[1;32m~\\AppData\\Local\\Temp\\ipykernel_24672\\2705801837.py\u001b[0m in \u001b[0;36m<module>\u001b[1;34m\u001b[0m\n\u001b[0;32m      1\u001b[0m \u001b[1;31m# 튜플은 수정이 불가\u001b[0m\u001b[1;33m\u001b[0m\u001b[1;33m\u001b[0m\u001b[0m\n\u001b[0;32m      2\u001b[0m \u001b[0mtuple_variable\u001b[0m \u001b[1;33m=\u001b[0m \u001b[1;33m(\u001b[0m\u001b[1;36m1\u001b[0m\u001b[1;33m,\u001b[0m \u001b[1;36m2\u001b[0m\u001b[1;33m,\u001b[0m \u001b[1;36m3\u001b[0m\u001b[1;33m,\u001b[0m \u001b[1;36m4\u001b[0m\u001b[1;33m,\u001b[0m \u001b[1;36m5\u001b[0m\u001b[1;33m,\u001b[0m \u001b[1;34m\"hello\"\u001b[0m\u001b[1;33m)\u001b[0m\u001b[1;33m\u001b[0m\u001b[1;33m\u001b[0m\u001b[0m\n\u001b[1;32m----> 3\u001b[1;33m \u001b[0mtuple_variable\u001b[0m\u001b[1;33m[\u001b[0m\u001b[1;36m0\u001b[0m\u001b[1;33m]\u001b[0m \u001b[1;33m=\u001b[0m \u001b[1;36m0\u001b[0m\u001b[1;33m\u001b[0m\u001b[1;33m\u001b[0m\u001b[0m\n\u001b[0m",
      "\u001b[1;31mTypeError\u001b[0m: 'tuple' object does not support item assignment"
     ]
    }
   ],
   "source": [
    "# 튜플은 수정이 불가\n",
    "tuple_variable = (1, 2, 3, 4, 5, \"hello\")\n",
    "tuple_variable[0] = 0             "
   ]
  },
  {
   "cell_type": "code",
   "execution_count": 36,
   "id": "c2d48f86-4073-43bf-aae7-e150e408add8",
   "metadata": {},
   "outputs": [
    {
     "ename": "TypeError",
     "evalue": "'tuple' object does not support item assignment",
     "output_type": "error",
     "traceback": [
      "\u001b[1;31m---------------------------------------------------------------------------\u001b[0m",
      "\u001b[1;31mTypeError\u001b[0m                                 Traceback (most recent call last)",
      "\u001b[1;32m~\\AppData\\Local\\Temp\\ipykernel_24672\\2658780707.py\u001b[0m in \u001b[0;36m<module>\u001b[1;34m\u001b[0m\n\u001b[0;32m      1\u001b[0m \u001b[1;31m# 슬리이싱으로도 수정 불가\u001b[0m\u001b[1;33m\u001b[0m\u001b[1;33m\u001b[0m\u001b[0m\n\u001b[1;32m----> 2\u001b[1;33m \u001b[0mtuple_variable\u001b[0m\u001b[1;33m[\u001b[0m\u001b[1;36m1\u001b[0m\u001b[1;33m:\u001b[0m\u001b[1;36m3\u001b[0m\u001b[1;33m]\u001b[0m \u001b[1;33m=\u001b[0m \u001b[1;33m(\u001b[0m\u001b[1;34m\"dd\"\u001b[0m\u001b[1;33m,\u001b[0m \u001b[1;34m\"ee\"\u001b[0m\u001b[1;33m)\u001b[0m\u001b[1;33m\u001b[0m\u001b[1;33m\u001b[0m\u001b[0m\n\u001b[0m",
      "\u001b[1;31mTypeError\u001b[0m: 'tuple' object does not support item assignment"
     ]
    }
   ],
   "source": [
    "# 슬리이싱으로도 수정 불가\n",
    "tuple_variable[1:3] = (\"dd\", \"ee\")"
   ]
  },
  {
   "cell_type": "markdown",
   "id": "41dadec3-1551-46c7-8d80-42e88d0e3af6",
   "metadata": {},
   "source": [
    "### 튜플에서는 요소에 대한 삭제도 불가하다."
   ]
  },
  {
   "cell_type": "code",
   "execution_count": 38,
   "id": "dba8f131-91c4-4856-950e-c90c316a23ed",
   "metadata": {},
   "outputs": [
    {
     "ename": "TypeError",
     "evalue": "'tuple' object doesn't support item deletion",
     "output_type": "error",
     "traceback": [
      "\u001b[1;31m---------------------------------------------------------------------------\u001b[0m",
      "\u001b[1;31mTypeError\u001b[0m                                 Traceback (most recent call last)",
      "\u001b[1;32m~\\AppData\\Local\\Temp\\ipykernel_24672\\3752860026.py\u001b[0m in \u001b[0;36m<module>\u001b[1;34m\u001b[0m\n\u001b[0;32m      1\u001b[0m \u001b[1;31m# 튜플은 요소 삭제 불가\u001b[0m\u001b[1;33m\u001b[0m\u001b[1;33m\u001b[0m\u001b[0m\n\u001b[1;32m----> 2\u001b[1;33m \u001b[1;32mdel\u001b[0m \u001b[0mtuple_variable\u001b[0m\u001b[1;33m[\u001b[0m\u001b[1;36m0\u001b[0m\u001b[1;33m]\u001b[0m\u001b[1;33m\u001b[0m\u001b[1;33m\u001b[0m\u001b[0m\n\u001b[0m",
      "\u001b[1;31mTypeError\u001b[0m: 'tuple' object doesn't support item deletion"
     ]
    }
   ],
   "source": [
    "# 튜플은 요소 삭제 불가\n",
    "del tuple_variable[0]"
   ]
  },
  {
   "cell_type": "markdown",
   "id": "3a180344-8684-47df-91e2-5ab4a5982f7e",
   "metadata": {},
   "source": [
    "### 튜플은 소괄호 생략이 가능하다. 하지만 명시해서 명확하게 표현하는 게 좋다."
   ]
  },
  {
   "cell_type": "code",
   "execution_count": 39,
   "id": "00755e2d-aafd-478c-99b9-f321632da1ec",
   "metadata": {},
   "outputs": [
    {
     "name": "stdout",
     "output_type": "stream",
     "text": [
      "<class 'tuple'>\n",
      "('음', '오', '아', '예')\n"
     ]
    }
   ],
   "source": [
    "t_v2 = \"음\", \"오\", \"아\", \"예\"\n",
    "print(type(t_v2))\n",
    "print(t_v2)"
   ]
  },
  {
   "cell_type": "markdown",
   "id": "6c8bd557-5b3c-4adc-8147-3ff45dcd8d05",
   "metadata": {},
   "source": [
    "### 튜플과 리스트의 소요시간 비교"
   ]
  },
  {
   "cell_type": "code",
   "execution_count": 40,
   "id": "64bb9c94-1716-4199-b3be-49d25ee17f7b",
   "metadata": {},
   "outputs": [
    {
     "name": "stdout",
     "output_type": "stream",
     "text": [
      "0.1848888397216797\n"
     ]
    }
   ],
   "source": [
    "import time\n",
    "\n",
    "curr = time.time()\n",
    "total = []\n",
    "\n",
    "for i in range(1000) :\n",
    "    for j in range(1000):\n",
    "        total.append((i,j))\n",
    "        \n",
    "        \n",
    "last = time.time()\n",
    "print(last - curr)"
   ]
  },
  {
   "cell_type": "code",
   "execution_count": 41,
   "id": "1fa29653-7fe3-43b0-8c2d-a58aa35c9d90",
   "metadata": {},
   "outputs": [
    {
     "name": "stdout",
     "output_type": "stream",
     "text": [
      "0.586479902267456\n"
     ]
    }
   ],
   "source": [
    "import time\n",
    "\n",
    "curr = time.time()\n",
    "total = []\n",
    "\n",
    "for i in range(1000) :\n",
    "    for j in range(1000):\n",
    "        total.append([i,j])\n",
    "        \n",
    "        \n",
    "last = time.time()\n",
    "print(last - curr)"
   ]
  },
  {
   "cell_type": "markdown",
   "id": "48bbff74-a1a9-4bd7-8add-5993cbcbfd0f",
   "metadata": {},
   "source": [
    "## 변수 여럿에 동시 할당하기(Unpacking)"
   ]
  },
  {
   "cell_type": "code",
   "execution_count": 42,
   "id": "b6aea950-9d02-48c1-8800-0dd213323370",
   "metadata": {},
   "outputs": [
    {
     "name": "stdout",
     "output_type": "stream",
     "text": [
      "text1\n",
      "text2\n"
     ]
    }
   ],
   "source": [
    "s1, s2 = \"text1\", \"text2\"\n",
    "print(s1)\n",
    "print(s2)"
   ]
  },
  {
   "cell_type": "code",
   "execution_count": 43,
   "id": "84e558f4-c939-4029-8451-2f2bbfa33b45",
   "metadata": {},
   "outputs": [
    {
     "name": "stdout",
     "output_type": "stream",
     "text": [
      "이렇게 리스트도 가능합니다.\n"
     ]
    }
   ],
   "source": [
    "s3, s4, s5 = [\"이렇게\", \"리스트도\", \"가능합니다.\"]\n",
    "print(s3, s4, s5)"
   ]
  },
  {
   "cell_type": "code",
   "execution_count": 44,
   "id": "2beb56b5-2928-4352-b4bf-07f84d3535b0",
   "metadata": {},
   "outputs": [
    {
     "name": "stdout",
     "output_type": "stream",
     "text": [
      "문 자 열 도\n"
     ]
    }
   ],
   "source": [
    "s6, s7, s8, s9 = \"문자열도\"\n",
    "print(s6, s7, s8, s9)"
   ]
  },
  {
   "cell_type": "markdown",
   "id": "c0044479-4595-405d-9cb6-4ee26ecca92b",
   "metadata": {},
   "source": [
    "## 파이썬 입력 사용해보기"
   ]
  },
  {
   "cell_type": "code",
   "execution_count": 49,
   "id": "42d47c03-7507-4a95-8676-11204c36276c",
   "metadata": {},
   "outputs": [
    {
     "name": "stdin",
     "output_type": "stream",
     "text": [
      "Message 1111\n"
     ]
    }
   ],
   "source": [
    "# 1111 입력해보기\n",
    "input_value = input(\"Message\")"
   ]
  },
  {
   "cell_type": "code",
   "execution_count": 50,
   "id": "303cd71c-45ec-4d5f-94d0-50500c3e0b87",
   "metadata": {},
   "outputs": [
    {
     "name": "stdout",
     "output_type": "stream",
     "text": [
      "input_value: 1111 \n",
      "type: <class 'str'>\n"
     ]
    }
   ],
   "source": [
    "print(\"input_value:\", input_value, \"\\ntype:\", type(input_value))"
   ]
  },
  {
   "cell_type": "code",
   "execution_count": 51,
   "id": "0c422af0-b727-4147-8fbe-295c6e214967",
   "metadata": {},
   "outputs": [
    {
     "name": "stdout",
     "output_type": "stream",
     "text": [
      "input_value: 1111 \n",
      "type: <class 'int'>\n"
     ]
    }
   ],
   "source": [
    "input_value = int(input_value)\n",
    "print(\"input_value:\", input_value, \"\\ntype:\", type(input_value))"
   ]
  },
  {
   "cell_type": "code",
   "execution_count": 70,
   "id": "56279c61-dbdd-4df4-9831-ad1f912f0dea",
   "metadata": {},
   "outputs": [
    {
     "name": "stdin",
     "output_type": "stream",
     "text": [
      "정수 외에 다른 값을 입력해보세요. 1.1\n"
     ]
    }
   ],
   "source": [
    "# 1.1 입력해보기\n",
    "input_value2 = input(\"정수 외에 다른 값을 입력해보세요.\")"
   ]
  },
  {
   "cell_type": "code",
   "execution_count": 71,
   "id": "625f6e2e-c58c-420e-a23c-3f576576298b",
   "metadata": {},
   "outputs": [
    {
     "ename": "ValueError",
     "evalue": "invalid literal for int() with base 10: '1.1'",
     "output_type": "error",
     "traceback": [
      "\u001b[1;31m---------------------------------------------------------------------------\u001b[0m",
      "\u001b[1;31mValueError\u001b[0m                                Traceback (most recent call last)",
      "\u001b[1;32m~\\AppData\\Local\\Temp\\ipykernel_24672\\234902293.py\u001b[0m in \u001b[0;36m<module>\u001b[1;34m\u001b[0m\n\u001b[0;32m      1\u001b[0m \u001b[1;31m# 사용자가 입력한 값이 ‘1.1’일 때 int() 내장 함수를 활용하여 정수로 변환하려면 에러가 납니다.\u001b[0m\u001b[1;33m\u001b[0m\u001b[1;33m\u001b[0m\u001b[0m\n\u001b[1;32m----> 2\u001b[1;33m \u001b[0minput_value2\u001b[0m \u001b[1;33m=\u001b[0m \u001b[0mint\u001b[0m\u001b[1;33m(\u001b[0m\u001b[0minput_value2\u001b[0m\u001b[1;33m)\u001b[0m\u001b[1;33m\u001b[0m\u001b[1;33m\u001b[0m\u001b[0m\n\u001b[0m\u001b[0;32m      3\u001b[0m \u001b[0mprint\u001b[0m\u001b[1;33m(\u001b[0m\u001b[0minput_value2\u001b[0m\u001b[1;33m)\u001b[0m\u001b[1;33m\u001b[0m\u001b[1;33m\u001b[0m\u001b[0m\n",
      "\u001b[1;31mValueError\u001b[0m: invalid literal for int() with base 10: '1.1'"
     ]
    }
   ],
   "source": [
    "# 사용자가 입력한 값이 ‘1.1’일 때 int() 내장 함수를 활용하여 정수로 변환하려면 에러가 납니다.\n",
    "input_value2 = int(input_value2)\n",
    "print(input_value2)"
   ]
  },
  {
   "cell_type": "code",
   "execution_count": 72,
   "id": "507e752e-0066-40e5-a40f-787c9a09ed82",
   "metadata": {},
   "outputs": [
    {
     "name": "stdout",
     "output_type": "stream",
     "text": [
      "1.1\n",
      "1\n"
     ]
    }
   ],
   "source": [
    "# 사용자가 입력한 값이 실수 형태일 때 소수점을 버리면서라도 정수로 만들고 \n",
    "# 싶다면 우선 float() 내장 함수로 float type으로 만든 후 int() 내장 함수를 사용하면 \n",
    "# 됩니다.\n",
    "input_value2 = float(input_value2)\n",
    "print(input_value2)\n",
    "\n",
    "input_value2 = int(input_value2)\n",
    "print(input_value2)"
   ]
  },
  {
   "cell_type": "code",
   "execution_count": 62,
   "id": "0f15b84b-b8b1-4283-8452-7fd6c2477a28",
   "metadata": {},
   "outputs": [
    {
     "name": "stdin",
     "output_type": "stream",
     "text": [
      "정수 외에 다른 값을 입력해보세요. eng\n"
     ]
    }
   ],
   "source": [
    "# eng 입력해보기\n",
    "input_value3 = input(\"정수 외에 다른 값을 입력해보세요.\")"
   ]
  },
  {
   "cell_type": "code",
   "execution_count": 63,
   "id": "85c2cf0e-17b7-4655-9cee-6807ae64a0c6",
   "metadata": {},
   "outputs": [
    {
     "ename": "ValueError",
     "evalue": "invalid literal for int() with base 10: 'eng'",
     "output_type": "error",
     "traceback": [
      "\u001b[1;31m---------------------------------------------------------------------------\u001b[0m",
      "\u001b[1;31mValueError\u001b[0m                                Traceback (most recent call last)",
      "\u001b[1;32m~\\AppData\\Local\\Temp\\ipykernel_24672\\4277962513.py\u001b[0m in \u001b[0;36m<module>\u001b[1;34m\u001b[0m\n\u001b[1;32m----> 1\u001b[1;33m \u001b[0mint\u001b[0m\u001b[1;33m(\u001b[0m\u001b[0minput_value3\u001b[0m\u001b[1;33m)\u001b[0m\u001b[1;33m\u001b[0m\u001b[1;33m\u001b[0m\u001b[0m\n\u001b[0m",
      "\u001b[1;31mValueError\u001b[0m: invalid literal for int() with base 10: 'eng'"
     ]
    }
   ],
   "source": [
    "# 사용자가 입력한 값이 숫자로 변환 불가한 값의 str이라면 int() 내장 함수를 사용하면 에러가 발생한다\n",
    "int(input_value3)"
   ]
  },
  {
   "cell_type": "code",
   "execution_count": 76,
   "id": "cf467b4f-8f8e-484e-b34c-b3e656593b29",
   "metadata": {},
   "outputs": [
    {
     "name": "stdin",
     "output_type": "stream",
     "text": [
      "이름을 입력하시오 엔코아\n"
     ]
    },
    {
     "name": "stdout",
     "output_type": "stream",
     "text": [
      "엔코아 씨, 안녕하세요?\n",
      "파이썬에 오신 것을 환영합니다.\n"
     ]
    },
    {
     "name": "stdin",
     "output_type": "stream",
     "text": [
      "첫번째 정수를 입력하세요: 300\n",
      "두번째 정수를 입력하세요: 400\n"
     ]
    },
    {
     "name": "stdout",
     "output_type": "stream",
     "text": [
      "300 과 400 의 합은 700 입니다.\n"
     ]
    }
   ],
   "source": [
    "# 이름:엔코아, 첫번째 정수: 300, 두번째 정수: 400\n",
    "name = input(\"이름을 입력하시오\")\n",
    "print(name, \"씨, 안녕하세요?\")\n",
    "print(\"파이썬에 오신 것을 환영합니다.\")\n",
    "first_int = int(input(\"첫번째 정수를 입력하세요:\"))\n",
    "second_int = int(input(\"두번째 정수를 입력하세요:\"))\n",
    "print(first_int, \"과\", second_int, \"의 합은\", first_int + second_int, \"입니다.\")"
   ]
  },
  {
   "cell_type": "code",
   "execution_count": 77,
   "id": "32e51b58-54c4-4b6b-96ec-0f876840e31a",
   "metadata": {},
   "outputs": [
    {
     "name": "stdin",
     "output_type": "stream",
     "text": [
      "경기장은 어디입니까? 고척\n",
      "이긴 팀은 어디입니까? KT\n",
      "진 팀은 어디입니까? LG\n",
      "우수 선수는 누구입니까? 강백호\n",
      "스코어는 몇대몇입니까? 10:9\n"
     ]
    },
    {
     "name": "stdout",
     "output_type": "stream",
     "text": [
      "\n",
      "[속보] KT 가 10:9 로 승리...\n",
      "오늘 고척 경기장에서 야구 경기가 있었습니다.\n",
      "KT 와 LG 는 치열한 공방전을 펼쳤습니다.\n",
      "이 경기에서 강백호 가 맹활약을 했습니다.\n",
      "그 끝내 KT 가 LG 를 10:9 로 승리하였습니다.\n",
      "기사 끝.\n"
     ]
    }
   ],
   "source": [
    "# 경기장: 고척, 이긴팀: KT, 진팀: LG, 우수 선수: 강백호, 스코어: 10:9\n",
    "stadium = input(\"경기장은 어디입니까?\")\n",
    "win = input(\"이긴 팀은 어디입니까?\")\n",
    "lose = input(\"진 팀은 어디입니까?\")\n",
    "mvp = input(\"우수 선수는 누구입니까?\")\n",
    "score = input(\"스코어는 몇대몇입니까?\")\n",
    "\n",
    "print(\"\\n[속보]\", win, \"가\", score, \"로 승리...\")\n",
    "print(\"오늘\", stadium, \"경기장에서 야구 경기가 있었습니다.\")\n",
    "print(win, \"와\", lose, \"는 치열한 공방전을 펼쳤습니다.\")\n",
    "print(\"이 경기에서\", mvp, \"가 맹활약을 했습니다.\")\n",
    "print(\"그 끝내\", win, \"가\", lose, \"를\", score, \"로 승리하였습니다.\")\n",
    "print(\"기사 끝.\")"
   ]
  },
  {
   "cell_type": "markdown",
   "id": "f52e99fe-1dec-4a92-8c8b-3466ab77cf98",
   "metadata": {},
   "source": [
    "## 입력 값을 여러 개의 변수에 저장하기(.split)"
   ]
  },
  {
   "cell_type": "code",
   "execution_count": 78,
   "id": "12449229-ef40-46a0-89f2-fce2df325fc3",
   "metadata": {},
   "outputs": [
    {
     "name": "stdout",
     "output_type": "stream",
     "text": [
      "<class 'list'>\n",
      "['1', '2', '3']\n"
     ]
    }
   ],
   "source": [
    "result = '1,2,3'.split(',')\n",
    "print(type(result))\n",
    "print(result)"
   ]
  },
  {
   "cell_type": "code",
   "execution_count": 79,
   "id": "c7a13317-b3b2-48db-be3b-b1c8d5c92aa8",
   "metadata": {},
   "outputs": [
    {
     "name": "stdin",
     "output_type": "stream",
     "text": [
      "hh:mm:ss 의 형태로 시간을 입력해주세요 12:33:23\n"
     ]
    },
    {
     "name": "stdout",
     "output_type": "stream",
     "text": [
      "\n",
      "실행 결과:\n",
      "시 : 12\n",
      "분 : 33\n",
      "초 : 23\n"
     ]
    }
   ],
   "source": [
    "# 12:33:23 입력\n",
    "time = input(\"hh:mm:ss 의 형태로 시간을 입력해주세요\")\n",
    "st = time.split(':')\n",
    "\n",
    "print(\"\\n실행 결과:\")\n",
    "print(\"시 :\", st[0])\n",
    "print(\"분 :\", st[1])\n",
    "print(\"초 :\", st[2])"
   ]
  },
  {
   "cell_type": "code",
   "execution_count": 80,
   "id": "c4b63219-2484-45e2-a7e6-90f40de302c6",
   "metadata": {},
   "outputs": [
    {
     "name": "stdin",
     "output_type": "stream",
     "text": [
      "hh:mm:ss 의 형태로 시간을 입력해주세요 12:33:23\n"
     ]
    },
    {
     "name": "stdout",
     "output_type": "stream",
     "text": [
      "시 : 12\n",
      "분 : 33\n",
      "초 : 23\n"
     ]
    }
   ],
   "source": [
    "# 12:33:23 입력, unpacking\n",
    "h, m, s = input(\"hh:mm:ss 의 형태로 시간을 입력해주세요\").split(\":\")\n",
    "\n",
    "print(\"시 :\", h)\n",
    "print(\"분 :\", m)\n",
    "print(\"초 :\", s)"
   ]
  },
  {
   "cell_type": "markdown",
   "id": "4774e5e3-beb8-430d-acf8-b60c125c5c5d",
   "metadata": {},
   "source": [
    "## map() 내장 함수 이용하기"
   ]
  },
  {
   "cell_type": "code",
   "execution_count": 81,
   "id": "e58b6e8d-c62b-4298-a39b-3d9d9ccedb7c",
   "metadata": {},
   "outputs": [
    {
     "name": "stdout",
     "output_type": "stream",
     "text": [
      "[1, 2, 3, 4]\n"
     ]
    }
   ],
   "source": [
    "a = [1.2, 2.5, 3.7, 4.6]\n",
    "a = list(map(int,a))\n",
    "print(a)"
   ]
  },
  {
   "cell_type": "code",
   "execution_count": 82,
   "id": "bc3a10da-b5bf-4342-bd40-26130bcd38cc",
   "metadata": {},
   "outputs": [
    {
     "name": "stdout",
     "output_type": "stream",
     "text": [
      "<map object at 0x0000017D0C21AA30>\n"
     ]
    }
   ],
   "source": [
    "a = [1.2, 2.5, 3.7, 4.6]\n",
    "a = map(int,a)\n",
    "print(a)"
   ]
  },
  {
   "cell_type": "code",
   "execution_count": 83,
   "id": "5136abce-c48c-4edc-83dc-2d43e8313c68",
   "metadata": {},
   "outputs": [
    {
     "name": "stdin",
     "output_type": "stream",
     "text": [
      "국어, 영어, 수학, 과학 점수를 입력해주세요 98,100,96,100\n"
     ]
    },
    {
     "name": "stdout",
     "output_type": "stream",
     "text": [
      "\n",
      "실행 결과:\n",
      "평균 점수는 98.5 점입니다\n"
     ]
    }
   ],
   "source": [
    "# 98,100,96,100 입력\n",
    "a = input(\"국어, 영어, 수학, 과학 점수를 입력해주세요\")\n",
    "a = a.split(',')\n",
    "kor, eng, mat, sci = map(float,a)\n",
    "average = (kor + eng + mat + sci)/4\n",
    "\n",
    "print(\"\\n실행 결과:\")\n",
    "print(\"평균 점수는\", average, \"점입니다\")"
   ]
  },
  {
   "cell_type": "code",
   "execution_count": 84,
   "id": "e8f13d91-4b7a-40ae-a6dd-8aa75ce914e5",
   "metadata": {},
   "outputs": [
    {
     "name": "stdin",
     "output_type": "stream",
     "text": [
      "국어, 영어, 수학, 과학, 점수를 입력해주세요 98,100,96,100\n"
     ]
    },
    {
     "name": "stdout",
     "output_type": "stream",
     "text": [
      "평균 점수는 98.5 점입니다.\n"
     ]
    }
   ],
   "source": [
    "# 98,100,96,100 입력\n",
    "kor, eng, mat, sci = map(int, input(\"국어, 영어, 수학, 과학, 점수를 입력해주세요\").split(\",\"))\n",
    "avg = (kor + eng + mat + sci) / 4\n",
    "print(\"평균 점수는\", avg, \"점입니다.\")"
   ]
  },
  {
   "cell_type": "code",
   "execution_count": 86,
   "id": "2c5d99b7-7af7-4856-b07c-961b30890e9a",
   "metadata": {},
   "outputs": [
    {
     "name": "stdin",
     "output_type": "stream",
     "text": [
      "국어, 영어, 수학, 과학, 점수를 입력해주세요 98,100,96,100\n"
     ]
    },
    {
     "name": "stdout",
     "output_type": "stream",
     "text": [
      "평균 점수는 98.5 점입니다.\n"
     ]
    }
   ],
   "source": [
    "# 98,100,96,100 입력\n",
    "a = input(\"국어, 영어, 수학, 과학, 점수를 입력해주세요\").split(\",\")\n",
    "kor, eng, mat, sci = map(int,a)\n",
    "avg = (kor + eng + mat + sci) / 4\n",
    "print(\"평균 점수는\", avg, \"점입니다.\")"
   ]
  },
  {
   "cell_type": "code",
   "execution_count": 87,
   "id": "44d7498d-fabe-4f7f-8793-84130b49ac07",
   "metadata": {},
   "outputs": [
    {
     "name": "stdout",
     "output_type": "stream",
     "text": [
      "value 1 1.1 [1, 2, 'text']\n"
     ]
    }
   ],
   "source": [
    "print(\"value\", 1, 1.1, [1, 2, 'text'])"
   ]
  },
  {
   "cell_type": "code",
   "execution_count": 88,
   "id": "0c83b23c-b2df-4b79-a8d1-9f845a3a63e3",
   "metadata": {},
   "outputs": [
    {
     "name": "stdout",
     "output_type": "stream",
     "text": [
      "value, 1, 1.1, [1, 2, 'text']\n"
     ]
    }
   ],
   "source": [
    "print(\"value\", 1, 1.1, [1, 2, 'text'], sep=\", \")"
   ]
  },
  {
   "cell_type": "code",
   "execution_count": 89,
   "id": "6c364b70-64a8-4a17-a613-583b8a51c115",
   "metadata": {},
   "outputs": [
    {
     "name": "stdout",
     "output_type": "stream",
     "text": [
      "value: 1: 1.1: [1, 2, 'text']\n"
     ]
    }
   ],
   "source": [
    "print(\"value\", 1, 1.1, [1, 2, 'text'], sep=\": \")"
   ]
  },
  {
   "cell_type": "code",
   "execution_count": 90,
   "id": "30f153cc-0c3a-4a7e-8144-9f62df914bf2",
   "metadata": {},
   "outputs": [
    {
     "name": "stdout",
     "output_type": "stream",
     "text": [
      "줄이 바뀌지 않습니다.그 이유는 end=\"\\n\"과 같이 기본 설정된 값을 빈 스트링으로 변경했기 때문입니다.\n",
      "sep, end는 맨 뒤에 써야하며 둘 간 순서는 상관없습니다.어떻게 사용하는지\n",
      "이해가 되시나요?"
     ]
    }
   ],
   "source": [
    "print(\"줄이 바뀌지 않습니다.\", end=\"\")\n",
    "print(\"그 이유는 end=\\\"\\\\n\\\"과 같이 기본 설정된 값을 빈 스트링으로 변경했기 때문입니다.\")\n",
    "print(\"sep\", \"end는 맨 뒤에 써야하며 둘 간 순서는 상관없습니다.\", sep=\", \", end=\"\")\n",
    "print(\"어떻게 사용하는지\", \"이해가 되시나요\", sep=\"\\n\", end=\"?\")"
   ]
  },
  {
   "cell_type": "code",
   "execution_count": 91,
   "id": "e5f1bfe1-284b-48d6-a335-d40542240c81",
   "metadata": {},
   "outputs": [
    {
     "name": "stdout",
     "output_type": "stream",
     "text": [
      "2021/02/03 18:33:23\n"
     ]
    }
   ],
   "source": [
    "year = '2021'\n",
    "month = '02'\n",
    "day = '03'\n",
    "hour = '18'\n",
    "minute = '33'\n",
    "second = '23'\n",
    "\n",
    "print(year, month, day, sep=\"/\", end=\" \")\n",
    "print(hour, minute, second, sep=\":\")"
   ]
  },
  {
   "cell_type": "code",
   "execution_count": 92,
   "id": "76e3d3e8-265c-4c13-b17e-d7f33c65f858",
   "metadata": {},
   "outputs": [
    {
     "name": "stdin",
     "output_type": "stream",
     "text": [
      "사과와 귤을 몇개 드릴까요? 10, 20\n"
     ]
    },
    {
     "name": "stdout",
     "output_type": "stream",
     "text": [
      "\n",
      "실행 결과:\n",
      "총 가격은 14000원입니다.\n"
     ]
    }
   ],
   "source": [
    "# 10, 20 입력\n",
    "apple = 1000\n",
    "orange = 200\n",
    "x = input(\"사과와 귤을 몇개 드릴까요?\")\n",
    "x = x.split(\",\")\n",
    "a, b = map(int,x)\n",
    "\n",
    "print(\"\\n실행 결과:\")\n",
    "print(\"총 가격은 \", (a * apple) + (b * orange), \"원입니다.\", sep=\"\")"
   ]
  },
  {
   "cell_type": "markdown",
   "id": "0296ebdd-572f-4736-a94d-35e74d01bdf0",
   "metadata": {},
   "source": [
    "## 흐름제어"
   ]
  },
  {
   "cell_type": "code",
   "execution_count": 93,
   "id": "bcf8693c-a9d2-4eaf-bfe9-4aa95a6e810b",
   "metadata": {},
   "outputs": [
    {
     "data": {
      "text/plain": [
       "True"
      ]
     },
     "execution_count": 93,
     "metadata": {},
     "output_type": "execute_result"
    }
   ],
   "source": [
    "type(input_value4) is int"
   ]
  },
  {
   "cell_type": "code",
   "execution_count": 94,
   "id": "4b2e27dc-07f9-4701-8112-58666e67422c",
   "metadata": {},
   "outputs": [
    {
     "name": "stdout",
     "output_type": "stream",
     "text": [
      "input_value4는 정수입니다.\n"
     ]
    }
   ],
   "source": [
    "if type(input_value4) is int:\n",
    "    print(\"input_value4는 정수입니다.\")"
   ]
  },
  {
   "cell_type": "code",
   "execution_count": 95,
   "id": "f29d45a2-1680-4da2-a4db-5a226467874d",
   "metadata": {},
   "outputs": [
    {
     "name": "stdout",
     "output_type": "stream",
     "text": [
      "<class 'int'>\n"
     ]
    }
   ],
   "source": [
    "print(type(input_value4))"
   ]
  },
  {
   "cell_type": "code",
   "execution_count": 96,
   "id": "071837de-621d-4355-8e59-4e5cbbf41ba2",
   "metadata": {},
   "outputs": [
    {
     "name": "stdout",
     "output_type": "stream",
     "text": [
      "5\n"
     ]
    }
   ],
   "source": [
    "print(input_value4)"
   ]
  },
  {
   "cell_type": "code",
   "execution_count": 97,
   "id": "2c462dad-f441-4533-babc-e677e1da164a",
   "metadata": {},
   "outputs": [
    {
     "name": "stdout",
     "output_type": "stream",
     "text": [
      "30대 입니다.\n",
      "감사합니다.\n"
     ]
    }
   ],
   "source": [
    "age = 39\n",
    "\n",
    "if 20 <= age < 30:\n",
    "    print(\"20대 입니다.\")\n",
    "elif 30 <= age < 40:\n",
    "    print(\"30대 입니다.\")\n",
    "    \n",
    "print(\"감사합니다.\")"
   ]
  },
  {
   "cell_type": "code",
   "execution_count": 98,
   "id": "71259af4-5046-45fb-9ba8-c3d1175ace55",
   "metadata": {},
   "outputs": [
    {
     "name": "stdout",
     "output_type": "stream",
     "text": [
      "20대 입니다.\n",
      "감사합니다.\n"
     ]
    }
   ],
   "source": [
    "age = 26\n",
    "\n",
    "if 20 <= age < 30:\n",
    "    print(\"20대 입니다.\")\n",
    "elif 30 <= age < 40:\n",
    "    print(\"30대 입니다.\")\n",
    "    \n",
    "print(\"감사합니다.\")"
   ]
  },
  {
   "cell_type": "code",
   "execution_count": 99,
   "id": "2158d28f-36cc-4748-b19d-331e6830aac3",
   "metadata": {},
   "outputs": [
    {
     "name": "stdout",
     "output_type": "stream",
     "text": [
      "오우... 불혹을 넘기셨군요.\n",
      "감사합니다.\n"
     ]
    }
   ],
   "source": [
    "age = 40\n",
    "\n",
    "if 20 <= age < 30:\n",
    "    print(\"20대 입니다.\")\n",
    "elif 30 <= age < 40:\n",
    "    print(\"30대 입니다.\")\n",
    "else:\n",
    "    print(\"오우... 불혹을 넘기셨군요.\")\n",
    "    \n",
    "print(\"감사합니다.\")"
   ]
  },
  {
   "cell_type": "code",
   "execution_count": 100,
   "id": "9e5e1e6b-b001-4508-9261-8858906468ae",
   "metadata": {},
   "outputs": [
    {
     "name": "stdin",
     "output_type": "stream",
     "text": [
      "아이디를 입력하세요 biana\n",
      "회원 등급을 입력해주세요 : 3\n"
     ]
    },
    {
     "name": "stdout",
     "output_type": "stream",
     "text": [
      "\n",
      "제한적인 권한을 갖습니다.\n"
     ]
    }
   ],
   "source": [
    "# 아이디: biana, 회원 등급: 3\n",
    "id = input(\"아이디를 입력하세요\")\n",
    "\n",
    "if id == \"admin\":\n",
    "    print(\"\\n최고 관리자, 모든 권한을 갖습니다.\")\n",
    "else:\n",
    "    level = int(input(\"회원 등급을 입력해주세요 :\"))\n",
    "    if 1 <= level <= 3:\n",
    "        print(\"\\n제한적인 권한을 갖습니다.\")\n",
    "    else: \n",
    "        print(\"\\n권한이 없습니다.\")"
   ]
  },
  {
   "cell_type": "code",
   "execution_count": 102,
   "id": "becca925-11c6-46c0-881d-7d86770bca13",
   "metadata": {},
   "outputs": [
    {
     "name": "stdin",
     "output_type": "stream",
     "text": [
      "아이디를 입력하세요 admin\n"
     ]
    },
    {
     "name": "stdout",
     "output_type": "stream",
     "text": [
      "최고 관리자, 모든 권한을 갖습니다.\n"
     ]
    }
   ],
   "source": [
    "# 아이디: admin\n",
    "id = input(\"아이디를 입력하세요\")\n",
    "\n",
    "if id == \"admin\":\n",
    "    print(\"최고 관리자, 모든 권한을 갖습니다.\")"
   ]
  }
 ],
 "metadata": {
  "kernelspec": {
   "display_name": "Python 3 (ipykernel)",
   "language": "python",
   "name": "python3"
  },
  "language_info": {
   "codemirror_mode": {
    "name": "ipython",
    "version": 3
   },
   "file_extension": ".py",
   "mimetype": "text/x-python",
   "name": "python",
   "nbconvert_exporter": "python",
   "pygments_lexer": "ipython3",
   "version": "3.9.13"
  },
  "vscode": {
   "interpreter": {
    "hash": "2701035f62c8526adc246c1ce198c646a908962c9f03e53671c46035159238ce"
   }
  }
 },
 "nbformat": 4,
 "nbformat_minor": 5
}
