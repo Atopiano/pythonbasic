{
 "cells": [
  {
   "cell_type": "markdown",
   "id": "2a3736db-0907-442a-a1f2-c58335e00b5e",
   "metadata": {
    "tags": []
   },
   "source": [
    "# Class, Numpy 복습"
   ]
  },
  {
   "cell_type": "markdown",
   "id": "feafab99-5c85-41e5-9bc9-6eb4ead425e9",
   "metadata": {
    "jp-MarkdownHeadingCollapsed": true,
    "tags": []
   },
   "source": [
    "### 연습문제"
   ]
  },
  {
   "cell_type": "markdown",
   "id": "604a25a6-2f17-41bb-ab9c-327f67385ca0",
   "metadata": {
    "tags": []
   },
   "source": [
    "현재까지 계산한 값을 속성 value로 갖는 계산기 클래스를 만들고자 합니다.\n",
    "\n",
    "- value 속성의 초기값은 0으로 갖습니다.\n",
    "- add 메서드는 value 값에 인수로 받은 값을 가산합니다.\n",
    "- minus 메서드는 value 값에 인수로 받은 값을 감산합니다.\n",
    "- show_value 메서드는 다음과 같이 현재 값을 출력합니다.  \"현재 값은 000입니다.\"\n",
    "- add와 minus는 가변 인자를 활용하여 시퀀스로 처리합니다.  \n",
    "- 인수가 없는 경우 \"숫자를 입력해주세요\"라고 출력합니다.\n",
    "- 숫자가 아닌 값에 대해서 처리는 따로 하지 않습니다.\n",
    "\n",
    "```python\n",
    "c = Calculator()\n",
    "c.add(100)\n",
    "c.minus(20)\n",
    "c.show_value()\n",
    "```\n",
    "> 현재 값은 80입니다.\n",
    "```python\n",
    "c.add()\n",
    "```\n",
    "> 숫자를 입력해주세요.\n",
    "```python\n",
    "c.minus([10, 20])\n",
    "c.show_value()\n",
    "```\n",
    "> 현재 값은 50입니다.\n",
    "```python\n",
    "c.add(range(1, 6))\n",
    "c.show_value()\n",
    "```\n",
    "> 현재 값은 65입니다."
   ]
  },
  {
   "cell_type": "code",
   "execution_count": 181,
   "id": "fed3c21b-8dbd-46a6-bf67-36f3c28d2060",
   "metadata": {},
   "outputs": [],
   "source": [
    "import numpy as np\n",
    "\n",
    "class Calculator:\n",
    "    \n",
    "    def __init__(self):\n",
    "        self.value = 0\n",
    "    \n",
    "    def add(self, *number):\n",
    "        num = (np.array(number))\n",
    "        if len(number) == 0:\n",
    "            print(\"숫자를 입력해주세요\")\n",
    "        self.value += np.sum(num)\n",
    "        \n",
    "    def minus(self, *number):\n",
    "        num = (np.array(number))\n",
    "        if len(number) == 0:\n",
    "            print(\"숫자를 입력해주세요\")\n",
    "        self.value -= np.sum(num)\n",
    "            \n",
    "    def show_value(self):\n",
    "        print(f'현재 값은 {self.value}입니다.')"
   ]
  },
  {
   "cell_type": "code",
   "execution_count": 182,
   "id": "c4bd73fa-4813-4a7c-a855-6cf7727ef698",
   "metadata": {},
   "outputs": [
    {
     "name": "stdout",
     "output_type": "stream",
     "text": [
      "현재 값은 80입니다.\n",
      "숫자를 입력해주세요\n",
      "현재 값은 50.0입니다.\n",
      "현재 값은 65.0입니다.\n"
     ]
    }
   ],
   "source": [
    "c = Calculator()\n",
    "c.add(100)\n",
    "c.minus(20)\n",
    "c.show_value()\n",
    "c.add()\n",
    "c.minus([10,20])\n",
    "c.show_value()\n",
    "c.add(range(1,6))\n",
    "c.show_value()"
   ]
  },
  {
   "cell_type": "code",
   "execution_count": 164,
   "id": "d5d27a2f-db5c-40db-8634-adf3c89d55d1",
   "metadata": {},
   "outputs": [
    {
     "name": "stdout",
     "output_type": "stream",
     "text": [
      "현재 값은 80입니다.\n"
     ]
    }
   ],
   "source": [
    "c = Calculator()\n",
    "c.add(100)\n",
    "c.minus(20)\n",
    "c.show_value()"
   ]
  },
  {
   "cell_type": "code",
   "execution_count": 153,
   "id": "6a97b2cf-b397-468c-8a0e-9018fd1d763f",
   "metadata": {},
   "outputs": [
    {
     "name": "stdout",
     "output_type": "stream",
     "text": [
      "숫자를 입력해주세요\n"
     ]
    }
   ],
   "source": [
    "c.add()"
   ]
  },
  {
   "cell_type": "code",
   "execution_count": 154,
   "id": "6d0eb97f-b9be-450c-9b02-99d31104126c",
   "metadata": {},
   "outputs": [
    {
     "name": "stdout",
     "output_type": "stream",
     "text": [
      "현재 값은 50.0입니다.\n"
     ]
    }
   ],
   "source": [
    "c.minus([10, 20])\n",
    "c.show_value()"
   ]
  },
  {
   "cell_type": "code",
   "execution_count": 155,
   "id": "b9a8fc5c-69fe-43fc-ac88-cb00efa3dc93",
   "metadata": {},
   "outputs": [
    {
     "name": "stdout",
     "output_type": "stream",
     "text": [
      "현재 값은 65.0입니다.\n"
     ]
    }
   ],
   "source": [
    "c.add(range(1, 6))\n",
    "c.show_value()"
   ]
  },
  {
   "cell_type": "code",
   "execution_count": 161,
   "id": "58148ae6-e1f2-4684-8c0d-ac9bd97766a4",
   "metadata": {},
   "outputs": [
    {
     "name": "stdout",
     "output_type": "stream",
     "text": [
      "현재 값은 80입니다.\n",
      "숫자를 입력해주세요\n",
      "현재 값은 50입니다.\n",
      "현재 값은 65입니다.\n"
     ]
    }
   ],
   "source": [
    "class Calculator():\n",
    "    def __init__(self):\n",
    "        self.value = 0\n",
    "    def add(self,*n):\n",
    "        if len(n) == 0:\n",
    "            print(\"숫자를 입력해주세요\")\n",
    "        for i in n:\n",
    "            if type(i) == range:\n",
    "                for j in i:\n",
    "                    self.value += j\n",
    "            else:\n",
    "                self.value += sum(n)\n",
    "    def minus(self,*n):\n",
    "        if len(n) ==0 :\n",
    "            print(\"숫자를 입력해주세요.\")\n",
    "        for i in n:\n",
    "            if type(i) == list:\n",
    "                for j in i:\n",
    "                    self.value -= j\n",
    "            else:\n",
    "                self.value -= sum(n)\n",
    "    def show_value(self):\n",
    "        print(f\"현재 값은 {self.value}입니다.\")\n",
    "        \n",
    "c = Calculator()\n",
    "c.add(100)\n",
    "c.minus(20)\n",
    "c.show_value()\n",
    "c.add()\n",
    "c.minus([10,20])\n",
    "c.show_value()\n",
    "c.add(range(1,6))\n",
    "c.show_value()"
   ]
  },
  {
   "cell_type": "code",
   "execution_count": 175,
   "id": "40a70d36-762f-43dc-9eea-749c091da04a",
   "metadata": {},
   "outputs": [],
   "source": [
    "import numpy as np\n",
    "\n",
    "class Calculator:\n",
    "    \n",
    "    def __init__(self):\n",
    "        self.value = 0\n",
    "    \n",
    "    def add(self, *number):\n",
    "        if len(number) > 0:\n",
    "            num = (np.array(number))\n",
    "            self.value += np.sum(num)\n",
    "        else:\n",
    "            print(\"숫자를 입력해주세요\")\n",
    "        \n",
    "    def minus(self, *number):\n",
    "        if len(number) > 0:\n",
    "            num = (np.array(number))\n",
    "            self.value -= np.sum(num)\n",
    "        else:\n",
    "            print(\"숫자를 입력해주세요\")\n",
    "            \n",
    "    def show_value(self):\n",
    "        print(f'현재 값은 {self.value}입니다.')"
   ]
  },
  {
   "cell_type": "code",
   "execution_count": 176,
   "id": "94af47df-947f-4f65-b437-dd1881dbf024",
   "metadata": {},
   "outputs": [
    {
     "name": "stdout",
     "output_type": "stream",
     "text": [
      "현재 값은 80입니다.\n",
      "숫자를 입력해주세요\n",
      "현재 값은 50입니다.\n",
      "현재 값은 65입니다.\n"
     ]
    }
   ],
   "source": [
    "c = Calculator()\n",
    "c.add(100)\n",
    "c.minus(20)\n",
    "c.show_value()\n",
    "c.add()\n",
    "c.minus([10,20])\n",
    "c.show_value()\n",
    "c.add(range(1,6))\n",
    "c.show_value()"
   ]
  },
  {
   "cell_type": "code",
   "execution_count": 178,
   "id": "1c6ed018-9771-4bed-8f54-26bf793f8328",
   "metadata": {},
   "outputs": [
    {
     "name": "stdout",
     "output_type": "stream",
     "text": [
      "현재 값은 80입니다.\n",
      "숫자를 입력해주세요.\n",
      "현재 값은 50입니다.\n",
      "현재 값은 65입니다.\n"
     ]
    }
   ],
   "source": [
    "import numpy as np\n",
    "class Calculator:\n",
    "    def __init__(self):\n",
    "        self.value = 0\n",
    "    def add(self,*num):\n",
    "        if len(num) == 0:\n",
    "            print(f'숫자를 입력해주세요.')\n",
    "        else:\n",
    "            self.value += np.sum(num)\n",
    "    def minus(self,*num):\n",
    "        if len(num) == 0:\n",
    "            print(f'숫자를 입력해주세요.')\n",
    "        else:\n",
    "            self.value -= np.sum(num)\n",
    "    def show_value(self):\n",
    "        print(f'현재 값은 {self.value}입니다.')\n",
    "c=Calculator()\n",
    "c.add(100)\n",
    "c.minus(20)\n",
    "c.show_value()\n",
    "c.add()\n",
    "c.minus([10,20])\n",
    "c.show_value()\n",
    "c.add(range(1,6))\n",
    "c.show_value()"
   ]
  },
  {
   "cell_type": "code",
   "execution_count": 237,
   "id": "811b5a9d-4ef0-48cf-b6db-67bbd2124f3a",
   "metadata": {},
   "outputs": [
    {
     "data": {
      "text/plain": [
       "True"
      ]
     },
     "execution_count": 237,
     "metadata": {},
     "output_type": "execute_result"
    }
   ],
   "source": [
    "hasattr(range, \"__iter__\") # 이 True이면 iterable이라는 의미다."
   ]
  },
  {
   "cell_type": "code",
   "execution_count": 238,
   "id": "977e1a9d-94db-448f-90ce-d366145374ed",
   "metadata": {},
   "outputs": [
    {
     "data": {
      "text/plain": [
       "45"
      ]
     },
     "execution_count": 238,
     "metadata": {},
     "output_type": "execute_result"
    }
   ],
   "source": [
    "sum(range(10))"
   ]
  },
  {
   "cell_type": "markdown",
   "id": "d2c7e0c6-6be0-4d10-a6b3-6581205ff79a",
   "metadata": {
    "tags": []
   },
   "source": [
    "# NumPy"
   ]
  },
  {
   "cell_type": "markdown",
   "id": "e50ce884-a2f5-4c68-bf14-a5b524dcc72f",
   "metadata": {
    "jp-MarkdownHeadingCollapsed": true,
    "tags": []
   },
   "source": [
    "## 벡터화 연산"
   ]
  },
  {
   "cell_type": "code",
   "execution_count": 195,
   "id": "68037ec8-2e9d-4840-bbfa-877691cf6097",
   "metadata": {},
   "outputs": [],
   "source": [
    "x = np.arange(1, 10001)\n",
    "y = np.arange(10001, 20001)"
   ]
  },
  {
   "cell_type": "code",
   "execution_count": 197,
   "id": "e717022a-1942-4f7b-baf4-10ee688610b0",
   "metadata": {},
   "outputs": [
    {
     "name": "stdout",
     "output_type": "stream",
     "text": [
      "Wall time: 5.56 ms\n"
     ]
    }
   ],
   "source": [
    "%%time\n",
    "z = np.zeros_like(x)\n",
    "for i in range(10000):\n",
    "    z[i] = x[i] + y[i]"
   ]
  },
  {
   "cell_type": "code",
   "execution_count": 188,
   "id": "b13b4dd0-ec11-41f8-af76-a81f1fa3aaa6",
   "metadata": {},
   "outputs": [
    {
     "data": {
      "text/plain": [
       "array([10002, 10004, 10006, 10008, 10010, 10012, 10014, 10016, 10018,\n",
       "       10020])"
      ]
     },
     "execution_count": 188,
     "metadata": {},
     "output_type": "execute_result"
    }
   ],
   "source": [
    "z[:10]"
   ]
  },
  {
   "cell_type": "code",
   "execution_count": 198,
   "id": "2a2c24df-f638-4caa-a48a-97ebe11d1dfd",
   "metadata": {},
   "outputs": [],
   "source": [
    "x = np.arange(1, 10001)\n",
    "y = np.arange(10001, 20001)"
   ]
  },
  {
   "cell_type": "code",
   "execution_count": 199,
   "id": "fec5c786-cb19-4196-a29c-1f7953069e71",
   "metadata": {},
   "outputs": [
    {
     "name": "stdout",
     "output_type": "stream",
     "text": [
      "Wall time: 0 ns\n"
     ]
    }
   ],
   "source": [
    "%%time\n",
    "z = x + y"
   ]
  },
  {
   "cell_type": "code",
   "execution_count": 200,
   "id": "c665472a-fd6b-443a-99fe-d570ab027dcb",
   "metadata": {},
   "outputs": [
    {
     "data": {
      "text/plain": [
       "array([10002, 10004, 10006, 10008, 10010, 10012, 10014, 10016, 10018,\n",
       "       10020])"
      ]
     },
     "execution_count": 200,
     "metadata": {},
     "output_type": "execute_result"
    }
   ],
   "source": [
    "z[:10]"
   ]
  },
  {
   "cell_type": "code",
   "execution_count": 201,
   "id": "1ce2a92b-f90a-443f-9e72-61be479f3c93",
   "metadata": {},
   "outputs": [],
   "source": [
    "a = np.array([1, 2, 3, 4])\n",
    "b = np.array([4, 2, 2, 4])"
   ]
  },
  {
   "cell_type": "code",
   "execution_count": 202,
   "id": "a4248e01-7947-44b3-a4c4-cdfbd5128956",
   "metadata": {},
   "outputs": [
    {
     "data": {
      "text/plain": [
       "array([False,  True, False,  True])"
      ]
     },
     "execution_count": 202,
     "metadata": {},
     "output_type": "execute_result"
    }
   ],
   "source": [
    "a == b"
   ]
  },
  {
   "cell_type": "code",
   "execution_count": 203,
   "id": "c8d8f9f5-fd13-489f-8eaf-c45ab500fb41",
   "metadata": {},
   "outputs": [
    {
     "data": {
      "text/plain": [
       "array([False,  True,  True,  True])"
      ]
     },
     "execution_count": 203,
     "metadata": {},
     "output_type": "execute_result"
    }
   ],
   "source": [
    "a >= b"
   ]
  },
  {
   "cell_type": "code",
   "execution_count": 204,
   "id": "d8b7b1a8-a4ba-488e-bdf1-aac33da5770a",
   "metadata": {},
   "outputs": [],
   "source": [
    "a = np.array([1, 2, 3, 4])\n",
    "b = np.array([4, 2, 2, 4])\n",
    "c = np.array([1, 2, 3, 4])"
   ]
  },
  {
   "cell_type": "code",
   "execution_count": 205,
   "id": "746eff4b-87e9-4318-a444-d277970fc5f9",
   "metadata": {},
   "outputs": [
    {
     "data": {
      "text/plain": [
       "False"
      ]
     },
     "execution_count": 205,
     "metadata": {},
     "output_type": "execute_result"
    }
   ],
   "source": [
    "np.all(a == b)"
   ]
  },
  {
   "cell_type": "code",
   "execution_count": 206,
   "id": "df60495f-c840-4780-b0b3-a6c26f503d3b",
   "metadata": {},
   "outputs": [
    {
     "data": {
      "text/plain": [
       "True"
      ]
     },
     "execution_count": 206,
     "metadata": {},
     "output_type": "execute_result"
    }
   ],
   "source": [
    "np.all(a == c)"
   ]
  },
  {
   "cell_type": "markdown",
   "id": "abc1f534-c549-45a6-899b-c4f1a7ed7511",
   "metadata": {
    "jp-MarkdownHeadingCollapsed": true,
    "tags": []
   },
   "source": [
    "## 스칼라와 벡터/행렬의 곱셈"
   ]
  },
  {
   "cell_type": "code",
   "execution_count": 208,
   "id": "4a7cdd41-3675-424d-b894-76b401eee882",
   "metadata": {},
   "outputs": [
    {
     "data": {
      "text/plain": [
       "array([0, 1, 2, 3, 4, 5, 6, 7, 8, 9])"
      ]
     },
     "execution_count": 208,
     "metadata": {},
     "output_type": "execute_result"
    }
   ],
   "source": [
    "x = np.arange(10)\n",
    "x"
   ]
  },
  {
   "cell_type": "code",
   "execution_count": 209,
   "id": "6faf46c8-4e64-4691-ba8d-10e8046fb4d9",
   "metadata": {},
   "outputs": [
    {
     "data": {
      "text/plain": [
       "array([  0, 100, 200, 300, 400, 500, 600, 700, 800, 900])"
      ]
     },
     "execution_count": 209,
     "metadata": {},
     "output_type": "execute_result"
    }
   ],
   "source": [
    "100 * x"
   ]
  },
  {
   "cell_type": "code",
   "execution_count": 210,
   "id": "4d50c519-8bf8-4afe-9980-2b31997627bd",
   "metadata": {},
   "outputs": [
    {
     "data": {
      "text/plain": [
       "array([[ 0,  1,  2,  3],\n",
       "       [ 4,  5,  6,  7],\n",
       "       [ 8,  9, 10, 11]])"
      ]
     },
     "execution_count": 210,
     "metadata": {},
     "output_type": "execute_result"
    }
   ],
   "source": [
    "x = np.arange(12).reshape(3, 4)\n",
    "x"
   ]
  },
  {
   "cell_type": "code",
   "execution_count": 211,
   "id": "37226a58-6bfa-47aa-a680-e36ca9bc2933",
   "metadata": {},
   "outputs": [
    {
     "data": {
      "text/plain": [
       "array([[   0,  100,  200,  300],\n",
       "       [ 400,  500,  600,  700],\n",
       "       [ 800,  900, 1000, 1100]])"
      ]
     },
     "execution_count": 211,
     "metadata": {},
     "output_type": "execute_result"
    }
   ],
   "source": [
    "100 * x"
   ]
  },
  {
   "cell_type": "markdown",
   "id": "89866d40-9360-49a5-88b3-08bdaa5d8440",
   "metadata": {
    "jp-MarkdownHeadingCollapsed": true,
    "tags": []
   },
   "source": [
    "## 브로드캐스팅"
   ]
  },
  {
   "cell_type": "code",
   "execution_count": 213,
   "id": "3d8c1e97-2928-4127-9c6e-605b5d03d7b3",
   "metadata": {},
   "outputs": [
    {
     "data": {
      "text/plain": [
       "array([2., 4., 6.])"
      ]
     },
     "execution_count": 213,
     "metadata": {},
     "output_type": "execute_result"
    }
   ],
   "source": [
    "a = np.array([1.0, 2.0, 3.0])\n",
    "b = np.array([2.0, 2.0, 2.0])\n",
    "a * b"
   ]
  },
  {
   "cell_type": "code",
   "execution_count": 214,
   "id": "9d5c2b62-835b-4bd6-9395-4b99b29d60a3",
   "metadata": {},
   "outputs": [
    {
     "data": {
      "text/plain": [
       "array([2., 4., 6.])"
      ]
     },
     "execution_count": 214,
     "metadata": {},
     "output_type": "execute_result"
    }
   ],
   "source": [
    "a = np.array([1.0, 2.0, 3.0])\n",
    "b = 2.0\n",
    "a * b"
   ]
  },
  {
   "cell_type": "code",
   "execution_count": 216,
   "id": "1ddb36bf-54d6-4d6c-8a43-026e82ad8a4b",
   "metadata": {},
   "outputs": [
    {
     "data": {
      "text/plain": [
       "array([0, 1, 2, 3, 4])"
      ]
     },
     "execution_count": 216,
     "metadata": {},
     "output_type": "execute_result"
    }
   ],
   "source": [
    "x = np.arange(5)\n",
    "x"
   ]
  },
  {
   "cell_type": "code",
   "execution_count": 217,
   "id": "5c97014b-91a5-47d6-9359-4beedb58b92b",
   "metadata": {},
   "outputs": [
    {
     "data": {
      "text/plain": [
       "array([1, 1, 1, 1, 1])"
      ]
     },
     "execution_count": 217,
     "metadata": {},
     "output_type": "execute_result"
    }
   ],
   "source": [
    "y = np.ones_like(x)\n",
    "y"
   ]
  },
  {
   "cell_type": "code",
   "execution_count": 219,
   "id": "d92e816f-d5c9-452c-a3d2-ae551ff02731",
   "metadata": {},
   "outputs": [
    {
     "data": {
      "text/plain": [
       "array([2, 2, 2, 2, 2])"
      ]
     },
     "execution_count": 219,
     "metadata": {},
     "output_type": "execute_result"
    }
   ],
   "source": [
    "x + y"
   ]
  },
  {
   "cell_type": "code",
   "execution_count": 221,
   "id": "118089b3-2776-4838-ac02-93bddf0bd8ec",
   "metadata": {},
   "outputs": [
    {
     "data": {
      "text/plain": [
       "array([2, 2, 2, 2, 2])"
      ]
     },
     "execution_count": 221,
     "metadata": {},
     "output_type": "execute_result"
    }
   ],
   "source": [
    "x + 1"
   ]
  },
  {
   "cell_type": "markdown",
   "id": "684df29b-efe4-4b27-acc2-e07edfa9dc06",
   "metadata": {
    "jp-MarkdownHeadingCollapsed": true,
    "tags": []
   },
   "source": [
    "## 차원 축소 연산"
   ]
  },
  {
   "cell_type": "code",
   "execution_count": 224,
   "id": "9303f3fa-d758-4751-b1a4-4b705b4eeb99",
   "metadata": {},
   "outputs": [
    {
     "data": {
      "text/plain": [
       "array([1, 2, 3, 4])"
      ]
     },
     "execution_count": 224,
     "metadata": {},
     "output_type": "execute_result"
    }
   ],
   "source": [
    "x = np.array([1, 2, 3, 4])\n",
    "x"
   ]
  },
  {
   "cell_type": "code",
   "execution_count": 225,
   "id": "863906ba-f53a-4b74-8361-7f39046881b5",
   "metadata": {},
   "outputs": [
    {
     "data": {
      "text/plain": [
       "10"
      ]
     },
     "execution_count": 225,
     "metadata": {},
     "output_type": "execute_result"
    }
   ],
   "source": [
    "np.sum(x)"
   ]
  },
  {
   "cell_type": "code",
   "execution_count": 227,
   "id": "f3c595cc-0199-47c3-b46a-db15b39f39d2",
   "metadata": {},
   "outputs": [
    {
     "data": {
      "text/plain": [
       "10"
      ]
     },
     "execution_count": 227,
     "metadata": {},
     "output_type": "execute_result"
    }
   ],
   "source": [
    "x.sum()"
   ]
  },
  {
   "cell_type": "code",
   "execution_count": 228,
   "id": "9c0829a3-e6dc-48ca-8e95-a59cbee1952a",
   "metadata": {},
   "outputs": [
    {
     "data": {
      "text/plain": [
       "array([[ 0,  1,  2,  3],\n",
       "       [ 4,  5,  6,  7],\n",
       "       [ 8,  9, 10, 11]])"
      ]
     },
     "execution_count": 228,
     "metadata": {},
     "output_type": "execute_result"
    }
   ],
   "source": [
    "x = np.arange(12).reshape(3, -1)\n",
    "x"
   ]
  },
  {
   "cell_type": "code",
   "execution_count": 229,
   "id": "a9aaf6af-0609-4465-a8c8-028925b97b91",
   "metadata": {},
   "outputs": [
    {
     "data": {
      "text/plain": [
       "array([12, 15, 18, 21])"
      ]
     },
     "execution_count": 229,
     "metadata": {},
     "output_type": "execute_result"
    }
   ],
   "source": [
    "x.sum(axis=0) # axis=0은 행 간의 연산 결과를 구한다."
   ]
  },
  {
   "cell_type": "code",
   "execution_count": 230,
   "id": "197f2f19-c850-4d8c-8cb1-a8b92c2b4477",
   "metadata": {},
   "outputs": [
    {
     "data": {
      "text/plain": [
       "array([ 6, 22, 38])"
      ]
     },
     "execution_count": 230,
     "metadata": {},
     "output_type": "execute_result"
    }
   ],
   "source": [
    "x.sum(axis=1) # axis=1은 열 간의 연산 결과를 구한다."
   ]
  },
  {
   "cell_type": "code",
   "execution_count": 231,
   "id": "c2516caf-960c-4151-a663-88f97584c03f",
   "metadata": {},
   "outputs": [
    {
     "data": {
      "text/plain": [
       "array([[[ 0,  1],\n",
       "        [ 2,  3],\n",
       "        [ 4,  5],\n",
       "        [ 6,  7],\n",
       "        [ 8,  9]],\n",
       "\n",
       "       [[10, 11],\n",
       "        [12, 13],\n",
       "        [14, 15],\n",
       "        [16, 17],\n",
       "        [18, 19]]])"
      ]
     },
     "execution_count": 231,
     "metadata": {},
     "output_type": "execute_result"
    }
   ],
   "source": [
    "x = np.arange(20).reshape(2, 5, -1)\n",
    "x"
   ]
  },
  {
   "cell_type": "code",
   "execution_count": 232,
   "id": "77ebc885-ebd6-4a65-a434-984902909e39",
   "metadata": {},
   "outputs": [
    {
     "data": {
      "text/plain": [
       "0"
      ]
     },
     "execution_count": 232,
     "metadata": {},
     "output_type": "execute_result"
    }
   ],
   "source": [
    "x.min()"
   ]
  },
  {
   "cell_type": "code",
   "execution_count": 233,
   "id": "636e33f5-c28e-4f39-9478-deb99c7800be",
   "metadata": {},
   "outputs": [
    {
     "data": {
      "text/plain": [
       "0"
      ]
     },
     "execution_count": 233,
     "metadata": {},
     "output_type": "execute_result"
    }
   ],
   "source": [
    "np.min(x)"
   ]
  },
  {
   "cell_type": "code",
   "execution_count": 234,
   "id": "e68be57b-c5e2-468d-963e-524da5062cc1",
   "metadata": {},
   "outputs": [
    {
     "data": {
      "text/plain": [
       "array([[0, 1],\n",
       "       [2, 3],\n",
       "       [4, 5],\n",
       "       [6, 7],\n",
       "       [8, 9]])"
      ]
     },
     "execution_count": 234,
     "metadata": {},
     "output_type": "execute_result"
    }
   ],
   "source": [
    "x.min(axis=0)"
   ]
  },
  {
   "cell_type": "code",
   "execution_count": 235,
   "id": "4c013185-fbc1-43b4-91fa-92b28062adaa",
   "metadata": {},
   "outputs": [
    {
     "data": {
      "text/plain": [
       "array([[ 0,  1],\n",
       "       [10, 11]])"
      ]
     },
     "execution_count": 235,
     "metadata": {},
     "output_type": "execute_result"
    }
   ],
   "source": [
    "np.min(x, axis = 1)"
   ]
  },
  {
   "cell_type": "code",
   "execution_count": 236,
   "id": "861b75d3-ce59-41e6-af2b-003a2eeef38c",
   "metadata": {},
   "outputs": [
    {
     "data": {
      "text/plain": [
       "array([[ 0,  2,  4,  6,  8],\n",
       "       [10, 12, 14, 16, 18]])"
      ]
     },
     "execution_count": 236,
     "metadata": {},
     "output_type": "execute_result"
    }
   ],
   "source": [
    "x.min(axis = 2)"
   ]
  },
  {
   "cell_type": "code",
   "execution_count": 239,
   "id": "3ee38e08-5ee9-4266-9926-720a8205cde5",
   "metadata": {},
   "outputs": [
    {
     "data": {
      "text/plain": [
       "array([[[ 0,  1],\n",
       "        [ 2,  3],\n",
       "        [ 4,  5],\n",
       "        [ 6,  7],\n",
       "        [ 8,  9]],\n",
       "\n",
       "       [[10, 11],\n",
       "        [12, 13],\n",
       "        [14, 15],\n",
       "        [16, 17],\n",
       "        [18, 19]]])"
      ]
     },
     "execution_count": 239,
     "metadata": {},
     "output_type": "execute_result"
    }
   ],
   "source": [
    "x = np.arange(20).reshape(2, 5, -1)\n",
    "x"
   ]
  },
  {
   "cell_type": "code",
   "execution_count": 240,
   "id": "4deaf013-e537-4bbd-a464-31dcef8d5851",
   "metadata": {},
   "outputs": [
    {
     "data": {
      "text/plain": [
       "0"
      ]
     },
     "execution_count": 240,
     "metadata": {},
     "output_type": "execute_result"
    }
   ],
   "source": [
    "x.argmin()"
   ]
  },
  {
   "cell_type": "code",
   "execution_count": 241,
   "id": "3a2acf4d-dfad-4fc1-9075-630a45eae5b8",
   "metadata": {},
   "outputs": [
    {
     "data": {
      "text/plain": [
       "0"
      ]
     },
     "execution_count": 241,
     "metadata": {},
     "output_type": "execute_result"
    }
   ],
   "source": [
    "np.argmin(x)"
   ]
  },
  {
   "cell_type": "code",
   "execution_count": 242,
   "id": "42b19d5c-2f86-479f-8354-75b2e25c4d16",
   "metadata": {},
   "outputs": [
    {
     "data": {
      "text/plain": [
       "array([[0, 0],\n",
       "       [0, 0],\n",
       "       [0, 0],\n",
       "       [0, 0],\n",
       "       [0, 0]], dtype=int64)"
      ]
     },
     "execution_count": 242,
     "metadata": {},
     "output_type": "execute_result"
    }
   ],
   "source": [
    "x.argmin(axis=0)"
   ]
  },
  {
   "cell_type": "code",
   "execution_count": 243,
   "id": "9e8cf6e1-1499-4bfb-9ca7-d00cce124db0",
   "metadata": {},
   "outputs": [
    {
     "data": {
      "text/plain": [
       "array([[0, 0],\n",
       "       [0, 0]], dtype=int64)"
      ]
     },
     "execution_count": 243,
     "metadata": {},
     "output_type": "execute_result"
    }
   ],
   "source": [
    "np.argmin(x, axis = 1)"
   ]
  },
  {
   "cell_type": "code",
   "execution_count": 245,
   "id": "3d045b34-322f-4ced-abd4-6e9d587c0132",
   "metadata": {},
   "outputs": [
    {
     "data": {
      "text/plain": [
       "array([[0, 0, 0, 0, 0],\n",
       "       [0, 0, 0, 0, 0]], dtype=int64)"
      ]
     },
     "execution_count": 245,
     "metadata": {},
     "output_type": "execute_result"
    }
   ],
   "source": [
    "x.argmin(axis = 2)"
   ]
  },
  {
   "cell_type": "code",
   "execution_count": 246,
   "id": "4bc60723-4e52-401e-af2f-60cd112b2dda",
   "metadata": {},
   "outputs": [
    {
     "data": {
      "text/plain": [
       "array([[[ 0,  1],\n",
       "        [ 2,  3],\n",
       "        [ 4,  5],\n",
       "        [ 6,  7],\n",
       "        [ 8,  9]],\n",
       "\n",
       "       [[10, 11],\n",
       "        [12, 13],\n",
       "        [14, 15],\n",
       "        [16, 17],\n",
       "        [18, 19]]])"
      ]
     },
     "execution_count": 246,
     "metadata": {},
     "output_type": "execute_result"
    }
   ],
   "source": [
    "x = np.arange(20).reshape(2, 5, -1)\n",
    "x"
   ]
  },
  {
   "cell_type": "code",
   "execution_count": 247,
   "id": "dc55031e-21ba-4f3b-93a5-2294825d256b",
   "metadata": {},
   "outputs": [
    {
     "data": {
      "text/plain": [
       "19"
      ]
     },
     "execution_count": 247,
     "metadata": {},
     "output_type": "execute_result"
    }
   ],
   "source": [
    "x.max()"
   ]
  },
  {
   "cell_type": "code",
   "execution_count": 248,
   "id": "5f10ed10-0485-49ca-847d-0810554fd0bb",
   "metadata": {},
   "outputs": [
    {
     "data": {
      "text/plain": [
       "19"
      ]
     },
     "execution_count": 248,
     "metadata": {},
     "output_type": "execute_result"
    }
   ],
   "source": [
    "np.max(x)"
   ]
  },
  {
   "cell_type": "code",
   "execution_count": 249,
   "id": "c16f5137-a645-4c3b-85f1-73749d30909e",
   "metadata": {},
   "outputs": [
    {
     "data": {
      "text/plain": [
       "array([[10, 11],\n",
       "       [12, 13],\n",
       "       [14, 15],\n",
       "       [16, 17],\n",
       "       [18, 19]])"
      ]
     },
     "execution_count": 249,
     "metadata": {},
     "output_type": "execute_result"
    }
   ],
   "source": [
    "x.max(axis = 0)"
   ]
  },
  {
   "cell_type": "code",
   "execution_count": 250,
   "id": "449b5577-9c40-423f-be67-6c04597cbac8",
   "metadata": {},
   "outputs": [
    {
     "data": {
      "text/plain": [
       "array([[ 8,  9],\n",
       "       [18, 19]])"
      ]
     },
     "execution_count": 250,
     "metadata": {},
     "output_type": "execute_result"
    }
   ],
   "source": [
    "np.max(x, axis = 1)"
   ]
  },
  {
   "cell_type": "code",
   "execution_count": 251,
   "id": "1540f63e-4b90-423f-95d2-4154efef5a83",
   "metadata": {},
   "outputs": [
    {
     "data": {
      "text/plain": [
       "array([[ 1,  3,  5,  7,  9],\n",
       "       [11, 13, 15, 17, 19]])"
      ]
     },
     "execution_count": 251,
     "metadata": {},
     "output_type": "execute_result"
    }
   ],
   "source": [
    "x.max(axis = 2)"
   ]
  },
  {
   "cell_type": "code",
   "execution_count": 252,
   "id": "8497c9fc-fb5b-412f-ba38-844cbc3cafbd",
   "metadata": {},
   "outputs": [
    {
     "data": {
      "text/plain": [
       "array([[[ 0,  1],\n",
       "        [ 2,  3],\n",
       "        [ 4,  5],\n",
       "        [ 6,  7],\n",
       "        [ 8,  9]],\n",
       "\n",
       "       [[10, 11],\n",
       "        [12, 13],\n",
       "        [14, 15],\n",
       "        [16, 17],\n",
       "        [18, 19]]])"
      ]
     },
     "execution_count": 252,
     "metadata": {},
     "output_type": "execute_result"
    }
   ],
   "source": [
    "x = np.arange(20).reshape(2, 5, -1)\n",
    "x"
   ]
  },
  {
   "cell_type": "code",
   "execution_count": 253,
   "id": "faa048e7-2499-41da-9723-91097d1d1cf5",
   "metadata": {},
   "outputs": [
    {
     "data": {
      "text/plain": [
       "19"
      ]
     },
     "execution_count": 253,
     "metadata": {},
     "output_type": "execute_result"
    }
   ],
   "source": [
    "x.argmax()"
   ]
  },
  {
   "cell_type": "code",
   "execution_count": 254,
   "id": "9f51f021-631b-4c9c-a8d2-cfdced219780",
   "metadata": {},
   "outputs": [
    {
     "data": {
      "text/plain": [
       "19"
      ]
     },
     "execution_count": 254,
     "metadata": {},
     "output_type": "execute_result"
    }
   ],
   "source": [
    "np.argmax(x)"
   ]
  },
  {
   "cell_type": "code",
   "execution_count": 255,
   "id": "891e79f9-b01d-4e88-8115-5d04ee370eab",
   "metadata": {},
   "outputs": [
    {
     "data": {
      "text/plain": [
       "array([[1, 1],\n",
       "       [1, 1],\n",
       "       [1, 1],\n",
       "       [1, 1],\n",
       "       [1, 1]], dtype=int64)"
      ]
     },
     "execution_count": 255,
     "metadata": {},
     "output_type": "execute_result"
    }
   ],
   "source": [
    "x.argmax(axis = 0)"
   ]
  },
  {
   "cell_type": "code",
   "execution_count": 256,
   "id": "559e1b07-2709-4433-b70e-55c76107babf",
   "metadata": {},
   "outputs": [
    {
     "data": {
      "text/plain": [
       "array([[4, 4],\n",
       "       [4, 4]], dtype=int64)"
      ]
     },
     "execution_count": 256,
     "metadata": {},
     "output_type": "execute_result"
    }
   ],
   "source": [
    "np.argmax(x, axis = 1)"
   ]
  },
  {
   "cell_type": "code",
   "execution_count": 257,
   "id": "f666fd2f-c45b-48e2-a6f2-0545085772ba",
   "metadata": {},
   "outputs": [
    {
     "data": {
      "text/plain": [
       "array([[1, 1, 1, 1, 1],\n",
       "       [1, 1, 1, 1, 1]], dtype=int64)"
      ]
     },
     "execution_count": 257,
     "metadata": {},
     "output_type": "execute_result"
    }
   ],
   "source": [
    "x.argmax(axis = 2)"
   ]
  },
  {
   "cell_type": "code",
   "execution_count": 258,
   "id": "a1078d4f-6f6a-407c-9e84-daae494ede39",
   "metadata": {},
   "outputs": [],
   "source": [
    "x = np.array([1, 2, 3, 1])"
   ]
  },
  {
   "cell_type": "code",
   "execution_count": 259,
   "id": "3f6c3bad-d3c2-4a46-90fb-8c388043a6af",
   "metadata": {},
   "outputs": [
    {
     "data": {
      "text/plain": [
       "1.75"
      ]
     },
     "execution_count": 259,
     "metadata": {},
     "output_type": "execute_result"
    }
   ],
   "source": [
    "x.mean()"
   ]
  },
  {
   "cell_type": "code",
   "execution_count": 260,
   "id": "9befe4cd-2087-4972-b824-9088f33f850f",
   "metadata": {},
   "outputs": [
    {
     "data": {
      "text/plain": [
       "1.5"
      ]
     },
     "execution_count": 260,
     "metadata": {},
     "output_type": "execute_result"
    }
   ],
   "source": [
    "np.median(x)"
   ]
  },
  {
   "cell_type": "code",
   "execution_count": 261,
   "id": "3a6d0021-b9a8-4894-a150-380e35e12929",
   "metadata": {},
   "outputs": [
    {
     "data": {
      "text/plain": [
       "False"
      ]
     },
     "execution_count": 261,
     "metadata": {},
     "output_type": "execute_result"
    }
   ],
   "source": [
    "np.all([True, True, False])"
   ]
  },
  {
   "cell_type": "code",
   "execution_count": 262,
   "id": "78286411-7ca2-48f1-91dc-368692f9e8f0",
   "metadata": {},
   "outputs": [
    {
     "data": {
      "text/plain": [
       "True"
      ]
     },
     "execution_count": 262,
     "metadata": {},
     "output_type": "execute_result"
    }
   ],
   "source": [
    "np.any([True, True, True])"
   ]
  },
  {
   "cell_type": "code",
   "execution_count": 263,
   "id": "7e12819a-a878-4a0d-bf9a-713c7371e633",
   "metadata": {},
   "outputs": [
    {
     "data": {
      "text/plain": [
       "array([[0, 0, 0, ..., 0, 0, 0],\n",
       "       [0, 0, 0, ..., 0, 0, 0],\n",
       "       [0, 0, 0, ..., 0, 0, 0],\n",
       "       ...,\n",
       "       [0, 0, 0, ..., 0, 0, 0],\n",
       "       [0, 0, 0, ..., 0, 0, 0],\n",
       "       [0, 0, 0, ..., 0, 0, 0]], dtype=int64)"
      ]
     },
     "execution_count": 263,
     "metadata": {},
     "output_type": "execute_result"
    }
   ],
   "source": [
    "a = np.zeros((100, 100), dtype=np.int64)\n",
    "a"
   ]
  },
  {
   "cell_type": "code",
   "execution_count": 264,
   "id": "302a09ba-ebac-4466-b34b-67f38cfe61fa",
   "metadata": {},
   "outputs": [
    {
     "data": {
      "text/plain": [
       "False"
      ]
     },
     "execution_count": 264,
     "metadata": {},
     "output_type": "execute_result"
    }
   ],
   "source": [
    "np.any(a != 0)"
   ]
  },
  {
   "cell_type": "code",
   "execution_count": 265,
   "id": "08a0ba2d-3dcf-4fa1-af47-067c854f235e",
   "metadata": {},
   "outputs": [
    {
     "data": {
      "text/plain": [
       "True"
      ]
     },
     "execution_count": 265,
     "metadata": {},
     "output_type": "execute_result"
    }
   ],
   "source": [
    "np.all(a == a)"
   ]
  },
  {
   "cell_type": "code",
   "execution_count": 266,
   "id": "21de6dd7-8c00-498e-8fc4-4b5f992dcac8",
   "metadata": {},
   "outputs": [],
   "source": [
    "a = np.array([1, 2, 3, 2])\n",
    "b = np.array([2, 2, 3, 2])\n",
    "c = np.array([6, 4, 4, 5])"
   ]
  },
  {
   "cell_type": "code",
   "execution_count": 267,
   "id": "5ab5d13f-30e9-4236-8c69-96cd1dfdd7d1",
   "metadata": {},
   "outputs": [
    {
     "data": {
      "text/plain": [
       "True"
      ]
     },
     "execution_count": 267,
     "metadata": {},
     "output_type": "execute_result"
    }
   ],
   "source": [
    "((a <= b) & (b <= c)).all()"
   ]
  },
  {
   "cell_type": "markdown",
   "id": "fd7932d8-dd5f-4e2b-9826-c6aceb390460",
   "metadata": {
    "jp-MarkdownHeadingCollapsed": true,
    "tags": []
   },
   "source": [
    "### 연습문제"
   ]
  },
  {
   "cell_type": "markdown",
   "id": "b90f36f6-b38e-4681-bddf-eb857b523bf3",
   "metadata": {},
   "source": [
    "실수로 이루어진 5 x 6 형태의 데이터 행렬을 만들고 이 데이터에 대해 다음과 같은 값을  \n",
    "구한다.\n",
    "\n",
    "1. 전체의 최댓값\n",
    "2. 각 행의 합\n",
    "3. 각 행의 최댓값\n",
    "4. 각 열의 평균\n",
    "5. 각 열의 최솟값\n",
    "\n",
    "```python\n",
    "practice = np.array([[1.1, 7.1, 8.0, 2.1, 6.5, 7.2],\n",
    "                     [2.7, 5.2, 3.3, 9.0, 7.7, 2.8],\n",
    "                     [0.7, 8.8, 4.2, 8.9, 4.3, 7.4],\n",
    "                     [8.2, 1.1, 5.4, 2.9, 6.9, 0.2],\n",
    "                     [7.4, 4.8, 2.7, 3.1, 2.8, 8.9]])\n",
    "```"
   ]
  },
  {
   "cell_type": "code",
   "execution_count": 268,
   "id": "054c2272-9678-4ca2-b8ad-f7f06c02ffc1",
   "metadata": {},
   "outputs": [],
   "source": [
    "practice = np.array([[1.1, 7.1, 8.0, 2.1, 6.5, 7.2],\n",
    "                     [2.7, 5.2, 3.3, 9.0, 7.7, 2.8],\n",
    "                     [0.7, 8.8, 4.2, 8.9, 4.3, 7.4],\n",
    "                     [8.2, 1.1, 5.4, 2.9, 6.9, 0.2],\n",
    "                     [7.4, 4.8, 2.7, 3.1, 2.8, 8.9]])"
   ]
  },
  {
   "cell_type": "code",
   "execution_count": 270,
   "id": "81274447-f12f-467c-bec4-16890d3f21a4",
   "metadata": {},
   "outputs": [
    {
     "data": {
      "text/plain": [
       "9.0"
      ]
     },
     "execution_count": 270,
     "metadata": {},
     "output_type": "execute_result"
    }
   ],
   "source": [
    "practice.max()"
   ]
  },
  {
   "cell_type": "code",
   "execution_count": 285,
   "id": "1bf772ee-c313-4fed-bfab-799631754713",
   "metadata": {},
   "outputs": [
    {
     "data": {
      "text/plain": [
       "array([20.1, 27. , 23.6, 26. , 28.2, 26.5])"
      ]
     },
     "execution_count": 285,
     "metadata": {},
     "output_type": "execute_result"
    }
   ],
   "source": [
    "practice.sum(axis = 0)"
   ]
  },
  {
   "cell_type": "code",
   "execution_count": 282,
   "id": "4224c8b1-a286-4b42-87a0-ab552c2cf48e",
   "metadata": {},
   "outputs": [
    {
     "data": {
      "text/plain": [
       "array([8.2, 8.8, 8. , 9. , 7.7, 8.9])"
      ]
     },
     "execution_count": 282,
     "metadata": {},
     "output_type": "execute_result"
    }
   ],
   "source": [
    "practice.max(axis = 0)"
   ]
  },
  {
   "cell_type": "code",
   "execution_count": 283,
   "id": "de892c57-5651-488e-8dcc-0ca246a65650",
   "metadata": {},
   "outputs": [
    {
     "data": {
      "text/plain": [
       "array([5.33333333, 5.11666667, 5.71666667, 4.11666667, 4.95      ])"
      ]
     },
     "execution_count": 283,
     "metadata": {},
     "output_type": "execute_result"
    }
   ],
   "source": [
    "practice.mean(axis = 1)"
   ]
  },
  {
   "cell_type": "code",
   "execution_count": 284,
   "id": "7a4ca09b-18bc-483f-be8a-da3c2390a72a",
   "metadata": {},
   "outputs": [
    {
     "data": {
      "text/plain": [
       "array([1.1, 2.7, 0.7, 0.2, 2.7])"
      ]
     },
     "execution_count": 284,
     "metadata": {},
     "output_type": "execute_result"
    }
   ],
   "source": [
    "practice.min(axis = 1)"
   ]
  },
  {
   "cell_type": "markdown",
   "id": "07c6a532-ec24-4e7e-a4b8-d398923d84c7",
   "metadata": {
    "jp-MarkdownHeadingCollapsed": true,
    "tags": []
   },
   "source": [
    "## 정렬"
   ]
  },
  {
   "cell_type": "code",
   "execution_count": 286,
   "id": "e13c8d35-bcda-4ce6-904f-5ab1a73fb76e",
   "metadata": {},
   "outputs": [
    {
     "data": {
      "text/plain": [
       "array([[ 4,  3,  5,  7],\n",
       "       [ 1, 12, 11,  9],\n",
       "       [ 2, 15,  1, 14]])"
      ]
     },
     "execution_count": 286,
     "metadata": {},
     "output_type": "execute_result"
    }
   ],
   "source": [
    "a = np.array([[4, 3, 5, 7],\n",
    "              [1, 12, 11, 9],\n",
    "              [2, 15, 1, 14]])\n",
    "a"
   ]
  },
  {
   "cell_type": "code",
   "execution_count": 287,
   "id": "ca00f32f-cbd0-4042-b061-c837ccdda321",
   "metadata": {},
   "outputs": [
    {
     "data": {
      "text/plain": [
       "array([[ 3,  4,  5,  7],\n",
       "       [ 1,  9, 11, 12],\n",
       "       [ 1,  2, 14, 15]])"
      ]
     },
     "execution_count": 287,
     "metadata": {},
     "output_type": "execute_result"
    }
   ],
   "source": [
    "np.sort(a) # axis = -1 또는 axis = 1 과 동일"
   ]
  },
  {
   "cell_type": "code",
   "execution_count": 288,
   "id": "52a1306e-a063-47d7-ab17-bc9806a0d597",
   "metadata": {},
   "outputs": [
    {
     "data": {
      "text/plain": [
       "array([[ 1,  3,  1,  7],\n",
       "       [ 2, 12,  5,  9],\n",
       "       [ 4, 15, 11, 14]])"
      ]
     },
     "execution_count": 288,
     "metadata": {},
     "output_type": "execute_result"
    }
   ],
   "source": [
    "np.sort(a, axis = 0)"
   ]
  },
  {
   "cell_type": "code",
   "execution_count": 289,
   "id": "f9637c35-de18-426d-aec1-d35705294b2c",
   "metadata": {},
   "outputs": [
    {
     "data": {
      "text/plain": [
       "array([[ 4,  3,  5,  7],\n",
       "       [ 1, 12, 11,  9],\n",
       "       [ 2, 15,  1, 14]])"
      ]
     },
     "execution_count": 289,
     "metadata": {},
     "output_type": "execute_result"
    }
   ],
   "source": [
    "a = np.array([[4, 3, 5, 7],\n",
    "              [1, 12, 11, 9],\n",
    "              [2, 15, 1, 14]])\n",
    "a"
   ]
  },
  {
   "cell_type": "code",
   "execution_count": 290,
   "id": "f76e7036-4551-4f5e-a0fa-0f41517e6a2f",
   "metadata": {},
   "outputs": [
    {
     "data": {
      "text/plain": [
       "array([[ 3,  4,  5,  7],\n",
       "       [ 1,  9, 11, 12],\n",
       "       [ 1,  2, 14, 15]])"
      ]
     },
     "execution_count": 290,
     "metadata": {},
     "output_type": "execute_result"
    }
   ],
   "source": [
    "a.sort(axis = 1)\n",
    "a"
   ]
  },
  {
   "cell_type": "code",
   "execution_count": 296,
   "id": "d3830e97-30ce-4124-9edf-5133d1b3e17e",
   "metadata": {},
   "outputs": [
    {
     "data": {
      "text/plain": [
       "array([2, 3, 1, 0], dtype=int64)"
      ]
     },
     "execution_count": 296,
     "metadata": {},
     "output_type": "execute_result"
    }
   ],
   "source": [
    "a = np.array([42, 38, 12, 25])\n",
    "j = np.argsort(a)\n",
    "j"
   ]
  },
  {
   "cell_type": "code",
   "execution_count": 297,
   "id": "33b852af-0fe0-4fa9-b2d4-a78cb86ab6a3",
   "metadata": {},
   "outputs": [
    {
     "data": {
      "text/plain": [
       "array([12, 25, 38, 42])"
      ]
     },
     "execution_count": 297,
     "metadata": {},
     "output_type": "execute_result"
    }
   ],
   "source": [
    "a[j]"
   ]
  },
  {
   "cell_type": "code",
   "execution_count": 298,
   "id": "fc6fff71-85ae-4b64-a720-907178fca87a",
   "metadata": {},
   "outputs": [
    {
     "data": {
      "text/plain": [
       "array([12, 25, 38, 42])"
      ]
     },
     "execution_count": 298,
     "metadata": {},
     "output_type": "execute_result"
    }
   ],
   "source": [
    "np.sort(a)"
   ]
  },
  {
   "cell_type": "markdown",
   "id": "aee9ee56-b2d2-4070-9435-6637e9060176",
   "metadata": {
    "jp-MarkdownHeadingCollapsed": true,
    "tags": []
   },
   "source": [
    "## 고급 인덱싱"
   ]
  },
  {
   "cell_type": "code",
   "execution_count": 300,
   "id": "0d81d7af-ae8b-42d3-b12f-f1f0c841b591",
   "metadata": {},
   "outputs": [
    {
     "data": {
      "text/plain": [
       "array([[1, 2],\n",
       "       [3, 4],\n",
       "       [5, 6]])"
      ]
     },
     "execution_count": 300,
     "metadata": {},
     "output_type": "execute_result"
    }
   ],
   "source": [
    "a = np.array([[1, 2],[3, 4],[5, 6]])\n",
    "a"
   ]
  },
  {
   "cell_type": "code",
   "execution_count": 302,
   "id": "54b47c3c-ae78-4c34-a9b8-345e45845c06",
   "metadata": {},
   "outputs": [
    {
     "name": "stdout",
     "output_type": "stream",
     "text": [
      "[1 4 5]\n"
     ]
    }
   ],
   "source": [
    "print(a[[0,1,2], [0,1,0]]) # a[0,0], a[1,1] a[2,0]을 인덱스로 하는 1차원 배열(shape=(3,))을 출력해준다."
   ]
  },
  {
   "cell_type": "code",
   "execution_count": 304,
   "id": "70c38668-27f2-449a-99ff-c41ba21f221c",
   "metadata": {},
   "outputs": [
    {
     "data": {
      "text/plain": [
       "array([[1, 2],\n",
       "       [3, 4],\n",
       "       [5, 6]])"
      ]
     },
     "execution_count": 304,
     "metadata": {},
     "output_type": "execute_result"
    }
   ],
   "source": [
    "a = np.array([[1, 2],[3, 4],[5, 6]])\n",
    "a"
   ]
  },
  {
   "cell_type": "code",
   "execution_count": 305,
   "id": "225102d6-4ab6-4a05-82cd-591f536fcf58",
   "metadata": {},
   "outputs": [
    {
     "name": "stdout",
     "output_type": "stream",
     "text": [
      "[[1 2 1]\n",
      " [3 4 3]\n",
      " [5 6 5]]\n"
     ]
    }
   ],
   "source": [
    "print(a[:, [0, 1, 0]])"
   ]
  },
  {
   "cell_type": "markdown",
   "id": "5180dc6d-9bc6-4bfd-aa95-958f4f8a5b74",
   "metadata": {
    "jp-MarkdownHeadingCollapsed": true,
    "tags": []
   },
   "source": [
    "### 연습문제\n",
    "\n",
    "다음 배열은 첫번째 행(row)에 학번, 두번째 행에 영어 성적, 세번째 행에 수학 성적을  \n",
    "적은 배열이다. 영어 성적을 기준으로 각 열(column)을 재정렬해보세요.\n",
    "\n",
    "```python\n",
    "scores = np.array([[1, 2, 3, 4],\n",
    "                   [46, 99, 100, 71],\n",
    "                   [81, 59, 90, 100]])\n",
    "```"
   ]
  },
  {
   "cell_type": "code",
   "execution_count": 322,
   "id": "56ccce30-e855-4367-8331-babf50a2fd85",
   "metadata": {},
   "outputs": [
    {
     "data": {
      "text/plain": [
       "array([0, 3, 1, 2], dtype=int64)"
      ]
     },
     "execution_count": 322,
     "metadata": {},
     "output_type": "execute_result"
    }
   ],
   "source": [
    "scores = np.array([[1, 2, 3, 4],\n",
    "                   [46, 99, 100, 71],\n",
    "                   [81, 59, 90, 100]])\n",
    "eng_sco = scores[1, :]\n",
    "j = np.argsort(eng_sco)\n",
    "eng_sco[j]\n",
    "j"
   ]
  },
  {
   "cell_type": "code",
   "execution_count": 327,
   "id": "e58ff8e4-8a18-4d16-a72b-a97123d89fed",
   "metadata": {},
   "outputs": [
    {
     "name": "stdout",
     "output_type": "stream",
     "text": [
      "[[  1   4   2   3]\n",
      " [ 46  71  99 100]\n",
      " [ 81 100  59  90]]\n"
     ]
    }
   ],
   "source": [
    "print(scores[:, j])"
   ]
  },
  {
   "cell_type": "code",
   "execution_count": 329,
   "id": "d90250c0-87d8-4040-9658-14fe96cabc63",
   "metadata": {},
   "outputs": [
    {
     "data": {
      "text/plain": [
       "array([[  1,   4,   2,   3],\n",
       "       [ 46,  71,  99, 100],\n",
       "       [ 81, 100,  59,  90]])"
      ]
     },
     "execution_count": 329,
     "metadata": {},
     "output_type": "execute_result"
    }
   ],
   "source": [
    "scores = np.array([[1, 2, 3, 4],\n",
    "                   [46, 99, 100, 71],\n",
    "                   [81, 59, 90, 100]])\n",
    "j = np.argsort(scores[1, :])\n",
    "scores[:, j]"
   ]
  },
  {
   "cell_type": "markdown",
   "id": "532bc046-34a9-4474-abed-abfb4d9cd1b3",
   "metadata": {
    "jp-MarkdownHeadingCollapsed": true,
    "tags": []
   },
   "source": [
    "## 기술 통계"
   ]
  },
  {
   "cell_type": "code",
   "execution_count": 332,
   "id": "97b25a6a-47e9-4af7-899b-1761e758c511",
   "metadata": {},
   "outputs": [
    {
     "data": {
      "text/plain": [
       "array([ 18,   5,  10,  23,  19,  -8,  10,   0,   0,   5,   2,  15,   8,\n",
       "         2,   5,   4,  15,  -1,   4,  -7, -24,   7,   9,  -6,  23, -13])"
      ]
     },
     "execution_count": 332,
     "metadata": {},
     "output_type": "execute_result"
    }
   ],
   "source": [
    "x = np.array([18, 5, 10, 23, 19, -8, 10, 0, 0, 5, 2, 15, 8, \n",
    "              2, 5, 4, 15, -1, 4, -7, -24, 7, 9, -6, 23, -13])\n",
    "x"
   ]
  },
  {
   "cell_type": "code",
   "execution_count": 334,
   "id": "ee3f6d1f-789a-4d9a-8fb7-92880f757a23",
   "metadata": {},
   "outputs": [
    {
     "data": {
      "text/plain": [
       "4.8076923076923075"
      ]
     },
     "execution_count": 334,
     "metadata": {},
     "output_type": "execute_result"
    }
   ],
   "source": [
    "np.mean(x) # 평균"
   ]
  },
  {
   "cell_type": "code",
   "execution_count": 335,
   "id": "1c683d8a-27b5-4266-87b9-6e29b67ae1a0",
   "metadata": {},
   "outputs": [
    {
     "data": {
      "text/plain": [
       "115.23224852071006"
      ]
     },
     "execution_count": 335,
     "metadata": {},
     "output_type": "execute_result"
    }
   ],
   "source": [
    "np.var(x) # 분산"
   ]
  },
  {
   "cell_type": "code",
   "execution_count": 336,
   "id": "9d539e5d-4ce6-4271-a3c7-3c16a0d276ee",
   "metadata": {},
   "outputs": [
    {
     "data": {
      "text/plain": [
       "119.84153846153846"
      ]
     },
     "execution_count": 336,
     "metadata": {},
     "output_type": "execute_result"
    }
   ],
   "source": [
    "np.var(x, ddof=1) # 비편향 분산. 추후 공부하게 된다."
   ]
  },
  {
   "cell_type": "code",
   "execution_count": 337,
   "id": "96fb959e-5804-4018-a740-d5eaf6cd749d",
   "metadata": {},
   "outputs": [
    {
     "data": {
      "text/plain": [
       "10.734628476137871"
      ]
     },
     "execution_count": 337,
     "metadata": {},
     "output_type": "execute_result"
    }
   ],
   "source": [
    "np.std(x) # 표준 편차"
   ]
  },
  {
   "cell_type": "code",
   "execution_count": 338,
   "id": "766818ab-60f5-462e-b524-e5b4f42c4060",
   "metadata": {},
   "outputs": [
    {
     "data": {
      "text/plain": [
       "5.0"
      ]
     },
     "execution_count": 338,
     "metadata": {},
     "output_type": "execute_result"
    }
   ],
   "source": [
    "np.median(x) # 중앙값"
   ]
  },
  {
   "cell_type": "markdown",
   "id": "0c68864e-ed22-4025-9cc8-b17e8f5f1a7f",
   "metadata": {
    "jp-MarkdownHeadingCollapsed": true,
    "tags": []
   },
   "source": [
    "## 사분위수"
   ]
  },
  {
   "cell_type": "code",
   "execution_count": 341,
   "id": "d0fb2f85-0ffb-483e-a860-31aebf4abc85",
   "metadata": {},
   "outputs": [
    {
     "data": {
      "text/plain": [
       "-24"
      ]
     },
     "execution_count": 341,
     "metadata": {},
     "output_type": "execute_result"
    }
   ],
   "source": [
    "np.min(x) # 최소값"
   ]
  },
  {
   "cell_type": "code",
   "execution_count": 343,
   "id": "214fdc47-4b6e-4625-a10c-7ec36c45e53e",
   "metadata": {},
   "outputs": [
    {
     "data": {
      "text/plain": [
       "5.0"
      ]
     },
     "execution_count": 343,
     "metadata": {},
     "output_type": "execute_result"
    }
   ],
   "source": [
    "np.median(x) # 중앙값"
   ]
  },
  {
   "cell_type": "code",
   "execution_count": 345,
   "id": "7e1fc971-d74c-4fce-acd0-264e474962da",
   "metadata": {},
   "outputs": [
    {
     "data": {
      "text/plain": [
       "-24.0"
      ]
     },
     "execution_count": 345,
     "metadata": {},
     "output_type": "execute_result"
    }
   ],
   "source": [
    "np.percentile(x, 0) # 최소값"
   ]
  },
  {
   "cell_type": "code",
   "execution_count": 351,
   "id": "1a3e76d4-a593-4faf-aa58-4cf94e726d15",
   "metadata": {},
   "outputs": [
    {
     "data": {
      "text/plain": [
       "0.0"
      ]
     },
     "execution_count": 351,
     "metadata": {},
     "output_type": "execute_result"
    }
   ],
   "source": [
    "np.percentile(x, 25) # 1 사분위 수"
   ]
  },
  {
   "cell_type": "code",
   "execution_count": 352,
   "id": "7bfc187f-5b14-4e70-89fe-d13b59682644",
   "metadata": {},
   "outputs": [
    {
     "data": {
      "text/plain": [
       "5.0"
      ]
     },
     "execution_count": 352,
     "metadata": {},
     "output_type": "execute_result"
    }
   ],
   "source": [
    "np.percentile(x, 50) # 2 사분위 수"
   ]
  },
  {
   "cell_type": "code",
   "execution_count": 353,
   "id": "14ca2286-26b9-4993-9320-dfb9d412db6a",
   "metadata": {},
   "outputs": [
    {
     "data": {
      "text/plain": [
       "10.0"
      ]
     },
     "execution_count": 353,
     "metadata": {},
     "output_type": "execute_result"
    }
   ],
   "source": [
    "np.percentile(x, 75) # 3사분위 수"
   ]
  },
  {
   "cell_type": "code",
   "execution_count": 354,
   "id": "e0b12f24-e5e6-4ebf-b3f4-a3e75dc26890",
   "metadata": {},
   "outputs": [
    {
     "data": {
      "text/plain": [
       "23.0"
      ]
     },
     "execution_count": 354,
     "metadata": {},
     "output_type": "execute_result"
    }
   ],
   "source": [
    "np.percentile(x, 100) # 최대값"
   ]
  },
  {
   "cell_type": "markdown",
   "id": "d3e3069e-f9ff-493a-8734-81ddd4950c0e",
   "metadata": {
    "tags": []
   },
   "source": [
    "## 난수 발생과 카운팅"
   ]
  },
  {
   "cell_type": "markdown",
   "id": "4f3496ad-c8c6-4fc4-affc-c9bbb374ded0",
   "metadata": {
    "jp-MarkdownHeadingCollapsed": true,
    "tags": []
   },
   "source": [
    "### 시드 설정하기"
   ]
  },
  {
   "cell_type": "code",
   "execution_count": 365,
   "id": "fa85c9b9-0b91-460e-ba98-a6d546a526d7",
   "metadata": {},
   "outputs": [],
   "source": [
    "np.random.seed(0)"
   ]
  },
  {
   "cell_type": "code",
   "execution_count": 366,
   "id": "839a27f4-7528-4e82-9711-a68beecbf102",
   "metadata": {},
   "outputs": [
    {
     "data": {
      "text/plain": [
       "array([0.5488135 , 0.71518937, 0.60276338, 0.54488318, 0.4236548 ])"
      ]
     },
     "execution_count": 366,
     "metadata": {},
     "output_type": "execute_result"
    }
   ],
   "source": [
    "np.random.rand(5)"
   ]
  },
  {
   "cell_type": "code",
   "execution_count": 367,
   "id": "593bbbe8-8bc9-48dc-9390-00640474eece",
   "metadata": {},
   "outputs": [
    {
     "data": {
      "text/plain": [
       "array([0.64589411, 0.43758721, 0.891773  , 0.96366276, 0.38344152,\n",
       "       0.79172504, 0.52889492, 0.56804456, 0.92559664, 0.07103606])"
      ]
     },
     "execution_count": 367,
     "metadata": {},
     "output_type": "execute_result"
    }
   ],
   "source": [
    "np.random.rand(10)"
   ]
  },
  {
   "cell_type": "code",
   "execution_count": 368,
   "id": "fa0917ba-1329-4f54-9f17-3b7f152d040c",
   "metadata": {},
   "outputs": [
    {
     "data": {
      "text/plain": [
       "array([0.0871293 , 0.0202184 , 0.83261985, 0.77815675, 0.87001215,\n",
       "       0.97861834, 0.79915856, 0.46147936, 0.78052918, 0.11827443])"
      ]
     },
     "execution_count": 368,
     "metadata": {},
     "output_type": "execute_result"
    }
   ],
   "source": [
    "np.random.rand(10)"
   ]
  },
  {
   "cell_type": "code",
   "execution_count": 369,
   "id": "b34dd376-ed81-4ff7-95b4-865114435b19",
   "metadata": {},
   "outputs": [],
   "source": [
    "np.random.seed(0)"
   ]
  },
  {
   "cell_type": "code",
   "execution_count": 370,
   "id": "1b0628e2-915b-4061-a825-4a4616df5b1c",
   "metadata": {},
   "outputs": [
    {
     "data": {
      "text/plain": [
       "array([0.5488135 , 0.71518937, 0.60276338, 0.54488318, 0.4236548 ])"
      ]
     },
     "execution_count": 370,
     "metadata": {},
     "output_type": "execute_result"
    }
   ],
   "source": [
    "np.random.rand(5)"
   ]
  },
  {
   "cell_type": "code",
   "execution_count": 371,
   "id": "2ca502f3-cd29-46e2-968d-e3f0d7c18b51",
   "metadata": {},
   "outputs": [
    {
     "data": {
      "text/plain": [
       "array([0.64589411, 0.43758721, 0.891773  , 0.96366276, 0.38344152,\n",
       "       0.79172504, 0.52889492, 0.56804456, 0.92559664, 0.07103606])"
      ]
     },
     "execution_count": 371,
     "metadata": {},
     "output_type": "execute_result"
    }
   ],
   "source": [
    "np.random.rand(10)"
   ]
  },
  {
   "cell_type": "code",
   "execution_count": 372,
   "id": "5ba20b71-bb09-40cf-af6c-3f36aab10d7b",
   "metadata": {},
   "outputs": [
    {
     "data": {
      "text/plain": [
       "array([0.0871293 , 0.0202184 , 0.83261985, 0.77815675, 0.87001215,\n",
       "       0.97861834, 0.79915856, 0.46147936, 0.78052918, 0.11827443])"
      ]
     },
     "execution_count": 372,
     "metadata": {},
     "output_type": "execute_result"
    }
   ],
   "source": [
    "np.random.rand(10)"
   ]
  },
  {
   "cell_type": "markdown",
   "id": "3f8f8d07-77ab-49e6-8337-c02d67698144",
   "metadata": {
    "jp-MarkdownHeadingCollapsed": true,
    "tags": []
   },
   "source": [
    "### 데이터의 순서 바꾸기"
   ]
  },
  {
   "cell_type": "code",
   "execution_count": 374,
   "id": "09290f31-9c3b-4cee-b571-eeed275f3bed",
   "metadata": {},
   "outputs": [
    {
     "data": {
      "text/plain": [
       "array([0, 1, 2, 3, 4, 5, 6, 7, 8, 9])"
      ]
     },
     "execution_count": 374,
     "metadata": {},
     "output_type": "execute_result"
    }
   ],
   "source": [
    "x = np.arange(10)\n",
    "x"
   ]
  },
  {
   "cell_type": "code",
   "execution_count": 375,
   "id": "847aeb33-be6d-482e-868b-7423bafa4f8f",
   "metadata": {},
   "outputs": [
    {
     "data": {
      "text/plain": [
       "array([3, 6, 4, 5, 2, 9, 7, 8, 1, 0])"
      ]
     },
     "execution_count": 375,
     "metadata": {},
     "output_type": "execute_result"
    }
   ],
   "source": [
    "np.random.shuffle(x)\n",
    "x"
   ]
  },
  {
   "cell_type": "markdown",
   "id": "c2e79e68-5b36-4ad4-b57d-dceb192fc9c2",
   "metadata": {
    "jp-MarkdownHeadingCollapsed": true,
    "tags": []
   },
   "source": [
    "### 데이터 샘플링"
   ]
  },
  {
   "cell_type": "code",
   "execution_count": 377,
   "id": "3f308d4e-e8c1-431d-a99b-515fc7c4d27f",
   "metadata": {},
   "outputs": [
    {
     "data": {
      "text/plain": [
       "array([1, 4, 0, 3, 2])"
      ]
     },
     "execution_count": 377,
     "metadata": {},
     "output_type": "execute_result"
    }
   ],
   "source": [
    "np.random.choice(5, 5, replace=False) # shuffle 명령과 같다."
   ]
  },
  {
   "cell_type": "code",
   "execution_count": 378,
   "id": "a98a2a83-1743-40e9-8197-7223277463f7",
   "metadata": {},
   "outputs": [
    {
     "data": {
      "text/plain": [
       "array([2, 1, 3])"
      ]
     },
     "execution_count": 378,
     "metadata": {},
     "output_type": "execute_result"
    }
   ],
   "source": [
    "np.random.choice(5, 3, replace=False) # 3개만 선택"
   ]
  },
  {
   "cell_type": "code",
   "execution_count": 379,
   "id": "dccf8e0d-2e94-4c59-8883-3dc75c3e7b36",
   "metadata": {},
   "outputs": [
    {
     "data": {
      "text/plain": [
       "array([0, 4, 1, 4, 1, 2, 2, 0, 1, 1])"
      ]
     },
     "execution_count": 379,
     "metadata": {},
     "output_type": "execute_result"
    }
   ],
   "source": [
    "np.random.choice(5, 10) # 반복해서 10개 선택"
   ]
  },
  {
   "cell_type": "code",
   "execution_count": 384,
   "id": "de924d3c-b244-4b02-9683-26b115dfdfb3",
   "metadata": {},
   "outputs": [
    {
     "data": {
      "text/plain": [
       "array([3, 3, 3, 3, 3, 3, 3, 3, 2, 3])"
      ]
     },
     "execution_count": 384,
     "metadata": {},
     "output_type": "execute_result"
    }
   ],
   "source": [
    "np.random.choice(5, 10, p=[0.1, 0, 0.3, 0.6, 0]) # 선택 확률을 다르게 해서 10개 선택"
   ]
  },
  {
   "cell_type": "markdown",
   "id": "896e9f36-dee4-4393-b2c2-6dc75e9a0152",
   "metadata": {
    "jp-MarkdownHeadingCollapsed": true,
    "tags": []
   },
   "source": [
    "### 난수 생성"
   ]
  },
  {
   "cell_type": "code",
   "execution_count": 385,
   "id": "aadd2529-51d6-4c3b-a377-d16360e456bd",
   "metadata": {},
   "outputs": [
    {
     "data": {
      "text/plain": [
       "array([0.31720174, 0.77834548, 0.94957105, 0.66252687, 0.01357164,\n",
       "       0.6228461 , 0.67365963, 0.971945  , 0.87819347, 0.50962438])"
      ]
     },
     "execution_count": 385,
     "metadata": {},
     "output_type": "execute_result"
    }
   ],
   "source": [
    "np.random.rand(10)"
   ]
  },
  {
   "cell_type": "code",
   "execution_count": 386,
   "id": "e6cdd76a-c087-4886-b6d1-8c422bbf7b19",
   "metadata": {},
   "outputs": [
    {
     "data": {
      "text/plain": [
       "array([[0.05571469, 0.45115921, 0.01998767, 0.44171092, 0.97958673],\n",
       "       [0.35944446, 0.48089353, 0.68866118, 0.88047589, 0.91823547],\n",
       "       [0.21682214, 0.56518887, 0.86510256, 0.50896896, 0.91672295]])"
      ]
     },
     "execution_count": 386,
     "metadata": {},
     "output_type": "execute_result"
    }
   ],
   "source": [
    "np.random.rand(3, 5)"
   ]
  },
  {
   "cell_type": "code",
   "execution_count": 387,
   "id": "797cfcdd-1eac-478c-a4bc-02ca5a71be6b",
   "metadata": {},
   "outputs": [
    {
     "data": {
      "text/plain": [
       "array([ 0.42830357,  0.99627783, -0.49114966,  0.71267817,  1.11334035,\n",
       "       -2.15367459, -0.41611148, -1.07089699,  0.22113881, -1.12305712])"
      ]
     },
     "execution_count": 387,
     "metadata": {},
     "output_type": "execute_result"
    }
   ],
   "source": [
    "np.random.randn(10)"
   ]
  },
  {
   "cell_type": "code",
   "execution_count": 388,
   "id": "d1b412ba-6e09-484e-85da-3ee12d8a94d9",
   "metadata": {},
   "outputs": [
    {
     "data": {
      "text/plain": [
       "array([[-1.05075796,  1.01207905,  1.54371643, -0.40211489,  0.8647491 ],\n",
       "       [-0.22686923,  0.81116027,  0.28779461, -0.53846816,  1.9084621 ],\n",
       "       [-0.475776  ,  1.44073112, -1.14907568,  0.80571455,  1.75610703]])"
      ]
     },
     "execution_count": 388,
     "metadata": {},
     "output_type": "execute_result"
    }
   ],
   "source": [
    "np.random.randn(3, 5)"
   ]
  },
  {
   "cell_type": "code",
   "execution_count": 392,
   "id": "6ddad821-a162-4b9a-8369-f2afe1f60bd3",
   "metadata": {},
   "outputs": [
    {
     "data": {
      "text/plain": [
       "array([8, 2, 3, 9, 7, 5, 3, 4, 5, 3])"
      ]
     },
     "execution_count": 392,
     "metadata": {},
     "output_type": "execute_result"
    }
   ],
   "source": [
    "np.random.randint(10, size=10)"
   ]
  },
  {
   "cell_type": "code",
   "execution_count": 393,
   "id": "70e549bb-187f-435c-b8d2-92d503b93aaa",
   "metadata": {},
   "outputs": [
    {
     "data": {
      "text/plain": [
       "array([13, 17, 19, 19, 19, 17, 13, 12, 13, 19])"
      ]
     },
     "execution_count": 393,
     "metadata": {},
     "output_type": "execute_result"
    }
   ],
   "source": [
    "np.random.randint(10, 20, size=10)"
   ]
  },
  {
   "cell_type": "code",
   "execution_count": 394,
   "id": "031596a3-53d6-4042-a21d-1036a7e0318e",
   "metadata": {},
   "outputs": [
    {
     "data": {
      "text/plain": [
       "array([[17, 17, 15, 11, 12],\n",
       "       [12, 18, 11, 15, 18],\n",
       "       [14, 10, 12, 15, 15]])"
      ]
     },
     "execution_count": 394,
     "metadata": {},
     "output_type": "execute_result"
    }
   ],
   "source": [
    "np.random.randint(10, 20, size=(3, 5))"
   ]
  },
  {
   "cell_type": "markdown",
   "id": "261cf6ce-6b17-49ed-b5cd-c88bd01d5814",
   "metadata": {
    "jp-MarkdownHeadingCollapsed": true,
    "tags": []
   },
   "source": [
    "### 연습 문제\n",
    "\n",
    "동전 100번 던진 결과를 넘파이에 난수를 발생시켜서 시뮬레이션해보려 합니다. 앞면을  \n",
    "숫자 1, 뒷면을 숫자 0으로 가정하고 난수를 발생시켜보세요. 이때 앞면이 나올 확률을  \n",
    "구하는 프로그램을 구현해보세요.(seed는 0으로 합니다.)\n",
    "\n",
    "> 실행 결과:  \n",
    "0.56"
   ]
  },
  {
   "cell_type": "code",
   "execution_count": 402,
   "id": "00235161-6ae4-4d48-a50c-0de0a53c3fa4",
   "metadata": {},
   "outputs": [
    {
     "data": {
      "text/plain": [
       "0.56"
      ]
     },
     "execution_count": 402,
     "metadata": {},
     "output_type": "execute_result"
    }
   ],
   "source": [
    "np.random.seed(0)\n",
    "x = np.random.choice(2, 100)\n",
    "front_count = 0\n",
    "\n",
    "for _ in x:\n",
    "    if _ == 1:\n",
    "        front_count += 1\n",
    "front_count / 100"
   ]
  },
  {
   "cell_type": "markdown",
   "id": "8aeaec02-3716-427b-b70b-6453a2b08031",
   "metadata": {
    "jp-MarkdownHeadingCollapsed": true,
    "tags": []
   },
   "source": [
    "### 연습 문제\n",
    "\n",
    "주사위는 1부터 6까지의 숫자를 가집니다. 이 주사위를 100번 던져서 나오는 숫자를  \n",
    "넘파이 난수를 발생시켜서 시뮬레이션하고 나오는 숫자의 평균을 구해보세요.(seed는  \n",
    "으로 설정합니다.)\n",
    "\n",
    "> 실행 결과:  \n",
    "3.42"
   ]
  },
  {
   "cell_type": "code",
   "execution_count": 416,
   "id": "8f8632b5-1f96-4259-ace6-449ff01239a8",
   "metadata": {},
   "outputs": [
    {
     "data": {
      "text/plain": [
       "3.42"
      ]
     },
     "execution_count": 416,
     "metadata": {},
     "output_type": "execute_result"
    }
   ],
   "source": [
    "np.random.seed(0)\n",
    "x = [np.random.randint(1, 7) for _ in range(100)]\n",
    "np.mean(x)"
   ]
  },
  {
   "cell_type": "markdown",
   "id": "af6e6cef-b52c-4bfe-9ca8-9cac6f300889",
   "metadata": {
    "jp-MarkdownHeadingCollapsed": true,
    "tags": []
   },
   "source": [
    "## 정수 데이터 카운팅"
   ]
  },
  {
   "cell_type": "code",
   "execution_count": 417,
   "id": "ce0a9fb8-7b47-4a18-960c-3280cfeb0f70",
   "metadata": {},
   "outputs": [
    {
     "data": {
      "text/plain": [
       "array([ 2, 11, 34])"
      ]
     },
     "execution_count": 417,
     "metadata": {},
     "output_type": "execute_result"
    }
   ],
   "source": [
    "np.unique([11, 11, 2, 2, 34, 34])"
   ]
  },
  {
   "cell_type": "code",
   "execution_count": 421,
   "id": "a8813658-bb52-4376-8dc7-8f4d8e3fb8eb",
   "metadata": {},
   "outputs": [],
   "source": [
    "a = np.array(['a', 'b', 'b', 'c', 'a'])\n",
    "index, count = np.unique(a, return_counts=True)"
   ]
  },
  {
   "cell_type": "code",
   "execution_count": 422,
   "id": "81f460e9-94ad-4d4d-bf9b-a74ac2daa0f7",
   "metadata": {},
   "outputs": [
    {
     "data": {
      "text/plain": [
       "array(['a', 'b', 'c'], dtype='<U1')"
      ]
     },
     "execution_count": 422,
     "metadata": {},
     "output_type": "execute_result"
    }
   ],
   "source": [
    "index"
   ]
  },
  {
   "cell_type": "code",
   "execution_count": 423,
   "id": "29b54eeb-c830-4b56-bc90-9beec24c2253",
   "metadata": {},
   "outputs": [
    {
     "data": {
      "text/plain": [
       "array([2, 2, 1], dtype=int64)"
      ]
     },
     "execution_count": 423,
     "metadata": {},
     "output_type": "execute_result"
    }
   ],
   "source": [
    "count"
   ]
  },
  {
   "cell_type": "code",
   "execution_count": 425,
   "id": "b53fcf1d-75d3-4e91-ac01-0873cffeb8fa",
   "metadata": {},
   "outputs": [
    {
     "data": {
      "text/plain": [
       "array([0, 2, 3, 1, 0, 0], dtype=int64)"
      ]
     },
     "execution_count": 425,
     "metadata": {},
     "output_type": "execute_result"
    }
   ],
   "source": [
    "np.bincount([1, 1, 2, 2, 2, 3], minlength=6)"
   ]
  },
  {
   "cell_type": "code",
   "execution_count": null,
   "id": "c206a464-683f-42fa-a0b3-4f054e7cd3f7",
   "metadata": {},
   "outputs": [],
   "source": []
  }
 ],
 "metadata": {
  "kernelspec": {
   "display_name": "Python 3 (ipykernel)",
   "language": "python",
   "name": "python3"
  },
  "language_info": {
   "codemirror_mode": {
    "name": "ipython",
    "version": 3
   },
   "file_extension": ".py",
   "mimetype": "text/x-python",
   "name": "python",
   "nbconvert_exporter": "python",
   "pygments_lexer": "ipython3",
   "version": "3.9.13"
  }
 },
 "nbformat": 4,
 "nbformat_minor": 5
}
