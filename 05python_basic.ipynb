{
 "cells": [
  {
   "cell_type": "markdown",
   "id": "5f38845a-6a8f-415c-8b30-d3fd0fc4f29b",
   "metadata": {},
   "source": [
    "# 연습문제\n",
    "\n",
    "사용자로부터 입력 받은 시간이 정각인지 판별할 수 있는 코드를 작성하세요. input(), split() 활용"
   ]
  },
  {
   "cell_type": "code",
   "execution_count": 26,
   "id": "c73676fb-29cc-4a3f-9f65-4d6a0da2de82",
   "metadata": {},
   "outputs": [
    {
     "name": "stdin",
     "output_type": "stream",
     "text": [
      "시간을 입력하세요, hh:mm형식으로 입력해주세요. 1:30\n"
     ]
    },
    {
     "name": "stdout",
     "output_type": "stream",
     "text": [
      "정각이 아닙니다.\n"
     ]
    }
   ],
   "source": [
    "h, m = input(\"시간을 입력하세요, hh:mm형식으로 입력해주세요.\").split(\":\")\n",
    "\n",
    "if m == \"00\":\n",
    "    print(\"정각입니다\")\n",
    "else:\n",
    "    print(\"정각이 아닙니다.\")"
   ]
  },
  {
   "cell_type": "markdown",
   "id": "ef5a7f58-c5f3-4046-8c32-3d0fc1766b86",
   "metadata": {},
   "source": [
    "# 연습문제\n",
    "\n",
    "list_a의 값을 슬라이싱을 통해 변경 및 출력하는 코드를 작성해보세요.\n",
    "``` python\n",
    "list_a = [1, 2, 3, 4, 5, 6, 7, 8, 9, 10]\n",
    "```\n",
    "\n",
    "> 실행결과: \n",
    "[1, 2, '짝', 4, 5, '짝', 7, 8, '짝', 10]"
   ]
  },
  {
   "cell_type": "code",
   "execution_count": 42,
   "id": "6b86e773-e10e-46c7-9d3f-2a7a0f0b28c4",
   "metadata": {},
   "outputs": [
    {
     "name": "stdout",
     "output_type": "stream",
     "text": [
      "[1, 2, '짝', 4, 5, '짝', 7, 8, '짝', 10]\n"
     ]
    }
   ],
   "source": [
    "list_a = [1, 2, 3, 4, 5, 6, 7, 8, 9, 10]\n",
    "\n",
    "list_a[2:9:3] = [\"짝\"] * 3\n",
    "\n",
    "print(list_a)"
   ]
  },
  {
   "cell_type": "markdown",
   "id": "f9787ccb-c9b3-4baa-9710-9f6eac7c5cb0",
   "metadata": {},
   "source": [
    "# 연습문제\n",
    "\n",
    "1~10까지의 숫자 중 모든 홀수의 합을 출력하는 프로그램을 for 문을 사용하여 작성해보세요.\n",
    "\n",
    "> 실행결과 :  \n",
    "1부터 10까지 홀수의 합은 25입니다."
   ]
  },
  {
   "cell_type": "code",
   "execution_count": 38,
   "id": "bdd6d446-bdb0-4ea8-8fdf-bfd92df2c311",
   "metadata": {},
   "outputs": [
    {
     "name": "stdout",
     "output_type": "stream",
     "text": [
      "1부터 10까지 홀수의 합은 25입니다.\n"
     ]
    }
   ],
   "source": [
    "num = 10\n",
    "odd_sum = 0\n",
    "\n",
    "for _ in range(1, num + 1):\n",
    "    if _ % 2 == 1:\n",
    "        odd_sum += _\n",
    "print(\"1부터 10까지 홀수의 합은 \", odd_sum, \"입니다.\", sep = \"\")"
   ]
  },
  {
   "cell_type": "code",
   "execution_count": 43,
   "id": "f7be404f-beec-4f5f-bc95-cc42087aa46c",
   "metadata": {},
   "outputs": [
    {
     "name": "stdout",
     "output_type": "stream",
     "text": [
      "sui\n",
      " bball \n",
      "  johna \n",
      "   a ryupne\n"
     ]
    }
   ],
   "source": [
    "print(\"su\",\"i\\n bbal\",\"l \\n  john\",\"a \\n   a ryup\",\"ne\", sep=\"\")"
   ]
  },
  {
   "cell_type": "markdown",
   "id": "27d57ec0-ffe0-41f5-81f1-d509622cde75",
   "metadata": {},
   "source": [
    "# 연습문제\n",
    "\n",
    "for 문 안에 for 문을 중첩하여 '*' 문자로 5x5 사각형을 그려보세요."
   ]
  },
  {
   "cell_type": "code",
   "execution_count": 49,
   "id": "3cbc9dec-1a2b-4160-8f45-dfeffe14ccb7",
   "metadata": {},
   "outputs": [
    {
     "name": "stdout",
     "output_type": "stream",
     "text": [
      "*****\n",
      "*****\n",
      "*****\n",
      "*****\n",
      "*****\n"
     ]
    }
   ],
   "source": [
    "for i in range(5):\n",
    "    for j in range(5):\n",
    "        print(\"*\", end = \"\")\n",
    "    print()"
   ]
  },
  {
   "cell_type": "code",
   "execution_count": 3,
   "id": "6a60f417-1e83-43b9-81ee-c788db88ec2f",
   "metadata": {},
   "outputs": [
    {
     "name": "stdout",
     "output_type": "stream",
     "text": [
      "*****\n",
      "*****\n",
      "*****\n",
      "*****\n",
      "*****\n"
     ]
    }
   ],
   "source": [
    "for i in range(5):\n",
    "    print(\"*\" * 5)"
   ]
  },
  {
   "cell_type": "code",
   "execution_count": 1,
   "id": "484ad83b-4b65-48dc-b8ab-892b021f6ec4",
   "metadata": {},
   "outputs": [
    {
     "name": "stdin",
     "output_type": "stream",
     "text": [
      "반복할 횟수를 입력하세요:  3\n"
     ]
    },
    {
     "name": "stdout",
     "output_type": "stream",
     "text": [
      "Hello world 3\n",
      "Hello world 2\n",
      "Hello world 1\n"
     ]
    }
   ],
   "source": [
    "count = int(input(\"반복할 횟수를 입력하세요: \" ))\n",
    "\n",
    "while count > 0:\n",
    "    print(\"Hello world\", count)\n",
    "    count -= 1"
   ]
  },
  {
   "cell_type": "markdown",
   "id": "dc65e944-13d4-4c4a-b89a-877f5b1347a8",
   "metadata": {},
   "source": [
    "# 연습문제\n",
    "\n",
    "while 문을 사용하여 1 이상 100 이하의 짝수를 '\\t'를 구분자로 해서 출력해보세요.\n"
   ]
  },
  {
   "cell_type": "code",
   "execution_count": 6,
   "id": "fa8749be-233e-44a8-a6ea-7f9da1169ea0",
   "metadata": {},
   "outputs": [
    {
     "name": "stdout",
     "output_type": "stream",
     "text": [
      "2\t4\t6\t8\t10\t12\t14\t16\t18\t20\t22\t24\t26\t28\t30\t32\t34\t36\t38\t40\t42\t44\t46\t48\t50\t52\t54\t56\t58\t60\t62\t64\t66\t68\t70\t72\t74\t76\t78\t80\t82\t84\t86\t88\t90\t92\t94\t96\t98\t100\t"
     ]
    }
   ],
   "source": [
    "i = 2\n",
    "\n",
    "while i <= 100:\n",
    "    print(i, end = \"\\t\")\n",
    "    i += 2"
   ]
  },
  {
   "cell_type": "markdown",
   "id": "29a1067d-ea0a-4892-b2b1-316723bcec9e",
   "metadata": {},
   "source": [
    "# 연습문제\n",
    "\n",
    "사용자로부터 자연수를 입력받아옵니다. 그 숫자의 구구단을 출력하는 프로그램을  \n",
    "구현해보세요. 아래의 실행 결과를 참고하세요.(while문 활용)"
   ]
  },
  {
   "cell_type": "code",
   "execution_count": 16,
   "id": "fcd4da05-6a2e-4253-9bbf-e9cc9b7e36c8",
   "metadata": {},
   "outputs": [
    {
     "name": "stdin",
     "output_type": "stream",
     "text": [
      "구구단을 알려드립니다. 숫자를 입력하세요. 2\n"
     ]
    },
    {
     "name": "stdout",
     "output_type": "stream",
     "text": [
      "2 * 1 = 2\n",
      "2 * 2 = 4\n",
      "2 * 3 = 6\n",
      "2 * 4 = 8\n",
      "2 * 5 = 10\n",
      "2 * 6 = 12\n",
      "2 * 7 = 14\n",
      "2 * 8 = 16\n",
      "2 * 9 = 18\n"
     ]
    }
   ],
   "source": [
    "num = int(input(\"구구단을 알려드립니다. 숫자를 입력하세요.\"))\n",
    "i = 1\n",
    "\n",
    "while i < 10:\n",
    "    print(num, \"*\", i, \"=\", num * i)\n",
    "    i += 1"
   ]
  },
  {
   "cell_type": "markdown",
   "id": "49db8e7e-03cf-4798-a845-aad15b8b4612",
   "metadata": {},
   "source": [
    "# 연습문제\n",
    "\n",
    "사용자로부터 학생의 숫자와 학생 성적을 입력받습니다. 학생 성적 평균을 구하는  \n",
    "프로그램을 while문으로 구현해보세요."
   ]
  },
  {
   "cell_type": "code",
   "execution_count": 32,
   "id": "0c44d8dd-bec0-49fa-87db-eff6ecbf49fe",
   "metadata": {},
   "outputs": [
    {
     "name": "stdin",
     "output_type": "stream",
     "text": [
      "학생의 수 : 3\n",
      "1번 학생의 점수 : 77\n",
      "2번 학생의 점수 : 88\n",
      "3번 학생의 점수 : 99\n"
     ]
    },
    {
     "name": "stdout",
     "output_type": "stream",
     "text": [
      "평균 :88.0점\n"
     ]
    }
   ],
   "source": [
    "student_count = int(input(\"학생의 수 :\"))\n",
    "i = 1\n",
    "sum = 0\n",
    "average = 0\n",
    "\n",
    "while i <= student_count:\n",
    "    a = int(input(str(i) + \"번 학생의 점수 :\"))\n",
    "    sum += a\n",
    "    i += 1\n",
    "average = sum / student_count\n",
    "print(\"평균 :\", average, \"점\", sep = \"\")"
   ]
  },
  {
   "cell_type": "code",
   "execution_count": 33,
   "id": "9e707c95-8285-4dc6-bb60-c93f41a2853c",
   "metadata": {},
   "outputs": [
    {
     "name": "stdin",
     "output_type": "stream",
     "text": [
      "학생의 수 : 3\n",
      "1번 학생의 점수: 77\n",
      "2번 학생의 점수: 88\n",
      "3번 학생의 점수: 99\n"
     ]
    },
    {
     "name": "stdout",
     "output_type": "stream",
     "text": [
      "88.0\n"
     ]
    }
   ],
   "source": [
    "stu = int(input(\"학생의 수 :\"))\n",
    "score=0\n",
    "asd = 1\n",
    "while asd <= stu:\n",
    "    score += int(input(str(asd)+\"번 학생의 점수:\"))\n",
    "    asd+=1\n",
    "print(score/stu)"
   ]
  },
  {
   "cell_type": "code",
   "execution_count": 34,
   "id": "5bae421b-c49c-4fef-8d9b-f0fe72875b83",
   "metadata": {},
   "outputs": [
    {
     "name": "stdin",
     "output_type": "stream",
     "text": [
      "학생의 수 : 3\n",
      "1번 학생의 점수: 7\n",
      "2번 학생의 점수: 8\n",
      "3번 학생의 점수: 9\n"
     ]
    },
    {
     "name": "stdout",
     "output_type": "stream",
     "text": [
      "8.0\n"
     ]
    }
   ],
   "source": [
    "stu = int(input(\"학생의 수 :\"))\n",
    "score=0\n",
    "asd = 1\n",
    "result=0\n",
    "while asd <= stu:\n",
    "    score = int(input(str(asd)+\"번 학생의 점수:\"))\n",
    "    result += score\n",
    "    asd+=1\n",
    "print(result/stu)"
   ]
  },
  {
   "cell_type": "markdown",
   "id": "e6f396d9-54e9-4adb-811e-fc03333f984c",
   "metadata": {},
   "source": [
    "# 연습문제\n",
    "\n",
    "A학급의 수학 점수가 다음과 같을 때 while문 조건식에 len() 함수를 사용하여 이 학급의  평균 점수를 구하는 프로그램을 구현해보세요.\n",
    "\n",
    "class_a = (70, 60, 55, 75, 95, 90, 80, 80, 85, 100)"
   ]
  },
  {
   "cell_type": "code",
   "execution_count": 43,
   "id": "e204eea1-8378-4cf0-b459-6ce42379b195",
   "metadata": {},
   "outputs": [
    {
     "name": "stdout",
     "output_type": "stream",
     "text": [
      "79.0\n"
     ]
    }
   ],
   "source": [
    "class_a = (70, 60, 55, 75, 95, 90, 80, 80, 85, 100)\n",
    "\n",
    "i = 0\n",
    "total = 0\n",
    "average = 0\n",
    "\n",
    "while i < len(class_a):\n",
    "    total += int(class_a[i])\n",
    "    i += 1\n",
    "average = total / len(class_a)\n",
    "print(average)"
   ]
  },
  {
   "cell_type": "markdown",
   "id": "b3b5125f-927d-4ff1-9fbc-5ad5c1ddf9f3",
   "metadata": {},
   "source": [
    "# 연습문제\n",
    "\n",
    "0부터 100까지 자연수의 총합을 구하는 프로그램을 구현해보세요.\n",
    "\n",
    "- while 문과 break를 활용해서 작성해보세요."
   ]
  },
  {
   "cell_type": "code",
   "execution_count": 48,
   "id": "1f7e01b0-5c89-4b72-9921-ebb572dcc113",
   "metadata": {},
   "outputs": [
    {
     "name": "stdout",
     "output_type": "stream",
     "text": [
      "5050\n"
     ]
    }
   ],
   "source": [
    "i = 0\n",
    "total = 0\n",
    "\n",
    "while True:\n",
    "    total += i\n",
    "    i += 1\n",
    "    if i > 100:\n",
    "        break\n",
    "print(total)"
   ]
  },
  {
   "cell_type": "markdown",
   "id": "a3e8857f-9932-445a-b905-0efff70dec0c",
   "metadata": {},
   "source": [
    "# 연습문제\n",
    "\n",
    "아래 소스 코드를 완성하여 0부터 100사이의 숫자 중 3으로 끝나는 숫자만 출력되게  \n",
    "만드세요."
   ]
  },
  {
   "cell_type": "code",
   "execution_count": 83,
   "id": "6cbe3db1-da62-451b-be9f-51fb8141b5bb",
   "metadata": {},
   "outputs": [
    {
     "name": "stdout",
     "output_type": "stream",
     "text": [
      "3 13 23 33 43 53 63 73 83 93 "
     ]
    }
   ],
   "source": [
    "i = 0\n",
    "while True:\n",
    "    if i > 100:\n",
    "        break\n",
    "    if i % 10 != 3:\n",
    "        i += 1\n",
    "        continue\n",
    "    print(i, end = ' ')\n",
    "    i += 1"
   ]
  },
  {
   "cell_type": "code",
   "execution_count": 69,
   "id": "de67b42d-ed50-4ad0-bf89-de7864e5194c",
   "metadata": {},
   "outputs": [
    {
     "name": "stdout",
     "output_type": "stream",
     "text": [
      "3 13 23 33 43 53 63 73 83 93 "
     ]
    }
   ],
   "source": [
    "i = 0\n",
    "while True:\n",
    "    if i % 10 != 3:\n",
    "        i += 1\n",
    "        continue\n",
    "    if i > 100:\n",
    "        break\n",
    "    print(i, end = ' ')\n",
    "    i += 1"
   ]
  },
  {
   "cell_type": "markdown",
   "id": "51438c16-42db-413b-9440-91fdb36285f7",
   "metadata": {},
   "source": [
    "# 연습문제\n",
    "\n",
    "1부터 10까지의 순서대로 줄을 바꾸지 않고 출력 값마다 뒤에 공백을 표시합니다.  \n",
    "\n",
    "(for / while 모두 작성)"
   ]
  },
  {
   "cell_type": "code",
   "execution_count": 75,
   "id": "107b20de-1d73-4e05-860f-7170557aa657",
   "metadata": {},
   "outputs": [
    {
     "name": "stdout",
     "output_type": "stream",
     "text": [
      "1 2 3 4 5 6 7 8 9 10 "
     ]
    }
   ],
   "source": [
    "i = 1\n",
    "\n",
    "while i <= 10:\n",
    "    print(i, end = \" \")\n",
    "    i += 1"
   ]
  },
  {
   "cell_type": "code",
   "execution_count": 81,
   "id": "d7c0f67c-0483-4969-987f-b7a127b6596c",
   "metadata": {},
   "outputs": [
    {
     "name": "stdout",
     "output_type": "stream",
     "text": [
      "1 2 3 4 5 6 7 8 9 10 "
     ]
    }
   ],
   "source": [
    "for _ in range(1, 11):\n",
    "    print(_, end = \" \")"
   ]
  },
  {
   "cell_type": "markdown",
   "id": "e362be18-21d7-4ff4-a4e5-3092f24ebb30",
   "metadata": {},
   "source": [
    "# 연습문제\n",
    "\n",
    "두 자연수 n 부터 m을 입력받고, n부터 m 까지의 합을 구하는 프로그램을 작성하세요.\n",
    "\n",
    "(for / while 모두 작성)"
   ]
  },
  {
   "cell_type": "markdown",
   "id": "1111caf8-2e9e-4118-a50c-4e4e51e1fb88",
   "metadata": {},
   "source": [
    "> n, m , total은 변수명입니다.  \n",
    "f-string은 3.6 버전부터 지원됩니다.  \n",
    "print(f'{n}부터 {m}까지의 합은 {total}입니다')  "
   ]
  },
  {
   "cell_type": "code",
   "execution_count": 93,
   "id": "9e0d45a9-f40b-408b-b5d7-796514e98a0b",
   "metadata": {},
   "outputs": [
    {
     "name": "stdin",
     "output_type": "stream",
     "text": [
      "시작하는 정수 입력: 3\n",
      "끝나는 정수 입력: 10\n"
     ]
    },
    {
     "name": "stdout",
     "output_type": "stream",
     "text": [
      "3부터 10까지의 합은 52 입니다.\n"
     ]
    }
   ],
   "source": [
    "n = int(input(\"시작하는 정수 입력:\"))\n",
    "m = int(input(\"끝나는 정수 입력:\"))\n",
    "total = 0\n",
    "\n",
    "for _ in range(n, m + 1):\n",
    "    total += _\n",
    "\n",
    "print(f'{n}부터 {m}까지의 합은 {total} 입니다.')"
   ]
  },
  {
   "cell_type": "code",
   "execution_count": 92,
   "id": "52b82340-0f1f-45e3-813f-a5e64f167a35",
   "metadata": {},
   "outputs": [
    {
     "name": "stdin",
     "output_type": "stream",
     "text": [
      "시작하는 정수 입력: 3\n",
      "끝나는 정수 입력: 10\n"
     ]
    },
    {
     "name": "stdout",
     "output_type": "stream",
     "text": [
      "3부터 10까지의 합은 52 입니다.\n"
     ]
    }
   ],
   "source": [
    "n = int(input(\"시작하는 정수 입력:\"))\n",
    "m = int(input(\"끝나는 정수 입력:\"))\n",
    "total = 0\n",
    "i = n\n",
    "\n",
    "while i <= m:\n",
    "    total += i\n",
    "    i += 1\n",
    "    \n",
    "print(f'{n}부터 {m}까지의 합은 {total} 입니다.')"
   ]
  },
  {
   "cell_type": "code",
   "execution_count": 94,
   "id": "004466bf-f8d4-46e4-bd09-8deca84000be",
   "metadata": {},
   "outputs": [
    {
     "name": "stdin",
     "output_type": "stream",
     "text": [
      "시작하는 정수 입력: 4\n",
      "끝나는 정수 입력: 7\n"
     ]
    },
    {
     "name": "stdout",
     "output_type": "stream",
     "text": [
      "4부터 7사이의 짝수 제곱의 합은 52입니다.\n"
     ]
    }
   ],
   "source": [
    "n = int(input(\"시작하는 정수 입력:\"))\n",
    "m = int(input(\"끝나는 정수 입력:\"))\n",
    "total = 0\n",
    "\n",
    "for _ in range(n, m + 1):\n",
    "    if _ % 2 == 0:\n",
    "        total += (_ * _)\n",
    "print(f'{n}부터 {m}사이의 짝수 제곱의 합은 {total}입니다.')"
   ]
  },
  {
   "cell_type": "code",
   "execution_count": 1,
   "id": "f1d6add8-672e-4d3e-82f0-661f19bbcdec",
   "metadata": {},
   "outputs": [
    {
     "name": "stdin",
     "output_type": "stream",
     "text": [
      "시작하는 정수 입력: 4\n",
      "끝나는 정수 입력: 7\n"
     ]
    },
    {
     "name": "stdout",
     "output_type": "stream",
     "text": [
      "4부터 7사이의 짝수 제곱의 합은 52입니다.\n"
     ]
    }
   ],
   "source": [
    "n = int(input(\"시작하는 정수 입력:\"))\n",
    "m = int(input(\"끝나는 정수 입력:\"))\n",
    "total = 0\n",
    "i = n\n",
    "\n",
    "while i <= m:\n",
    "    if i % 2 == 0:\n",
    "        total += (i * i)\n",
    "    i += 1\n",
    "print(f'{n}부터 {m}사이의 짝수 제곱의 합은 {total}입니다.')"
   ]
  },
  {
   "cell_type": "markdown",
   "id": "5eafcffc-d6f2-4b77-ab8c-1204ebf646a5",
   "metadata": {},
   "source": [
    "# 연습문제\n",
    "\n",
    "어떤 학급의 국어 점수가 다음과 같을 때 반복문을 이용하여 A학급의 평균 점수 구하기.  \n",
    "(for / while 모두 작성)\n",
    "\n",
    "Kor = [70, 60, 55, 75, 95, 90, 80, 80, 85, 100]"
   ]
  },
  {
   "cell_type": "code",
   "execution_count": 113,
   "id": "6f2a6f6b-e808-4242-8e78-d94b3ad8a9f3",
   "metadata": {},
   "outputs": [
    {
     "name": "stdout",
     "output_type": "stream",
     "text": [
      "79.0\n"
     ]
    }
   ],
   "source": [
    "Kor = [70, 60, 55, 75, 95, 90, 80, 80, 85, 100]\n",
    "total = 0\n",
    "average = 0\n",
    "\n",
    "for i in range(len(Kor)):\n",
    "    total += int(Kor[i])\n",
    "    average = total / len(Kor)\n",
    "print(average)"
   ]
  },
  {
   "cell_type": "code",
   "execution_count": 117,
   "id": "21e95fd8-67de-4bb4-b41e-1703d2342280",
   "metadata": {},
   "outputs": [
    {
     "name": "stdout",
     "output_type": "stream",
     "text": [
      "79.0\n"
     ]
    }
   ],
   "source": [
    "Kor = [70, 60, 55, 75, 95, 90, 80, 80, 85, 100]\n",
    "total = 0\n",
    "average = 0\n",
    "i = 0\n",
    "\n",
    "while i < len(Kor):\n",
    "    total += Kor[i]\n",
    "    average = total / len(Kor)\n",
    "    i += 1\n",
    "print(average)"
   ]
  },
  {
   "cell_type": "code",
   "execution_count": 116,
   "id": "e404aa18-dc2c-43cc-b84a-9845e58c8e5e",
   "metadata": {},
   "outputs": [
    {
     "name": "stdout",
     "output_type": "stream",
     "text": [
      "79.0\n"
     ]
    }
   ],
   "source": [
    "Kor = [70, 60, 55, 75, 95, 90, 80, 80, 85, 100]\n",
    "total = 0\n",
    "average = 0\n",
    "\n",
    "for score in Kor:\n",
    "    total += score\n",
    "    average = total / len(Kor)\n",
    "print(average)"
   ]
  },
  {
   "cell_type": "markdown",
   "id": "2e6febcc-f04a-48cf-9657-0999360217e2",
   "metadata": {},
   "source": [
    "# 연습 문제\n",
    "\n",
    "10 미만의 자연수에서 3과 5의 배수를 구하면 3, 5, 6, 9 입니다.  \n",
    "이들의 총합은 23입니다.  \n",
    "1000미만의 자연수에서 3의 배수와 5의 배수의 총합을 구하세요.  \n",
    "(for / while 모두 작성)\n",
    "\n",
    "> 실행 결과 :  \n",
    "결과는 233168 입니다."
   ]
  },
  {
   "cell_type": "code",
   "execution_count": 121,
   "id": "5f875f12-95f2-4251-91bd-9d819348375d",
   "metadata": {},
   "outputs": [
    {
     "name": "stdout",
     "output_type": "stream",
     "text": [
      "결과는 233168 입니다.\n"
     ]
    }
   ],
   "source": [
    "i = 0\n",
    "total = 0\n",
    "\n",
    "for i in range(1000):\n",
    "    if i % 3 == 0 or i % 5 == 0:\n",
    "        total += i\n",
    "print(f'결과는 {total} 입니다.')"
   ]
  },
  {
   "cell_type": "code",
   "execution_count": 2,
   "id": "c8105039-09e7-4f75-b4a6-d8181c7c7c07",
   "metadata": {},
   "outputs": [
    {
     "name": "stdout",
     "output_type": "stream",
     "text": [
      "결과는 233168 입니다.\n"
     ]
    }
   ],
   "source": [
    "i = 0\n",
    "total = 0\n",
    "\n",
    "while i < 1000:\n",
    "    if i % 3 == 0 or i % 5 == 0:\n",
    "        total += i\n",
    "    i += 1\n",
    "print(f'결과는 {total} 입니다.')"
   ]
  },
  {
   "cell_type": "code",
   "execution_count": null,
   "id": "cbe94060-86b3-4b61-8e73-8c4f52040d21",
   "metadata": {},
   "outputs": [],
   "source": []
  }
 ],
 "metadata": {
  "kernelspec": {
   "display_name": "Python 3 (ipykernel)",
   "language": "python",
   "name": "python3"
  },
  "language_info": {
   "codemirror_mode": {
    "name": "ipython",
    "version": 3
   },
   "file_extension": ".py",
   "mimetype": "text/x-python",
   "name": "python",
   "nbconvert_exporter": "python",
   "pygments_lexer": "ipython3",
   "version": "3.9.13"
  }
 },
 "nbformat": 4,
 "nbformat_minor": 5
}
