{
 "cells": [
  {
   "cell_type": "markdown",
   "id": "d1e2eb67-ff25-40a5-864e-ba58abdf5570",
   "metadata": {},
   "source": [
    "# H1\n",
    "## H2\n",
    "### H3\n",
    "#### H4\n",
    "##### H5\n",
    "###### H6"
   ]
  },
  {
   "cell_type": "markdown",
   "id": "fb585884-2157-4862-8404-ed792153b1be",
   "metadata": {},
   "source": [
    "# 1. 마크다운 학습\n",
    "# 1.1."
   ]
  },
  {
   "cell_type": "markdown",
   "id": "24018734-34e1-45de-ace7-34b7dc678d6d",
   "metadata": {},
   "source": [
    "일반 텍스트는 그냥 입력하시면 됩니다.  \n",
    "**굵은 글씨**는 이렇게 사용합니다.  \n",
    "*기울인 글씨*는 이렇게 씁니다.  \n",
    "~~취소선~~은 이렇게 씁니다.  "
   ]
  },
  {
   "cell_type": "markdown",
   "id": "711bd3cd-9aa1-49ee-90cd-b216d1b1f147",
   "metadata": {},
   "source": [
    "> 구획이  \n",
    "> 잡힌  \n",
    "> 글입니다."
   ]
  },
  {
   "cell_type": "markdown",
   "id": "c1deb755-752c-4dda-9d92-49436db16e53",
   "metadata": {},
   "source": [
    "- 목록1\n",
    "- 목록2\n",
    "- 목록3"
   ]
  },
  {
   "cell_type": "markdown",
   "id": "26266e20-3e21-4a93-bf2d-a31588d72ab7",
   "metadata": {},
   "source": [
    "* 목록1\n",
    "* 목록2\n",
    "* 목록3"
   ]
  },
  {
   "cell_type": "markdown",
   "id": "051e29f7-abeb-4df6-a6d3-3b927ad4fa75",
   "metadata": {},
   "source": [
    "1. 순서가 있는 목록1\n",
    "2. 순서가 있는 목록2\n",
    "3. 순서가 있는 목록3"
   ]
  },
  {
   "cell_type": "markdown",
   "id": "0dde86aa-0b47-4630-a67b-135aeeaa8eb9",
   "metadata": {},
   "source": [
    "[Google](http://www.google.com)"
   ]
  },
  {
   "cell_type": "markdown",
   "id": "ca41f769-57b4-4520-942f-005787cd5ffe",
   "metadata": {},
   "source": [
    "![이미지에 대한 설명](https://dimg.donga.com/wps/NEWS/IMAGE/2020/08/22/102591473.3.jpg)"
   ]
  },
  {
   "cell_type": "markdown",
   "id": "72ce0004-4867-4328-bd67-8eedd77c3ef9",
   "metadata": {},
   "source": [
    "|제목 셀|제목 셀|제목 셀|\n",
    "|:--|--:|:--:|\n",
    "|값1|값2|값3|"
   ]
  },
  {
   "cell_type": "markdown",
   "id": "2812795c-28eb-4d55-a66e-2655a08a6eee",
   "metadata": {},
   "source": [
    "```python\n",
    "\n",
    "x = int(input(\"인사를 몇 번 할까요?\"))\n",
    "\n",
    "for _ in range(x):\n",
    "    print(\"Hello world\")\n",
    "\n",
    "\n",
    "```"
   ]
  },
  {
   "cell_type": "code",
   "execution_count": null,
   "id": "19bea2a0-ee73-4c21-95f9-07840411b4a9",
   "metadata": {},
   "outputs": [],
   "source": []
  }
 ],
 "metadata": {
  "kernelspec": {
   "display_name": "Python 3 (ipykernel)",
   "language": "python",
   "name": "python3"
  },
  "language_info": {
   "codemirror_mode": {
    "name": "ipython",
    "version": 3
   },
   "file_extension": ".py",
   "mimetype": "text/x-python",
   "name": "python",
   "nbconvert_exporter": "python",
   "pygments_lexer": "ipython3",
   "version": "3.9.13"
  }
 },
 "nbformat": 4,
 "nbformat_minor": 5
}
