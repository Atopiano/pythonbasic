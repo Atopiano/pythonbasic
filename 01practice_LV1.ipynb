{
 "cells": [
  {
   "cell_type": "markdown",
   "id": "98ef3e11-fb8a-4d97-ae57-e3c0ed129ba3",
   "metadata": {},
   "source": [
    "### 주말에는 주중에 배웠던 연습문제를 다시 풀어본다.  \n",
    "\n",
    "### 1주차 연습문제"
   ]
  },
  {
   "cell_type": "markdown",
   "id": "0b5140fe-4c2f-4302-a9c6-e7a8fea83253",
   "metadata": {},
   "source": [
    "# 연습문제(print 함수를 이용한 출력)\n",
    "\n",
    "> Hello, world!  \n",
    "Hello, world!  \n",
    "Python Progamming\n",
    "\n",
    "실행결과가 위와 같이 출력되도록 하나의 셀에 파이썬 코드를 작성하시오."
   ]
  },
  {
   "cell_type": "code",
   "execution_count": 1,
   "id": "11823fce-8b77-436a-9112-49a71bda0104",
   "metadata": {},
   "outputs": [
    {
     "name": "stdout",
     "output_type": "stream",
     "text": [
      "Hello, world!\n",
      "Hello, world!\n",
      "Python Programming\n"
     ]
    }
   ],
   "source": [
    "print(\"Hello, world!\")\n",
    "print(\"Hello, world!\")\n",
    "print(\"Python Programming\")"
   ]
  },
  {
   "cell_type": "markdown",
   "id": "03d1347c-0f51-4530-b376-3972e74394d4",
   "metadata": {},
   "source": [
    "# 연습문제(사칙연산)\n",
    "\n",
    "[문제 1] 13 + (22 - 3) x 4 의 결과를 구해보세요.\n",
    "\n",
    "[문제 2] 13 + ((22 - 3) x 4) ÷ 5 의 결과를 구해보세요."
   ]
  },
  {
   "cell_type": "code",
   "execution_count": 2,
   "id": "05eb789d-201b-48f5-bd00-53ecec3e261a",
   "metadata": {},
   "outputs": [
    {
     "name": "stdout",
     "output_type": "stream",
     "text": [
      "89\n"
     ]
    }
   ],
   "source": [
    "print(13 + (22 - 3) * 4)"
   ]
  },
  {
   "cell_type": "code",
   "execution_count": 3,
   "id": "ccd6bc01-2d98-4107-95a4-15d7d8fc872b",
   "metadata": {},
   "outputs": [
    {
     "name": "stdout",
     "output_type": "stream",
     "text": [
      "28.2\n"
     ]
    }
   ],
   "source": [
    "print(13 + ((22 - 3) * 4) / 5)"
   ]
  },
  {
   "cell_type": "markdown",
   "id": "ba6a6432-e739-4fc8-a511-7573a9f2b827",
   "metadata": {},
   "source": [
    "# 연습문제(자료형 변환)\n",
    "\n",
    "국립환경과학원에서는 아파트에서 소음이 가장 심한 층수를 구하는 계산식을  \n",
    "발표했습니다. 소음이 가장 심한 층은 0.2467 × 도로와의 거리(m) + 4.159 입니다. 이때  \n",
    "소음이 가장 심한 층수를 구해보세요.(단 층수는 정수로 표기 하세요.)\n",
    "\n",
    "- 도로와의 거리 12m"
   ]
  },
  {
   "cell_type": "code",
   "execution_count": 4,
   "id": "64e3d826-ddfc-49c4-994f-78a43b5a7e02",
   "metadata": {},
   "outputs": [
    {
     "data": {
      "text/plain": [
       "7"
      ]
     },
     "execution_count": 4,
     "metadata": {},
     "output_type": "execute_result"
    }
   ],
   "source": [
    "int(0.2467 * 12 + 4.159)"
   ]
  },
  {
   "cell_type": "markdown",
   "id": "0cc2000e-0991-4426-b1c4-26214406e096",
   "metadata": {},
   "source": [
    "# 연습문제 심화(문자열 출력)\n",
    "\n",
    "앞선 문제 결과를 아래와 같이 출력하고자 합니다.\n",
    "\n",
    "> 실행결과 :  \n",
    "가장 시끄러운 층은 = 7 층"
   ]
  },
  {
   "cell_type": "code",
   "execution_count": 5,
   "id": "502c4d0c-180d-40f4-bad8-8622be041abc",
   "metadata": {},
   "outputs": [
    {
     "name": "stdout",
     "output_type": "stream",
     "text": [
      "가장 시끄러운 층은 = 7 층\n"
     ]
    }
   ],
   "source": [
    "floor = int(0.2467 * 12 + 4.159)\n",
    "\n",
    "print(\"가장 시끄러운 층은 =\", floor, \"층\")"
   ]
  },
  {
   "cell_type": "markdown",
   "id": "b3b388bd-3152-4503-b343-9333a7c2fe01",
   "metadata": {},
   "source": [
    "# 연습문제\n",
    "\n",
    "헬로우마트에서 냉장고를 월 53,000원에 무이자 24개월 할부 조건으로 판매하고  \n",
    "있습니다. 냉장고의 총 금액을 아래와 같이 출력해보세요. \n",
    "\n",
    "> 실행결과 :  \n",
    "냉장고 가격은 1272000 원 입니다."
   ]
  },
  {
   "cell_type": "code",
   "execution_count": 6,
   "id": "ea9662bc-ac5c-477c-a755-f5fd7d7846d0",
   "metadata": {},
   "outputs": [
    {
     "name": "stdout",
     "output_type": "stream",
     "text": [
      "냉장고 가격은 1272000 원 입니다.\n"
     ]
    }
   ],
   "source": [
    "refrig_price = 53000 * 24\n",
    "\n",
    "print(\"냉장고 가격은\", refrig_price, \"원 입니다.\")"
   ]
  },
  {
   "cell_type": "markdown",
   "id": "5163283c-e80d-49c0-90db-bc064b17c61f",
   "metadata": {},
   "source": [
    "# 연습문제\n",
    "\n",
    "학원에서 학생들을 위해 20,000원짜리 책을 인당 3권씩 구매했을 때  \n",
    "총 지불해야 하는 금액을 아래 실행결과와 같게 출력하세요.\n",
    "\n",
    "- 총 인원 수 250명(people이라는 변수에 값을 저장하세요.)\n",
    "- 세금 10% 적용(tax라는 변수에 값을 저장하세요.)\n",
    "\n",
    "> 실행 결과:  \n",
    "총 지불 해야 할 금액은 ???????? 원 입니다."
   ]
  },
  {
   "cell_type": "code",
   "execution_count": 7,
   "id": "8674d41d-276d-40e1-bd93-e8f1690aecae",
   "metadata": {},
   "outputs": [
    {
     "name": "stdout",
     "output_type": "stream",
     "text": [
      "총 지불 해야 할 금액은 16500000 원 입니다.\n"
     ]
    }
   ],
   "source": [
    "people = 250\n",
    "tax = 10\n",
    "\n",
    "total_price = int(20000 * 3 * (1 + tax/100) * 250)\n",
    "\n",
    "print(\"총 지불 해야 할 금액은\", total_price, \"원 입니다.\")"
   ]
  },
  {
   "cell_type": "markdown",
   "id": "0c88204f-59ef-48bf-926f-659b340c7cf2",
   "metadata": {},
   "source": [
    "# 연습문제\n",
    "\n",
    "L이라는 게임에서 “왜곡”이라는 스킬이 AP(Ability Power, 주문력) × 0.6 +  \n",
    "225의 피해를 줍니다. AP가 아래와 같을 때 스킬 피해량을 구해보세요.\n",
    "\n",
    "- AP : 380"
   ]
  },
  {
   "cell_type": "code",
   "execution_count": 8,
   "id": "90165d0b-f703-41cb-acdb-5ba5bea1dc74",
   "metadata": {},
   "outputs": [
    {
     "name": "stdout",
     "output_type": "stream",
     "text": [
      "453.0\n"
     ]
    }
   ],
   "source": [
    "AP = 380\n",
    "\n",
    "print(AP * 0.6 + 225)"
   ]
  },
  {
   "cell_type": "markdown",
   "id": "5d3f2284-76ad-4959-aa01-e13d6d6b6404",
   "metadata": {},
   "source": [
    "# 연습문제(\\를 이용한 출력)\n",
    "\n",
    "아래의 문장을 문자열 리터럴로 만든 후 출력(print)해보세요.\n",
    "\n",
    "“안녕?”이라는 그 인사를 듣고 나는 ‘누구지?’라고 생각했다.\n",
    "\n",
    "> 실행 결과:  \n",
    "“안녕?”이라는 그 인사를 듣고 나는 ‘누구지?’라고 생각했다."
   ]
  },
  {
   "cell_type": "code",
   "execution_count": 9,
   "id": "d32943df-7361-4def-860f-4dc345e5b9b1",
   "metadata": {},
   "outputs": [
    {
     "name": "stdout",
     "output_type": "stream",
     "text": [
      "\"안녕?\"이라는 그 인사를 듣고 나는 '누구지?'라고 생각했다.\n"
     ]
    }
   ],
   "source": [
    "print(\"\\\"안녕?\\\"이라는 그 인사를 듣고 나는 \\'누구지?\\'라고 생각했다.\")"
   ]
  },
  {
   "cell_type": "markdown",
   "id": "9032f01d-6a25-420b-9c54-9c1729796246",
   "metadata": {},
   "source": [
    "# 연습문제(\"\"\", 삼중따옴표)\n",
    "\n",
    "앞선 예제 코드에서 마지막 줄 바꿈도 되지 않게 변경해보세요.\n",
    "\n",
    "> 실행 결과:  \n",
    "안녕하세요.  \n",
    "나는 파이썬을 공부하고 있습니다.  \n",
    "반갑습니다. \n"
   ]
  },
  {
   "cell_type": "code",
   "execution_count": 10,
   "id": "81a0177a-5836-45d1-9895-cff088ccd5ae",
   "metadata": {},
   "outputs": [
    {
     "name": "stdout",
     "output_type": "stream",
     "text": [
      "안녕하세요.\n",
      "나는 파이썬을 공부하고 있습니다.\n",
      "반갑습니다.\n"
     ]
    }
   ],
   "source": [
    "s1 = \"\"\"\\\n",
    "안녕하세요.\n",
    "나는 파이썬을 공부하고 있습니다.\n",
    "반갑습니다.\\\n",
    "\"\"\"\n",
    "\n",
    "print(s1)"
   ]
  },
  {
   "cell_type": "markdown",
   "id": "865488fa-5171-4ae2-b895-78d78fef246c",
   "metadata": {},
   "source": [
    "# 연습문제\n",
    "\n",
    "아래의 결과가 나오도록 삼중 따옴표를 사용하여 출력해보세요.\n",
    "\n",
    "> 실행 결과:  \n",
    "“안녕하세요.”  \n",
    "나는 파이썬을 공부하고 있습니다.  \n",
    "반갑습니다.  "
   ]
  },
  {
   "cell_type": "code",
   "execution_count": 11,
   "id": "c0f4d031-3067-44c8-9299-cf6762075623",
   "metadata": {},
   "outputs": [
    {
     "name": "stdout",
     "output_type": "stream",
     "text": [
      "\"안녕하세요.\"\n",
      "나는 파이썬을 공부하고 있습니다.\n",
      "반갑습니다.\n"
     ]
    }
   ],
   "source": [
    "s2 = \"\"\"\\\n",
    "\"안녕하세요.\"\n",
    "나는 파이썬을 공부하고 있습니다.\n",
    "반갑습니다.\\\n",
    "\"\"\"\n",
    "\n",
    "print(s2)"
   ]
  },
  {
   "cell_type": "markdown",
   "id": "d82420c6-9840-4953-813b-b0164597bad4",
   "metadata": {},
   "source": [
    "# 연습문제(문자열 반복과 연결)\n",
    "\n",
    "다음과 같이 결과를 만들어보세요.\n",
    "\n",
    "> 실행 결과:  \n",
    "너무 너무 너무 너무 너무 너무 너무 파이썬 공부가 즐겁습니다."
   ]
  },
  {
   "cell_type": "code",
   "execution_count": 12,
   "id": "d92db6bf-cd52-4a4a-80de-13839b23aa1d",
   "metadata": {},
   "outputs": [
    {
     "name": "stdout",
     "output_type": "stream",
     "text": [
      "너무 너무 너무 너무 너무 너무 너무 파이썬 공부가 즐겁습니다.\n"
     ]
    }
   ],
   "source": [
    "print(\"너무 너무 너무 너무 너무 너무 너무 파이썬 공부가 즐겁습니다.\")"
   ]
  },
  {
   "cell_type": "code",
   "execution_count": 13,
   "id": "59b3e1f4-e9fc-4473-bc29-3ef523f3fb04",
   "metadata": {},
   "outputs": [
    {
     "name": "stdout",
     "output_type": "stream",
     "text": [
      "너무 너무 너무 너무 너무 너무 너무 파이썬 공부가 즐겁습니다.\n"
     ]
    }
   ],
   "source": [
    "a = \"너무 \"\n",
    "\n",
    "print(a * 7 + \"파이썬 공부가 즐겁습니다.\")"
   ]
  },
  {
   "cell_type": "code",
   "execution_count": 14,
   "id": "a8e2238f-e5e2-4fb1-aead-ebfceea1cc3e",
   "metadata": {},
   "outputs": [
    {
     "name": "stdout",
     "output_type": "stream",
     "text": [
      "너무 너무 너무 너무 너무 너무 너무 너무 너무 너무 너무 너무 너무 너무 너무 너무 너무 너무 너무 너무 너무 너무 너무 너무 너무 너무 너무 너무 너무 너무 너무 너무 너무 너무 너무 너무 너무 너무 너무 너무 너무 너무 너무 너무 너무 너무 너무 너무 너무 너무 너무 너무 너무 너무 너무 너무 너무 너무 너무 너무 너무 너무 너무 너무 너무 너무 너무 너무 너무 너무 너무 너무 너무 너무 너무 너무 너무 너무 너무 너무 너무 너무 너무 너무 너무 너무 너무 너무 너무 너무 너무 너무 너무 너무 너무 너무 너무 너무 너무 너무 파이썬 공부가 즐겁습니다.\n"
     ]
    }
   ],
   "source": [
    "s3 = \"너무 \" * 100 + \"파이썬 공부가 즐겁습니다.\"\n",
    "\n",
    "print(s3)"
   ]
  },
  {
   "cell_type": "markdown",
   "id": "d850d961-984f-4c84-b74d-2c48424a54c0",
   "metadata": {},
   "source": [
    "# 연습문제(인덱스)\n",
    "\n",
    "sentence라는 명칭의 변수를 선언하고 ‘중요한 것은 꺾이지 않는 마음’의 문자열  \n",
    "리터럴을 할당하세요. 그리고 인덱싱을 활용하여 아래과 같은 결과를 출력해보세요.\n",
    "\n",
    "> 실행 결과 :  \n",
    "꺾"
   ]
  },
  {
   "cell_type": "code",
   "execution_count": 15,
   "id": "60dc5eb5-0a57-4c11-a592-078bc3b1fa99",
   "metadata": {},
   "outputs": [
    {
     "name": "stdout",
     "output_type": "stream",
     "text": [
      "꺾\n"
     ]
    }
   ],
   "source": [
    "sentence = \"중요한 것은 꺾이지 않는 마음\"\n",
    "\n",
    "print(sentence[7])"
   ]
  },
  {
   "cell_type": "markdown",
   "id": "d6192897-24e3-44fb-ac53-3626fc966df5",
   "metadata": {},
   "source": [
    "# 연습문제(슬라이싱)\n",
    "\n",
    "sentence라는 명칭의 변수를 선언하고 ‘중요한 것은 꺾이지 않는 마음’의 문자열  \n",
    "리터럴을 할당하세요. 그리고 슬라이싱을 활용하여 아래과 같은 결과를 출력해보세요.\n",
    "\n",
    "> 실행결과 :  \n",
    "꺾이지 않는 마음"
   ]
  },
  {
   "cell_type": "code",
   "execution_count": 16,
   "id": "4a932586-54f7-4895-aa55-a40ecd757d84",
   "metadata": {},
   "outputs": [
    {
     "name": "stdout",
     "output_type": "stream",
     "text": [
      "꺾이지 않는 마음\n"
     ]
    }
   ],
   "source": [
    "sentence = \"중요한 것은 꺾이지 않는 마음\"\n",
    "\n",
    "print(sentence[7:])"
   ]
  },
  {
   "cell_type": "markdown",
   "id": "221b7f05-29b1-4c11-915f-eac8f46e6b8c",
   "metadata": {},
   "source": [
    "> 실행결과 :  \n",
    "한요중"
   ]
  },
  {
   "cell_type": "code",
   "execution_count": 17,
   "id": "a23c681f-cb8a-49ad-802c-fe6f6fdeba6b",
   "metadata": {},
   "outputs": [
    {
     "name": "stdout",
     "output_type": "stream",
     "text": [
      "한요중\n"
     ]
    }
   ],
   "source": [
    "sentence = \"중요한 것은 꺾이지 않는 마음\"\n",
    "\n",
    "print(sentence[2::-1])"
   ]
  },
  {
   "cell_type": "markdown",
   "id": "8cdf0505-c13e-4290-9b9d-207130de0182",
   "metadata": {},
   "source": [
    "# 연습문제(입력)\n",
    "\n",
    "사용자의 이름을 물어보고 이어서 2개의 정수를 받아서 덧셈을 한 후 결과를 출력하는 \n",
    "프로그램을 작성해보세요.\n",
    "\n",
    "\n",
    "> 이름을 입력하시오 : 엔코아  \n",
    "엔코아 씨, 안녕하세요?  \n",
    "파이썬에 오신 것을 환영합니다.  \n",
    "첫 번째 정수를 입력하세요: 300  \n",
    "두 번째 정수를 입력하세요: 400  \n",
    "300 과 400 의 합은 700 입니다."
   ]
  },
  {
   "cell_type": "code",
   "execution_count": 20,
   "id": "ea31da12-3886-4f0b-8983-61c81a3f51d7",
   "metadata": {},
   "outputs": [
    {
     "name": "stdin",
     "output_type": "stream",
     "text": [
      "이름을 입력하시오. 엔코아\n"
     ]
    },
    {
     "name": "stdout",
     "output_type": "stream",
     "text": [
      "엔코아 씨, 안녕하세요?\n",
      "파이썬에 오신 것을 환영합니다.\n"
     ]
    },
    {
     "name": "stdin",
     "output_type": "stream",
     "text": [
      "첫 번째 정수를 입력하세요 : 300\n",
      "두 번째 정수를 입력하세요 : 400\n"
     ]
    },
    {
     "name": "stdout",
     "output_type": "stream",
     "text": [
      "300 과 400 의 합은 700 입니다.\n"
     ]
    }
   ],
   "source": [
    "user_name = input(\"이름을 입력하시오.\")\n",
    "\n",
    "print(user_name, \"씨, 안녕하세요?\")\n",
    "print(\"파이썬에 오신 것을 환영합니다.\")\n",
    "\n",
    "fir_num = int(input(\"첫 번째 정수를 입력하세요 :\"))\n",
    "sec_num = int(input(\"두 번째 정수를 입력하세요 :\"))\n",
    "total = fir_num + sec_num\n",
    "\n",
    "print(fir_num, \"과\", sec_num, \"의 합은\", total, \"입니다.\") "
   ]
  },
  {
   "cell_type": "markdown",
   "id": "c757b36d-2f6e-4acf-9a09-e914a94da492",
   "metadata": {},
   "source": [
    "# 연습문제\n",
    "\n",
    "사용자에게 경기장, 점수, 이긴 팀, 진 팀, 우수 선수를 질문하고 변수에 저장합니다.  \n",
    "이들 문자열에 문장을 붙여서 기사를 작성해봅시다.\n",
    "\n",
    "``` python\n",
    "\n",
    "경기장은 어디입니까? 고척  \n",
    "이긴 팀은 어디입니까? KT  \n",
    "진팀은 어디입니까? LG  \n",
    "우수 선수는 누구입니까? 강백호  \n",
    "스코어는 몇대몇입니까? 10:9  \n",
    "\n",
    "[속보] KT 가 10:9 로 승리…  \n",
    "오늘 고척 경기장에서 야구 경기가 있었습니다.  \n",
    "KT 와 LG 는 치열한 공방전을 펼쳤습니다.  \n",
    "이 경기에서 강백호 가 맹활약을 했습니다.  \n",
    "그 끝내 KT 가 LG 를 10:9 로 승리하였습니다.  \n",
    "기사 끝.\n",
    "```"
   ]
  },
  {
   "cell_type": "code",
   "execution_count": 21,
   "id": "66fda888-7ff1-4d08-aae1-a0799adecd39",
   "metadata": {},
   "outputs": [
    {
     "name": "stdin",
     "output_type": "stream",
     "text": [
      "경기장은 어디입니까? 고척\n",
      "이긴 팀은 어디입니까? KT\n",
      "진 팀은 어디입니까? LG\n",
      "우수 선수는 누구입니까? 강백호\n",
      "스코어는 몇대몇입니까? 10:9\n"
     ]
    },
    {
     "name": "stdout",
     "output_type": "stream",
     "text": [
      "\n",
      "[속보] KT 가 10:9 로 승리...\n",
      "오늘 고척 경기장에서 야구 경기가 있었습니다.\n",
      "KT 과 LG 는 치열한 공방전을 펼쳤습니다.\n",
      "이 경기에서 강백호 가 맹활약을 했습니다.\n",
      "그 끝내 KT 가 LG 를 10:9 로 승리하였습니다.\n",
      "기사 끝.\n"
     ]
    }
   ],
   "source": [
    "stadium = input(\"경기장은 어디입니까?\")\n",
    "win_team = input(\"이긴 팀은 어디입니까?\")\n",
    "lose_team = input(\"진 팀은 어디입니까?\")\n",
    "mvp = input(\"우수 선수는 누구입니까?\")\n",
    "score = input(\"스코어는 몇대몇입니까?\")\n",
    "\n",
    "print(\"\\n[속보]\", win_team, \"가\", score, \"로 승리...\")\n",
    "print(\"오늘\", stadium, \"경기장에서 야구 경기가 있었습니다.\")\n",
    "print(win_team, \"과\", lose_team, \"는 치열한 공방전을 펼쳤습니다.\")\n",
    "print(\"이 경기에서\", mvp, \"가 맹활약을 했습니다.\")\n",
    "print(\"그 끝내\", win_team, \"가\", lose_team, \"를\", score, \"로 승리하였습니다.\")\n",
    "print(\"기사 끝.\")"
   ]
  },
  {
   "cell_type": "markdown",
   "id": "8f251bd2-13fb-4aa6-997d-0e5ab1fec530",
   "metadata": {},
   "source": [
    "# 연습문제(split.)\n",
    "\n",
    "사용자로부터 “hh:mm:ss” 형태의 시간 값을 입력 받습니다. 예를 들면 12시 33분 23초일  \n",
    "때 “12:33:23” 과 같이 입력을 받습니다. 이 때 결과가 아래와 같게 나오도록  \n",
    "구현해보세요.\n",
    "\n",
    "실행 결과:  \n",
    "\n",
    "```python \n",
    "hh:mm:ss 의 형태로 시간을 입력해주세요 12:33:23  \n",
    "\n",
    "시 : 12  \n",
    "분 : 33  \n",
    "초 : 23  \n",
    "```"
   ]
  },
  {
   "cell_type": "code",
   "execution_count": 22,
   "id": "2d97b376-e4e3-4d92-b1fb-45c1cff85025",
   "metadata": {},
   "outputs": [
    {
     "name": "stdin",
     "output_type": "stream",
     "text": [
      "hh:mm:ss의 형태로 시간을 입력해주세요 12:33:23\n"
     ]
    },
    {
     "name": "stdout",
     "output_type": "stream",
     "text": [
      "\n",
      "시 : 12\n",
      "분 : 33\n",
      "초 : 23\n"
     ]
    }
   ],
   "source": [
    "h, m, s =input(\"hh:mm:ss의 형태로 시간을 입력해주세요\").split(\":\")\n",
    "\n",
    "print(\"\\n시 :\", h)\n",
    "print(\"분 :\", m)\n",
    "print(\"초 :\", s)"
   ]
  },
  {
   "cell_type": "markdown",
   "id": "142bc96d-b5ad-4919-9d66-004902b5e28f",
   "metadata": {},
   "source": [
    "# 연습문제(map)\n",
    "\n",
    "사용자로부터 값을 입력 받습니다. 국어, 영어, 수학, 과학 점수를 한번에 입력받습니다.  \n",
    "이를 kor, eng, mat, sci라는 변수에 각각 저장하고, 사칙 연산을 활용하여 평균 점수를  \n",
    "산출해보세요.\n",
    "\n",
    "``` python\n",
    "국어, 영어, 수학, 과학 점수를 입력해주세요 98,100,96,100\n",
    "\n",
    "실행 결과:  \n",
    "평균 점수는 98.5 점입니다.\n",
    "```"
   ]
  },
  {
   "cell_type": "code",
   "execution_count": 23,
   "id": "e303e2ac-9023-4d86-85f0-105729b48438",
   "metadata": {},
   "outputs": [
    {
     "name": "stdin",
     "output_type": "stream",
     "text": [
      "국어, 영어, 수학, 과학 점수를 입력해주세요 98,100,96,100\n"
     ]
    },
    {
     "name": "stdout",
     "output_type": "stream",
     "text": [
      "\n",
      "평균 점수는 98.5 점 입니다.\n"
     ]
    }
   ],
   "source": [
    "kor, eng, mat, sci = map(int,input(\"국어, 영어, 수학, 과학 점수를 입력해주세요\").split(\",\"))\n",
    "average = (kor + eng + mat + sci) / 4\n",
    "\n",
    "print(\"\\n평균 점수는\", average, \"점 입니다.\")"
   ]
  },
  {
   "cell_type": "markdown",
   "id": "fd46493e-2512-4ed2-98f5-f51b4f834a35",
   "metadata": {},
   "source": [
    "# 연습문제(맨 뒤 출력문자 변경, sep, end)\n",
    "\n",
    "아래의 코드의 빈 줄을 완성하여 날짜와 시간이 실행 결과와 같이 출력되도록 \n",
    "구현해보세요.\n",
    "\n",
    "``` python\n",
    "\n",
    "year = ‘2021’ \n",
    "month = ‘02’  \n",
    "day = ‘03’  \n",
    "hour = ‘18’  \n",
    "minute = ‘33’  \n",
    "second = ‘23’  \n",
    "\n",
    "print(year, month, day,_________)  \n",
    "print(hour, minute, second,_____)\n",
    "```\n",
    "\n",
    "> 실행 결과:  \n",
    "2021/02/03 18:33:23\n"
   ]
  },
  {
   "cell_type": "code",
   "execution_count": 24,
   "id": "29750f09-2872-43f0-857b-0af7bda6b181",
   "metadata": {},
   "outputs": [
    {
     "name": "stdout",
     "output_type": "stream",
     "text": [
      "2021/02/03 18:33:23\n"
     ]
    }
   ],
   "source": [
    "year = '2021'\n",
    "month = '02'\n",
    "day = '03'\n",
    "hour = '18'\n",
    "minute = '33'\n",
    "second = '23'\n",
    "\n",
    "print(year, month, day, sep = \"/\", end = \" \")\n",
    "print(hour, minute, second, sep = \":\")"
   ]
  },
  {
   "cell_type": "markdown",
   "id": "c2e8a463-b989-40c5-bbba-2e0a7e753bc0",
   "metadata": {},
   "source": [
    "# 연습문제\n",
    "\n",
    "사과는 하나에 1000원 귤은 하나에 200원입니다. 사과와 귤을 구매한만큼 총액을  \n",
    "계산해주는 프로그램을 구현해보세요.  \n",
    "\n",
    "- input() 안내 문자열은 아래 예시와 동일하게 작성하고 1회 사용합니다.\n",
    "- map()과 split()을 활용해보세요.\n",
    "- 총 액수와 ‘원입니다.’는 붙여서 출력해보세요.\n",
    "``` python\n",
    "사과와 귤을 몇개 드릴까요? 10,20\n",
    "```\n",
    "\n",
    "> 실행 결과:  \n",
    "총 가격은 14000원입니다.\n"
   ]
  },
  {
   "cell_type": "code",
   "execution_count": 25,
   "id": "db79db87-1638-4712-b747-5908265a171e",
   "metadata": {},
   "outputs": [
    {
     "name": "stdin",
     "output_type": "stream",
     "text": [
      "사과와 귤을 몇개 드릴까요? 10,20\n"
     ]
    },
    {
     "name": "stdout",
     "output_type": "stream",
     "text": [
      "총 가격은 14000원입니다.\n"
     ]
    }
   ],
   "source": [
    "apple, orange = map(int, input(\"사과와 귤을 몇개 드릴까요?\").split(\",\"))\n",
    "\n",
    "a_p = 1000\n",
    "o_p = 200\n",
    "\n",
    "total = apple * a_p + orange * o_p\n",
    "\n",
    "print(\"총 가격은 \", total, \"원입니다.\", sep = \"\")"
   ]
  },
  {
   "cell_type": "markdown",
   "id": "9f5a89ab-76af-4b3e-89e8-6fed00c1abb8",
   "metadata": {},
   "source": [
    "# 연습문제(if 문)\n",
    "\n",
    "사용자로부터 아이디를 입력받습니다. 이때 아이디가 'admin'이면 '최고 관리자, 모든  \n",
    "권한을 갖습니다.'를 출력하고 프로그램을 종료합니다. 아이디가 'admin'이 아니면 회원  \n",
    "등급을 정수로 입력받습니다. 만약 회원 레벨이 1~3 사이 값이면 '제한적인 권한을  \n",
    "갖습니다.'를 출력하고, 그렇지 않으면 '권한이 없습니다.'를 출력하는 프로그램을  \n",
    "작성해보세요.\n",
    "\n",
    "실행결과:  \n",
    "``` python\n",
    "아이디를 입력하세요 : biana  \n",
    "회원 등급을 입력해주세요 : 3  \n",
    "\n",
    "제한적인 권한을 갖습니다.\n",
    "```"
   ]
  },
  {
   "cell_type": "code",
   "execution_count": 26,
   "id": "46a0d874-ee3f-4a3d-8eab-e9c994e99ed5",
   "metadata": {},
   "outputs": [
    {
     "name": "stdin",
     "output_type": "stream",
     "text": [
      "아이디를 입력하세요 biana\n",
      "회원 등급을 입력해주세요: 3\n"
     ]
    },
    {
     "name": "stdout",
     "output_type": "stream",
     "text": [
      "\n",
      "제한적인 권한을 갖습니다.\n"
     ]
    }
   ],
   "source": [
    "id = input(\"아이디를 입력하세요\")\n",
    "\n",
    "if id == \"admin\":\n",
    "    print(\"\\n최고 관리자, 모든 권한을 갖습니다.\")\n",
    "else:\n",
    "    level = int(input(\"회원 등급을 입력해주세요:\"))\n",
    "    if 1 <= level <= 3:\n",
    "        print(\"\\n제한적인 권한을 갖습니다.\")\n",
    "    else:\n",
    "        print(\"\\n권한이 없습니다.\")"
   ]
  },
  {
   "cell_type": "markdown",
   "id": "f18e718a-8104-41c4-9922-37ea2b2f4122",
   "metadata": {},
   "source": [
    "# 연습문제\n",
    "\n",
    "사용자로부터 자연수를 입력 받습니다. 그 숫자에서 50을 뺀 값을 출력하세요.   \n",
    "\n",
    "- 단 출력 값의 범위는 0 이상입니다.\n",
    "- 50을 뺀 결과가 음수가 될 경우 0을 출력해야 합니다.\n",
    "\n",
    "> 실행 결과:  \n",
    "자연수 하나 입력해주세요: 21  \n",
    "0  \n",
    "\n",
    "> 실행 결과:  \n",
    "자연수 하나 입력해주세요: 70  \n",
    "20"
   ]
  },
  {
   "cell_type": "code",
   "execution_count": 27,
   "id": "036df7c8-0588-4372-95b0-03b1ec2d77c0",
   "metadata": {},
   "outputs": [
    {
     "name": "stdin",
     "output_type": "stream",
     "text": [
      "자연수 하나 입력해주세요: 21\n"
     ]
    },
    {
     "name": "stdout",
     "output_type": "stream",
     "text": [
      "0\n"
     ]
    }
   ],
   "source": [
    "num = int(input(\"자연수 하나 입력해주세요:\"))\n",
    "\n",
    "result = num - 50\n",
    "\n",
    "if result < 0:\n",
    "    result = 0\n",
    "\n",
    "print(result)"
   ]
  },
  {
   "cell_type": "code",
   "execution_count": 28,
   "id": "e5d8e4f7-2e18-4a1e-9045-797669ee03a3",
   "metadata": {},
   "outputs": [
    {
     "name": "stdin",
     "output_type": "stream",
     "text": [
      "자연수 하나 입력해주세요: 70\n"
     ]
    },
    {
     "name": "stdout",
     "output_type": "stream",
     "text": [
      "20\n"
     ]
    }
   ],
   "source": [
    "num = int(input(\"자연수 하나 입력해주세요:\"))\n",
    "\n",
    "result = num - 50\n",
    "\n",
    "if result < 0:\n",
    "    result = 0\n",
    "\n",
    "print(result)"
   ]
  },
  {
   "cell_type": "markdown",
   "id": "46e733b4-7ca4-4b3b-a424-5bde8b726c20",
   "metadata": {},
   "source": [
    "# 연습문제\n",
    "\n",
    "사용자로부터 자연수를 입력 받습니다.\n",
    "\n",
    "값이 짝수인지 홀수인지 화면에 출력합니다.\n",
    "\n",
    "> 실행 결과:  \n",
    "자연수 하나 입력해주세요: 20  \n",
    "짝수입니다.  \n",
    "\n",
    "> 실행 결과:  \n",
    "자연수 하나 입력해주세요: 21  \n",
    "홀수입니다."
   ]
  },
  {
   "cell_type": "code",
   "execution_count": 29,
   "id": "e85d0e99-b540-4e0c-8e83-dfd000d0b296",
   "metadata": {},
   "outputs": [
    {
     "name": "stdin",
     "output_type": "stream",
     "text": [
      "자연수 하나 입력해주세요: 20\n"
     ]
    },
    {
     "name": "stdout",
     "output_type": "stream",
     "text": [
      "짝수입니다.\n"
     ]
    }
   ],
   "source": [
    "num = int(input(\"자연수 하나 입력해주세요:\"))\n",
    "\n",
    "if num % 2 == 1:\n",
    "    print(\"홀수입니다.\")\n",
    "else:\n",
    "    print(\"짝수입니다.\")"
   ]
  },
  {
   "cell_type": "code",
   "execution_count": 30,
   "id": "bcc9073e-9172-4fca-b575-503355eb582f",
   "metadata": {},
   "outputs": [
    {
     "name": "stdin",
     "output_type": "stream",
     "text": [
      "자연수 하나 입력해주세요: 21\n"
     ]
    },
    {
     "name": "stdout",
     "output_type": "stream",
     "text": [
      "홀수입니다.\n"
     ]
    }
   ],
   "source": [
    "num = int(input(\"자연수 하나 입력해주세요:\"))\n",
    "\n",
    "if num % 2 == 1:\n",
    "    print(\"홀수입니다.\")\n",
    "else:\n",
    "    print(\"짝수입니다.\")"
   ]
  },
  {
   "cell_type": "markdown",
   "id": "061dba2a-7961-4481-a256-cff97462a38b",
   "metadata": {},
   "source": [
    "# 연습문제\n",
    "\n",
    "사용자로부터 소프트웨어 설계, 소프트웨어 개발, 데이터베이스 구축, 프로그래밍 언어  \n",
    "활용, 정보시스템 구축관리 점수를 입력 받습니다. 과목 평균 점수가 60점 이상일 때  \n",
    "합격입니다. 평균 점수에 따라 ‘합격’, ‘불합격’을 출력하는 프로그램을 만드세요.  \n",
    "\n",
    "- 점수는 0점부터 100점까지만 유효합니다. 이를 벗어난 점수가 입력되면 “잘못된  \n",
    "점수입니다.”를 출력하고 ‘합격’, ‘불합격’에 대해선 출력않고 프로그램을 종료합니다.  \n",
    "\n",
    "- 과목별 점수는 일단 전부 입력 받습니다.\n",
    "\n",
    "> 실행 결과:  \n",
    "소프트웨어 설계 점수를 입력하세요. 60  \n",
    "소프트웨어 개발 점수를 입력하세요. 60  \n",
    "데이터베이스 구축 점수를 입력하세요. 60  \n",
    "프로그래밍 언어 활용 점수를 입력하세요. 60  \n",
    "정보시스템 구축관리 점수를 입력하세요. 60  \n",
    "합격  \n",
    "\n",
    "> 실행 결과:  \n",
    "소프트웨어 설계 점수를 입력하세요. -7  \n",
    "소프트웨어 개발 점수를 입력하세요. 50  \n",
    "데이터베이스 구축 점수를 입력하세요. 40  \n",
    "프로그래밍 언어 활용 점수를 입력하세요. 30  \n",
    "정보시스템 구축관리 점수를 입력하세요. 70  \n",
    "잘못된 점수입니다."
   ]
  },
  {
   "cell_type": "code",
   "execution_count": 31,
   "id": "3bf2c32d-8e18-4e1b-9d60-973769e32864",
   "metadata": {},
   "outputs": [
    {
     "name": "stdin",
     "output_type": "stream",
     "text": [
      "소프트웨어 설계 점수를 입력하세요. 60\n",
      "소프트웨어 개발 점수를 입력하세요. 60\n",
      "데이터베이스 구축 점수를 입력하세요. 60\n",
      "프로그래밍 언어 활용 점수를 입력하세요. 60\n",
      "정보시스템 구축관리 점수를 입력하세요. 60\n"
     ]
    },
    {
     "name": "stdout",
     "output_type": "stream",
     "text": [
      "합격\n"
     ]
    }
   ],
   "source": [
    "a = int(input(\"소프트웨어 설계 점수를 입력하세요.\"))\n",
    "b = int(input(\"소프트웨어 개발 점수를 입력하세요.\"))\n",
    "c = int(input(\"데이터베이스 구축 점수를 입력하세요.\"))\n",
    "d = int(input(\"프로그래밍 언어 활용 점수를 입력하세요.\"))\n",
    "e = int(input(\"정보시스템 구축관리 점수를 입력하세요.\"))\n",
    "\n",
    "average = (a + b + c + d + e) / 5\n",
    "\n",
    "if 0 <= a <= 100 and 0 <= b <= 100 and 0 <= c <= 100 and 0 <= d <= 100 and 0 <= e <= 100:\n",
    "    if average >= 60:\n",
    "        print(\"합격\")\n",
    "    else:\n",
    "        print(\"불합격\")\n",
    "else:\n",
    "    print(\"잘못된 점수입니다.\")"
   ]
  },
  {
   "cell_type": "code",
   "execution_count": 32,
   "id": "6e8bbf17-7d0e-48d0-bf06-055ab69c78d4",
   "metadata": {},
   "outputs": [
    {
     "name": "stdin",
     "output_type": "stream",
     "text": [
      "소프트웨어 설계 점수를 입력하세요. -7\n",
      "소프트웨어 개발 점수를 입력하세요. 50\n",
      "데이터베이스 구축 점수를 입력하세요. 40\n",
      "프로그래밍 언어 활용 점수를 입력하세요. 30\n",
      "정보시스템 구축관리 점수를 입력하세요. 70\n"
     ]
    },
    {
     "name": "stdout",
     "output_type": "stream",
     "text": [
      "잘못된 점수입니다.\n"
     ]
    }
   ],
   "source": [
    "a = int(input(\"소프트웨어 설계 점수를 입력하세요.\"))\n",
    "b = int(input(\"소프트웨어 개발 점수를 입력하세요.\"))\n",
    "c = int(input(\"데이터베이스 구축 점수를 입력하세요.\"))\n",
    "d = int(input(\"프로그래밍 언어 활용 점수를 입력하세요.\"))\n",
    "e = int(input(\"정보시스템 구축관리 점수를 입력하세요.\"))\n",
    "\n",
    "average = (a + b + c + d + e) / 5\n",
    "\n",
    "if 0 <= a <= 100 and 0 <= b <= 100 and 0 <= c <= 100 and 0 <= d <= 100 and 0 <= e <= 100:\n",
    "    if average >= 60:\n",
    "        print(\"합격\")\n",
    "    else:\n",
    "        print(\"불합격\")\n",
    "else:\n",
    "    print(\"잘못된 점수입니다.\")"
   ]
  },
  {
   "cell_type": "markdown",
   "id": "84a97591-c106-49af-b7a4-becf4ec5e50e",
   "metadata": {},
   "source": [
    "# 연습문제(elif 문)\n",
    "\n",
    "물의 온도에 따라 현재 상태를 출력하는 프로그램을 만들려고 합니다. 사용자로부터 물의  \n",
    "온도가 몇인지 입력을 받고 100 이상이면 ‘기체로 예상됩니다.’를 출력합니다. 100보다  \n",
    "작고 0 이상이면 ‘액체로 예상됩니다.’를 출력합니다. 0 보다 작으면 ‘고체로 예상됩니다.’  \n",
    "를 출력합니다.\n",
    "\n",
    "> 실행 결과:  \n",
    "현재 물의 온도를 입력해주세요 -0.12  \n",
    "고체로 예상됩니다."
   ]
  },
  {
   "cell_type": "code",
   "execution_count": 33,
   "id": "9b7860d2-76b9-423f-896e-750a6fa75212",
   "metadata": {},
   "outputs": [
    {
     "name": "stdin",
     "output_type": "stream",
     "text": [
      "현재 물의 온도를 입력해주세요. -0.12\n"
     ]
    },
    {
     "name": "stdout",
     "output_type": "stream",
     "text": [
      "고체로 예상됩니다.\n"
     ]
    }
   ],
   "source": [
    "tem = float(input(\"현재 물의 온도를 입력해주세요.\"))\n",
    "\n",
    "if tem >= 100:\n",
    "    print(\"기체로 예상됩니다.\")\n",
    "elif 0 <= tem < 100:\n",
    "    print(\"액체로 예상됩니다.\")\n",
    "else:\n",
    "    print(\"고체로 예상됩니다.\")"
   ]
  },
  {
   "cell_type": "markdown",
   "id": "3c77e9c3-8f1f-4923-8a62-52d357311b19",
   "metadata": {},
   "source": [
    "# 연습문제\n",
    "\n",
    "일반 시내 버스 요금을 받는 프로그램을 만들려고 합니다. 성인(19세 이상)이면 1500원  \n",
    "청소년(12 ~ 18세)이면 1100원 어린이(6~11세)면 800원을 받고 미취학 아동은  \n",
    "무료입니다. 사용자로부터 나이를 입력 받고 나이에 따른 일반 시내 버스 요금을  \n",
    "출력하세요.\n",
    "\n",
    "> 실행 결과:  \n",
    "자신의 나이를 입력하세요: 19  \n",
    "1500원\n",
    "\n",
    "> 실행 결과:  \n",
    "자신의 나이를 입력하세요: 6  \n",
    "800원\n",
    "\n",
    "> 실행 결과:  \n",
    "자신의 나이를 입력하세요: 5  \n",
    "무임승차입니다."
   ]
  },
  {
   "cell_type": "code",
   "execution_count": 34,
   "id": "123ab23b-94f8-444f-b6ae-e085f7dcf94a",
   "metadata": {},
   "outputs": [
    {
     "name": "stdin",
     "output_type": "stream",
     "text": [
      "자신의 나이를 입력하세요: 19\n"
     ]
    },
    {
     "name": "stdout",
     "output_type": "stream",
     "text": [
      "1500원\n"
     ]
    }
   ],
   "source": [
    "age = int(input(\"자신의 나이를 입력하세요:\"))\n",
    "\n",
    "adult = \"1500원\"\n",
    "teenager = \"1100원\"\n",
    "child = \"800원\"\n",
    "\n",
    "if age >= 19:\n",
    "    print(adult)\n",
    "elif 12 <= age <= 18:\n",
    "    print(teenager)\n",
    "elif 6 <= age <= 11:\n",
    "    print(child)\n",
    "else:\n",
    "    print(\"무임승차입니다.\")"
   ]
  },
  {
   "cell_type": "code",
   "execution_count": 35,
   "id": "80011b39-d794-41fc-b866-aeedfab4f743",
   "metadata": {},
   "outputs": [
    {
     "name": "stdin",
     "output_type": "stream",
     "text": [
      "자신의 나이를 입력하세요: 6\n"
     ]
    },
    {
     "name": "stdout",
     "output_type": "stream",
     "text": [
      "800원\n"
     ]
    }
   ],
   "source": [
    "age = int(input(\"자신의 나이를 입력하세요:\"))\n",
    "\n",
    "adult = \"1500원\"\n",
    "teenager = \"1100원\"\n",
    "child = \"800원\"\n",
    "\n",
    "if age >= 19:\n",
    "    print(adult)\n",
    "elif 12 <= age <= 18:\n",
    "    print(teenager)\n",
    "elif 6 <= age <= 11:\n",
    "    print(child)\n",
    "else:\n",
    "    print(\"무임승차입니다.\")"
   ]
  },
  {
   "cell_type": "code",
   "execution_count": 36,
   "id": "d8f872ae-e4ad-4f52-9a5f-d8467711844b",
   "metadata": {},
   "outputs": [
    {
     "name": "stdin",
     "output_type": "stream",
     "text": [
      "자신의 나이를 입력하세요: 5\n"
     ]
    },
    {
     "name": "stdout",
     "output_type": "stream",
     "text": [
      "무임승차입니다.\n"
     ]
    }
   ],
   "source": [
    "age = int(input(\"자신의 나이를 입력하세요:\"))\n",
    "\n",
    "adult = \"1500원\"\n",
    "teenager = \"1100원\"\n",
    "child = \"800원\"\n",
    "\n",
    "if age >= 19:\n",
    "    print(adult)\n",
    "elif 12 <= age <= 18:\n",
    "    print(teenager)\n",
    "elif 6 <= age <= 11:\n",
    "    print(child)\n",
    "else:\n",
    "    print(\"무임승차입니다.\")"
   ]
  },
  {
   "cell_type": "markdown",
   "id": "93652d8b-09cd-4a0e-b479-c34a46206462",
   "metadata": {},
   "source": [
    "# 연습문제\n",
    "\n",
    "A사는 B사에서 C상품($10/개)을 납품합니다. 발주 수량에 따라 수량할인을 고려하여  \n",
    "납품가가 달라집니다. 1000개 미만은 수량할인이 적용되지 않습니다. 1000개부터 1500개  \n",
    "까지 5%, 1500개 초과 2000개까지 10%를 할인합니다. 2000개 초과부터는 20%를  \n",
    "할인합니다. 발주 수량을 사용자로부터 입력 받고 총 발주금액을 출력하는 프로그램을  \n",
    "작성해보세요. (소수점은 할인의 일환으로 버립니다.)\n",
    "\n",
    "> 실행 결과:  \n",
    "발주 수량을 입력하세요: 2001  \n",
    "2001개를 주문하셨습니다.  \n",
    "적용 할인율은 20%입니다.  \n",
    "총 발주 금액은 $16008입니다."
   ]
  },
  {
   "cell_type": "code",
   "execution_count": 37,
   "id": "b5f8cf1d-3481-4e1c-be2f-cd96512b712e",
   "metadata": {},
   "outputs": [
    {
     "name": "stdin",
     "output_type": "stream",
     "text": [
      "발주 수량을 입력하세요: 2001\n"
     ]
    },
    {
     "name": "stdout",
     "output_type": "stream",
     "text": [
      "2001개를 주문하셨습니다.\n",
      "적용 할인율은 20%입니다.\n",
      "총 발주 금액은 $16008입니다.\n"
     ]
    }
   ],
   "source": [
    "price = 10    #상품가격($10/개)\n",
    "amount = int(input(\"발주 수량을 입력하세요:\"))\n",
    "print(amount, \"개를 주문하셨습니다.\", sep = \"\")\n",
    "\n",
    "if amount < 1000:\n",
    "    discount = 0\n",
    "elif 1000 <= amount <= 1500:\n",
    "    discount = 5\n",
    "elif 1500 < amount <= 2000:\n",
    "    discount = 10\n",
    "else:\n",
    "    discount = 20\n",
    "\n",
    "total = int(price * amount * (1 - discount / 100))\n",
    "\n",
    "print(\"적용 할인율은 \", discount, \"%입니다.\", sep = \"\")\n",
    "print(\"총 발주 금액은 $\", total, \"입니다.\", sep = \"\")"
   ]
  },
  {
   "cell_type": "markdown",
   "id": "d7e94efb-060b-4569-bfa8-987ceefe9378",
   "metadata": {},
   "source": [
    "# 연습문제\n",
    "\n",
    "주민등록번호 뒷자리 7자리 중 맨 앞 번호가 1, 3인 경우는 남자이고 2, 4인 경우는  \n",
    "여자를 의미합니다. 주민등록번호 뒷자리를 입력 받아 성별을 확인하는 프로그램을  \n",
    "작성하세요.\n",
    "\n",
    "- 자리수가 7자리가 아니면 ‘자리수를 잘못 입력했습니다.”를 출력합니다.\n",
    "- 맨 앞 번호가 1, 2, 3, 4가 아니면 ‘잘못된 입력입니다.’를 출력합니다.\n",
    "\n",
    "> 실행 결과:  \n",
    "주민번호 뒷자리를 입력하세요: 123456  \n",
    "자리수를 잘못 입력했습니다.\n",
    "\n",
    "> 실행 결과:  \n",
    "주민번호 뒷자리를 입력하세요: 1234567  \n",
    "남자\n",
    "\n",
    "> 실행 결과:  \n",
    "주민번호 뒷자리를 입력하세요: 2345678  \n",
    "여자\n",
    "\n",
    "> 실행 결과:  \n",
    "주민번호 뒷자리를 입력하세요: 5678912  \n",
    "잘못된 입력입니다.\n"
   ]
  },
  {
   "cell_type": "code",
   "execution_count": 38,
   "id": "8cebe3e1-d85d-4d4c-96e0-ff8a20ad0ccc",
   "metadata": {},
   "outputs": [
    {
     "name": "stdin",
     "output_type": "stream",
     "text": [
      "주민번호 뒷자리를 입력하세요. 123456\n"
     ]
    },
    {
     "name": "stdout",
     "output_type": "stream",
     "text": [
      "자리수를 잘못 입력했습니다.\n"
     ]
    }
   ],
   "source": [
    "id_num = input(\"주민번호 뒷자리를 입력하세요.\")\n",
    "\n",
    "if len(id_num) != 7:\n",
    "    print(\"자리수를 잘못 입력했습니다.\")\n",
    "else:\n",
    "    first_num = int(id_num[0])\n",
    "    if first_num in(1, 3):\n",
    "        print(\"남자\")\n",
    "    elif first_num in(2,4):\n",
    "        print(\"여자\")\n",
    "    else:\n",
    "        print(\"잘못된 입력입니다.\")"
   ]
  },
  {
   "cell_type": "code",
   "execution_count": 39,
   "id": "ead00907-46a7-4782-ab24-e5007d0987b2",
   "metadata": {},
   "outputs": [
    {
     "name": "stdin",
     "output_type": "stream",
     "text": [
      "주민번호 뒷자리를 입력하세요. 1234567\n"
     ]
    },
    {
     "name": "stdout",
     "output_type": "stream",
     "text": [
      "남자\n"
     ]
    }
   ],
   "source": [
    "id_num = input(\"주민번호 뒷자리를 입력하세요.\")\n",
    "\n",
    "if len(id_num) != 7:\n",
    "    print(\"자리수를 잘못 입력했습니다.\")\n",
    "else:\n",
    "    first_num = int(id_num[0])\n",
    "    if first_num in(1, 3):\n",
    "        print(\"남자\")\n",
    "    elif first_num in(2,4):\n",
    "        print(\"여자\")\n",
    "    else:\n",
    "        print(\"잘못된 입력입니다.\")"
   ]
  },
  {
   "cell_type": "code",
   "execution_count": 40,
   "id": "02fa9eba-f147-4a9e-8fbd-014071a2cf10",
   "metadata": {},
   "outputs": [
    {
     "name": "stdin",
     "output_type": "stream",
     "text": [
      "주민번호 뒷자리를 입력하세요. 2345678\n"
     ]
    },
    {
     "name": "stdout",
     "output_type": "stream",
     "text": [
      "여자\n"
     ]
    }
   ],
   "source": [
    "id_num = input(\"주민번호 뒷자리를 입력하세요.\")\n",
    "\n",
    "if len(id_num) != 7:\n",
    "    print(\"자리수를 잘못 입력했습니다.\")\n",
    "else:\n",
    "    first_num = int(id_num[0])\n",
    "    if first_num in(1, 3):\n",
    "        print(\"남자\")\n",
    "    elif first_num in(2,4):\n",
    "        print(\"여자\")\n",
    "    else:\n",
    "        print(\"잘못된 입력입니다.\")"
   ]
  },
  {
   "cell_type": "code",
   "execution_count": 41,
   "id": "c70adcff-0a86-4e94-b470-b5760e34849d",
   "metadata": {},
   "outputs": [
    {
     "name": "stdin",
     "output_type": "stream",
     "text": [
      "주민번호 뒷자리를 입력하세요. 5678912\n"
     ]
    },
    {
     "name": "stdout",
     "output_type": "stream",
     "text": [
      "잘못된 입력입니다.\n"
     ]
    }
   ],
   "source": [
    "id_num = input(\"주민번호 뒷자리를 입력하세요.\")\n",
    "\n",
    "if len(id_num) != 7:\n",
    "    print(\"자리수를 잘못 입력했습니다.\")\n",
    "else:\n",
    "    first_num = int(id_num[0])\n",
    "    if first_num in(1, 3):\n",
    "        print(\"남자\")\n",
    "    elif first_num in(2,4):\n",
    "        print(\"여자\")\n",
    "    else:\n",
    "        print(\"잘못된 입력입니다.\")"
   ]
  },
  {
   "cell_type": "markdown",
   "id": "c254d78c-b79f-4620-8c51-47e318265ed6",
   "metadata": {},
   "source": [
    "# 연습문제\n",
    "\n",
    "사용자로부터 연도 값을 입력받고 윤년인지 아닌지 결과를 출력하는 프로그램을 작성해보세요.  \n",
    "\n",
    "- 연도가 4로 나누어 떨어지는 경우: 윤년, 그 밖의 해: 평년\n",
    "\n",
    "예외 규칙\n",
    "\n",
    "- 100으로 나누어 떨어지되 400으로 나누어 떨어지지 않는 해: 평년\n",
    "\n",
    "> 실행 결과:  \n",
    "확인할 연도를 입력하세요: 1896  \n",
    "윤년입니다.\n",
    "\n",
    "> 실행 결과:  \n",
    "확인할 연도를 입력하세요: 2000  \n",
    "윤년입니다.\n",
    "\n",
    "> 실행 결과:  \n",
    "확인할 연도를 입력하세요: 1900  \n",
    "평년입니다.\n",
    "\n",
    "> 실행 결과:  \n",
    "확인할 연도를 입력하세요: 2023  \n",
    "평년입니다."
   ]
  },
  {
   "cell_type": "code",
   "execution_count": 42,
   "id": "d3c99b4a-ae1a-4a42-a191-d109640afef9",
   "metadata": {},
   "outputs": [
    {
     "name": "stdin",
     "output_type": "stream",
     "text": [
      "확인할 연도를 입력하세요: 1896\n"
     ]
    },
    {
     "name": "stdout",
     "output_type": "stream",
     "text": [
      "윤년입니다.\n"
     ]
    }
   ],
   "source": [
    "year = int(input(\"확인할 연도를 입력하세요:\"))\n",
    "\n",
    "if year % 4 == 0:\n",
    "    if year % 100 == 0 and year % 400 != 0:\n",
    "        print(\"평년입니다.\")\n",
    "    else:\n",
    "        print(\"윤년입니다.\")\n",
    "else:\n",
    "    print(\"평년입니다.\")"
   ]
  },
  {
   "cell_type": "code",
   "execution_count": 43,
   "id": "f3786be4-e043-4c88-8d6a-114ecbed6ab5",
   "metadata": {},
   "outputs": [
    {
     "name": "stdin",
     "output_type": "stream",
     "text": [
      "확인할 연도를 입력하세요: 2000\n"
     ]
    },
    {
     "name": "stdout",
     "output_type": "stream",
     "text": [
      "윤년입니다.\n"
     ]
    }
   ],
   "source": [
    "year = int(input(\"확인할 연도를 입력하세요:\"))\n",
    "\n",
    "if year % 4 == 0:\n",
    "    if year % 100 == 0 and year % 400 != 0:\n",
    "        print(\"평년입니다.\")\n",
    "    else:\n",
    "        print(\"윤년입니다.\")\n",
    "else:\n",
    "    print(\"평년입니다.\")"
   ]
  },
  {
   "cell_type": "code",
   "execution_count": 44,
   "id": "3584de62-2f0a-49fe-92f6-6eaa4a6752a6",
   "metadata": {},
   "outputs": [
    {
     "name": "stdin",
     "output_type": "stream",
     "text": [
      "확인할 연도를 입력하세요: 1900\n"
     ]
    },
    {
     "name": "stdout",
     "output_type": "stream",
     "text": [
      "평년입니다.\n"
     ]
    }
   ],
   "source": [
    "year = int(input(\"확인할 연도를 입력하세요:\"))\n",
    "\n",
    "if year % 4 == 0:\n",
    "    if year % 100 == 0 and year % 400 != 0:\n",
    "        print(\"평년입니다.\")\n",
    "    else:\n",
    "        print(\"윤년입니다.\")\n",
    "else:\n",
    "    print(\"평년입니다.\")"
   ]
  },
  {
   "cell_type": "code",
   "execution_count": 45,
   "id": "49f94578-b79a-4ff8-aee5-43a5c7e23fed",
   "metadata": {},
   "outputs": [
    {
     "name": "stdin",
     "output_type": "stream",
     "text": [
      "확인할 연도를 입력하세요: 2023\n"
     ]
    },
    {
     "name": "stdout",
     "output_type": "stream",
     "text": [
      "평년입니다.\n"
     ]
    }
   ],
   "source": [
    "year = int(input(\"확인할 연도를 입력하세요:\"))\n",
    "\n",
    "if year % 4 == 0:\n",
    "    if year % 100 == 0 and year % 400 != 0:\n",
    "        print(\"평년입니다.\")\n",
    "    else:\n",
    "        print(\"윤년입니다.\")\n",
    "else:\n",
    "    print(\"평년입니다.\")"
   ]
  },
  {
   "cell_type": "markdown",
   "id": "c0543790-68d2-41d3-9139-6c5aef254df2",
   "metadata": {},
   "source": [
    "# 연습문제(반복문, range)\n",
    "\n",
    "Hello world를 100번 출력해주세요. 다만 숫자를 1부터 100까지 함께 출력해주세요. 아래  \n",
    "실행 결과를 참고하세요.\n",
    "\n",
    "> 실행 결과:  \n",
    "Hello world 1  \n",
    "Hello world 2  \n",
    "Hello world 3  \n",
    "…  \n",
    "Hello world 99  \n",
    "Hello world 100  "
   ]
  },
  {
   "cell_type": "code",
   "execution_count": 46,
   "id": "87837e4c-3893-43a9-bebe-1cf10dae9cef",
   "metadata": {
    "scrolled": true,
    "tags": []
   },
   "outputs": [
    {
     "name": "stdout",
     "output_type": "stream",
     "text": [
      "Hello world 1\n",
      "Hello world 2\n",
      "Hello world 3\n",
      "Hello world 4\n",
      "Hello world 5\n",
      "Hello world 6\n",
      "Hello world 7\n",
      "Hello world 8\n",
      "Hello world 9\n",
      "Hello world 10\n",
      "Hello world 11\n",
      "Hello world 12\n",
      "Hello world 13\n",
      "Hello world 14\n",
      "Hello world 15\n",
      "Hello world 16\n",
      "Hello world 17\n",
      "Hello world 18\n",
      "Hello world 19\n",
      "Hello world 20\n",
      "Hello world 21\n",
      "Hello world 22\n",
      "Hello world 23\n",
      "Hello world 24\n",
      "Hello world 25\n",
      "Hello world 26\n",
      "Hello world 27\n",
      "Hello world 28\n",
      "Hello world 29\n",
      "Hello world 30\n",
      "Hello world 31\n",
      "Hello world 32\n",
      "Hello world 33\n",
      "Hello world 34\n",
      "Hello world 35\n",
      "Hello world 36\n",
      "Hello world 37\n",
      "Hello world 38\n",
      "Hello world 39\n",
      "Hello world 40\n",
      "Hello world 41\n",
      "Hello world 42\n",
      "Hello world 43\n",
      "Hello world 44\n",
      "Hello world 45\n",
      "Hello world 46\n",
      "Hello world 47\n",
      "Hello world 48\n",
      "Hello world 49\n",
      "Hello world 50\n",
      "Hello world 51\n",
      "Hello world 52\n",
      "Hello world 53\n",
      "Hello world 54\n",
      "Hello world 55\n",
      "Hello world 56\n",
      "Hello world 57\n",
      "Hello world 58\n",
      "Hello world 59\n",
      "Hello world 60\n",
      "Hello world 61\n",
      "Hello world 62\n",
      "Hello world 63\n",
      "Hello world 64\n",
      "Hello world 65\n",
      "Hello world 66\n",
      "Hello world 67\n",
      "Hello world 68\n",
      "Hello world 69\n",
      "Hello world 70\n",
      "Hello world 71\n",
      "Hello world 72\n",
      "Hello world 73\n",
      "Hello world 74\n",
      "Hello world 75\n",
      "Hello world 76\n",
      "Hello world 77\n",
      "Hello world 78\n",
      "Hello world 79\n",
      "Hello world 80\n",
      "Hello world 81\n",
      "Hello world 82\n",
      "Hello world 83\n",
      "Hello world 84\n",
      "Hello world 85\n",
      "Hello world 86\n",
      "Hello world 87\n",
      "Hello world 88\n",
      "Hello world 89\n",
      "Hello world 90\n",
      "Hello world 91\n",
      "Hello world 92\n",
      "Hello world 93\n",
      "Hello world 94\n",
      "Hello world 95\n",
      "Hello world 96\n",
      "Hello world 97\n",
      "Hello world 98\n",
      "Hello world 99\n",
      "Hello world 100\n"
     ]
    }
   ],
   "source": [
    "for _ in range(1,101):\n",
    "    print(\"Hello world\", _)"
   ]
  },
  {
   "cell_type": "markdown",
   "id": "1a1d3cc4-9934-4124-a133-ae5bc3196e96",
   "metadata": {},
   "source": [
    "# 연습문제\n",
    "\n",
    "사용자로부터 정수를 입력받고 입력받은 횟수만큼 “Hello world”를 출력해보세요.  \n",
    "\n",
    "> 실행 결과:  \n",
    "인사 몇 번 해드릴까요? 3  \n",
    "Hello world  \n",
    "Hello world  \n",
    "Hello world  "
   ]
  },
  {
   "cell_type": "code",
   "execution_count": 48,
   "id": "44899eb5-bb70-408b-8981-fc974bdfbfdc",
   "metadata": {},
   "outputs": [
    {
     "name": "stdin",
     "output_type": "stream",
     "text": [
      "인사 몇 번 해드릴까요? 3\n"
     ]
    },
    {
     "name": "stdout",
     "output_type": "stream",
     "text": [
      "Hello world\n",
      "Hello world\n",
      "Hello world\n"
     ]
    }
   ],
   "source": [
    "n = int(input(\"인사 몇 번 해드릴까요?\"))\n",
    "\n",
    "for _ in range(n):\n",
    "    print(\"Hello world\")"
   ]
  },
  {
   "cell_type": "markdown",
   "id": "0090d11c-5dbe-4daa-af97-7803dd71020b",
   "metadata": {},
   "source": [
    "# 연습문제\n",
    "\n",
    "아래의 실행 결과처럼 나오도록 list()와 range()를 활용해서 구현해봅시다.\n",
    "\n",
    "> 실행 결과:  \n",
    "[5, 6, 7, 8, 9]\n",
    "\n",
    "> 실행 결과:  \n",
    "[0, 3, 6, 9]\n",
    "\n",
    "> 실행 결과:  \n",
    "[-10, -40, -70]"
   ]
  },
  {
   "cell_type": "code",
   "execution_count": 49,
   "id": "7d18ba69-3d36-4956-b436-d8c87ea5ccea",
   "metadata": {},
   "outputs": [
    {
     "name": "stdout",
     "output_type": "stream",
     "text": [
      "[5, 6, 7, 8, 9]\n"
     ]
    }
   ],
   "source": [
    "print(list(range(5,10,)))"
   ]
  },
  {
   "cell_type": "code",
   "execution_count": 50,
   "id": "7203bd66-eda8-4049-b109-ce902e620a73",
   "metadata": {},
   "outputs": [
    {
     "name": "stdout",
     "output_type": "stream",
     "text": [
      "[0, 3, 6, 9]\n"
     ]
    }
   ],
   "source": [
    "print(list(range(0,10,3)))"
   ]
  },
  {
   "cell_type": "code",
   "execution_count": 51,
   "id": "c9de3d8d-a688-4222-8fb8-cc1499486911",
   "metadata": {},
   "outputs": [
    {
     "name": "stdout",
     "output_type": "stream",
     "text": [
      "[-10, -40, -70]\n"
     ]
    }
   ],
   "source": [
    "print(list(range(-10,-71,-30)))"
   ]
  },
  {
   "cell_type": "markdown",
   "id": "4c33641a-4f18-4834-b667-160debb2fee7",
   "metadata": {},
   "source": [
    "# 연습문제\n",
    "\n",
    "아래의 실행 결과처럼 나오도록 for문과 range()를 활용해서 구현해봅시다.\n",
    "\n",
    "- 숫자와 숫자 사이에 \\t를 사용합니다.\n",
    "\n",
    "``` python\n",
    "실행 결과:  \n",
    "자연수 하나 입력해주세요: 6  \n",
    "6    6    6    6    6    6  \n",
    "5    5    5    5    5  \n",
    "4    4    4    4  \n",
    "3    3    3  \n",
    "2    2  \n",
    "1\n",
    "```"
   ]
  },
  {
   "cell_type": "code",
   "execution_count": 52,
   "id": "0cb8bebf-c3e0-4abf-96b3-c5eac06a5bb6",
   "metadata": {},
   "outputs": [
    {
     "name": "stdin",
     "output_type": "stream",
     "text": [
      "자연수 하나 입력해주세요 : 6\n"
     ]
    },
    {
     "name": "stdout",
     "output_type": "stream",
     "text": [
      "6\t6\t6\t6\t6\t6\t\n",
      "5\t5\t5\t5\t5\t\n",
      "4\t4\t4\t4\t\n",
      "3\t3\t3\t\n",
      "2\t2\t\n",
      "1\t\n"
     ]
    }
   ],
   "source": [
    "num = int(input(\"자연수 하나 입력해주세요 :\"))\n",
    "\n",
    "for i in range(num,0,-1):\n",
    "    for j in range(i):\n",
    "        print(i, end = \"\\t\")\n",
    "    print()"
   ]
  },
  {
   "cell_type": "markdown",
   "id": "0e1dd092-b397-4b5d-8768-20ada2e98665",
   "metadata": {},
   "source": [
    "# 연습문제\n",
    "\n",
    "아래의 실행 결과처럼 나오도록 list()와 range()를 활용해서 구현해봅시다.  \n",
    "\n",
    "```python\n",
    "\n",
    "첫 줄의 ‘* ‘의 개수는 10개입니다.\n",
    "\n",
    "실행 결과: \n",
    "* * * * * * * *\n",
    "*             *\n",
    "*             *\n",
    "*             *\n",
    "*             *\n",
    "*             *\n",
    "*             *\n",
    "* * * * * * * *\n",
    "\n",
    "```"
   ]
  },
  {
   "cell_type": "code",
   "execution_count": 53,
   "id": "1636c509-bea1-4fc5-8fdd-89087f49d5d2",
   "metadata": {},
   "outputs": [
    {
     "name": "stdout",
     "output_type": "stream",
     "text": [
      "* * * * * * * * * *\n",
      "*                 *\n",
      "*                 *\n",
      "*                 *\n",
      "*                 *\n",
      "*                 *\n",
      "*                 *\n",
      "*                 *\n",
      "*                 *\n",
      "* * * * * * * * * *\n"
     ]
    }
   ],
   "source": [
    "print(\"* * * * * * * * * *\")\n",
    "for _ in range(8):\n",
    "    print(\"*                 *\")\n",
    "print(\"* * * * * * * * * *\")"
   ]
  },
  {
   "cell_type": "code",
   "execution_count": 54,
   "id": "007c7265-7f71-4114-9b4f-a95760702103",
   "metadata": {},
   "outputs": [
    {
     "name": "stdout",
     "output_type": "stream",
     "text": [
      "* * * * * * * * * * \n",
      "*                 *\n",
      "*                 *\n",
      "*                 *\n",
      "*                 *\n",
      "*                 *\n",
      "*                 *\n",
      "*                 *\n",
      "*                 *\n",
      "* * * * * * * * * * \n"
     ]
    }
   ],
   "source": [
    "for _ in range(10):\n",
    "    if _ in (0, 9):\n",
    "        print(\"* \" * 10)\n",
    "    else:\n",
    "        print(\"*                 *\")"
   ]
  },
  {
   "cell_type": "markdown",
   "id": "f9a95e80-df75-45db-a9a9-ff7de0fefbd7",
   "metadata": {},
   "source": [
    "# 연습문제\n",
    "\n",
    "1부터 사용자로부터 입력 받은 자연수까지의 홀수의 합을 구합니다. 1부터 입력 받은  \n",
    "수까지 홀수 전체를 각각 더하는 산식을 표현하고 그 계산식의 결과를 아래 실행결과와  \n",
    "같이 출력되도록 구해보세요.\n",
    "\n",
    "``` python\n",
    "실행 결과:  \n",
    "1부터 입력한 자연수까지의 모든 홀수의 합을 구합니다 100  \n",
    "1 + 3 + 5 + 7 + 9 + 11 + 13 + 15 + 17 + 19 + 21 + 23 + 25 + 27 + 29 + 31 + 33 + 35 + 37 + 39 + 41 \n",
    "+ 43 + 45 + 47 + 49 + 51 + 53 + 55 + 57 + 59 + 61 + 63 + 65 + 67 + 69 + 71 + 73 + 75 + 77 + 79 + \n",
    "81 + 83 + 85 + 87 + 89 + 91 + 93 + 95 + 97 + 99 = 2500\n",
    "```"
   ]
  },
  {
   "cell_type": "code",
   "execution_count": 55,
   "id": "3da3e303-db35-467d-baea-8bc051ca79cc",
   "metadata": {},
   "outputs": [
    {
     "name": "stdin",
     "output_type": "stream",
     "text": [
      "1부터 입력한 자연수까지의 모든 홀수의 합을 구합니다 100\n"
     ]
    },
    {
     "name": "stdout",
     "output_type": "stream",
     "text": [
      "1 + 3 + 5 + 7 + 9 + 11 + 13 + 15 + 17 + 19 + 21 + 23 + 25 + 27 + 29 + 31 + 33 + 35 + 37 + 39 + 41 + 43 + 45 + 47 + 49 + 51 + 53 + 55 + 57 + 59 + 61 + 63 + 65 + 67 + 69 + 71 + 73 + 75 + 77 + 79 + 81 + 83 + 85 + 87 + 89 + 91 + 93 + 95 + 97 + 99 = 2500\n"
     ]
    }
   ],
   "source": [
    "num = int(input(\"1부터 입력한 자연수까지의 모든 홀수의 합을 구합니다\"))\n",
    "sum = 0\n",
    "\n",
    "for _ in range(1, num + 1):\n",
    "    if num % 2 == 1:\n",
    "        if _ % 2 == 1:\n",
    "            if _ != num:\n",
    "                sum += _\n",
    "                print(_, \"+\", end = \" \")\n",
    "            else:\n",
    "                sum += _\n",
    "                print(_, \"=\", sum)\n",
    "    else:\n",
    "        if _ % 2 == 1:\n",
    "            if _ != num - 1:\n",
    "                sum += _\n",
    "                print(_, \"+\", end = \" \")\n",
    "            else:\n",
    "                sum += _\n",
    "                print(_, \"=\", sum)"
   ]
  },
  {
   "cell_type": "code",
   "execution_count": 56,
   "id": "49012a0b-b82b-4d69-95c8-d8f41ba3ff43",
   "metadata": {},
   "outputs": [
    {
     "name": "stdin",
     "output_type": "stream",
     "text": [
      "1부터 입력한 자연수까지의 모든 홀수의 합을 구합니다. 100\n"
     ]
    },
    {
     "name": "stdout",
     "output_type": "stream",
     "text": [
      "1 + 3 + 5 + 7 + 9 + 11 + 13 + 15 + 17 + 19 + 21 + 23 + 25 + 27 + 29 + 31 + 33 + 35 + 37 + 39 + 41 + 43 + 45 + 47 + 49 + 51 + 53 + 55 + 57 + 59 + 61 + 63 + 65 + 67 + 69 + 71 + 73 + 75 + 77 + 79 + 81 + 83 + 85 + 87 + 89 + 91 + 93 + 95 + 97 + 99 = 2500\n"
     ]
    }
   ],
   "source": [
    "num = int(input(\"1부터 입력한 자연수까지의 모든 홀수의 합을 구합니다.\"))\n",
    "sum = 0\n",
    "\n",
    "for _ in range(1, num + 1):\n",
    "    if _ % 2 == 1:\n",
    "        if _ == num - 1 or _ == num:\n",
    "            print(_, end = \" = \")\n",
    "        else:\n",
    "            print(_, end = \" + \")\n",
    "        sum += _\n",
    "print(sum)"
   ]
  },
  {
   "cell_type": "code",
   "execution_count": 57,
   "id": "3c7c1754-be83-48a9-88cc-0cbbbb07602a",
   "metadata": {},
   "outputs": [
    {
     "name": "stdin",
     "output_type": "stream",
     "text": [
      "1부터 입력한 자연수까지의 모든 홀수의 합을 구합니다. 100\n"
     ]
    },
    {
     "name": "stdout",
     "output_type": "stream",
     "text": [
      "1 + 3 + 5 + 7 + 9 + 11 + 13 + 15 + 17 + 19 + 21 + 23 + 25 + 27 + 29 + 31 + 33 + 35 + 37 + 39 + 41 + 43 + 45 + 47 + 49 + 51 + 53 + 55 + 57 + 59 + 61 + 63 + 65 + 67 + 69 + 71 + 73 + 75 + 77 + 79 + 81 + 83 + 85 + 87 + 89 + 91 + 93 + 95 + 97 + 99 = 2500\n"
     ]
    }
   ],
   "source": [
    "num = int(input(\"1부터 입력한 자연수까지의 모든 홀수의 합을 구합니다.\"))\n",
    "sum = 0\n",
    "print(1, end = \"\")\n",
    "\n",
    "for _ in range(3, num + 1, 2):\n",
    "    sum += _\n",
    "    print(\" +\", _, end = \"\")\n",
    "print(\" =\", sum + 1)"
   ]
  },
  {
   "cell_type": "markdown",
   "id": "a4acb72b-a059-41e5-bc64-82d70b18a15e",
   "metadata": {},
   "source": [
    "# 연습문제\n",
    "\n",
    "계승(Factorial)을 계산해보려합니다. 사용자로부터 정수를 하나 입력받습니다. 그리고  \n",
    "입력받은 숫자까지의 계승을 for문을 활용하여 구한 뒤 출력해주세요.  \n",
    "\n",
    "- 계승이란 1부터 n까지의 자연수를 모두 곱하는 것을 의미합니다.\n",
    "\n",
    "→ n! = 1 × 2 × 3 × …… × (n-1) × n\n",
    "\n",
    "> 실행 결과:  \n",
    "계승을 구할 숫자를 입력하세요. 4  \n",
    "24\n",
    "\n",
    "> 실행 결과:  \n",
    "계승을 구할 숫자를 입력하세요. 7  \n",
    "5040"
   ]
  },
  {
   "cell_type": "code",
   "execution_count": 58,
   "id": "735425c4-d9cb-4243-8326-8ef69c12f028",
   "metadata": {},
   "outputs": [
    {
     "name": "stdin",
     "output_type": "stream",
     "text": [
      "계승을 구할 숫자를 입력하세요, 4\n"
     ]
    },
    {
     "name": "stdout",
     "output_type": "stream",
     "text": [
      "24\n"
     ]
    }
   ],
   "source": [
    "num = int(input(\"계승을 구할 숫자를 입력하세요,\"))\n",
    "\n",
    "result = 1\n",
    "\n",
    "for _ in range(1, num + 1):\n",
    "    result = result * _\n",
    "    \n",
    "print(result)"
   ]
  },
  {
   "cell_type": "code",
   "execution_count": 59,
   "id": "8e743b4c-b66e-4608-bca8-b0289e03cb71",
   "metadata": {},
   "outputs": [
    {
     "name": "stdin",
     "output_type": "stream",
     "text": [
      "계승을 구할 숫자를 입력하세요, 7\n"
     ]
    },
    {
     "name": "stdout",
     "output_type": "stream",
     "text": [
      "5040\n"
     ]
    }
   ],
   "source": [
    "num = int(input(\"계승을 구할 숫자를 입력하세요,\"))\n",
    "\n",
    "result = 1\n",
    "\n",
    "for _ in range(1, num + 1):\n",
    "    result = result * _\n",
    "    \n",
    "print(result)"
   ]
  },
  {
   "cell_type": "markdown",
   "id": "c744affe-262e-4c70-90b9-9f2fa05ba9ee",
   "metadata": {},
   "source": [
    "# 연습문제\n",
    "\n",
    "제시된 리스트의 값을 for문을 활용하여 10배씩 증가시킨 후 아래의 실행 결과와 같이  \n",
    "출력해보세요.  \n",
    "\n",
    "x = [10, -42, 25, 103, 21, 77, 24]\n",
    "\n",
    "> 실행 결과:  \n",
    "100 -420 250 1030 210 770 240"
   ]
  },
  {
   "cell_type": "code",
   "execution_count": 60,
   "id": "af9a3152-1848-4437-8deb-b9bbfa539396",
   "metadata": {},
   "outputs": [
    {
     "name": "stdout",
     "output_type": "stream",
     "text": [
      "100 -420 250 1030 210 770 240 "
     ]
    }
   ],
   "source": [
    "x = [10, -42, 25, 103, 21, 77, 24]\n",
    "\n",
    "for _ in x:\n",
    "    print(_ * 10, end = \" \")"
   ]
  },
  {
   "cell_type": "markdown",
   "id": "ed05df9f-5f8e-4a40-83c5-b052ae5d400b",
   "metadata": {},
   "source": [
    "# 연습문제\n",
    "\n",
    "사용자로부터 자연수를 입력받아옵니다. 그 숫자의 구구단을 출력하는 프로그램을  \n",
    "구현해보세요. 아래의 실행 결과를 참고하세요.\n",
    "\n",
    "``` python\n",
    "\n",
    "실행 결과:  \n",
    "구구단을 알려드립니다. 숫자를 입력하세요 9  \n",
    "9 * 1 = 9  \n",
    "9 * 2 = 18  \n",
    "9 * 3 = 27  \n",
    "9 * 4 = 36  \n",
    "9 * 5 = 45  \n",
    "9 * 6 = 54  \n",
    "9 * 7 = 63  \n",
    "9 * 8 = 72  \n",
    "9 * 9 = 81\n",
    "\n",
    "```"
   ]
  },
  {
   "cell_type": "code",
   "execution_count": 61,
   "id": "464df7e8-03ea-43c9-8965-d968b06741f9",
   "metadata": {},
   "outputs": [
    {
     "name": "stdin",
     "output_type": "stream",
     "text": [
      "구구단을 알려드립니다. 숫자를 입력하세요 9\n"
     ]
    },
    {
     "name": "stdout",
     "output_type": "stream",
     "text": [
      "9 * 1 = 9\n",
      "9 * 2 = 18\n",
      "9 * 3 = 27\n",
      "9 * 4 = 36\n",
      "9 * 5 = 45\n",
      "9 * 6 = 54\n",
      "9 * 7 = 63\n",
      "9 * 8 = 72\n",
      "9 * 9 = 81\n"
     ]
    }
   ],
   "source": [
    "num = int(input(\"구구단을 알려드립니다. 숫자를 입력하세요\"))\n",
    "\n",
    "for i in range(1, 10):\n",
    "    print(num, \"*\", i, \"=\", num * i)    "
   ]
  },
  {
   "cell_type": "markdown",
   "id": "3fe223ef-cf21-427e-9dff-508a66ef57bf",
   "metadata": {},
   "source": [
    "# 연습문제\n",
    "\n",
    "사용자로부터 자연수를 입력받아옵니다. 1부터 입력된 자연수까지의 합을 구하는  \n",
    "프로그램을 구현해보세요.\n",
    "\n",
    "> 실행 결과:  \n",
    "자연수를 입력해주세요: 100  \n",
    "5050"
   ]
  },
  {
   "cell_type": "code",
   "execution_count": 62,
   "id": "eaa25953-90fd-48ab-8ab3-263f68f6ec6f",
   "metadata": {},
   "outputs": [
    {
     "name": "stdin",
     "output_type": "stream",
     "text": [
      "자연수를 입력해주세요: 100\n"
     ]
    },
    {
     "name": "stdout",
     "output_type": "stream",
     "text": [
      "5050\n"
     ]
    }
   ],
   "source": [
    "num = int(input(\"자연수를 입력해주세요:\"))\n",
    "sum = 0\n",
    "\n",
    "for _ in range(1,num + 1):\n",
    "    sum += _\n",
    "    \n",
    "print(sum)"
   ]
  }
 ],
 "metadata": {
  "kernelspec": {
   "display_name": "Python 3 (ipykernel)",
   "language": "python",
   "name": "python3"
  },
  "language_info": {
   "codemirror_mode": {
    "name": "ipython",
    "version": 3
   },
   "file_extension": ".py",
   "mimetype": "text/x-python",
   "name": "python",
   "nbconvert_exporter": "python",
   "pygments_lexer": "ipython3",
   "version": "3.9.13"
  },
  "vscode": {
   "interpreter": {
    "hash": "2701035f62c8526adc246c1ce198c646a908962c9f03e53671c46035159238ce"
   }
  }
 },
 "nbformat": 4,
 "nbformat_minor": 5
}
