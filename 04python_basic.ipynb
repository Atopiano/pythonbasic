{
 "cells": [
  {
   "cell_type": "markdown",
   "id": "1c7624ee-89ad-4633-99b4-d11ca1a00fb1",
   "metadata": {},
   "source": [
    "## 흐름제어 복습"
   ]
  },
  {
   "cell_type": "code",
   "execution_count": 10,
   "id": "5bc43fbf-b0c6-481e-beee-888ff2386646",
   "metadata": {},
   "outputs": [
    {
     "name": "stdin",
     "output_type": "stream",
     "text": [
      "자연수 하나 입력해주세요: 50\n"
     ]
    },
    {
     "name": "stdout",
     "output_type": "stream",
     "text": [
      "0\n"
     ]
    }
   ],
   "source": [
    "a = int(input(\"자연수 하나 입력해주세요:\"))\n",
    "\n",
    "a = a - 50\n",
    "\n",
    "if a >= 0:\n",
    "    print(a)\n",
    "else:\n",
    "    print(0)"
   ]
  },
  {
   "cell_type": "code",
   "execution_count": 11,
   "id": "d51dcccb-84b3-49ee-ac3f-a108816db42b",
   "metadata": {},
   "outputs": [
    {
     "ename": "IndentationError",
     "evalue": "expected an indented block (3814570068.py, line 2)",
     "output_type": "error",
     "traceback": [
      "\u001b[1;36m  File \u001b[1;32m\"C:\\Users\\wkddl\\AppData\\Local\\Temp\\ipykernel_11944\\3814570068.py\"\u001b[1;36m, line \u001b[1;32m2\u001b[0m\n\u001b[1;33m    print(\"hello\")\u001b[0m\n\u001b[1;37m    ^\u001b[0m\n\u001b[1;31mIndentationError\u001b[0m\u001b[1;31m:\u001b[0m expected an indented block\n"
     ]
    }
   ],
   "source": [
    "if True:\n",
    "print(\"hello\")"
   ]
  },
  {
   "cell_type": "markdown",
   "id": "cce6da1c-2a40-408a-9d24-dd1dd6bcb163",
   "metadata": {
    "jp-MarkdownHeadingCollapsed": true,
    "tags": []
   },
   "source": [
    "#### if 문의 바디를 나중에 작성할 예정이라면  \n",
    "#### pass 키워드를 통해 아무것도 하지 않고 오류 없이 코드를 작성할 수 있다.\n",
    "\n",
    "```python\n",
    "\n",
    "if 조건식:\n",
    "    pass#TOBE\n",
    "\n",
    "\n",
    "```"
   ]
  },
  {
   "cell_type": "code",
   "execution_count": 16,
   "id": "9d6601de-b22b-4968-8d3d-fba483057e3d",
   "metadata": {
    "tags": []
   },
   "outputs": [
    {
     "name": "stdout",
     "output_type": "stream",
     "text": [
      "if문의 조건식이True일 때만 실행됩니다.\n",
      "들여쓰기가 없는 곳은 늘 실행됩니다\n"
     ]
    }
   ],
   "source": [
    "if True:\n",
    "    print(\"if문의 조건식이\", end=\"\")\n",
    "    print(\"True일 때만 실행됩니다.\")\n",
    "print(\"들여쓰기가 없는 곳은 늘 실행됩니다\")"
   ]
  },
  {
   "cell_type": "code",
   "execution_count": 23,
   "id": "57e48fa5-19d9-434a-bfeb-dc51693cbfd6",
   "metadata": {},
   "outputs": [
    {
     "name": "stdin",
     "output_type": "stream",
     "text": [
      "나이를 입력해주세요. 2\n"
     ]
    },
    {
     "name": "stdout",
     "output_type": "stream",
     "text": [
      "늘 출력되는 구간입니다.\n"
     ]
    }
   ],
   "source": [
    "age = int(input(\"나이를 입력해주세요.\"))\n",
    "\n",
    "if age >= 10:\n",
    "    print(\"10살 이상입니다.\")\n",
    "    if age >= 20:\n",
    "        print(\"20살 이상입니다.\")\n",
    "        if age >= 30:\n",
    "            print(\"30살 이상입니다.\")\n",
    "            if age >= 40:\n",
    "                print(\"40살 이상입니다.\")\n",
    "            print(\"age >= 30 구간입니다.\")\n",
    "        print(\"age >= 20 구간입니다.\")\n",
    "    print(\"age >= 10 구간입니다.\")\n",
    "    \n",
    "print(\"늘 출력되는 구간입니다.\")"
   ]
  },
  {
   "cell_type": "code",
   "execution_count": 27,
   "id": "8c2b0976-63bd-4977-a22d-1277a742b4d4",
   "metadata": {},
   "outputs": [
    {
     "name": "stdout",
     "output_type": "stream",
     "text": [
      "합격을 축하합니다.\n",
      "안내를 종료합니다.\n"
     ]
    }
   ],
   "source": [
    "score = 70\n",
    "\n",
    "# 60점 이상이면 합격\n",
    "if score >= 60:\n",
    "    print(\"합격을 축하합니다.\")\n",
    "else:\n",
    "    print(\"아쉽게도 불합격입니다.\")\n",
    "print(\"안내를 종료합니다.\")"
   ]
  },
  {
   "cell_type": "markdown",
   "id": "21c39cd6-b4af-46d4-84a8-9c0bc879c70a",
   "metadata": {},
   "source": [
    "### 연습문제\n",
    "\n",
    "#### 사용자로부터 자연수를 입력 받습니다.\n",
    "#### 값이 짝수인지 홀수인지 화면에 출력합니다."
   ]
  },
  {
   "cell_type": "code",
   "execution_count": 34,
   "id": "7847aefe-da86-48b4-bc50-1050d8987a55",
   "metadata": {},
   "outputs": [
    {
     "name": "stdin",
     "output_type": "stream",
     "text": [
      "자연수를 하나 입력해주세요: 5\n"
     ]
    },
    {
     "name": "stdout",
     "output_type": "stream",
     "text": [
      "홀수입니다.\n"
     ]
    }
   ],
   "source": [
    "a = int(input(\"자연수를 하나 입력해주세요:\"))\n",
    "\n",
    "if a % 2 == 1:\n",
    "    print(\"홀수입니다.\")\n",
    "else:\n",
    "    print(\"짝수입니다.\")"
   ]
  },
  {
   "cell_type": "markdown",
   "id": "3cf002f3-1624-4445-be4b-3a2b8f5d7ded",
   "metadata": {},
   "source": [
    "### 연습문제\n",
    "\n",
    "사용자로부터 소프트웨어 설계, 소프트웨어 개발, 데이터베이스 구축, 프로그래밍 언어 활용, \n",
    "정보시스템 구축관리 점수를 입력 받습니다. 과목 평균 점수가 60점 이상일 때 합격입니다.\n",
    "평균 점수에 따라 '합격', '불합격'을 출력하는 프로그램을 만드세요.\n",
    "\n",
    "- 점수는 0점부터 100점까지만 유효합니다. 이를 벗어난 점수가 입력되면 \"잘못된 점수입니다.\"\n",
    "를 출력하고 '합격, '불합격'에 대해선 출력않고 프로그램을 종료합니다.\n",
    "- 과목별 점수는 일단 전부 입력 받습니다."
   ]
  },
  {
   "cell_type": "code",
   "execution_count": 48,
   "id": "dd42fe58-8c20-44ac-8884-911c4677511e",
   "metadata": {},
   "outputs": [
    {
     "name": "stdin",
     "output_type": "stream",
     "text": [
      "소프트웨어 설계 점수를 입력하세요. 60\n",
      "소프트웨어 개발 점수를 입력하세요. 60\n",
      "데이터베이스 구축 점수를 입력하세요. 60\n",
      "프로그래밍 언어 활용 점수를 입력하세요. 60\n",
      "정보시스템 구축관리 점수를 입력하세요. 60\n"
     ]
    },
    {
     "name": "stdout",
     "output_type": "stream",
     "text": [
      "합격\n"
     ]
    }
   ],
   "source": [
    "a = int(input(\"소프트웨어 설계 점수를 입력하세요.\"))\n",
    "b = int(input(\"소프트웨어 개발 점수를 입력하세요.\"))\n",
    "c = int(input(\"데이터베이스 구축 점수를 입력하세요.\"))\n",
    "d = int(input(\"프로그래밍 언어 활용 점수를 입력하세요.\"))\n",
    "e = int(input(\"정보시스템 구축관리 점수를 입력하세요.\"))\n",
    "\n",
    "ave = (a + b + c + d + e)/5\n",
    "\n",
    "if 0 <= a <= 100 and 0 <= b <= 100 and 0 <= c <= 100 and 0 <= d <= 100 and 0 <= e <= 100:\n",
    "    if ave >= 60:\n",
    "        print(\"합격\")\n",
    "    else: \n",
    "        print(\"불합격\")\n",
    "else:\n",
    "    print(\"잘못된 점수입니다\")"
   ]
  },
  {
   "cell_type": "code",
   "execution_count": 57,
   "id": "5da55c10-c15a-478f-8514-9463ddb4a648",
   "metadata": {},
   "outputs": [
    {
     "name": "stdin",
     "output_type": "stream",
     "text": [
      "점수를 입력해주세요 :  80\n"
     ]
    },
    {
     "name": "stdout",
     "output_type": "stream",
     "text": [
      "성적을 알려드립니다.\n",
      "B입니다.\n",
      "안내를 종료합니다.\n"
     ]
    }
   ],
   "source": [
    "score = int(input(\"점수를 입력해주세요 : \"))\n",
    "\n",
    "print(\"성적을 알려드립니다.\")\n",
    "\n",
    "if score >= 90:\n",
    "    print(\"A입니다.\")\n",
    "elif score >= 80:\n",
    "    print(\"B입니다.\")\n",
    "elif score >= 70:\n",
    "    print(\"C입니다.\")\n",
    "elif score >= 60:\n",
    "    print(\"D입니다.\")\n",
    "else:\n",
    "    print(\"F입니다.\")\n",
    "\n",
    "print(\"안내를 종료합니다.\")"
   ]
  },
  {
   "cell_type": "markdown",
   "id": "45a56f32-384f-4442-9794-19fcd53f035c",
   "metadata": {},
   "source": [
    "###  연습문제\n",
    "\n",
    "물의 온도에 따라 현재 상태를 출력하는 프로그램을 만들려고 합니다.  \n",
    "사용자로부터 물의 온도가 몇인지 입력을 받고 100이상이면 '기체로 예상됩니다.'를 출력합니다.  \n",
    "100보다 작고 0이상이면 '액체로 예상됩니다.'를 출력합니다.  \n",
    "0보다 작으면 '고체로 예상됩니다.'를 출력합니다"
   ]
  },
  {
   "cell_type": "code",
   "execution_count": 63,
   "id": "a44b6ba3-75bc-4b7b-9419-eeff001ddc1c",
   "metadata": {},
   "outputs": [
    {
     "name": "stdin",
     "output_type": "stream",
     "text": [
      "현재 물의 온도를 입력해주세요 -0.12\n"
     ]
    },
    {
     "name": "stdout",
     "output_type": "stream",
     "text": [
      "고체로 예상됩니다.\n"
     ]
    }
   ],
   "source": [
    "t = float(input(\"현재 물의 온도를 입력해주세요\"))\n",
    "\n",
    "if t >= 100:\n",
    "    print(\"기체로 예상됩니다.\")\n",
    "elif 0 <= t < 100:\n",
    "    print(\"액체로 예상됩니다.\")\n",
    "else:\n",
    "    print(\"고체로 예상됩니다.\")"
   ]
  },
  {
   "cell_type": "code",
   "execution_count": 64,
   "id": "a10e0f5a-8cc9-4983-b6a8-c402aa73f344",
   "metadata": {},
   "outputs": [
    {
     "name": "stdin",
     "output_type": "stream",
     "text": [
      "현재 물의 온도를 입력해주세요 80\n"
     ]
    },
    {
     "name": "stdout",
     "output_type": "stream",
     "text": [
      "액체로 예상됩니다.\n"
     ]
    }
   ],
   "source": [
    "t = float(input(\"현재 물의 온도를 입력해주세요\"))\n",
    "\n",
    "if t >= 100:\n",
    "    print(\"기체로 예상됩니다.\")\n",
    "elif 0 <= t:    # t < 100 이 없어도 잘 실행됨.\n",
    "    print(\"액체로 예상됩니다.\")\n",
    "else:\n",
    "    print(\"고체로 예상됩니다.\")"
   ]
  },
  {
   "cell_type": "markdown",
   "id": "b57ac967-8839-4a59-9e1e-e1d0ac785fdf",
   "metadata": {},
   "source": [
    "### 연습문제\n",
    "\n",
    "일반 시내 버스 요금을 받는 프로그램을 만들려고 합니다.  \n",
    "성인(19세 이상)이면 1500원 청소년(12세 ~ 18세)이면 1100원,  \n",
    "어린이(6세 ~ 11세)면 800원을 받고 미취학 아동은 무료입니다.  \n",
    "사용자로부터 나이를 입력 받고 나이에 따른 일반 시내 버스 요금을 출력하세요."
   ]
  },
  {
   "cell_type": "code",
   "execution_count": 70,
   "id": "00f3f187-8ed6-4668-b4a1-76fc02eddfcd",
   "metadata": {},
   "outputs": [
    {
     "name": "stdin",
     "output_type": "stream",
     "text": [
      "자신의 나이를 입력하세요 5\n"
     ]
    },
    {
     "name": "stdout",
     "output_type": "stream",
     "text": [
      "무임승차입니다.\n"
     ]
    }
   ],
   "source": [
    "age = int(input(\"자신의 나이를 입력하세요\"))\n",
    "\n",
    "if age >= 19:\n",
    "    print(\"1500원\")\n",
    "elif age >= 12:\n",
    "    print(\"1100원\")\n",
    "elif age >= 6:\n",
    "    print(\"800원\")\n",
    "else:\n",
    "    print(\"무임승차입니다.\")"
   ]
  },
  {
   "cell_type": "markdown",
   "id": "36c4970b-959e-432f-b50d-c75a9cc96af2",
   "metadata": {},
   "source": [
    "### 연습문제\n",
    "\n",
    "A사는 B사에서 C상품($10/개)을 납품합니다. 발주 수량에 따라 수량할인을 고려하여 납품가가 달라집니다.  \n",
    "1000개 미만은 수량할인이 적용되지 앟습니다.  \n",
    "1000개부터 1500개까지 5%, 1500개 초과 2000개까지는 10%를 할인합니다.  \n",
    "2000개 초과부터는 20%를 할인합니다.  \n",
    "발주 수량을 사용자로부터 입력 받고 총 발주금액을 출력하는 프로그램을 작성해보세요.  \n",
    "(소수점은 할인의 일환으로 버립니다.)"
   ]
  },
  {
   "cell_type": "code",
   "execution_count": 98,
   "id": "881a8678-1bc9-462d-9af2-799652365e62",
   "metadata": {},
   "outputs": [
    {
     "name": "stdin",
     "output_type": "stream",
     "text": [
      "발주 수량을 입력하세요: 500\n"
     ]
    },
    {
     "name": "stdout",
     "output_type": "stream",
     "text": [
      "500개를 주문하셨습니다,\n",
      "수량할인이 적용되지 않습니다.\n",
      "총 발주 금액은 $5000입니다.\n"
     ]
    }
   ],
   "source": [
    "pri = 10\n",
    "num = int(input(\"발주 수량을 입력하세요:\"))\n",
    "print(num, \"개를 주문하셨습니다,\", sep = \"\")\n",
    "\n",
    "if num > 2000:\n",
    "    dis = 0.2\n",
    "    tot = int(num * (pri - pri * dis))\n",
    "    print(\"적용 할인율은 20%입니다.\")\n",
    "    print(\"총 발주 금액은 $\", tot, \"입니다.\", sep = \"\")\n",
    "elif num > 1500:\n",
    "    dis = 0.1\n",
    "    tot = int(num * (pri - pri * dis))\n",
    "    print(\"적용 할인율은 10%입니다.\")\n",
    "    print(\"총 발주 금액은 $\", tot, \"입니다.\", sep = \"\")\n",
    "elif num >= 1000:\n",
    "    dis = 0.05\n",
    "    tot = int(num * (pri - pri * dis))\n",
    "    print(\"적용 할인율은 5%입니다.\")\n",
    "    print(\"총 발주 금액은 $\", tot, \"입니다.\", sep = \"\")\n",
    "else:    \n",
    "    tot = int(num * pri)\n",
    "    print(\"수량할인이 적용되지 않습니다.\")\n",
    "    print(\"총 발주 금액은 $\", tot, \"입니다.\", sep = \"\")"
   ]
  },
  {
   "cell_type": "code",
   "execution_count": 97,
   "id": "7029f726-e6a7-42a8-ab35-cd0d48850b3a",
   "metadata": {},
   "outputs": [
    {
     "name": "stdin",
     "output_type": "stream",
     "text": [
      "발주 수량을 입력하세요: 3000\n"
     ]
    },
    {
     "name": "stdout",
     "output_type": "stream",
     "text": [
      "3000개를 주문하셨습니다,\n",
      "적용 할인율은 20%입니다.\n",
      "총 발주 금액은 $24000입니다.\n"
     ]
    }
   ],
   "source": [
    "pri = 10\n",
    "num = int(input(\"발주 수량을 입력하세요:\"))\n",
    "print(num, \"개를 주문하셨습니다,\", sep = \"\")\n",
    "\n",
    "if num > 2000:\n",
    "    dis = 20\n",
    "elif num > 1500:\n",
    "    dis = 10\n",
    "elif num >= 1000:\n",
    "    dis = 5\n",
    "else:    \n",
    "    dis = 0\n",
    "    \n",
    "tot = int(num * (pri - pri * dis/100))\n",
    "print(\"적용 할인율은 \", dis, \"%입니다.\", sep = \"\")\n",
    "print(\"총 발주 금액은 $\", tot, \"입니다.\", sep = \"\")"
   ]
  },
  {
   "cell_type": "markdown",
   "id": "a42db7be-7ffd-4a61-9520-778247ca2774",
   "metadata": {},
   "source": [
    "### 연습문제\n",
    "\n",
    "주민등록번호 뒷자리 7자리 중 맨 앞 번호가 1, 3인 경우는 남자이고 2,4인 경우는 여자를 의미합니다.  \n",
    "주민등록번호 뒷자리를 입력 받아 성별을 확인하는 프로그램을 작성하세요.\n",
    "\n",
    "- 자리수가 7자리가 아니면 '자리수를 잘못 입력했습니다.'를 출력합니다.\n",
    "- 맨 앞 번호가 1, 2, 3, 4가 아니면 '잘못된 입력입니다.'를 출력합니다."
   ]
  },
  {
   "cell_type": "code",
   "execution_count": 113,
   "id": "13078493-72c3-4a70-b6c5-19b478d89d14",
   "metadata": {},
   "outputs": [
    {
     "name": "stdin",
     "output_type": "stream",
     "text": [
      "주민번호 뒷자리를 입력하세요: 1234567\n"
     ]
    },
    {
     "name": "stdout",
     "output_type": "stream",
     "text": [
      "남자\n"
     ]
    }
   ],
   "source": [
    "id_num = int(input(\"주민번호 뒷자리를 입력하세요:\"))\n",
    "\n",
    "if 1000000 <= id_num < 10000000:\n",
    "    if 1000000 <= id_num < 5000000:\n",
    "        if 1000000 <= id_num < 2000000 or 3000000 <= id_num < 4000000:\n",
    "            print(\"남자\")\n",
    "        else:\n",
    "            print(\"여자\")\n",
    "    else:\n",
    "        print(\"잘못된 입력입니다.\")\n",
    "else:\n",
    "    print(\"자리수를 잘못 입력했습니다.\")"
   ]
  },
  {
   "cell_type": "code",
   "execution_count": 126,
   "id": "4be69c8a-35ea-4f53-b6a0-16b29ddacb47",
   "metadata": {},
   "outputs": [
    {
     "name": "stdin",
     "output_type": "stream",
     "text": [
      "주민번호 뒷자리를 입력하세요: 5678912\n"
     ]
    },
    {
     "name": "stdout",
     "output_type": "stream",
     "text": [
      "잘못된 입력입니다.\n"
     ]
    }
   ],
   "source": [
    "id_num = input(\"주민번호 뒷자리를 입력하세요:\")\n",
    "\n",
    "if 7 <= len(id_num) < 8:\n",
    "    if 1 <= int(id_num[0]) < 5:\n",
    "        if 1 <= int(id_num[0]) < 2 or 3 <= int(id_num[0]) < 4:\n",
    "            print(\"남자\")\n",
    "        else:\n",
    "            print(\"여자\")\n",
    "    else:\n",
    "        print(\"잘못된 입력입니다.\")\n",
    "else:\n",
    "    print(\"자리수를 잘못 입력했습니다.\")"
   ]
  },
  {
   "cell_type": "code",
   "execution_count": null,
   "id": "97537742-3c4c-449d-bb3a-dcebccb7d43b",
   "metadata": {},
   "outputs": [
    {
     "name": "stdin",
     "output_type": "stream",
     "text": [
      "주민번호 뒷자리를 입력하세요: 123456\n"
     ]
    },
    {
     "name": "stdout",
     "output_type": "stream",
     "text": [
      "자리수를 잘못 입력했습니다.\n"
     ]
    }
   ],
   "source": [
    "id_num = input(\"주민번호 뒷자리를 입력하세요:\")\n",
    "\n",
    "if len(id_num) == 7:\n",
    "    if 1 <= int(id_num[0]) < 5:\n",
    "        if 1 <= int(id_num[0]) < 2 or 3 <= int(id_num[0]) < 4:\n",
    "            print(\"남자\")\n",
    "        else:\n",
    "            print(\"여자\")\n",
    "    else:\n",
    "        print(\"잘못된 입력입니다.\")\n",
    "else:\n",
    "    print(\"자리수를 잘못 입력했습니다.\")"
   ]
  },
  {
   "cell_type": "markdown",
   "id": "e99f492d-8dbe-4a5d-8c5d-48adcfe442fa",
   "metadata": {},
   "source": [
    "### 연습 문제\n",
    "\n",
    "사용자로부터 연도 값을 입력받고 윤년인지 아닌지 결과를 출력하는 프로그램을 작성해보세요.\n",
    "\n",
    "- 연도가 4로 나누어 떨어지는 경우: 윤년, 그 밖의 해: 평년\n",
    "\n",
    "예외 규칙\n",
    "\n",
    "- 100으로 나누어 떨어지되 400으로 나누어 떨어지지 않는 해: 평년"
   ]
  },
  {
   "cell_type": "code",
   "execution_count": 149,
   "id": "5d48b426-366a-4773-9041-c839e3ad5ea8",
   "metadata": {},
   "outputs": [
    {
     "name": "stdin",
     "output_type": "stream",
     "text": [
      "확인할 연도를 입력하세요: 2023\n"
     ]
    },
    {
     "name": "stdout",
     "output_type": "stream",
     "text": [
      "평년입니다.\n"
     ]
    }
   ],
   "source": [
    "year = int(input(\"확인할 연도를 입력하세요:\"))\n",
    "\n",
    "if year % 4 == 0:\n",
    "    if year % 100 == 0 and year % 400 != 0:\n",
    "        print(\"평년입니다.\")\n",
    "    else:\n",
    "        print(\"윤년입니다.\")\n",
    "else:\n",
    "    print(\"평년입니다.\")"
   ]
  },
  {
   "cell_type": "code",
   "execution_count": 188,
   "id": "bf782e00-01d7-441a-b444-6a7d1475d12b",
   "metadata": {},
   "outputs": [
    {
     "name": "stdin",
     "output_type": "stream",
     "text": [
      "확인할 연도를 입력하세요: 1896\n"
     ]
    },
    {
     "name": "stdout",
     "output_type": "stream",
     "text": [
      "윤년입니다.\n"
     ]
    }
   ],
   "source": [
    "year = int(input(\"확인할 연도를 입력하세요:\"))\n",
    "\n",
    "if year % 4 != 0 or (year % 100 == 0 and year % 400 != 0):\n",
    "    print(\"평년입니다.\")\n",
    "else:\n",
    "    print(\"윤년입니다.\")"
   ]
  },
  {
   "cell_type": "markdown",
   "id": "5bae89b3-5602-41c4-b7cd-1b0b6fa2205e",
   "metadata": {},
   "source": [
    "# 반복문"
   ]
  },
  {
   "cell_type": "code",
   "execution_count": 193,
   "id": "8c88cc2f-754b-4dd9-ad28-22bc53a2f987",
   "metadata": {
    "scrolled": true,
    "tags": []
   },
   "outputs": [
    {
     "name": "stdout",
     "output_type": "stream",
     "text": [
      "Hello world 0\n",
      "Hello world 1\n",
      "Hello world 2\n",
      "Hello world 3\n",
      "Hello world 4\n",
      "Hello world 5\n",
      "Hello world 6\n",
      "Hello world 7\n",
      "Hello world 8\n",
      "Hello world 9\n",
      "Hello world 10\n",
      "Hello world 11\n",
      "Hello world 12\n",
      "Hello world 13\n",
      "Hello world 14\n",
      "Hello world 15\n",
      "Hello world 16\n",
      "Hello world 17\n",
      "Hello world 18\n",
      "Hello world 19\n",
      "Hello world 20\n",
      "Hello world 21\n",
      "Hello world 22\n",
      "Hello world 23\n",
      "Hello world 24\n",
      "Hello world 25\n",
      "Hello world 26\n",
      "Hello world 27\n",
      "Hello world 28\n",
      "Hello world 29\n",
      "Hello world 30\n",
      "Hello world 31\n",
      "Hello world 32\n",
      "Hello world 33\n",
      "Hello world 34\n",
      "Hello world 35\n",
      "Hello world 36\n",
      "Hello world 37\n",
      "Hello world 38\n",
      "Hello world 39\n",
      "Hello world 40\n",
      "Hello world 41\n",
      "Hello world 42\n",
      "Hello world 43\n",
      "Hello world 44\n",
      "Hello world 45\n",
      "Hello world 46\n",
      "Hello world 47\n",
      "Hello world 48\n",
      "Hello world 49\n",
      "Hello world 50\n",
      "Hello world 51\n",
      "Hello world 52\n",
      "Hello world 53\n",
      "Hello world 54\n",
      "Hello world 55\n",
      "Hello world 56\n",
      "Hello world 57\n",
      "Hello world 58\n",
      "Hello world 59\n",
      "Hello world 60\n",
      "Hello world 61\n",
      "Hello world 62\n",
      "Hello world 63\n",
      "Hello world 64\n",
      "Hello world 65\n",
      "Hello world 66\n",
      "Hello world 67\n",
      "Hello world 68\n",
      "Hello world 69\n",
      "Hello world 70\n",
      "Hello world 71\n",
      "Hello world 72\n",
      "Hello world 73\n",
      "Hello world 74\n",
      "Hello world 75\n",
      "Hello world 76\n",
      "Hello world 77\n",
      "Hello world 78\n",
      "Hello world 79\n",
      "Hello world 80\n",
      "Hello world 81\n",
      "Hello world 82\n",
      "Hello world 83\n",
      "Hello world 84\n",
      "Hello world 85\n",
      "Hello world 86\n",
      "Hello world 87\n",
      "Hello world 88\n",
      "Hello world 89\n",
      "Hello world 90\n",
      "Hello world 91\n",
      "Hello world 92\n",
      "Hello world 93\n",
      "Hello world 94\n",
      "Hello world 95\n",
      "Hello world 96\n",
      "Hello world 97\n",
      "Hello world 98\n",
      "Hello world 99\n",
      "Hello world 100\n",
      "Hello world 101\n",
      "Hello world 102\n",
      "Hello world 103\n",
      "Hello world 104\n",
      "Hello world 105\n",
      "Hello world 106\n",
      "Hello world 107\n",
      "Hello world 108\n",
      "Hello world 109\n",
      "Hello world 110\n",
      "Hello world 111\n",
      "Hello world 112\n",
      "Hello world 113\n",
      "Hello world 114\n",
      "Hello world 115\n",
      "Hello world 116\n",
      "Hello world 117\n",
      "Hello world 118\n",
      "Hello world 119\n",
      "Hello world 120\n",
      "Hello world 121\n",
      "Hello world 122\n",
      "Hello world 123\n",
      "Hello world 124\n",
      "Hello world 125\n",
      "Hello world 126\n",
      "Hello world 127\n",
      "Hello world 128\n",
      "Hello world 129\n",
      "Hello world 130\n",
      "Hello world 131\n",
      "Hello world 132\n",
      "Hello world 133\n",
      "Hello world 134\n",
      "Hello world 135\n",
      "Hello world 136\n",
      "Hello world 137\n",
      "Hello world 138\n",
      "Hello world 139\n",
      "Hello world 140\n",
      "Hello world 141\n",
      "Hello world 142\n",
      "Hello world 143\n",
      "Hello world 144\n",
      "Hello world 145\n",
      "Hello world 146\n",
      "Hello world 147\n",
      "Hello world 148\n",
      "Hello world 149\n",
      "Hello world 150\n",
      "Hello world 151\n",
      "Hello world 152\n",
      "Hello world 153\n",
      "Hello world 154\n",
      "Hello world 155\n",
      "Hello world 156\n",
      "Hello world 157\n",
      "Hello world 158\n",
      "Hello world 159\n",
      "Hello world 160\n",
      "Hello world 161\n",
      "Hello world 162\n",
      "Hello world 163\n",
      "Hello world 164\n",
      "Hello world 165\n",
      "Hello world 166\n",
      "Hello world 167\n",
      "Hello world 168\n",
      "Hello world 169\n",
      "Hello world 170\n",
      "Hello world 171\n",
      "Hello world 172\n",
      "Hello world 173\n",
      "Hello world 174\n",
      "Hello world 175\n",
      "Hello world 176\n",
      "Hello world 177\n",
      "Hello world 178\n",
      "Hello world 179\n",
      "Hello world 180\n",
      "Hello world 181\n",
      "Hello world 182\n",
      "Hello world 183\n",
      "Hello world 184\n",
      "Hello world 185\n",
      "Hello world 186\n",
      "Hello world 187\n",
      "Hello world 188\n",
      "Hello world 189\n",
      "Hello world 190\n",
      "Hello world 191\n",
      "Hello world 192\n",
      "Hello world 193\n",
      "Hello world 194\n",
      "Hello world 195\n",
      "Hello world 196\n",
      "Hello world 197\n",
      "Hello world 198\n",
      "Hello world 199\n",
      "Hello world 200\n",
      "Hello world 201\n",
      "Hello world 202\n",
      "Hello world 203\n",
      "Hello world 204\n",
      "Hello world 205\n",
      "Hello world 206\n",
      "Hello world 207\n",
      "Hello world 208\n",
      "Hello world 209\n",
      "Hello world 210\n",
      "Hello world 211\n",
      "Hello world 212\n",
      "Hello world 213\n",
      "Hello world 214\n",
      "Hello world 215\n",
      "Hello world 216\n",
      "Hello world 217\n",
      "Hello world 218\n",
      "Hello world 219\n",
      "Hello world 220\n",
      "Hello world 221\n",
      "Hello world 222\n",
      "Hello world 223\n",
      "Hello world 224\n",
      "Hello world 225\n",
      "Hello world 226\n",
      "Hello world 227\n",
      "Hello world 228\n",
      "Hello world 229\n",
      "Hello world 230\n",
      "Hello world 231\n",
      "Hello world 232\n",
      "Hello world 233\n",
      "Hello world 234\n",
      "Hello world 235\n",
      "Hello world 236\n",
      "Hello world 237\n",
      "Hello world 238\n",
      "Hello world 239\n",
      "Hello world 240\n",
      "Hello world 241\n",
      "Hello world 242\n",
      "Hello world 243\n",
      "Hello world 244\n",
      "Hello world 245\n",
      "Hello world 246\n",
      "Hello world 247\n",
      "Hello world 248\n",
      "Hello world 249\n",
      "Hello world 250\n",
      "Hello world 251\n",
      "Hello world 252\n",
      "Hello world 253\n",
      "Hello world 254\n",
      "Hello world 255\n",
      "Hello world 256\n",
      "Hello world 257\n",
      "Hello world 258\n",
      "Hello world 259\n",
      "Hello world 260\n",
      "Hello world 261\n",
      "Hello world 262\n",
      "Hello world 263\n",
      "Hello world 264\n",
      "Hello world 265\n",
      "Hello world 266\n",
      "Hello world 267\n",
      "Hello world 268\n",
      "Hello world 269\n",
      "Hello world 270\n",
      "Hello world 271\n",
      "Hello world 272\n",
      "Hello world 273\n",
      "Hello world 274\n",
      "Hello world 275\n",
      "Hello world 276\n",
      "Hello world 277\n",
      "Hello world 278\n",
      "Hello world 279\n",
      "Hello world 280\n",
      "Hello world 281\n",
      "Hello world 282\n",
      "Hello world 283\n",
      "Hello world 284\n",
      "Hello world 285\n",
      "Hello world 286\n",
      "Hello world 287\n",
      "Hello world 288\n",
      "Hello world 289\n",
      "Hello world 290\n",
      "Hello world 291\n",
      "Hello world 292\n",
      "Hello world 293\n",
      "Hello world 294\n",
      "Hello world 295\n",
      "Hello world 296\n",
      "Hello world 297\n",
      "Hello world 298\n",
      "Hello world 299\n",
      "Hello world 300\n",
      "Hello world 301\n",
      "Hello world 302\n",
      "Hello world 303\n",
      "Hello world 304\n",
      "Hello world 305\n",
      "Hello world 306\n",
      "Hello world 307\n",
      "Hello world 308\n",
      "Hello world 309\n",
      "Hello world 310\n",
      "Hello world 311\n",
      "Hello world 312\n",
      "Hello world 313\n",
      "Hello world 314\n",
      "Hello world 315\n",
      "Hello world 316\n",
      "Hello world 317\n",
      "Hello world 318\n",
      "Hello world 319\n",
      "Hello world 320\n",
      "Hello world 321\n",
      "Hello world 322\n",
      "Hello world 323\n",
      "Hello world 324\n",
      "Hello world 325\n",
      "Hello world 326\n",
      "Hello world 327\n",
      "Hello world 328\n",
      "Hello world 329\n",
      "Hello world 330\n",
      "Hello world 331\n",
      "Hello world 332\n",
      "Hello world 333\n",
      "Hello world 334\n",
      "Hello world 335\n",
      "Hello world 336\n",
      "Hello world 337\n",
      "Hello world 338\n",
      "Hello world 339\n",
      "Hello world 340\n",
      "Hello world 341\n",
      "Hello world 342\n",
      "Hello world 343\n",
      "Hello world 344\n",
      "Hello world 345\n",
      "Hello world 346\n",
      "Hello world 347\n",
      "Hello world 348\n",
      "Hello world 349\n",
      "Hello world 350\n",
      "Hello world 351\n",
      "Hello world 352\n",
      "Hello world 353\n",
      "Hello world 354\n",
      "Hello world 355\n",
      "Hello world 356\n",
      "Hello world 357\n",
      "Hello world 358\n",
      "Hello world 359\n",
      "Hello world 360\n",
      "Hello world 361\n",
      "Hello world 362\n",
      "Hello world 363\n",
      "Hello world 364\n",
      "Hello world 365\n",
      "Hello world 366\n",
      "Hello world 367\n",
      "Hello world 368\n",
      "Hello world 369\n",
      "Hello world 370\n",
      "Hello world 371\n",
      "Hello world 372\n",
      "Hello world 373\n",
      "Hello world 374\n",
      "Hello world 375\n",
      "Hello world 376\n",
      "Hello world 377\n",
      "Hello world 378\n",
      "Hello world 379\n",
      "Hello world 380\n",
      "Hello world 381\n",
      "Hello world 382\n",
      "Hello world 383\n",
      "Hello world 384\n",
      "Hello world 385\n",
      "Hello world 386\n",
      "Hello world 387\n",
      "Hello world 388\n",
      "Hello world 389\n",
      "Hello world 390\n",
      "Hello world 391\n",
      "Hello world 392\n",
      "Hello world 393\n",
      "Hello world 394\n",
      "Hello world 395\n",
      "Hello world 396\n",
      "Hello world 397\n",
      "Hello world 398\n",
      "Hello world 399\n",
      "Hello world 400\n",
      "Hello world 401\n",
      "Hello world 402\n",
      "Hello world 403\n",
      "Hello world 404\n",
      "Hello world 405\n",
      "Hello world 406\n",
      "Hello world 407\n",
      "Hello world 408\n",
      "Hello world 409\n",
      "Hello world 410\n",
      "Hello world 411\n",
      "Hello world 412\n",
      "Hello world 413\n",
      "Hello world 414\n",
      "Hello world 415\n",
      "Hello world 416\n",
      "Hello world 417\n",
      "Hello world 418\n",
      "Hello world 419\n",
      "Hello world 420\n",
      "Hello world 421\n",
      "Hello world 422\n",
      "Hello world 423\n",
      "Hello world 424\n",
      "Hello world 425\n",
      "Hello world 426\n",
      "Hello world 427\n",
      "Hello world 428\n",
      "Hello world 429\n",
      "Hello world 430\n",
      "Hello world 431\n",
      "Hello world 432\n",
      "Hello world 433\n",
      "Hello world 434\n",
      "Hello world 435\n",
      "Hello world 436\n",
      "Hello world 437\n",
      "Hello world 438\n",
      "Hello world 439\n",
      "Hello world 440\n",
      "Hello world 441\n",
      "Hello world 442\n",
      "Hello world 443\n",
      "Hello world 444\n",
      "Hello world 445\n",
      "Hello world 446\n",
      "Hello world 447\n",
      "Hello world 448\n",
      "Hello world 449\n",
      "Hello world 450\n",
      "Hello world 451\n",
      "Hello world 452\n",
      "Hello world 453\n",
      "Hello world 454\n",
      "Hello world 455\n",
      "Hello world 456\n",
      "Hello world 457\n",
      "Hello world 458\n",
      "Hello world 459\n",
      "Hello world 460\n",
      "Hello world 461\n",
      "Hello world 462\n",
      "Hello world 463\n",
      "Hello world 464\n",
      "Hello world 465\n",
      "Hello world 466\n",
      "Hello world 467\n",
      "Hello world 468\n",
      "Hello world 469\n",
      "Hello world 470\n",
      "Hello world 471\n",
      "Hello world 472\n",
      "Hello world 473\n",
      "Hello world 474\n",
      "Hello world 475\n",
      "Hello world 476\n",
      "Hello world 477\n",
      "Hello world 478\n",
      "Hello world 479\n",
      "Hello world 480\n",
      "Hello world 481\n",
      "Hello world 482\n",
      "Hello world 483\n",
      "Hello world 484\n",
      "Hello world 485\n",
      "Hello world 486\n",
      "Hello world 487\n",
      "Hello world 488\n",
      "Hello world 489\n",
      "Hello world 490\n",
      "Hello world 491\n",
      "Hello world 492\n",
      "Hello world 493\n",
      "Hello world 494\n",
      "Hello world 495\n",
      "Hello world 496\n",
      "Hello world 497\n",
      "Hello world 498\n",
      "Hello world 499\n",
      "Hello world 500\n",
      "Hello world 501\n",
      "Hello world 502\n",
      "Hello world 503\n",
      "Hello world 504\n",
      "Hello world 505\n",
      "Hello world 506\n",
      "Hello world 507\n",
      "Hello world 508\n",
      "Hello world 509\n",
      "Hello world 510\n",
      "Hello world 511\n",
      "Hello world 512\n",
      "Hello world 513\n",
      "Hello world 514\n",
      "Hello world 515\n",
      "Hello world 516\n",
      "Hello world 517\n",
      "Hello world 518\n",
      "Hello world 519\n",
      "Hello world 520\n",
      "Hello world 521\n",
      "Hello world 522\n",
      "Hello world 523\n",
      "Hello world 524\n",
      "Hello world 525\n",
      "Hello world 526\n",
      "Hello world 527\n",
      "Hello world 528\n",
      "Hello world 529\n",
      "Hello world 530\n",
      "Hello world 531\n",
      "Hello world 532\n",
      "Hello world 533\n",
      "Hello world 534\n",
      "Hello world 535\n",
      "Hello world 536\n",
      "Hello world 537\n",
      "Hello world 538\n",
      "Hello world 539\n",
      "Hello world 540\n",
      "Hello world 541\n",
      "Hello world 542\n",
      "Hello world 543\n",
      "Hello world 544\n",
      "Hello world 545\n",
      "Hello world 546\n",
      "Hello world 547\n",
      "Hello world 548\n",
      "Hello world 549\n",
      "Hello world 550\n",
      "Hello world 551\n",
      "Hello world 552\n",
      "Hello world 553\n",
      "Hello world 554\n",
      "Hello world 555\n",
      "Hello world 556\n",
      "Hello world 557\n",
      "Hello world 558\n",
      "Hello world 559\n",
      "Hello world 560\n",
      "Hello world 561\n",
      "Hello world 562\n",
      "Hello world 563\n",
      "Hello world 564\n",
      "Hello world 565\n",
      "Hello world 566\n",
      "Hello world 567\n",
      "Hello world 568\n",
      "Hello world 569\n",
      "Hello world 570\n",
      "Hello world 571\n",
      "Hello world 572\n",
      "Hello world 573\n",
      "Hello world 574\n",
      "Hello world 575\n",
      "Hello world 576\n",
      "Hello world 577\n",
      "Hello world 578\n",
      "Hello world 579\n",
      "Hello world 580\n",
      "Hello world 581\n",
      "Hello world 582\n",
      "Hello world 583\n",
      "Hello world 584\n",
      "Hello world 585\n",
      "Hello world 586\n",
      "Hello world 587\n",
      "Hello world 588\n",
      "Hello world 589\n",
      "Hello world 590\n",
      "Hello world 591\n",
      "Hello world 592\n",
      "Hello world 593\n",
      "Hello world 594\n",
      "Hello world 595\n",
      "Hello world 596\n",
      "Hello world 597\n",
      "Hello world 598\n",
      "Hello world 599\n",
      "Hello world 600\n",
      "Hello world 601\n",
      "Hello world 602\n",
      "Hello world 603\n",
      "Hello world 604\n",
      "Hello world 605\n",
      "Hello world 606\n",
      "Hello world 607\n",
      "Hello world 608\n",
      "Hello world 609\n",
      "Hello world 610\n",
      "Hello world 611\n",
      "Hello world 612\n",
      "Hello world 613\n",
      "Hello world 614\n",
      "Hello world 615\n",
      "Hello world 616\n",
      "Hello world 617\n",
      "Hello world 618\n",
      "Hello world 619\n",
      "Hello world 620\n",
      "Hello world 621\n",
      "Hello world 622\n",
      "Hello world 623\n",
      "Hello world 624\n",
      "Hello world 625\n",
      "Hello world 626\n",
      "Hello world 627\n",
      "Hello world 628\n",
      "Hello world 629\n",
      "Hello world 630\n",
      "Hello world 631\n",
      "Hello world 632\n",
      "Hello world 633\n",
      "Hello world 634\n",
      "Hello world 635\n",
      "Hello world 636\n",
      "Hello world 637\n",
      "Hello world 638\n",
      "Hello world 639\n",
      "Hello world 640\n",
      "Hello world 641\n",
      "Hello world 642\n",
      "Hello world 643\n",
      "Hello world 644\n",
      "Hello world 645\n",
      "Hello world 646\n",
      "Hello world 647\n",
      "Hello world 648\n",
      "Hello world 649\n",
      "Hello world 650\n",
      "Hello world 651\n",
      "Hello world 652\n",
      "Hello world 653\n",
      "Hello world 654\n",
      "Hello world 655\n",
      "Hello world 656\n",
      "Hello world 657\n",
      "Hello world 658\n",
      "Hello world 659\n",
      "Hello world 660\n",
      "Hello world 661\n",
      "Hello world 662\n",
      "Hello world 663\n",
      "Hello world 664\n",
      "Hello world 665\n",
      "Hello world 666\n",
      "Hello world 667\n",
      "Hello world 668\n",
      "Hello world 669\n",
      "Hello world 670\n",
      "Hello world 671\n",
      "Hello world 672\n",
      "Hello world 673\n",
      "Hello world 674\n",
      "Hello world 675\n",
      "Hello world 676\n",
      "Hello world 677\n",
      "Hello world 678\n",
      "Hello world 679\n",
      "Hello world 680\n",
      "Hello world 681\n",
      "Hello world 682\n",
      "Hello world 683\n",
      "Hello world 684\n",
      "Hello world 685\n",
      "Hello world 686\n",
      "Hello world 687\n",
      "Hello world 688\n",
      "Hello world 689\n",
      "Hello world 690\n",
      "Hello world 691\n",
      "Hello world 692\n",
      "Hello world 693\n",
      "Hello world 694\n",
      "Hello world 695\n",
      "Hello world 696\n",
      "Hello world 697\n",
      "Hello world 698\n",
      "Hello world 699\n",
      "Hello world 700\n",
      "Hello world 701\n",
      "Hello world 702\n",
      "Hello world 703\n",
      "Hello world 704\n",
      "Hello world 705\n",
      "Hello world 706\n",
      "Hello world 707\n",
      "Hello world 708\n",
      "Hello world 709\n",
      "Hello world 710\n",
      "Hello world 711\n",
      "Hello world 712\n",
      "Hello world 713\n",
      "Hello world 714\n",
      "Hello world 715\n",
      "Hello world 716\n",
      "Hello world 717\n",
      "Hello world 718\n",
      "Hello world 719\n",
      "Hello world 720\n",
      "Hello world 721\n",
      "Hello world 722\n",
      "Hello world 723\n",
      "Hello world 724\n",
      "Hello world 725\n",
      "Hello world 726\n",
      "Hello world 727\n",
      "Hello world 728\n",
      "Hello world 729\n",
      "Hello world 730\n",
      "Hello world 731\n",
      "Hello world 732\n",
      "Hello world 733\n",
      "Hello world 734\n",
      "Hello world 735\n",
      "Hello world 736\n",
      "Hello world 737\n",
      "Hello world 738\n",
      "Hello world 739\n",
      "Hello world 740\n",
      "Hello world 741\n",
      "Hello world 742\n",
      "Hello world 743\n",
      "Hello world 744\n",
      "Hello world 745\n",
      "Hello world 746\n",
      "Hello world 747\n",
      "Hello world 748\n",
      "Hello world 749\n",
      "Hello world 750\n",
      "Hello world 751\n",
      "Hello world 752\n",
      "Hello world 753\n",
      "Hello world 754\n",
      "Hello world 755\n",
      "Hello world 756\n",
      "Hello world 757\n",
      "Hello world 758\n",
      "Hello world 759\n",
      "Hello world 760\n",
      "Hello world 761\n",
      "Hello world 762\n",
      "Hello world 763\n",
      "Hello world 764\n",
      "Hello world 765\n",
      "Hello world 766\n",
      "Hello world 767\n",
      "Hello world 768\n",
      "Hello world 769\n",
      "Hello world 770\n",
      "Hello world 771\n",
      "Hello world 772\n",
      "Hello world 773\n",
      "Hello world 774\n",
      "Hello world 775\n",
      "Hello world 776\n",
      "Hello world 777\n",
      "Hello world 778\n",
      "Hello world 779\n",
      "Hello world 780\n",
      "Hello world 781\n",
      "Hello world 782\n",
      "Hello world 783\n",
      "Hello world 784\n",
      "Hello world 785\n",
      "Hello world 786\n",
      "Hello world 787\n",
      "Hello world 788\n",
      "Hello world 789\n",
      "Hello world 790\n",
      "Hello world 791\n",
      "Hello world 792\n",
      "Hello world 793\n",
      "Hello world 794\n",
      "Hello world 795\n",
      "Hello world 796\n",
      "Hello world 797\n",
      "Hello world 798\n",
      "Hello world 799\n",
      "Hello world 800\n",
      "Hello world 801\n",
      "Hello world 802\n",
      "Hello world 803\n",
      "Hello world 804\n",
      "Hello world 805\n",
      "Hello world 806\n",
      "Hello world 807\n",
      "Hello world 808\n",
      "Hello world 809\n",
      "Hello world 810\n",
      "Hello world 811\n",
      "Hello world 812\n",
      "Hello world 813\n",
      "Hello world 814\n",
      "Hello world 815\n",
      "Hello world 816\n",
      "Hello world 817\n",
      "Hello world 818\n",
      "Hello world 819\n",
      "Hello world 820\n",
      "Hello world 821\n",
      "Hello world 822\n",
      "Hello world 823\n",
      "Hello world 824\n",
      "Hello world 825\n",
      "Hello world 826\n",
      "Hello world 827\n",
      "Hello world 828\n",
      "Hello world 829\n",
      "Hello world 830\n",
      "Hello world 831\n",
      "Hello world 832\n",
      "Hello world 833\n",
      "Hello world 834\n",
      "Hello world 835\n",
      "Hello world 836\n",
      "Hello world 837\n",
      "Hello world 838\n",
      "Hello world 839\n",
      "Hello world 840\n",
      "Hello world 841\n",
      "Hello world 842\n",
      "Hello world 843\n",
      "Hello world 844\n",
      "Hello world 845\n",
      "Hello world 846\n",
      "Hello world 847\n",
      "Hello world 848\n",
      "Hello world 849\n",
      "Hello world 850\n",
      "Hello world 851\n",
      "Hello world 852\n",
      "Hello world 853\n",
      "Hello world 854\n",
      "Hello world 855\n",
      "Hello world 856\n",
      "Hello world 857\n",
      "Hello world 858\n",
      "Hello world 859\n",
      "Hello world 860\n",
      "Hello world 861\n",
      "Hello world 862\n",
      "Hello world 863\n",
      "Hello world 864\n",
      "Hello world 865\n",
      "Hello world 866\n",
      "Hello world 867\n",
      "Hello world 868\n",
      "Hello world 869\n",
      "Hello world 870\n",
      "Hello world 871\n",
      "Hello world 872\n",
      "Hello world 873\n",
      "Hello world 874\n",
      "Hello world 875\n",
      "Hello world 876\n",
      "Hello world 877\n",
      "Hello world 878\n",
      "Hello world 879\n",
      "Hello world 880\n",
      "Hello world 881\n",
      "Hello world 882\n",
      "Hello world 883\n",
      "Hello world 884\n",
      "Hello world 885\n",
      "Hello world 886\n",
      "Hello world 887\n",
      "Hello world 888\n",
      "Hello world 889\n",
      "Hello world 890\n",
      "Hello world 891\n",
      "Hello world 892\n",
      "Hello world 893\n",
      "Hello world 894\n",
      "Hello world 895\n",
      "Hello world 896\n",
      "Hello world 897\n",
      "Hello world 898\n",
      "Hello world 899\n",
      "Hello world 900\n",
      "Hello world 901\n",
      "Hello world 902\n",
      "Hello world 903\n",
      "Hello world 904\n",
      "Hello world 905\n",
      "Hello world 906\n",
      "Hello world 907\n",
      "Hello world 908\n",
      "Hello world 909\n",
      "Hello world 910\n",
      "Hello world 911\n",
      "Hello world 912\n",
      "Hello world 913\n",
      "Hello world 914\n",
      "Hello world 915\n",
      "Hello world 916\n",
      "Hello world 917\n",
      "Hello world 918\n",
      "Hello world 919\n",
      "Hello world 920\n",
      "Hello world 921\n",
      "Hello world 922\n",
      "Hello world 923\n",
      "Hello world 924\n",
      "Hello world 925\n",
      "Hello world 926\n",
      "Hello world 927\n",
      "Hello world 928\n",
      "Hello world 929\n",
      "Hello world 930\n",
      "Hello world 931\n",
      "Hello world 932\n",
      "Hello world 933\n",
      "Hello world 934\n",
      "Hello world 935\n",
      "Hello world 936\n",
      "Hello world 937\n",
      "Hello world 938\n",
      "Hello world 939\n",
      "Hello world 940\n",
      "Hello world 941\n",
      "Hello world 942\n",
      "Hello world 943\n",
      "Hello world 944\n",
      "Hello world 945\n",
      "Hello world 946\n",
      "Hello world 947\n",
      "Hello world 948\n",
      "Hello world 949\n",
      "Hello world 950\n",
      "Hello world 951\n",
      "Hello world 952\n",
      "Hello world 953\n",
      "Hello world 954\n",
      "Hello world 955\n",
      "Hello world 956\n",
      "Hello world 957\n",
      "Hello world 958\n",
      "Hello world 959\n",
      "Hello world 960\n",
      "Hello world 961\n",
      "Hello world 962\n",
      "Hello world 963\n",
      "Hello world 964\n",
      "Hello world 965\n",
      "Hello world 966\n",
      "Hello world 967\n",
      "Hello world 968\n",
      "Hello world 969\n",
      "Hello world 970\n",
      "Hello world 971\n",
      "Hello world 972\n",
      "Hello world 973\n",
      "Hello world 974\n",
      "Hello world 975\n",
      "Hello world 976\n",
      "Hello world 977\n",
      "Hello world 978\n",
      "Hello world 979\n",
      "Hello world 980\n",
      "Hello world 981\n",
      "Hello world 982\n",
      "Hello world 983\n",
      "Hello world 984\n",
      "Hello world 985\n",
      "Hello world 986\n",
      "Hello world 987\n",
      "Hello world 988\n",
      "Hello world 989\n",
      "Hello world 990\n",
      "Hello world 991\n",
      "Hello world 992\n",
      "Hello world 993\n",
      "Hello world 994\n",
      "Hello world 995\n",
      "Hello world 996\n",
      "Hello world 997\n",
      "Hello world 998\n",
      "Hello world 999\n"
     ]
    }
   ],
   "source": [
    "for n in range(1000):\n",
    "    print(\"Hello world\", n)"
   ]
  },
  {
   "cell_type": "code",
   "execution_count": 195,
   "id": "823f9445-592b-468a-ae9f-69f4c87c44a4",
   "metadata": {},
   "outputs": [
    {
     "name": "stdout",
     "output_type": "stream",
     "text": [
      "[2, 4, 6, 8, 10, 12, 14, 16, 18, 20, 22, 24, 26, 28, 30, 32, 34, 36, 38, 40, 42, 44, 46, 48, 50, 52, 54, 56, 58, 60, 62, 64, 66, 68, 70, 72, 74, 76, 78, 80, 82, 84, 86, 88, 90, 92, 94, 96, 98]\n"
     ]
    }
   ],
   "source": [
    "even_numbers = list(range(2, 100, 2))\n",
    "print(even_numbers)"
   ]
  },
  {
   "cell_type": "code",
   "execution_count": 201,
   "id": "14964ae1-2f0d-4b35-a751-f35f47850c45",
   "metadata": {
    "scrolled": true,
    "tags": []
   },
   "outputs": [
    {
     "name": "stdout",
     "output_type": "stream",
     "text": [
      "Hello world 1\n",
      "Hello world 2\n",
      "Hello world 3\n",
      "Hello world 4\n",
      "Hello world 5\n",
      "Hello world 6\n",
      "Hello world 7\n",
      "Hello world 8\n",
      "Hello world 9\n",
      "Hello world 10\n",
      "Hello world 11\n",
      "Hello world 12\n",
      "Hello world 13\n",
      "Hello world 14\n",
      "Hello world 15\n",
      "Hello world 16\n",
      "Hello world 17\n",
      "Hello world 18\n",
      "Hello world 19\n",
      "Hello world 20\n",
      "Hello world 21\n",
      "Hello world 22\n",
      "Hello world 23\n",
      "Hello world 24\n",
      "Hello world 25\n",
      "Hello world 26\n",
      "Hello world 27\n",
      "Hello world 28\n",
      "Hello world 29\n",
      "Hello world 30\n",
      "Hello world 31\n",
      "Hello world 32\n",
      "Hello world 33\n",
      "Hello world 34\n",
      "Hello world 35\n",
      "Hello world 36\n",
      "Hello world 37\n",
      "Hello world 38\n",
      "Hello world 39\n",
      "Hello world 40\n",
      "Hello world 41\n",
      "Hello world 42\n",
      "Hello world 43\n",
      "Hello world 44\n",
      "Hello world 45\n",
      "Hello world 46\n",
      "Hello world 47\n",
      "Hello world 48\n",
      "Hello world 49\n",
      "Hello world 50\n",
      "Hello world 51\n",
      "Hello world 52\n",
      "Hello world 53\n",
      "Hello world 54\n",
      "Hello world 55\n",
      "Hello world 56\n",
      "Hello world 57\n",
      "Hello world 58\n",
      "Hello world 59\n",
      "Hello world 60\n",
      "Hello world 61\n",
      "Hello world 62\n",
      "Hello world 63\n",
      "Hello world 64\n",
      "Hello world 65\n",
      "Hello world 66\n",
      "Hello world 67\n",
      "Hello world 68\n",
      "Hello world 69\n",
      "Hello world 70\n",
      "Hello world 71\n",
      "Hello world 72\n",
      "Hello world 73\n",
      "Hello world 74\n",
      "Hello world 75\n",
      "Hello world 76\n",
      "Hello world 77\n",
      "Hello world 78\n",
      "Hello world 79\n",
      "Hello world 80\n",
      "Hello world 81\n",
      "Hello world 82\n",
      "Hello world 83\n",
      "Hello world 84\n",
      "Hello world 85\n",
      "Hello world 86\n",
      "Hello world 87\n",
      "Hello world 88\n",
      "Hello world 89\n",
      "Hello world 90\n",
      "Hello world 91\n",
      "Hello world 92\n",
      "Hello world 93\n",
      "Hello world 94\n",
      "Hello world 95\n",
      "Hello world 96\n",
      "Hello world 97\n",
      "Hello world 98\n",
      "Hello world 99\n",
      "Hello world 100\n"
     ]
    }
   ],
   "source": [
    "for i in range(100):\n",
    "    print(\"Hello world\", i+1)"
   ]
  },
  {
   "cell_type": "code",
   "execution_count": 202,
   "id": "ce75c5b7-347b-4314-af52-3ffb62d00c97",
   "metadata": {
    "scrolled": true,
    "tags": []
   },
   "outputs": [
    {
     "name": "stdout",
     "output_type": "stream",
     "text": [
      "Hello world 1\n",
      "Hello world 2\n",
      "Hello world 3\n",
      "Hello world 4\n",
      "Hello world 5\n",
      "Hello world 6\n",
      "Hello world 7\n",
      "Hello world 8\n",
      "Hello world 9\n",
      "Hello world 10\n",
      "Hello world 11\n",
      "Hello world 12\n",
      "Hello world 13\n",
      "Hello world 14\n",
      "Hello world 15\n",
      "Hello world 16\n",
      "Hello world 17\n",
      "Hello world 18\n",
      "Hello world 19\n",
      "Hello world 20\n",
      "Hello world 21\n",
      "Hello world 22\n",
      "Hello world 23\n",
      "Hello world 24\n",
      "Hello world 25\n",
      "Hello world 26\n",
      "Hello world 27\n",
      "Hello world 28\n",
      "Hello world 29\n",
      "Hello world 30\n",
      "Hello world 31\n",
      "Hello world 32\n",
      "Hello world 33\n",
      "Hello world 34\n",
      "Hello world 35\n",
      "Hello world 36\n",
      "Hello world 37\n",
      "Hello world 38\n",
      "Hello world 39\n",
      "Hello world 40\n",
      "Hello world 41\n",
      "Hello world 42\n",
      "Hello world 43\n",
      "Hello world 44\n",
      "Hello world 45\n",
      "Hello world 46\n",
      "Hello world 47\n",
      "Hello world 48\n",
      "Hello world 49\n",
      "Hello world 50\n",
      "Hello world 51\n",
      "Hello world 52\n",
      "Hello world 53\n",
      "Hello world 54\n",
      "Hello world 55\n",
      "Hello world 56\n",
      "Hello world 57\n",
      "Hello world 58\n",
      "Hello world 59\n",
      "Hello world 60\n",
      "Hello world 61\n",
      "Hello world 62\n",
      "Hello world 63\n",
      "Hello world 64\n",
      "Hello world 65\n",
      "Hello world 66\n",
      "Hello world 67\n",
      "Hello world 68\n",
      "Hello world 69\n",
      "Hello world 70\n",
      "Hello world 71\n",
      "Hello world 72\n",
      "Hello world 73\n",
      "Hello world 74\n",
      "Hello world 75\n",
      "Hello world 76\n",
      "Hello world 77\n",
      "Hello world 78\n",
      "Hello world 79\n",
      "Hello world 80\n",
      "Hello world 81\n",
      "Hello world 82\n",
      "Hello world 83\n",
      "Hello world 84\n",
      "Hello world 85\n",
      "Hello world 86\n",
      "Hello world 87\n",
      "Hello world 88\n",
      "Hello world 89\n",
      "Hello world 90\n",
      "Hello world 91\n",
      "Hello world 92\n",
      "Hello world 93\n",
      "Hello world 94\n",
      "Hello world 95\n",
      "Hello world 96\n",
      "Hello world 97\n",
      "Hello world 98\n",
      "Hello world 99\n",
      "Hello world 100\n"
     ]
    }
   ],
   "source": [
    "for i in range(1,101):\n",
    "    print(\"Hello world\", i)"
   ]
  },
  {
   "cell_type": "code",
   "execution_count": 205,
   "id": "0b6bca0a-df1c-427b-b627-6e280fc21777",
   "metadata": {},
   "outputs": [
    {
     "name": "stdin",
     "output_type": "stream",
     "text": [
      "인사를 몇 번 해드릴까요? 5\n"
     ]
    },
    {
     "name": "stdout",
     "output_type": "stream",
     "text": [
      "Hello wold\n",
      "Hello wold\n",
      "Hello wold\n",
      "Hello wold\n",
      "Hello wold\n"
     ]
    }
   ],
   "source": [
    "i = int(input(\"인사를 몇 번 해드릴까요?\"))\n",
    "\n",
    "for j in range(i):\n",
    "    print(\"Hello wold\")"
   ]
  },
  {
   "cell_type": "code",
   "execution_count": 211,
   "id": "e45294bb-30a0-472a-bdef-9116a7ce3123",
   "metadata": {},
   "outputs": [
    {
     "name": "stdout",
     "output_type": "stream",
     "text": [
      "[5, 6, 7, 8, 9]\n"
     ]
    }
   ],
   "source": [
    "i = list(range(5,10))\n",
    "print(i)"
   ]
  },
  {
   "cell_type": "code",
   "execution_count": 212,
   "id": "4c90c1fa-622a-407d-87e7-1dd328cd1018",
   "metadata": {},
   "outputs": [
    {
     "name": "stdout",
     "output_type": "stream",
     "text": [
      "[0, 3, 6, 9]\n"
     ]
    }
   ],
   "source": [
    "i = list(range(0,10,3))\n",
    "print(i)"
   ]
  },
  {
   "cell_type": "code",
   "execution_count": 215,
   "id": "9f43d17f-dbdb-4495-8c08-3c9382308e15",
   "metadata": {},
   "outputs": [
    {
     "name": "stdout",
     "output_type": "stream",
     "text": [
      "[-10, -40, -70]\n"
     ]
    }
   ],
   "source": [
    "i = list(range(-10,-71,-30))\n",
    "print(i)"
   ]
  },
  {
   "cell_type": "code",
   "execution_count": 244,
   "id": "6a7ae6a5-271f-4b53-941e-4f33e6dba686",
   "metadata": {},
   "outputs": [
    {
     "name": "stdin",
     "output_type": "stream",
     "text": [
      "자연수 하나 입력해주세요: 6\n"
     ]
    },
    {
     "name": "stdout",
     "output_type": "stream",
     "text": [
      "6\t6\t6\t6\t6\t6\t\n",
      "5\t5\t5\t5\t5\t\n",
      "4\t4\t4\t4\t\n",
      "3\t3\t3\t\n",
      "2\t2\t\n",
      "1\t\n"
     ]
    }
   ],
   "source": [
    "num = int(input(\"자연수 하나 입력해주세요:\"))\n",
    "\n",
    "for i in range(num):\n",
    "    for j in range(num):\n",
    "        print(num, end = \"\\t\")\n",
    "    print(end = \"\\n\") #print(end = \"\\n\")랑 print() 같게 동작\n",
    "    num = num - 1"
   ]
  },
  {
   "cell_type": "code",
   "execution_count": 246,
   "id": "5bc553b7-d872-44c4-ae25-ee6da51d8a1b",
   "metadata": {},
   "outputs": [
    {
     "name": "stdin",
     "output_type": "stream",
     "text": [
      "자연수 하나 입력해주세요: 6\n"
     ]
    },
    {
     "name": "stdout",
     "output_type": "stream",
     "text": [
      "6\t6\t6\t6\t6\t6\t\n",
      "5\t5\t5\t5\t5\t\n",
      "4\t4\t4\t4\t\n",
      "3\t3\t3\t\n",
      "2\t2\t\n",
      "1\t\n"
     ]
    }
   ],
   "source": [
    "num = int(input(\"자연수 하나 입력해주세요:\"))\n",
    "\n",
    "for i in range(num, 0, -1):\n",
    "    for j in range(i):\n",
    "        print(i, end = \"\\t\")\n",
    "    print()"
   ]
  },
  {
   "cell_type": "code",
   "execution_count": 257,
   "id": "ee6aaa87-fa91-43cc-9196-fef4cb799438",
   "metadata": {},
   "outputs": [
    {
     "name": "stdout",
     "output_type": "stream",
     "text": [
      "* * * * * * * * * *\n",
      "*                 *\n",
      "*                 *\n",
      "*                 *\n",
      "*                 *\n",
      "*                 *\n",
      "*                 *\n",
      "*                 *\n",
      "*                 *\n",
      "* * * * * * * * * *\n"
     ]
    }
   ],
   "source": [
    "print(\"* * * * * * * * * *\")\n",
    "for i in range(8):\n",
    "    print(\"*                 *\")\n",
    "print(\"* * * * * * * * * *\")"
   ]
  },
  {
   "cell_type": "code",
   "execution_count": 261,
   "id": "aaf5d423-84d1-4d0b-92d9-708536b50a2a",
   "metadata": {},
   "outputs": [
    {
     "name": "stdout",
     "output_type": "stream",
     "text": [
      "* * * * * * * * * * \n",
      "*                 *\n",
      "*                 *\n",
      "*                 *\n",
      "*                 *\n",
      "*                 *\n",
      "*                 *\n",
      "*                 *\n",
      "*                 *\n",
      "* * * * * * * * * * \n"
     ]
    }
   ],
   "source": [
    "for i in range(10):\n",
    "    if i == 0 or i == 9:\n",
    "        print('* ' * 10)\n",
    "    else:\n",
    "        print('*                 *')"
   ]
  },
  {
   "cell_type": "markdown",
   "id": "47700054-aca5-458f-8f9d-1c62332adba7",
   "metadata": {},
   "source": [
    "### 연습문제\n",
    "\n",
    "1부터 사용자로부터 입력 받은 자연수까지의 홀수의 합을 구합니다.  \n",
    "1부터 입력 받은 수까지 홀수 전체를 각각 더하는 산식을 표현하고  \n",
    "그 계산식의 결과를 아래 실행결과와 같이 출력되도록 구해보세요."
   ]
  },
  {
   "cell_type": "code",
   "execution_count": 405,
   "id": "674a054e-f5cf-47d1-b567-3dcdf753721e",
   "metadata": {},
   "outputs": [
    {
     "name": "stdin",
     "output_type": "stream",
     "text": [
      "1부터 입력한 자연수까지의 모든 홀수의 합을 구합니다 100\n"
     ]
    },
    {
     "name": "stdout",
     "output_type": "stream",
     "text": [
      "1 + 3 + 5 + 7 + 9 + 11 + 13 + 15 + 17 + 19 + 21 + 23 + 25 + 27 + 29 + 31 + 33 + 35 + 37 + 39 + 41 + 43 + 45 + 47 + 49 + 51 + 53 + 55 + 57 + 59 + 61 + 63 + 65 + 67 + 69 + 71 + 73 + 75 + 77 + 79 + 81 + 83 + 85 + 87 + 89 + 91 + 93 + 95 + 97 + 99 = 2500\n"
     ]
    }
   ],
   "source": [
    "num = int(input(\"1부터 입력한 자연수까지의 모든 홀수의 합을 구합니다\"))\n",
    "sum = 0\n",
    "\n",
    "for i in range(1, num + 1, 2):\n",
    "    if num % 2 == 0:\n",
    "        if i != num - 1:\n",
    "            print(i, \"+ \", end = \"\")\n",
    "            sum = sum + i\n",
    "        else:\n",
    "            num = num + 1\n",
    "            print(i, \"=\" , sum + i)\n",
    "    else:\n",
    "        if i != num:\n",
    "            print(i, \"+ \", end = \"\")\n",
    "            sum = sum + i\n",
    "        else:\n",
    "            print(i, \"=\" , sum + i)"
   ]
  },
  {
   "cell_type": "code",
   "execution_count": 330,
   "id": "cd118664-0c55-4fb0-b727-bf2bcb467766",
   "metadata": {},
   "outputs": [
    {
     "name": "stdin",
     "output_type": "stream",
     "text": [
      "1부터 입력한 자연수까지의 모든 홀수의 합을 구합니다  100\n"
     ]
    },
    {
     "name": "stdout",
     "output_type": "stream",
     "text": [
      "1 + 3 + 5 + 7 + 9 + 11 + 13 + 15 + 17 + 19 + 21 + 23 + 25 + 27 + 29 + 31 + 33 + 35 + 37 + 39 + 41 + 43 + 45 + 47 + 49 + 51 + 53 + 55 + 57 + 59 + 61 + 63 + 65 + 67 + 69 + 71 + 73 + 75 + 77 + 79 + 81 + 83 + 85 + 87 + 89 + 91 + 93 + 95 + 97 + 99 = 2500\n"
     ]
    }
   ],
   "source": [
    "input_value = int(input(\"1부터 입력한 자연수까지의 모든 홀수의 합을 구합니다 \"))\n",
    "result = 0\n",
    "for i in range(1, input_value + 1):\n",
    "    if i % 2 == 1:\n",
    "        if (input_value - 1) == i or input_value == i:\n",
    "            print(i, end=' = ')\n",
    "        else:\n",
    "            print(i, end=' + ')\n",
    "        result += i\n",
    "print(result)"
   ]
  },
  {
   "cell_type": "code",
   "execution_count": 392,
   "id": "da270696-5b82-4a7b-96a1-312970625426",
   "metadata": {},
   "outputs": [
    {
     "name": "stdin",
     "output_type": "stream",
     "text": [
      "1부터 입력한 자연수까지의 모든 홀수의 합을 구합니다 99\n"
     ]
    },
    {
     "name": "stdout",
     "output_type": "stream",
     "text": [
      "1 + 3 + 5 + 7 + 9 + 11 + 13 + 15 + 17 + 19 + 21 + 23 + 25 + 27 + 29 + 31 + 33 + 35 + 37 + 39 + 41 + 43 + 45 + 47 + 49 + 51 + 53 + 55 + 57 + 59 + 61 + 63 + 65 + 67 + 69 + 71 + 73 + 75 + 77 + 79 + 81 + 83 + 85 + 87 + 89 + 91 + 93 + 95 + 97 + 99 = 2500\n"
     ]
    }
   ],
   "source": [
    "num = int(input(\"1부터 입력한 자연수까지의 모든 홀수의 합을 구합니다\"))\n",
    "\n",
    "sum = 0\n",
    "print(1, end = \"\")\n",
    "for i in range(3, num + 1, 2):\n",
    "    sum = sum + i\n",
    "    print(\" +\", i, end = \"\")\n",
    "print(\" =\", sum + 1)"
   ]
  },
  {
   "cell_type": "markdown",
   "id": "a748006e-3ccb-4a90-8488-7f65419316fa",
   "metadata": {},
   "source": [
    "### 연습문제\n",
    "\n",
    "계승(Factorial)을 계싼해보려합니다. 사용자로부터 정수를 하나 입력받습니다.  \n",
    "그리고 입력받은 숫자까지의 계승을 for문을 활용하여 구한 뒤 출력해주세요.\n",
    "\n",
    "- 계승이란 1부터 n까지의 자연수를 모두 곱하는 것을 의미합니다.  \n",
    "  -> n! = 1 x 2 x 3 x ..... x (n-1) x n"
   ]
  },
  {
   "cell_type": "code",
   "execution_count": 357,
   "id": "543485a7-c833-44f1-9ad4-648833e859ff",
   "metadata": {},
   "outputs": [
    {
     "name": "stdin",
     "output_type": "stream",
     "text": [
      "계승을 구할 숫자를 입력하세요. 7\n"
     ]
    },
    {
     "name": "stdout",
     "output_type": "stream",
     "text": [
      "5040\n"
     ]
    }
   ],
   "source": [
    "n = int(input(\"계승을 구할 숫자를 입력하세요.\"))\n",
    "fac = 1\n",
    "\n",
    "for i in range(n):\n",
    "    fac = fac * (i + 1)\n",
    "print(fac)"
   ]
  },
  {
   "cell_type": "code",
   "execution_count": 356,
   "id": "e57ce00b-ca09-4cde-8e89-313b9895df18",
   "metadata": {},
   "outputs": [
    {
     "name": "stdin",
     "output_type": "stream",
     "text": [
      "계승을 구할 숫자를 입력하세요. 7\n"
     ]
    },
    {
     "name": "stdout",
     "output_type": "stream",
     "text": [
      "5040\n"
     ]
    }
   ],
   "source": [
    "n = int(input(\"계승을 구할 숫자를 입력하세요.\"))\n",
    "result = 1\n",
    "for _ in range(1, n + 1):\n",
    "    result = result * _\n",
    "    \n",
    "print(result)"
   ]
  },
  {
   "cell_type": "markdown",
   "id": "f11b2863-f517-444d-b748-699d8b11a7f8",
   "metadata": {},
   "source": [
    "## 시퀀스 객체로 반복하기"
   ]
  },
  {
   "cell_type": "markdown",
   "id": "c8f60dca-0b1b-4476-9f0b-b477d35e87fc",
   "metadata": {},
   "source": [
    "### 연습 문제\n",
    "\n",
    "제시된 리스트의 값을 for문을 활용하여 10배씩 증가시킨 후 아래의 실행 결과와 같이 출력해보세요.\n",
    "\n",
    "x = [10, -42, 25, 103, 21, 77, 24]"
   ]
  },
  {
   "cell_type": "code",
   "execution_count": 359,
   "id": "d7cc9118-24ae-4539-a84d-dc538596be57",
   "metadata": {},
   "outputs": [
    {
     "name": "stdout",
     "output_type": "stream",
     "text": [
      "100 -420 250 1030 210 770 240 "
     ]
    }
   ],
   "source": [
    "x = [10, -42, 25, 103, 21, 77, 24]\n",
    "\n",
    "for _ in x:\n",
    "    print(_ * 10, end = \" \")"
   ]
  },
  {
   "cell_type": "markdown",
   "id": "fb636c06-4462-42a1-a0ec-586a4e933270",
   "metadata": {},
   "source": [
    "### 연습문제\n",
    "\n",
    "사용자로부터 자연수를 입력받아옵니다.  \n",
    "그 숫자의 구구단을 출력하는 프로그램을 구현해보세요.  \n",
    "아래의 실행 결과를 참고하세요."
   ]
  },
  {
   "cell_type": "code",
   "execution_count": 391,
   "id": "396190fa-33bd-41f1-8d5d-9fe0298d8ec1",
   "metadata": {},
   "outputs": [
    {
     "name": "stdin",
     "output_type": "stream",
     "text": [
      "구구단을 알려드립니다. 숫자를 입력하세요 9\n"
     ]
    },
    {
     "name": "stdout",
     "output_type": "stream",
     "text": [
      "9 * 1 = 9\n",
      "9 * 2 = 18\n",
      "9 * 3 = 27\n",
      "9 * 4 = 36\n",
      "9 * 5 = 45\n",
      "9 * 6 = 54\n",
      "9 * 7 = 63\n",
      "9 * 8 = 72\n",
      "9 * 9 = 81\n"
     ]
    }
   ],
   "source": [
    "a = int(input(\"구구단을 알려드립니다. 숫자를 입력하세요\"))\n",
    "result = 1\n",
    "\n",
    "for i in range(1, 10):\n",
    "    result = a * i\n",
    "    print(a, \"*\", i , \"=\", result)"
   ]
  },
  {
   "cell_type": "markdown",
   "id": "b94adc33-c8aa-4740-bad7-f36d48588036",
   "metadata": {},
   "source": [
    "## 연습문제\n",
    "\n",
    "사용자로부터 자연수를 입력받아옵니다.  \n",
    "1부터 입력된 자연수까지의 합을 구하는 프로그램을 구현해보세요."
   ]
  },
  {
   "cell_type": "code",
   "execution_count": 396,
   "id": "2d0d11f5-3b5a-48cf-8e20-fe85b79b5124",
   "metadata": {},
   "outputs": [
    {
     "name": "stdin",
     "output_type": "stream",
     "text": [
      "자연수를 입력해주세요. 100\n"
     ]
    },
    {
     "name": "stdout",
     "output_type": "stream",
     "text": [
      "5050\n"
     ]
    }
   ],
   "source": [
    "a = int(input(\"자연수를 입력해주세요.\"))\n",
    "sum = 0\n",
    "\n",
    "for _ in range(a + 1):\n",
    "    sum = sum + _\n",
    "print(sum)"
   ]
  },
  {
   "cell_type": "code",
   "execution_count": 393,
   "id": "5d3c5ebf-e142-40d3-9759-8bcabd62c7d0",
   "metadata": {},
   "outputs": [
    {
     "name": "stdin",
     "output_type": "stream",
     "text": [
      "자연수를 입력해주세요:  100\n"
     ]
    },
    {
     "name": "stdout",
     "output_type": "stream",
     "text": [
      "5050\n"
     ]
    }
   ],
   "source": [
    "num2 = int(input(\"자연수를 입력해주세요: \"))\n",
    "result = 0\n",
    "for _ in range(1, num2 + 1):\n",
    "    result += _\n",
    "    \n",
    "print(result)"
   ]
  },
  {
   "cell_type": "code",
   "execution_count": null,
   "id": "3fd2f34f-6bee-4823-ad54-71ab357145a4",
   "metadata": {},
   "outputs": [],
   "source": []
  }
 ],
 "metadata": {
  "kernelspec": {
   "display_name": "Python 3 (ipykernel)",
   "language": "python",
   "name": "python3"
  },
  "language_info": {
   "codemirror_mode": {
    "name": "ipython",
    "version": 3
   },
   "file_extension": ".py",
   "mimetype": "text/x-python",
   "name": "python",
   "nbconvert_exporter": "python",
   "pygments_lexer": "ipython3",
   "version": "3.9.13"
  }
 },
 "nbformat": 4,
 "nbformat_minor": 5
}
