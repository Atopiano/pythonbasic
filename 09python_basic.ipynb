{
 "cells": [
  {
   "cell_type": "code",
   "execution_count": 2,
   "id": "25aacab2-d3bf-4b08-8480-94b852bbb780",
   "metadata": {},
   "outputs": [
    {
     "name": "stdout",
     "output_type": "stream",
     "text": [
      "list_strs = ['a', 'b', 'c', 'd', 'e', 'f', 'g', 'h', 'i', 'j', 'k', 'l', 'm', 'n', 'o', 'p', 'q', 'r', 's', 't', 'u', 'v', 'w', 'x', 'y', 'z']\n",
      "\n",
      "whole_str = a*b*c*d*e*f*g*h*i*j*k*l*m*n*o*p*q*r*s*t*u*v*w*x*y*z\n"
     ]
    }
   ],
   "source": [
    "list_strs = [_ for _ in \"abcdefghijklmnopqrstuvwxyz\"]\n",
    "print(f\"list_strs = {list_strs}\")\n",
    "\n",
    "# str.join(list)\n",
    "# str 요소들로 이뤄진 list를 합쳐 하나의 문자열로 만듭니다.\n",
    "whole_str = \"*\".join(list_strs)\n",
    "print(f\"\\nwhole_str = {whole_str}\")"
   ]
  },
  {
   "cell_type": "markdown",
   "id": "80ac192f-e038-4007-a5b7-5e360a16cb3f",
   "metadata": {},
   "source": [
    "# 연습 문제\n",
    "\n",
    "1부터 100까지 업다운 게임을 완성해보세요.\n",
    "\n",
    "1. 게임을 시작할 때 랜덤하게 숫자를 만듭니다.(PSL의 random.randint() 활용)  \n",
    "2. 사용자로부터 값을 입력을 받습니다.  \n",
    "    a. 입력받은 값이 랜덤 숫자보다 크면 '그보다 작습니다'를 출력합니다.  \n",
    "    b. 입력받은 값이 랜덤 숫자보다 작으면 '그보다 큽니다.'를 출력합니다.  \n",
    "    c. 범위를 벗어난 값을 입력하면 '1~100 사이의 숫자를 입력하세요.'를 출력합니다.  \n",
    "    d. 입력받은 값과 랜덤 숫자가 같다면 '맞췄습니다!'를 출력합니다.  \n",
    "3. 몇 번만에 맞췄는지 출력합니다. '6번만에 맞추셨습니다.'\n",
    "4. 그동안 입력했던 숫자를 출력합니다.  \n",
    "    '입력한 숫자는 다음과 같습니다. -1, 101, 50, 10, 5, 3'(str.join(list) 활용)"
   ]
  },
  {
   "cell_type": "code",
   "execution_count": 122,
   "id": "2272b471-1c92-4fda-92de-971e54e4c2b2",
   "metadata": {},
   "outputs": [
    {
     "name": "stdin",
     "output_type": "stream",
     "text": [
      "숫자를 입력해주세요 -1\n"
     ]
    },
    {
     "name": "stdout",
     "output_type": "stream",
     "text": [
      "1~100 사이의 숫자를 입력하세요.\n"
     ]
    },
    {
     "name": "stdin",
     "output_type": "stream",
     "text": [
      "숫자를 입력해주세요 10\n"
     ]
    },
    {
     "name": "stdout",
     "output_type": "stream",
     "text": [
      "그보다 큽니다.\n"
     ]
    },
    {
     "name": "stdin",
     "output_type": "stream",
     "text": [
      "숫자를 입력해주세요 50\n"
     ]
    },
    {
     "name": "stdout",
     "output_type": "stream",
     "text": [
      "그보다 큽니다.\n"
     ]
    },
    {
     "name": "stdin",
     "output_type": "stream",
     "text": [
      "숫자를 입력해주세요 80\n"
     ]
    },
    {
     "name": "stdout",
     "output_type": "stream",
     "text": [
      "그보다 작습니다.\n"
     ]
    },
    {
     "name": "stdin",
     "output_type": "stream",
     "text": [
      "숫자를 입력해주세요 60\n"
     ]
    },
    {
     "name": "stdout",
     "output_type": "stream",
     "text": [
      "그보다 작습니다.\n"
     ]
    },
    {
     "name": "stdin",
     "output_type": "stream",
     "text": [
      "숫자를 입력해주세요 55\n"
     ]
    },
    {
     "name": "stdout",
     "output_type": "stream",
     "text": [
      "그보다 작습니다.\n"
     ]
    },
    {
     "name": "stdin",
     "output_type": "stream",
     "text": [
      "숫자를 입력해주세요 53\n"
     ]
    },
    {
     "name": "stdout",
     "output_type": "stream",
     "text": [
      "그보다 작습니다.\n"
     ]
    },
    {
     "name": "stdin",
     "output_type": "stream",
     "text": [
      "숫자를 입력해주세요 52\n"
     ]
    },
    {
     "name": "stdout",
     "output_type": "stream",
     "text": [
      "맞췄습니다!\n",
      "\n",
      "9번 만에 맞추셨습니다\n",
      "입력한 숫자는 다음과 같습니다. -1, 10, 50, 80, 60, 55, 53, 52, 52\n"
     ]
    }
   ],
   "source": [
    "import random\n",
    "\n",
    "correct_num = random.randint(1, 100)\n",
    "count = 0\n",
    "num_list = []\n",
    "\n",
    "while True:\n",
    "    num = str(input(\"숫자를 입력해주세요\"))\n",
    "    count += 1\n",
    "    num_list.append(num)\n",
    "    if int(num) < 1 or int(num) > 100:\n",
    "        print('1~100 사이의 숫자를 입력하세요.')\n",
    "    else:\n",
    "        if int(num) > correct_num:\n",
    "            print('그보다 작습니다.')\n",
    "        elif int(num) < correct_num:\n",
    "            print('그보다 큽니다.')\n",
    "        elif int(num) == correct_num:\n",
    "            print('맞췄습니다!')\n",
    "            count += 1\n",
    "            num_list.append(num)\n",
    "            break\n",
    "        \n",
    "whole_num = ', '.join(num_list)\n",
    "print(f'\\n{count}번 만에 맞추셨습니다')\n",
    "print(f'입력한 숫자는 다음과 같습니다. {whole_num}')"
   ]
  },
  {
   "cell_type": "code",
   "execution_count": 125,
   "id": "667d90bc-d7cb-48ac-964d-80d9a30e284f",
   "metadata": {},
   "outputs": [],
   "source": [
    "# 함수 정의절 --> 만듦\n",
    "# 인자(매개변수, parameter)\n",
    "# non-default parameter -> \"값\", \"값2\", \"값3\"\n",
    "# default parameter -> key = \"value\", key2 = \"value2\", ...\n",
    "def function_name(param1, param2, /, poskey, poskey2, *, keyonly1, keyonly2):\n",
    "    \"\"\"Docs\"\"\"\n",
    "    pass"
   ]
  },
  {
   "cell_type": "code",
   "execution_count": 126,
   "id": "adb3ecb5-f123-47d5-8151-d94d80f69061",
   "metadata": {},
   "outputs": [],
   "source": [
    "# 함수 호출 --> 사용\n",
    "# 인수(argument)\n",
    "# positional -only -> \"값\", \"값2\", \"값3\"\n",
    "# keyword-only -> key = \"value\", key2 = \"value2\", ...\n",
    "function_name(\"posonly\", \"po\", \"value\", poskey2 = \"value\",keyonly1 = \"value\", keyonly2 = \"value\")"
   ]
  },
  {
   "cell_type": "code",
   "execution_count": 136,
   "id": "f763f263-b5ae-49a7-ac9c-47a133579288",
   "metadata": {},
   "outputs": [],
   "source": [
    "# ARGumentS\n",
    "def function_name2(param1, param2, *args):\n",
    "    print(param1)\n",
    "    print(param2)\n",
    "    print(type(args))\n",
    "    for arg in args:\n",
    "        print(arg)"
   ]
  },
  {
   "cell_type": "code",
   "execution_count": 137,
   "id": "5050fd85-f138-452e-b3d9-edc017aacd2a",
   "metadata": {},
   "outputs": [
    {
     "name": "stdout",
     "output_type": "stream",
     "text": [
      "args\n",
      "는\n",
      "<class 'tuple'>\n",
      "가변 위치\n",
      "인수입니다.\n"
     ]
    }
   ],
   "source": [
    "function_name2(\"args\", \"는\", \"가변 위치\", \"인수입니다.\")"
   ]
  },
  {
   "cell_type": "code",
   "execution_count": 134,
   "id": "efee306f-8e96-4b47-bdf1-22eb6f322a05",
   "metadata": {},
   "outputs": [],
   "source": [
    "# unpacking\n",
    "# 시퀀스 자료형의 개수만큼 좌측에 변수 맞춰줘서 한번 할당\n",
    "a, b, c, d = [_ for _ in range(4)]"
   ]
  },
  {
   "cell_type": "code",
   "execution_count": 138,
   "id": "4077326c-4cf9-4a1c-9d11-1ec9edce722b",
   "metadata": {},
   "outputs": [
    {
     "name": "stdout",
     "output_type": "stream",
     "text": [
      "0 1 2 3\n"
     ]
    }
   ],
   "source": [
    "print(a, b, c, d)"
   ]
  },
  {
   "cell_type": "code",
   "execution_count": 155,
   "id": "cf12c38d-3738-4b28-84d9-5f5e2778a926",
   "metadata": {},
   "outputs": [],
   "source": [
    "# 가변 키워드 인자 Keyword ARGumentS\n",
    "def function_name3(key, key2, **kargs):\n",
    "    print(key)\n",
    "    print(key2)\n",
    "    print(type(kargs))\n",
    "    print(kargs)\n",
    "    print(kargs[\"key3\"])"
   ]
  },
  {
   "cell_type": "code",
   "execution_count": 156,
   "id": "838efaa3-b84e-4bea-838c-4c090be69eb5",
   "metadata": {},
   "outputs": [
    {
     "name": "stdout",
     "output_type": "stream",
     "text": [
      "value\n",
      "value2\n",
      "<class 'dict'>\n",
      "{'key3': 'value3'}\n",
      "value3\n"
     ]
    }
   ],
   "source": [
    "# 함수 호출\n",
    "function_name3(key=\"value\", key2=\"value2\", key3=\"value3\")"
   ]
  },
  {
   "cell_type": "code",
   "execution_count": 159,
   "id": "3850debe-8da7-452b-9461-4615f896c677",
   "metadata": {},
   "outputs": [],
   "source": [
    "def function_name4(param1, param2, param3=\"default\"):\n",
    "    pass"
   ]
  },
  {
   "cell_type": "markdown",
   "id": "91f7cf4b-f644-4b23-9c65-faa136264845",
   "metadata": {},
   "source": [
    "# 연습 문제\n",
    "\n",
    "화씨 온도를 섭씨 온도로 변경하는 함수를 만들어보세요. 화씨 온도를 섭씨 온도로  \n",
    "변경하는 공식은 아래와 같습니다.  \n",
    "\n",
    "- ℃ = (℉ - 32) x 5/9\n",
    "- 함수명: to_celsius\n",
    "- 인자: fahrenheit\n",
    "- 반환: 섭씨 온도\n",
    "\n",
    "> 실행결과:  \n",
    "to_celsius(70)\n",
    "반환 값: 21.11111111111111"
   ]
  },
  {
   "cell_type": "code",
   "execution_count": 172,
   "id": "bf257de9-6cc4-4fac-902a-1ca2fecfdabe",
   "metadata": {},
   "outputs": [],
   "source": [
    "def to_celsius(fahrenheit):\n",
    "    celsius = (fahrenheit - 32) * 5 / 9\n",
    "    return celsius"
   ]
  },
  {
   "cell_type": "code",
   "execution_count": 176,
   "id": "4732f606-72d8-4da8-862e-1d14fd64df01",
   "metadata": {},
   "outputs": [
    {
     "name": "stdout",
     "output_type": "stream",
     "text": [
      "21.11111111111111\n"
     ]
    }
   ],
   "source": [
    "print(to_celsius(70))"
   ]
  },
  {
   "cell_type": "markdown",
   "id": "d27e364b-68ed-4665-8715-495b5e622b90",
   "metadata": {},
   "source": [
    "# 연습 문제\n",
    "\n",
    "자연수를 인수로 전달하면 짝수일 때 \"짝수\"라는 문자열을, 홀수일 때 \"홀수\"라는  \n",
    "문자열을 반환하는 함수를 만들어보세요.\n",
    "\n",
    "- 자연수에 대해서만 \"짝수\", \"홀수\" 반환합니다.\n",
    "- 자연수가 아닌 값이 들어왔을 때 반환값 없이 함수를 즉시 종료합니다.  \n",
    "\n",
    "```python\n",
    "print(odd_even.__doc__)\n",
    "print(odd_even(10))\n",
    "print(odd_even(9))\n",
    "print(odd_even(\"가\"))\n",
    "```\n",
    "\n",
    "> 실행결과:\n",
    "number가 짝수면 \"짝수\", 홀수면 \"홀수\" 반환  \n",
    "짝수  \n",
    "홀수  \n",
    "None"
   ]
  },
  {
   "cell_type": "code",
   "execution_count": 223,
   "id": "65dc74fb-22c7-4cac-a48d-4fbc5892b64d",
   "metadata": {},
   "outputs": [],
   "source": [
    "def odd_even(argu):\n",
    "    \"\"\"number가 짝수면 \"짝수\", 홀수면 \"홀수\"반환\"\"\"\n",
    "    if type(argu) is not int or argu < 1:\n",
    "        return\n",
    "    else:\n",
    "        if argu % 2 == 1:\n",
    "            return \"홀수\"\n",
    "        else:\n",
    "            return \"짝수\""
   ]
  },
  {
   "cell_type": "code",
   "execution_count": 224,
   "id": "26dca448-e796-49e1-8f16-809ad3c399fc",
   "metadata": {},
   "outputs": [
    {
     "name": "stdout",
     "output_type": "stream",
     "text": [
      "number가 짝수면 \"짝수\", 홀수면 \"홀수\"반환\n",
      "짝수\n",
      "홀수\n",
      "None\n"
     ]
    }
   ],
   "source": [
    "print(odd_even.__doc__)\n",
    "print(odd_even(10))\n",
    "print(odd_even(9))\n",
    "print(odd_even(\"가\"))"
   ]
  },
  {
   "cell_type": "markdown",
   "id": "1a93ee4b-fe62-4f04-8859-20cfa930036a",
   "metadata": {},
   "source": [
    "함수에서 return을 만나면 함수를 즉시 빠져나갑니다.  \n",
    "빠져나가면 함수를 호출한 부분부터 다시 시작이 됩니다.\n",
    "\n",
    "```python\n",
    "def odd_even(???):\n",
    "    \"\"\"Docs\"\"\"\n",
    "    if 자연수 아닌 값:\n",
    "        return\n",
    "    \n",
    "odd_even(\"가\") --> None\n",
    "```"
   ]
  },
  {
   "cell_type": "code",
   "execution_count": 225,
   "id": "5e4e50e7-68dd-423d-bda7-f05c4d4f4932",
   "metadata": {},
   "outputs": [],
   "source": [
    "def odd_even(number):\n",
    "    \"\"\"number가 짝수면 \"짝수\", 홀수면 \"홀수\" 빈환\"\"\"\n",
    "    if type(number) is int and number > 0:\n",
    "        return \"짝수\" * (number % 2 == 0) or \"홀수\"\n",
    "    else:\n",
    "        return"
   ]
  },
  {
   "cell_type": "code",
   "execution_count": 222,
   "id": "7ffbd63b-1a38-4352-817f-e6d0c95acd72",
   "metadata": {},
   "outputs": [
    {
     "name": "stdout",
     "output_type": "stream",
     "text": [
      "number가 짝수면 \"짝수\", 홀수면 \"홀수\" 빈환\n",
      "짝수\n",
      "홀수\n",
      "None\n"
     ]
    }
   ],
   "source": [
    "print(odd_even.__doc__)\n",
    "print(odd_even(10))\n",
    "print(odd_even(9))\n",
    "print(odd_even(\"가\"))"
   ]
  },
  {
   "cell_type": "markdown",
   "id": "efd6b010-c940-4c40-a851-4cb48cfa1ea4",
   "metadata": {},
   "source": [
    "# 연습 문제\n",
    "\n",
    "인수로 연도 값을 입력 받습니다. 윤년을 나타나는 연도가 입력되면 윤년이라는 문자열을  \n",
    "반환하고, 그렇지 않은 수가 입력되면 평년이라는 문자열을 반환하는 함수를  \n",
    "만들어보세요.\n",
    "\n",
    "- 윤년은 기본적으로 4로 나눠지는 연도입니다.\n",
    "- 예외사항 : 100으로 나눠지면서 400으로 나눠지지 않는 연도는 평년입니다.\n",
    "\n",
    "> 실행결과:  \n",
    "check_leap_year(2004)\n",
    "반환 값: \"윤년\"\n",
    "\n",
    "> 실행결과:  \n",
    "check_leap_year(2000)\n",
    "반환 값: \"윤년\"\n",
    "\n",
    "> 실행결과:  \n",
    "check_leap_year(1900)\n",
    "반환 값: \"평년\""
   ]
  },
  {
   "cell_type": "code",
   "execution_count": 226,
   "id": "2d3f121b-c7e6-4273-af48-f89b6b407094",
   "metadata": {},
   "outputs": [],
   "source": [
    "def check_leap_year(year):\n",
    "    if year % 4 == 0:\n",
    "        if year % 100 == 0 and year % 400 != 0:\n",
    "            return \"평년\"\n",
    "        else:\n",
    "            return \"윤년\""
   ]
  },
  {
   "cell_type": "code",
   "execution_count": 229,
   "id": "5f185364-c88b-4f50-b939-6948ac57bb6d",
   "metadata": {},
   "outputs": [
    {
     "name": "stdout",
     "output_type": "stream",
     "text": [
      "평년\n"
     ]
    }
   ],
   "source": [
    "print(check_leap_year(1900))"
   ]
  },
  {
   "cell_type": "markdown",
   "id": "83886643-cb56-4dd0-a774-351d46f7ac52",
   "metadata": {},
   "source": [
    "# 연습 문제\n",
    "\n",
    "연도가 평년일 때 1월, 3월, 5월, 7월, 8월, 10월, 12월은 31일, 4월 6월, 9월, 11월은  \n",
    "30일, 2월은 28일입니다. 월을 나타내는 숫자를 인수로 전달하면 그 달의 날짜 개수를  \n",
    "반환하는 함수 days 를 만들어보세요. 사용 예는 다음과 같다."
   ]
  },
  {
   "cell_type": "code",
   "execution_count": 234,
   "id": "78e982fd-bbd7-4c54-ac1b-9d949aefce95",
   "metadata": {},
   "outputs": [],
   "source": [
    "def days(month):\n",
    "    if month == 2:\n",
    "        return 28\n",
    "    elif month == 4 or month == 6 or month == 9 or month == 11:\n",
    "        return 30\n",
    "    else:\n",
    "        return 31"
   ]
  },
  {
   "cell_type": "code",
   "execution_count": 238,
   "id": "ebd967b9-2db2-4af8-ab77-c15831b1b374",
   "metadata": {},
   "outputs": [
    {
     "data": {
      "text/plain": [
       "31"
      ]
     },
     "execution_count": 238,
     "metadata": {},
     "output_type": "execute_result"
    }
   ],
   "source": [
    "days(1)"
   ]
  },
  {
   "cell_type": "code",
   "execution_count": 239,
   "id": "b1aebd30-730d-4261-9951-7fd7069421e5",
   "metadata": {},
   "outputs": [],
   "source": [
    "def days(month):\n",
    "    if month in (1, 3, 5, 7,  8, 10, 12):\n",
    "        return 31\n",
    "    elif month in (4, 6, 9, 11):\n",
    "        return 30\n",
    "    elif month == 2:\n",
    "        return 28"
   ]
  },
  {
   "cell_type": "markdown",
   "id": "9228b348-1bcd-49f0-b978-aeb7334ce3c2",
   "metadata": {},
   "source": [
    "# 연습 문제\n",
    "\n",
    "연도를 나타내는 숫자와 월을 나타내는 숫자를 인수 값으로 각각 전달하면 그 달의 날짜  \n",
    "개수를 반환하는 함수 days 를 만들어보세요.\n",
    "\n",
    "- 윤년, 평년도 계산해야 합니다."
   ]
  },
  {
   "cell_type": "code",
   "execution_count": 245,
   "id": "10282615-3c0b-4d6b-b801-3b00e320423e",
   "metadata": {},
   "outputs": [],
   "source": [
    "def days(year, month):\n",
    "    if year % 4 == 0:\n",
    "        if year % 100 == 0 and year % 400 != 0:\n",
    "            year_name = \"평년\"\n",
    "        else:\n",
    "            year_name = \"윤년\"\n",
    "            \n",
    "    if month in (1, 3, 5, 7,  8, 10, 12):\n",
    "        return 31\n",
    "    elif month in (4, 6, 9, 11):\n",
    "        return 30\n",
    "    elif month == 2:\n",
    "        return 28 * (year_name == \"평년\") + 29 * (year_name == \"윤년\")"
   ]
  },
  {
   "cell_type": "code",
   "execution_count": 247,
   "id": "90fd841a-9e5b-44a1-80a3-13b5d1cbeedf",
   "metadata": {},
   "outputs": [
    {
     "name": "stdout",
     "output_type": "stream",
     "text": [
      "29\n"
     ]
    }
   ],
   "source": [
    "print(days(2000, 2))"
   ]
  },
  {
   "cell_type": "markdown",
   "id": "d861a5e3-71ac-41ef-90d5-7a13eae5f975",
   "metadata": {},
   "source": [
    "# 연습 문제\n",
    "\n",
    "아래 소스 코드를 완성하여 몫과 나머지를 구하는 함수를 완성해보세요.\n",
    "\n",
    "소스 코드:\n",
    "\n",
    "```pyhton\n",
    "x = 10\n",
    "\n",
    "y = 3\n",
    "\n",
    "get_quitient_remainder() 함수를 정의하세요.\n",
    "\n",
    "quotient, remainder = get_quotient_remainder(x, y)\n",
    "\n",
    "print(f'몫: {quotient}, 나머지: {remainder}')\n",
    "```\n",
    "\n",
    "> 실행 결과:\n",
    "몫: 3, 나머지: 1"
   ]
  },
  {
   "cell_type": "code",
   "execution_count": 273,
   "id": "29118683-7f5b-4531-8e54-b608db4ca349",
   "metadata": {},
   "outputs": [],
   "source": [
    "def get_quotient_remainder(x, y):\n",
    "    quotient = x // y\n",
    "    remainder = x % y\n",
    "    return quotient, remainder"
   ]
  },
  {
   "cell_type": "code",
   "execution_count": 274,
   "id": "2505c051-8900-4a00-bba7-6e3c29357957",
   "metadata": {},
   "outputs": [
    {
     "name": "stdout",
     "output_type": "stream",
     "text": [
      "몫:3, 나머지:1\n"
     ]
    }
   ],
   "source": [
    "quotient, remainder = get_quotient_remainder(10, 3)\n",
    "print(f'몫:{quotient}, 나머지:{remainder}')"
   ]
  },
  {
   "cell_type": "code",
   "execution_count": 278,
   "id": "aeb57f25-f9ae-4d8b-9a9f-7785278d4487",
   "metadata": {},
   "outputs": [
    {
     "name": "stdout",
     "output_type": "stream",
     "text": [
      "몫: 3, 나머지: 1\n"
     ]
    }
   ],
   "source": [
    "x = 10\n",
    "y = 3\n",
    "\n",
    "def get_quotient_remainder(a, b):\n",
    "    return(a // b, a % b)\n",
    "quotient, remainder = get_quotient_remainder(x, y)\n",
    "print(f'몫: {quotient}, 나머지: {remainder}')"
   ]
  },
  {
   "cell_type": "code",
   "execution_count": 288,
   "id": "c65824a7-d753-436e-9c7d-ab2f0e2be8ef",
   "metadata": {},
   "outputs": [
    {
     "name": "stdout",
     "output_type": "stream",
     "text": [
      "전역 변수입니다.\n"
     ]
    }
   ],
   "source": [
    "# 지역 범위(local scope) 전역 변수(global variable)에 접근 출력(변경 않음)\n",
    "global_v = \"전역 변수입니다.\"\n",
    "\n",
    "def local_scope():\n",
    "    print(global_v)\n",
    "    \n",
    "local_scope()"
   ]
  },
  {
   "cell_type": "code",
   "execution_count": 289,
   "id": "6f2edaee-1026-483f-9a12-cb0a3122fd58",
   "metadata": {},
   "outputs": [
    {
     "name": "stdout",
     "output_type": "stream",
     "text": [
      "전역 변수입니다.\n"
     ]
    }
   ],
   "source": [
    "# 지역 범위(local scope) 전역 변수(global variable)에 접근 후 재할당\n",
    "\n",
    "global_v2 = \"전역 변수입니다.\"\n",
    "\n",
    "def local_scope2():\n",
    "    global_v2 = \"지역 범위입니다.\"\n",
    "    \n",
    "local_scope2()\n",
    "print(global_v2)\n",
    "# 사실은 전역 범위에서 global_v2를 만들어 할당한 것과  \n",
    "# 로컬 범위에서 global_v2를 만들어 할당한 것\n",
    "# 두 가지 일을 각각 독립적으로 실행한 결과를 확인했다."
   ]
  },
  {
   "cell_type": "code",
   "execution_count": 290,
   "id": "ae52e865-9702-41ad-b900-f81dd0724e8e",
   "metadata": {},
   "outputs": [
    {
     "name": "stdout",
     "output_type": "stream",
     "text": [
      "지역 범위에서 변경입니다.\n"
     ]
    }
   ],
   "source": [
    "# 지역 범위(local scope) 전역 변수(global variable)에 접근 후 재할당\n",
    "\n",
    "global_v3 = \"전역 변수입니다.\"\n",
    "\n",
    "def local_scope3():\n",
    "    global global_v3 # 전역 범위에 있는 전역 변수인 global_v3를 사용하겠다.\n",
    "    global_v3 = \"지역 범위에서 변경입니다.\"\n",
    "    \n",
    "local_scope3()\n",
    "print(global_v3)\n",
    "\n",
    "# global 키워드를 활용하면 지역 범위에 있어도 \n",
    "# 전역 변수에 대한 변경이 가능하도록 할 수 있었다."
   ]
  },
  {
   "cell_type": "code",
   "execution_count": 294,
   "id": "49141935-905b-48ef-8e37-a82d20729e52",
   "metadata": {},
   "outputs": [
    {
     "ename": "NameError",
     "evalue": "name 'global_v4' is not defined",
     "output_type": "error",
     "traceback": [
      "\u001b[1;31m---------------------------------------------------------------------------\u001b[0m",
      "\u001b[1;31mNameError\u001b[0m                                 Traceback (most recent call last)",
      "\u001b[1;32m~\\AppData\\Local\\Temp\\ipykernel_11496\\2685848670.py\u001b[0m in \u001b[0;36m<module>\u001b[1;34m\u001b[0m\n\u001b[0;32m      7\u001b[0m     \u001b[0mlocal_scope5\u001b[0m\u001b[1;33m(\u001b[0m\u001b[1;33m)\u001b[0m\u001b[1;33m\u001b[0m\u001b[1;33m\u001b[0m\u001b[0m\n\u001b[0;32m      8\u001b[0m \u001b[1;33m\u001b[0m\u001b[0m\n\u001b[1;32m----> 9\u001b[1;33m \u001b[0mprint\u001b[0m\u001b[1;33m(\u001b[0m\u001b[0mglobal_v4\u001b[0m\u001b[1;33m)\u001b[0m \u001b[1;31m# 접근 불가. 없음.\u001b[0m\u001b[1;33m\u001b[0m\u001b[1;33m\u001b[0m\u001b[0m\n\u001b[0m\u001b[0;32m     10\u001b[0m \u001b[1;31m# 지역 범위 안에 있는 지역 변수는 그 함수 실행과 반환 사이동안만 살아있었다.\u001b[0m\u001b[1;33m\u001b[0m\u001b[1;33m\u001b[0m\u001b[0m\n\u001b[0;32m     11\u001b[0m \u001b[1;33m\u001b[0m\u001b[0m\n",
      "\u001b[1;31mNameError\u001b[0m: name 'global_v4' is not defined"
     ]
    }
   ],
   "source": [
    "# 지역 범위(local scope) 안에 지역 범위가 중첩되어 있을 경우\n",
    "# 비교적 바깥에 있는 지역 범위의 지역 변수에 접근하여 출력\n",
    "def local_scope4():\n",
    "    global_v4 = \"바깥 지역 범위입니다.\"\n",
    "    def local_scope5():\n",
    "        print(global_v4)\n",
    "    local_scope5()\n",
    "    \n",
    "print(global_v4) # 접근 불가. 없음.\n",
    "# 지역 범위 안에 있는 지역 변수는 그 함수 실행과 반환 사이동안만 살아있었다.\n",
    "\n",
    "local_scope4()"
   ]
  },
  {
   "cell_type": "code",
   "execution_count": 296,
   "id": "e496cfc9-1371-459c-bde9-1b6b5009140f",
   "metadata": {},
   "outputs": [
    {
     "name": "stdout",
     "output_type": "stream",
     "text": [
      "바깥 지역 범위입니다.\n"
     ]
    }
   ],
   "source": [
    "# 지역 범위(local scope) 안에 지역 범위가 중첩되어 있을 경우\n",
    "# 비교적 바깥에 있는 지역 범위의 지역 변수에 접근하여 출력\n",
    "def local_scope6():\n",
    "    global_v5 = \"바깥 지역 범위입니다.\" # 더 넓은 범위의 로컬 변수로 선언\n",
    "    def local_scope7():\n",
    "        global_v5 = \"안쪽 지역 범위입니다.\" # 더 좁은 범위의 로컬 변수로 선언\n",
    "    local_scope7()\n",
    "    print(global_v5)\n",
    "\n",
    "local_scope6()\n",
    "\n",
    "# 그래서 local_scope6 범위의 global_v5는\n",
    "# local_scope7 범위의 global_v5와 각각 독립적으로 생성이 된 것을 봤다."
   ]
  },
  {
   "cell_type": "code",
   "execution_count": 299,
   "id": "82caed70-ea5c-4be9-b205-b5211b1dc825",
   "metadata": {},
   "outputs": [
    {
     "name": "stdout",
     "output_type": "stream",
     "text": [
      "안쪽 지역 범위입니다.\n"
     ]
    }
   ],
   "source": [
    "# 지역 범위(local scope) 안에 지역 범위가 중첩되어 있을 경우\n",
    "# 비교적 바깥에 있는 지역 범위의 지역 변수에 접근하여 출력\n",
    "def local_scope8():\n",
    "    global_v6 = \"바깥 지역 범위입니다.\"\n",
    "    def local_scope9():\n",
    "        # 현 영역(지금의 로컬 영역 바깥의 변수 global_v6를 찾아서 그 변수를 사용하겠다.)\n",
    "        nonlocal global_v6 \n",
    "        global_v6 = \"안쪽 지역 범위입니다.\"\n",
    "    local_scope9()\n",
    "    print(global_v6)\n",
    "\n",
    "local_scope8()"
   ]
  },
  {
   "cell_type": "code",
   "execution_count": 301,
   "id": "f026d2ba-26a4-4d86-aa0b-03fbb5819199",
   "metadata": {},
   "outputs": [
    {
     "name": "stdout",
     "output_type": "stream",
     "text": [
      "[0, 4, 12, 24, 40]\n",
      "100\n"
     ]
    }
   ],
   "source": [
    "a = [_ for _ in range(5)] # 0, 1, 2, 3, 4\n",
    "b = [_ for _ in range(2, 11, 2)] # 2, 4, 6, 8, 10\n",
    "\n",
    "c = list(map(lambda x, y: x* y, a, b))\n",
    "\n",
    "print(c)\n",
    "\n",
    "print((lambda x: x ** 2)(10))"
   ]
  },
  {
   "cell_type": "code",
   "execution_count": 308,
   "id": "2c73237a-c763-4c23-a5b4-ab6a975ffb3b",
   "metadata": {},
   "outputs": [],
   "source": [
    "class Student():\n",
    "    def __init__(self):\n",
    "        pass"
   ]
  },
  {
   "cell_type": "code",
   "execution_count": 309,
   "id": "ad1455da-959a-4c2a-aa7c-b135af9ca63e",
   "metadata": {},
   "outputs": [],
   "source": [
    "gh = Student() # 독립적인 값을 보장하는 인스턴스로 생성됩니다."
   ]
  },
  {
   "cell_type": "code",
   "execution_count": 315,
   "id": "7515be23-bbcc-481c-bc55-5a71d474cb1d",
   "metadata": {},
   "outputs": [],
   "source": [
    "class Person:\n",
    "    def __init__(self):\n",
    "        self.hello = \"안녕하세요.\"\n",
    "        \n",
    "    def greeting(self):\n",
    "        print(self.hello)"
   ]
  },
  {
   "cell_type": "code",
   "execution_count": 316,
   "id": "4ffdce79-7f46-4139-9552-ab6c8b860915",
   "metadata": {},
   "outputs": [],
   "source": [
    "james = Person()"
   ]
  },
  {
   "cell_type": "code",
   "execution_count": 317,
   "id": "9da87818-bfdb-4e46-86aa-d5c9f64686d9",
   "metadata": {},
   "outputs": [
    {
     "name": "stdout",
     "output_type": "stream",
     "text": [
      "안녕하세요.\n"
     ]
    }
   ],
   "source": [
    "james.greeting()"
   ]
  },
  {
   "cell_type": "code",
   "execution_count": 318,
   "id": "93e84bc9-e299-4d58-80e4-d991f29adc69",
   "metadata": {},
   "outputs": [
    {
     "name": "stdout",
     "output_type": "stream",
     "text": [
      "안녕하세요.\n"
     ]
    }
   ],
   "source": [
    "bebe = Person()\n",
    "bebe.greeting()"
   ]
  },
  {
   "cell_type": "code",
   "execution_count": null,
   "id": "e74ec48b-f9d7-4eda-9772-01584a58b4a3",
   "metadata": {},
   "outputs": [],
   "source": []
  }
 ],
 "metadata": {
  "kernelspec": {
   "display_name": "Python 3 (ipykernel)",
   "language": "python",
   "name": "python3"
  },
  "language_info": {
   "codemirror_mode": {
    "name": "ipython",
    "version": 3
   },
   "file_extension": ".py",
   "mimetype": "text/x-python",
   "name": "python",
   "nbconvert_exporter": "python",
   "pygments_lexer": "ipython3",
   "version": "3.9.13"
  }
 },
 "nbformat": 4,
 "nbformat_minor": 5
}
