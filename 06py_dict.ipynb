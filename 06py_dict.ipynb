{
 "cells": [
  {
   "cell_type": "markdown",
   "id": "43d29641-d40d-4a3e-becd-6de8e85980ce",
   "metadata": {},
   "source": [
    "# 연습 문제\n",
    "\n",
    "5명의 시험관이 채점한 어느 학생의 실기 시험 점수를 입력받아 Scores라는 list를  \n",
    "만듭니다.(split(), map(), list() 사용)\n",
    "\n",
    "공정성을 위해 최고 점수와 최저 점수는 제외하고 나머지 점수들의 합계를 합계를 총점으로  반영합니다.\n",
    "\n",
    "이 학생의 최종 실기 평균을 구하세요.(아래 프로그램 구조에 따라)\n",
    "\n",
    "> 실행결과:  \n",
    "실기 점수를 입력 하세요 : 70 50 85 98 82  \n",
    "이 학생의 평균 점수는 79.0 입니다.\n",
    "\n",
    "프로그램 구조\n",
    "1. 모든 과목 점수의 합을 구합니다.\n",
    "2. 최고 점수를 구합니다.\n",
    "3. 최저 점수를 구합니다.\n",
    "4. (모든 과목 점수의 합) - (최고 점수) - (최저 점수)의 값을 구하고 인쇄합니다."
   ]
  },
  {
   "cell_type": "code",
   "execution_count": 2,
   "id": "85155607-2d82-4796-9dfe-faf993634f37",
   "metadata": {},
   "outputs": [
    {
     "name": "stdin",
     "output_type": "stream",
     "text": [
      "실기점수를 입력하세요 : 70 50 85 98 82\n"
     ]
    },
    {
     "name": "stdout",
     "output_type": "stream",
     "text": [
      "\n",
      "이 학생의 평균 점수는 79.0 입니다.\n"
     ]
    }
   ],
   "source": [
    "# 입력값 : 70 50 85 98 82\n",
    "Score = list(map(int,(input(\"실기점수를 입력하세요 :\")).split(\" \")))\n",
    "total = 0\n",
    "largest = 0\n",
    "smallest = 100\n",
    "\n",
    "for _ in Score:\n",
    "    total += _\n",
    "    if _ > largest:\n",
    "        largest = _\n",
    "    if _ < smallest:\n",
    "        smallest = _\n",
    "        \n",
    "total = total - largest - smallest\n",
    "average = total / (len(Score) - 2)\n",
    "\n",
    "print(f'\\n이 학생의 평균 점수는 {average} 입니다.')"
   ]
  },
  {
   "cell_type": "code",
   "execution_count": 5,
   "id": "9d18ac23-6675-4fb0-ab04-9ac4ab946ad6",
   "metadata": {},
   "outputs": [
    {
     "name": "stdin",
     "output_type": "stream",
     "text": [
      "실기점수를 입력하세요 : 70 50 85 98 82\n"
     ]
    },
    {
     "name": "stdout",
     "output_type": "stream",
     "text": [
      "79.0\n"
     ]
    }
   ],
   "source": [
    "# 입력값 : 70 50 85 98 82\n",
    "scores = list(map(int,input(\"실기점수를 입력하세요 :\").split(\" \")))\n",
    "Max = 0\n",
    "Min = 100\n",
    "total = 0\n",
    "\n",
    "for _ in range(len(scores)):\n",
    "    total += scores[_]\n",
    "    if scores[_] >= Max:\n",
    "        Max = scores[_]\n",
    "    if scores[_] <= Min:\n",
    "        Min = scores[_]\n",
    "        \n",
    "scores.remove(Min)\n",
    "scores.remove(Max)\n",
    "avg = (total-Min-Max)/len(scores)\n",
    "\n",
    "print(avg)"
   ]
  },
  {
   "cell_type": "markdown",
   "id": "b5042154-6f28-46ba-b7d1-bb7606986452",
   "metadata": {},
   "source": [
    "# 파이썬 대학교에서는 다음과 같이 학생들의 점수에 따라 학점을 부여합니다.\n",
    "\n",
    "- 85점 ~ 100점 : A 학점\n",
    "- 70점 ~ 84점 : B 학점\n",
    "- 55점 ~ 69점 : C 학점\n",
    "- 40점 ~ 54점 : D 학점\n",
    "- 0점 ~ 39점 : F 학점\n",
    "\n",
    "A 학점, B 학점, C 학점, D 학점, F 학점을 받은 학생들의 수로 grade_counter라는  \n",
    "이름의 리스트를 만들어 출력할 수 있도록 다음의 코드를 완성하세요.  \n",
    "\n",
    "점수 리스트 [86,72,98,60,45]\n",
    "\n",
    "> 실행 결과 :  \n",
    "[2, 1, 1, 1, 0]"
   ]
  },
  {
   "cell_type": "code",
   "execution_count": 6,
   "id": "637d6585-d1ad-4aa6-9b0d-3dcd9624c0e8",
   "metadata": {},
   "outputs": [
    {
     "name": "stdout",
     "output_type": "stream",
     "text": [
      "[2, 1, 1, 1, 0]\n"
     ]
    }
   ],
   "source": [
    "Score = [86, 72, 98, 60, 45]\n",
    "a, b, c, d, e = [0] * 5\n",
    "\n",
    "for _ in Score:\n",
    "    if 85 <= _ <= 100:\n",
    "        a += 1\n",
    "    elif 70 <= _ <= 84:\n",
    "        b += 1\n",
    "    elif 55 <= _ <= 69:\n",
    "        c += 1\n",
    "    elif 40 <= _ <= 54:\n",
    "        d += 1\n",
    "    else:\n",
    "        f += 1\n",
    "\n",
    "grade_count = [a, b, c, d, e]\n",
    "print(grade_count)"
   ]
  },
  {
   "cell_type": "markdown",
   "id": "4ecb03f5-deb1-4db4-b26f-b5f40606a58e",
   "metadata": {},
   "source": [
    "# 연습 문제\n",
    "\n",
    "FizzBuzz 문제\n",
    "\n",
    "- 1 ~ 100 까지의 범위를 갖습니다.\n",
    "- 3의 배수는 Fizz를 출력합니다.\n",
    "- 5의 배수는 Buzz를 출력합니다.\n",
    "- 3과 5의 배수는 FizzBuzz를 출력합니다."
   ]
  },
  {
   "cell_type": "code",
   "execution_count": 7,
   "id": "e31fa09e-3abb-4ca6-84d6-b85d6d49d039",
   "metadata": {},
   "outputs": [
    {
     "name": "stdout",
     "output_type": "stream",
     "text": [
      "1\t2\tFizz\t4\tBuzz\tFizz\t7\t8\tFizz\tBuzz\t11\tFizz\t13\t14\tFizzBuzz\t16\t17\tFizz\t19\tBuzz\tFizz\t22\t23\tFizz\tBuzz\t26\tFizz\t28\t29\tFizzBuzz\t31\t32\tFizz\t34\tBuzz\tFizz\t37\t38\tFizz\tBuzz\t41\tFizz\t43\t44\tFizzBuzz\t46\t47\tFizz\t49\tBuzz\tFizz\t52\t53\tFizz\tBuzz\t56\tFizz\t58\t59\tFizzBuzz\t61\t62\tFizz\t64\tBuzz\tFizz\t67\t68\tFizz\tBuzz\t71\tFizz\t73\t74\tFizzBuzz\t76\t77\tFizz\t79\tBuzz\tFizz\t82\t83\tFizz\tBuzz\t86\tFizz\t88\t89\tFizzBuzz\t91\t92\tFizz\t94\tBuzz\tFizz\t97\t98\tFizz\tBuzz\t"
     ]
    }
   ],
   "source": [
    "for _ in range(1, 101):\n",
    "    if _ % 3 == 0 and _ % 5 == 0:\n",
    "        print(\"FizzBuzz\", end = \"\\t\")\n",
    "    elif _ % 3 == 0:\n",
    "        print(\"Fizz\", end = \"\\t\")\n",
    "    elif _ % 5 == 0:\n",
    "        print(\"Buzz\", end = \"\\t\")\n",
    "    else:\n",
    "        print(_, end = \"\\t\")"
   ]
  },
  {
   "cell_type": "code",
   "execution_count": 8,
   "id": "08093bdd-e034-41ef-97fa-e225cca30ede",
   "metadata": {},
   "outputs": [
    {
     "name": "stdout",
     "output_type": "stream",
     "text": [
      "1\t2\tFizz\t4\tBuzz\tFizz\t7\t8\tFizz\tBuzz\t11\tFizz\t13\t14\tFizzBuzz\t16\t17\tFizz\t19\tBuzz\tFizz\t22\t23\tFizz\tBuzz\t26\tFizz\t28\t29\tFizzBuzz\t31\t32\tFizz\t34\tBuzz\tFizz\t37\t38\tFizz\tBuzz\t41\tFizz\t43\t44\tFizzBuzz\t46\t47\tFizz\t49\tBuzz\tFizz\t52\t53\tFizz\tBuzz\t56\tFizz\t58\t59\tFizzBuzz\t61\t62\tFizz\t64\tBuzz\tFizz\t67\t68\tFizz\tBuzz\t71\tFizz\t73\t74\tFizzBuzz\t76\t77\tFizz\t79\tBuzz\tFizz\t82\t83\tFizz\tBuzz\t86\tFizz\t88\t89\tFizzBuzz\t91\t92\tFizz\t94\tBuzz\tFizz\t97\t98\tFizz\tBuzz\t"
     ]
    }
   ],
   "source": [
    "for i in range(1,101):\n",
    "    print(\"Fizz\" * (i % 3 == 0) + \"Buzz\" * (i % 5 == 0) or i, end = \"\\t\")"
   ]
  },
  {
   "cell_type": "markdown",
   "id": "ea5c98c6-ccb1-4526-afd4-45ca3fdb4e54",
   "metadata": {},
   "source": [
    "# 연습 문제\n",
    "\n",
    "학생들의 이름이 들어있는 명단이 name_list라는 리스트 형태로 주어질 때 이름에  \n",
    "'m'또는 'h'가 들어있는 학생의 수를 구하려고 합니다.  \n",
    "\n",
    "예를 들어 john 에는 h가 들어가 있으며, matthew 에는 m과 h가 모두 들어있습니다.\n",
    "\n",
    "(m과 h 모두 들어있는 이름은 하나로 취급함)\n",
    "\n",
    "- name_list = ['matthew', 'mark', 'luke', 'john', 'paul', 'peter']"
   ]
  },
  {
   "cell_type": "code",
   "execution_count": 9,
   "id": "b61af47b-62fd-4136-b4d2-8be507da12a9",
   "metadata": {},
   "outputs": [
    {
     "name": "stdout",
     "output_type": "stream",
     "text": [
      "m 또는 h 가 이름에 포함된 사람은 3 명 입니다.\n"
     ]
    }
   ],
   "source": [
    "name_list = ['matthew', 'mark', 'luke', 'john', 'paul', 'peter']\n",
    "\n",
    "count = 0\n",
    "\n",
    "for i in name_list:\n",
    "    for j in i:\n",
    "        if j == \"m\" or j == \"h\":\n",
    "            count += 1\n",
    "            break\n",
    "print(f'm 또는 h 가 이름에 포함된 사람은 {count} 명 입니다.')"
   ]
  },
  {
   "cell_type": "code",
   "execution_count": 10,
   "id": "4e2eb87e-c682-41ca-bc8d-7aa5334c0116",
   "metadata": {},
   "outputs": [
    {
     "name": "stdout",
     "output_type": "stream",
     "text": [
      "m 또는 h가 이름에 포함된 사람은 3 명 입니다.\n"
     ]
    }
   ],
   "source": [
    "name_list = [\"matthew\",\"mark\",\"luke\",\"john\",\"paul\",\"peter\"]\n",
    "mh_count =0\n",
    "for i in name_list:\n",
    "    for j in i :\n",
    "        if j == \"h\" or j == \"H\" or j == \"m\" or j == \"M\":\n",
    "            mh_count+=1\n",
    "            break\n",
    "print(\"m 또는 h가 이름에 포함된 사람은\",mh_count,\"명 입니다.\")"
   ]
  },
  {
   "cell_type": "code",
   "execution_count": 11,
   "id": "36ec5025-7c02-429f-b09b-685be438da3a",
   "metadata": {},
   "outputs": [
    {
     "name": "stdout",
     "output_type": "stream",
     "text": [
      "m 또는 h 가 이름에 포함된 사람은 3 명 입니다.\n"
     ]
    }
   ],
   "source": [
    "name_list = ['matthew', 'mark', 'luke', 'john', 'paul','peter']\n",
    "count = 0\n",
    "for i in name_list:\n",
    "    if \"m\" in i or \"h\" in i:\n",
    "        count +=1\n",
    "print(f'm 또는 h 가 이름에 포함된 사람은 {count} 명 입니다.')"
   ]
  },
  {
   "cell_type": "markdown",
   "id": "ade81e44-8d94-4b53-85cc-86f59bc54a4b",
   "metadata": {},
   "source": [
    "# 연습문제\n",
    "\n",
    "총 5명의 학생이 시험을 보았습니다. 시험 점수가 60점을 넘어 합격한 사람에게만 축하  \n",
    "메시지를 보내는 프로그램을 구현합니다. (불합격자에게는 메시지를 띄우지 않습니다.)  \n",
    "\n",
    "(for / while 모두 작성, continue 활용)\n",
    "\n",
    "- marks = [90, 25, 67, 45, 80]"
   ]
  },
  {
   "cell_type": "code",
   "execution_count": 12,
   "id": "e66d9de0-6fa0-4202-a4f8-8e49ff17b41a",
   "metadata": {},
   "outputs": [
    {
     "name": "stdout",
     "output_type": "stream",
     "text": [
      "1번 학생 축하합니다. 합격입니다.\n",
      "3번 학생 축하합니다. 합격입니다.\n",
      "5번 학생 축하합니다. 합격입니다.\n"
     ]
    }
   ],
   "source": [
    "marks = [90, 25, 67, 45, 80]\n",
    "num = 0\n",
    "for _ in marks:\n",
    "    num += 1\n",
    "    if _ < 60:\n",
    "        continue    \n",
    "    print(f'{num}번 학생 축하합니다. 합격입니다.')    "
   ]
  },
  {
   "cell_type": "code",
   "execution_count": 13,
   "id": "73fdd9ee-ac3e-4824-899c-b96b0d40e287",
   "metadata": {},
   "outputs": [
    {
     "name": "stdout",
     "output_type": "stream",
     "text": [
      "1번 학생 축하합니다. 합격입니다.\n",
      "3번 학생 축하합니다. 합격입니다.\n",
      "5번 학생 축하합니다. 합격입니다.\n"
     ]
    }
   ],
   "source": [
    "marks = [90, 25, 67, 45, 80]\n",
    "i = 0\n",
    "\n",
    "while i < len(marks):\n",
    "    i += 1\n",
    "    if marks[i - 1] < 60:\n",
    "        continue\n",
    "    print(f'{i}번 학생 축하합니다. 합격입니다.')"
   ]
  },
  {
   "cell_type": "markdown",
   "id": "3eda3202-a1aa-49fd-ad78-4c685f3db7c5",
   "metadata": {},
   "source": [
    "# 연습문제\n",
    "\n",
    "주어진 리스트의 순서를 뒤집으려고 합니다. 주어진 리스트는 [1,4,2,3]이며, 순서를  \n",
    "뒤집은 리스트 [3, 2, 4, 1] 입니다.\n",
    "\n",
    "정수가 들어있는 리스트 arr을 뒤집어서 인쇄하도록 빈칸을 채워 전체 코드를  \n",
    "완성해주세요."
   ]
  },
  {
   "cell_type": "code",
   "execution_count": 14,
   "id": "4622d99e-7a66-438f-ba98-6885c2feb2fe",
   "metadata": {},
   "outputs": [
    {
     "name": "stdout",
     "output_type": "stream",
     "text": [
      "변환된 arr은 [3, 2, 4, 1] 입니다\n"
     ]
    }
   ],
   "source": [
    "arr = [1, 4, 2, 3]\n",
    "left, right = 0, len(arr) - 1\n",
    "while left < len(arr) // 2:\n",
    "    arr[left], arr[right] = arr[right], arr[left]\n",
    "    left += 1\n",
    "    right -= 1\n",
    "print(\"변환된 arr은\", arr, \"입니다\")"
   ]
  },
  {
   "cell_type": "markdown",
   "id": "bcdd3914-7183-4fb2-9f2e-80556433b974",
   "metadata": {},
   "source": [
    "# 연습문제\n",
    "\n",
    "<구구단> 반복문을 사용하여 아래와 같이 구구단 전체를 화면에 프린트해 주세요.\n",
    "\n",
    "for / while 모두 작성"
   ]
  },
  {
   "cell_type": "code",
   "execution_count": 15,
   "id": "d7ae5a41-5666-46b2-8c72-8014806dd060",
   "metadata": {},
   "outputs": [
    {
     "name": "stdout",
     "output_type": "stream",
     "text": [
      "2x1=2\t3x1=3\t4x1=4\t5x1=5\t6x1=6\t7x1=7\t8x1=8\t9x1=9\t\n",
      "2x2=4\t3x2=6\t4x2=8\t5x2=10\t6x2=12\t7x2=14\t8x2=16\t9x2=18\t\n",
      "2x3=6\t3x3=9\t4x3=12\t5x3=15\t6x3=18\t7x3=21\t8x3=24\t9x3=27\t\n",
      "2x4=8\t3x4=12\t4x4=16\t5x4=20\t6x4=24\t7x4=28\t8x4=32\t9x4=36\t\n",
      "2x5=10\t3x5=15\t4x5=20\t5x5=25\t6x5=30\t7x5=35\t8x5=40\t9x5=45\t\n",
      "2x6=12\t3x6=18\t4x6=24\t5x6=30\t6x6=36\t7x6=42\t8x6=48\t9x6=54\t\n",
      "2x7=14\t3x7=21\t4x7=28\t5x7=35\t6x7=42\t7x7=49\t8x7=56\t9x7=63\t\n",
      "2x8=16\t3x8=24\t4x8=32\t5x8=40\t6x8=48\t7x8=56\t8x8=64\t9x8=72\t\n",
      "2x9=18\t3x9=27\t4x9=36\t5x9=45\t6x9=54\t7x9=63\t8x9=72\t9x9=81\t\n"
     ]
    }
   ],
   "source": [
    "result = 0\n",
    "\n",
    "for i in range(1, 10):\n",
    "    for j in range(2, 10):\n",
    "        result = i * j\n",
    "        print(f'{j}x{i}={result}', end = \"\\t\")\n",
    "    print()"
   ]
  },
  {
   "cell_type": "code",
   "execution_count": 16,
   "id": "e4a94de3-67f7-4ad3-832e-2175ca3ca61f",
   "metadata": {},
   "outputs": [
    {
     "name": "stdout",
     "output_type": "stream",
     "text": [
      "2x1=2\t3x1=3\t4x1=4\t5x1=5\t6x1=6\t7x1=7\t8x1=8\t9x1=9\t\n",
      "2x2=4\t3x2=6\t4x2=8\t5x2=10\t6x2=12\t7x2=14\t8x2=16\t9x2=18\t\n",
      "2x3=6\t3x3=9\t4x3=12\t5x3=15\t6x3=18\t7x3=21\t8x3=24\t9x3=27\t\n",
      "2x4=8\t3x4=12\t4x4=16\t5x4=20\t6x4=24\t7x4=28\t8x4=32\t9x4=36\t\n",
      "2x5=10\t3x5=15\t4x5=20\t5x5=25\t6x5=30\t7x5=35\t8x5=40\t9x5=45\t\n",
      "2x6=12\t3x6=18\t4x6=24\t5x6=30\t6x6=36\t7x6=42\t8x6=48\t9x6=54\t\n",
      "2x7=14\t3x7=21\t4x7=28\t5x7=35\t6x7=42\t7x7=49\t8x7=56\t9x7=63\t\n",
      "2x8=16\t3x8=24\t4x8=32\t5x8=40\t6x8=48\t7x8=56\t8x8=64\t9x8=72\t\n",
      "2x9=18\t3x9=27\t4x9=36\t5x9=45\t6x9=54\t7x9=63\t8x9=72\t9x9=81\t\n"
     ]
    }
   ],
   "source": [
    "result = 0 \n",
    "i = 1\n",
    "j = 2\n",
    "\n",
    "while i < 10:\n",
    "    while j < 10:\n",
    "        result = i * j\n",
    "        print(f'{j}x{i}={result}', end = \"\\t\")\n",
    "        j += 1\n",
    "    j = 2\n",
    "    i += 1\n",
    "    print()"
   ]
  },
  {
   "cell_type": "markdown",
   "id": "ef49dd4e-b854-4bc4-8f0d-20b0e0423002",
   "metadata": {},
   "source": [
    "# 연습문제\n",
    "\n",
    "input() 함수를 통해 원하는 과일 이름을 입력하면 가격이 출력되는 프로그램을  \n",
    "구현해봅시다. 과일 이름(str)을 key로 만들고 가격(int)을 value로 해서 딕셔너리  \n",
    "자료형을 만듭니다.\n",
    "\n",
    "- 사과는 1000원, 바나나는 700원, 오렌지는 1500원, 파인애플은 2000원\n",
    "\n",
    "> 실행결과 :  \n",
    "과일 이름을 입력하세요.  사과  \n",
    "사과의 가격은 1000원 입니다."
   ]
  },
  {
   "cell_type": "code",
   "execution_count": 18,
   "id": "3a828874-3682-41df-bcdd-fcd2187fd878",
   "metadata": {},
   "outputs": [
    {
     "name": "stdin",
     "output_type": "stream",
     "text": [
      "과일 이름을 입력하세요. 사과\n"
     ]
    },
    {
     "name": "stdout",
     "output_type": "stream",
     "text": [
      "사과의 가격은 1000원 입니다.\n"
     ]
    }
   ],
   "source": [
    "# 입력값 : 사과\n",
    "dic_fru = {\"사과\" : \"1000\", \"바나나\" : \"700\", \"오렌지\" : \"1500\", \"파인애플\" : \"2000\"}\n",
    "\n",
    "fruit = input(\"과일 이름을 입력하세요.\")\n",
    "\n",
    "print(f'{fruit}의 가격은 {dic_fru[fruit]}원 입니다.')"
   ]
  },
  {
   "cell_type": "markdown",
   "id": "c4f3b33b-e59e-4fd9-9082-38b62fbb85e0",
   "metadata": {},
   "source": [
    "# 연습문제\n",
    "\n",
    "input() 함수를 통해 이름 값 여럿을 입력 받습니다. 이름을 입력 받고 난 후에 이름  \n",
    "순서와 개수를 동일하게 몸무게 값을 입력 받습니다.\n",
    "\n",
    "이름(str)을 키(key)로 몸무게(float)를 값(value)으로 하는 딕셔너리 자료형을 만들고 그  \n",
    "결과를 출력해보세요.\n",
    "\n",
    "> 실행결과 :  \n",
    "이름을 기입해 주세요. 뽀로로 루피 크롱 스누피  \n",
    "몸무게를 입력해 주세요. 20.4 16.2 22.3 5.2"
   ]
  },
  {
   "cell_type": "code",
   "execution_count": 20,
   "id": "0f5b40c9-1bc8-472c-8f08-69d3ae12b279",
   "metadata": {},
   "outputs": [
    {
     "name": "stdin",
     "output_type": "stream",
     "text": [
      "이름을 기입해 주세요. 뽀로로 루피 크롱 스누피\n",
      "몸무게를 입력해 주세요. 20.4 16.2 22.3 5.2\n"
     ]
    },
    {
     "name": "stdout",
     "output_type": "stream",
     "text": [
      "{'뽀로로': 20.4, '루피': 16.2, '크롱': 22.3, '스누피': 5.2}\n"
     ]
    }
   ],
   "source": [
    "# 이름 : 뽀로로 루피 크롱 스누피\n",
    "# 몸무게 : 20.4 16.2 22.3 5.2\n",
    "names = input(\"이름을 기입해 주세요.\").split(\" \")\n",
    "\n",
    "weights = map(float,input(\"몸무게를 입력해 주세요.\").split(\" \"))\n",
    "\n",
    "dic_wei = dict(zip(names, weights))\n",
    "\n",
    "print(dic_wei)"
   ]
  },
  {
   "cell_type": "code",
   "execution_count": 22,
   "id": "6b5e404e-9a7c-4dab-84f3-a8a60d1e2fc8",
   "metadata": {},
   "outputs": [
    {
     "name": "stdin",
     "output_type": "stream",
     "text": [
      "이름을 기입해 주세요. 뽀로로 루피 크롱 스누피\n",
      "몸무게를 입력해 주세요. 20.4 16.2 22.3 5.2\n"
     ]
    },
    {
     "name": "stdout",
     "output_type": "stream",
     "text": [
      "{'뽀로로': 20.4, '루피': 16.2, '크롱': 22.3, '스누피': 5.2}\n"
     ]
    }
   ],
   "source": [
    "# 이름 : 뽀로로 루피 크롱 스누피\n",
    "# 몸무게 : 20.4 16.2 22.3 5.2\n",
    "\n",
    "# ['뽀로로', '루피, '크롱', '스누피']\n",
    "names = input(\"이름을 기입해 주세요.\").split(\" \")\n",
    "# map --> 20.1 16.2 25.2 5.3\n",
    "weights = list(map(float,input(\"몸무게를 입력해 주세요.\").split(\" \")))\n",
    "\n",
    "dict_mm = {}\n",
    "# dict_mm = dict()\n",
    "# len(names) --. 4\n",
    "# range(4) --> 0, 1, 2, 3\n",
    "# i --> i = 0 반복, i = 1 반복, i = 2 반복, i = 3 반복\n",
    "for i in range(len(names)):\n",
    "    dict_mm[names[i]] = weights[i]\n",
    "    \n",
    "print(dict_mm)"
   ]
  },
  {
   "cell_type": "code",
   "execution_count": 23,
   "id": "15b34675-10ae-4dd1-ad48-27bc98025dbe",
   "metadata": {},
   "outputs": [
    {
     "name": "stdout",
     "output_type": "stream",
     "text": [
      "['a', 'b', 'c', 'd']\n"
     ]
    }
   ],
   "source": [
    "list_sample = \"a b c d\".split()\n",
    "print(list_sample)"
   ]
  },
  {
   "cell_type": "code",
   "execution_count": 24,
   "id": "8081424a-a863-4a91-ad0d-95429f6fc027",
   "metadata": {},
   "outputs": [
    {
     "name": "stdout",
     "output_type": "stream",
     "text": [
      "[1, 4, 9, 16, 25, 36, 49, 64, 81]\n"
     ]
    }
   ],
   "source": [
    "# range --> 1, 2, .. 9\n",
    "# _ --> _ = 0, ... _ = 9\n",
    "list_a = [_ ** 2 for _ in range(1, 10)]\n",
    "print(list_a)"
   ]
  },
  {
   "cell_type": "code",
   "execution_count": 25,
   "id": "de6fb555-33b6-4ebe-b61a-e9029f420b6f",
   "metadata": {},
   "outputs": [
    {
     "name": "stdout",
     "output_type": "stream",
     "text": [
      "Hello world\n",
      "Hello world\n",
      "Hello world\n",
      "Hello world\n",
      "Hello world\n",
      "Hello world\n",
      "Hello world\n",
      "Hello world\n",
      "Hello world\n",
      "Hello world\n"
     ]
    },
    {
     "data": {
      "text/plain": [
       "[None, None, None, None, None, None, None, None, None, None]"
      ]
     },
     "execution_count": 25,
     "metadata": {},
     "output_type": "execute_result"
    }
   ],
   "source": [
    "[print(\"Hello world\") for _ in range(10)]"
   ]
  },
  {
   "cell_type": "code",
   "execution_count": 26,
   "id": "75991a23-6d5d-470d-968d-a86f6bdbdb2d",
   "metadata": {},
   "outputs": [
    {
     "name": "stdout",
     "output_type": "stream",
     "text": [
      "[1, 4, 9, 16, 25, 36, 49, 64, 81]\n"
     ]
    }
   ],
   "source": [
    "list_c = []\n",
    "for _ in range(1, 10):\n",
    "    list_c.append(_ ** 2)\n",
    "print(list_c)"
   ]
  },
  {
   "cell_type": "code",
   "execution_count": 27,
   "id": "e1d5349a-6c46-4306-b971-672f2c008ea4",
   "metadata": {},
   "outputs": [
    {
     "name": "stdout",
     "output_type": "stream",
     "text": [
      "[1, 4, 9, 16, 25, 36, 49, 64, 81]\n"
     ]
    }
   ],
   "source": [
    "# list comprehension\n",
    "list_d = [_ ** 2 for _ in range(1,10)]\n",
    "print(list_d)"
   ]
  },
  {
   "cell_type": "markdown",
   "id": "15823a91-859e-44cd-b104-e45c09fbc51e",
   "metadata": {},
   "source": [
    "# 연습 문제\n",
    "\n",
    "리스트 컴프리헨션을 활용해서 1부터 9까지 숫자의 제곱을 담는 리스트를 만들어보세요.  \n",
    "아래의 코드를 완성해서 실행 결과가 같게 나오면 됩니다."
   ]
  },
  {
   "cell_type": "code",
   "execution_count": 28,
   "id": "8e170943-a0b8-41dc-8b35-d3c552734206",
   "metadata": {},
   "outputs": [
    {
     "name": "stdout",
     "output_type": "stream",
     "text": [
      "<class 'list'>\n",
      "[1, 4, 9, 16, 25, 36, 49, 64, 81]\n"
     ]
    }
   ],
   "source": [
    "prac_result = [_ ** 2 for _ in range(1, 10)]\n",
    "print(type(prac_result))\n",
    "print(prac_result)"
   ]
  }
 ],
 "metadata": {
  "kernelspec": {
   "display_name": "Python 3 (ipykernel)",
   "language": "python",
   "name": "python3"
  },
  "language_info": {
   "codemirror_mode": {
    "name": "ipython",
    "version": 3
   },
   "file_extension": ".py",
   "mimetype": "text/x-python",
   "name": "python",
   "nbconvert_exporter": "python",
   "pygments_lexer": "ipython3",
   "version": "3.9.13"
  },
  "vscode": {
   "interpreter": {
    "hash": "2701035f62c8526adc246c1ce198c646a908962c9f03e53671c46035159238ce"
   }
  }
 },
 "nbformat": 4,
 "nbformat_minor": 5
}
