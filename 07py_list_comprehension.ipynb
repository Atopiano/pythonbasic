{
 "cells": [
  {
   "cell_type": "markdown",
   "id": "5025a8d4-b8bd-4595-9709-f29471e5d457",
   "metadata": {},
   "source": [
    "# 연습문제\n",
    "\n",
    "< 투표결과 집계 프로그램 > \n",
    "N명의 후보에 대해 투표한 결과가 들어있는 리스트 votes가 있습니다.  \n",
    "예를 들어 5명의 후보에 대해 투표를 진행한 결과가 [2, 5, 3, 4, 1, 5, 1, 5, 5, 3] 이라면  \n",
    "순서대로 [2번, 5번, 3번, 4번, 1번, 5번, 1번, 5번, 5번, 3번] 후보에 투표했음을  \n",
    "나타냅니다. 이때, 가장 많은 표를 얻은 후보는 누구이며 몇 표를 얻었는지 아래와 같이  \n",
    "보여주는 프로그램을 작성하세요.\n",
    "\n",
    "주어진값\n",
    "- votes = [2, 5, 3, 4, 1, 5, 1, 5, 5, 3]\n",
    "- candidates = [\"\", \"전정국\", \"김남준\", \"박지민\", \"정호석\", \"김태형\"]\n",
    "\n",
    "> 실행결과 :  \n",
    "김태형 후보가 총 4 표를 얻어 당선되었습니다."
   ]
  },
  {
   "cell_type": "code",
   "execution_count": 1,
   "id": "d4a7702a-e67a-4823-8940-3e163dfd6ece",
   "metadata": {},
   "outputs": [
    {
     "name": "stdout",
     "output_type": "stream",
     "text": [
      "김태형 후보가 총 4 표를 얻어 당선되었습니다.\n"
     ]
    }
   ],
   "source": [
    "votes = [2, 5, 3, 4, 1, 5, 1, 5, 5, 3]\n",
    "candidates = [\"\", \"전정국\", \"김남준\", \"박지민\", \"정호석\", \"김태형\"]\n",
    "\n",
    "can_num = list(range(len(candidates)))\n",
    "\n",
    "dic_vote = dict(zip(can_num, candidates))\n",
    "\n",
    "total = [0] * len(candidates)\n",
    "\n",
    "for _ in votes:\n",
    "    if _ == can_num[_]:\n",
    "        total[_] += 1\n",
    "\n",
    "most_vote = 0\n",
    "\n",
    "for _ in range(len(total)):\n",
    "    if total[_] > most_vote:\n",
    "        most_vote = total[_]\n",
    "        most_can = _\n",
    "    \n",
    "print(f'{dic_vote[most_can]} 후보가 총 {most_vote} 표를 얻어 당선되었습니다.')"
   ]
  },
  {
   "cell_type": "code",
   "execution_count": 2,
   "id": "cf57598c-cae3-4be5-90c3-64627d518521",
   "metadata": {},
   "outputs": [],
   "source": [
    "votes = [2, 5, 3, 4, 1, 5, 1, 5, 5, 3]\n",
    "candidates = [\"\", \"전정국\", \"김남준\", \"박지민\", \"정호석\", \"김태형\"]\n",
    "counts = [0] * len(candidates)"
   ]
  },
  {
   "cell_type": "code",
   "execution_count": 3,
   "id": "6c712007-06c7-4e46-b07e-ce45d036177e",
   "metadata": {},
   "outputs": [
    {
     "name": "stdout",
     "output_type": "stream",
     "text": [
      "[0, 0, 0, 0, 0, 0]\n"
     ]
    }
   ],
   "source": [
    "print(counts)"
   ]
  },
  {
   "cell_type": "code",
   "execution_count": 4,
   "id": "3756637a-df28-44d6-a050-ecc56a8d65a2",
   "metadata": {},
   "outputs": [],
   "source": [
    "for vote in votes:\n",
    "    counts[vote] += 1"
   ]
  },
  {
   "cell_type": "code",
   "execution_count": 5,
   "id": "9e4f4253-b43d-4280-a9ca-bb8af02e03c6",
   "metadata": {},
   "outputs": [
    {
     "name": "stdout",
     "output_type": "stream",
     "text": [
      "[0, 2, 1, 2, 1, 4]\n"
     ]
    }
   ],
   "source": [
    "print(counts)"
   ]
  },
  {
   "cell_type": "code",
   "execution_count": 6,
   "id": "9e02a073-4907-4579-a32d-166081fde1cd",
   "metadata": {},
   "outputs": [
    {
     "name": "stdout",
     "output_type": "stream",
     "text": [
      "김태형 후보가 총4표를 받아 당선되었습니다.\n"
     ]
    }
   ],
   "source": [
    "i = 1\n",
    "max_count = 0\n",
    "selected_person = 0 # index 용\n",
    "# 1, 2, 3, 4, 5\n",
    "while i < len(counts): # len(Counts) => 6\n",
    "    if max_count < counts[i]:\n",
    "        max_count = counts[i]\n",
    "        selected_person = i\n",
    "    i += 1\n",
    "\n",
    "print(f'{candidates[selected_person]} 후보가 총{max_count}표를 받아 당선되었습니다.')"
   ]
  },
  {
   "cell_type": "code",
   "execution_count": 7,
   "id": "c4d2a945-c356-4a5f-be0a-4b2862431e29",
   "metadata": {},
   "outputs": [
    {
     "name": "stdout",
     "output_type": "stream",
     "text": [
      "[0, 2, 1, 2, 1, 4]\n",
      "최고 득표: 4\n",
      "최고 득표 index: 5\n",
      "당선자 : 김태형\n"
     ]
    }
   ],
   "source": [
    "print(counts)\n",
    "max_count = max(counts) # 4\n",
    "selected_person = counts.index(max_count) # 5\n",
    "print(\"최고 득표:\", max_count)\n",
    "print(\"최고 득표 index:\", selected_person)\n",
    "print(\"당선자 :\", candidates[selected_person])"
   ]
  },
  {
   "cell_type": "code",
   "execution_count": 8,
   "id": "f46d7c8b-bfa1-4bea-89d8-3748f78160e1",
   "metadata": {},
   "outputs": [],
   "source": [
    "list_sample = []\n",
    "for _ in range(10):\n",
    "    list_sample.append(_ ** 2)"
   ]
  },
  {
   "cell_type": "code",
   "execution_count": 9,
   "id": "70613943-afef-47ed-aed1-34d2b0a18465",
   "metadata": {},
   "outputs": [
    {
     "name": "stdout",
     "output_type": "stream",
     "text": [
      "[0, 1, 4, 9, 16, 25, 36, 49, 64, 81]\n"
     ]
    }
   ],
   "source": [
    "print(list_sample)"
   ]
  },
  {
   "cell_type": "code",
   "execution_count": 10,
   "id": "7a1bf563-6639-45ea-a3a4-47b81c1b8b45",
   "metadata": {},
   "outputs": [
    {
     "name": "stdout",
     "output_type": "stream",
     "text": [
      "[1, 3, 5, 7, 9]\n"
     ]
    }
   ],
   "source": [
    "prac_result2 = [i for i in range(1, 10, 2)]\n",
    "print(prac_result2)"
   ]
  },
  {
   "cell_type": "code",
   "execution_count": 11,
   "id": "21be875d-e4e5-4bf2-88f6-ede9ecdf351b",
   "metadata": {},
   "outputs": [
    {
     "name": "stdout",
     "output_type": "stream",
     "text": [
      "['a', 'b', 'c', 'd', 'e', 'f', 'g', 'h', 'i', 'j', 'k', 'l', 'm', 'n', 'o', 'p', 'q', 'u', 's', 't', 'u', 'v', 'w', 'x', 'y', 'z']\n"
     ]
    }
   ],
   "source": [
    "prac_result3 = [i for i in (\"abcdefghijklmnopqustuvwxyz\")]\n",
    "print(prac_result3)"
   ]
  },
  {
   "cell_type": "code",
   "execution_count": 14,
   "id": "a9bb2e98-4bc1-40a1-bdfb-da24940482de",
   "metadata": {},
   "outputs": [
    {
     "name": "stdout",
     "output_type": "stream",
     "text": [
      "[2, 3, 4, 5, 6, 7, 8, 9, 10, 'J', 'Q', 'K', 'A']\n"
     ]
    }
   ],
   "source": [
    "prac_result4 = [i for i in [2,3,4,5,6,7,8,9,10]+['J','Q','K','A']]\n",
    "print(prac_result4)"
   ]
  },
  {
   "cell_type": "code",
   "execution_count": 107,
   "id": "f3869c0f-8aae-4ee0-be52-b358f3c63edf",
   "metadata": {},
   "outputs": [
    {
     "name": "stdout",
     "output_type": "stream",
     "text": [
      "['2', '3', '4', '5', '6', '7', '8', '9', '1', '0', 'J', 'Q', 'K', 'A']\n"
     ]
    }
   ],
   "source": [
    "prac_result4 = [i for i in str(2345678910)+'JQKA']\n",
    "print(prac_result4)"
   ]
  },
  {
   "cell_type": "code",
   "execution_count": 125,
   "id": "99f1c72c-98ce-4c63-9039-8e8874fd0986",
   "metadata": {},
   "outputs": [
    {
     "name": "stdout",
     "output_type": "stream",
     "text": [
      "['2', '3', '4', '5', '6', '7', '8', '9', '10', 'J', 'Q', 'K', 'A']\n"
     ]
    }
   ],
   "source": [
    "prac_result4 = [str(i)for i in range(2,11)] + [i for i in 'JQKA']\n",
    "print(prac_result4)"
   ]
  },
  {
   "cell_type": "code",
   "execution_count": 117,
   "id": "f1c70b32-7a4a-4337-aa11-d55a4061c89c",
   "metadata": {},
   "outputs": [
    {
     "name": "stdout",
     "output_type": "stream",
     "text": [
      "['2', '3', '4', '5', '6', '7', '8', '9', '10', 'J', 'Q', 'K', 'A']\n"
     ]
    }
   ],
   "source": [
    "prace_result4 = [str(i) for i in range(2, 11)] + [i for i in 'JQKA']\n",
    "print(prac_result4)"
   ]
  },
  {
   "cell_type": "code",
   "execution_count": 17,
   "id": "c7c305ba-91ed-4941-83d6-30180fa11965",
   "metadata": {},
   "outputs": [
    {
     "name": "stdout",
     "output_type": "stream",
     "text": [
      "['2', '3', '4', '5', '6', '7', '8', '9', '10', 'J', 'Q', 'K', 'A']\n"
     ]
    }
   ],
   "source": [
    "prac_result4 = [str(i) for i in range(2, 11)]\n",
    "prac_result4.extend([i for i in 'JQKA'])\n",
    "print(prac_result4)"
   ]
  },
  {
   "cell_type": "code",
   "execution_count": 18,
   "id": "c7b0e8aa-9196-42b2-9fff-8fafff5b0f99",
   "metadata": {},
   "outputs": [
    {
     "name": "stdout",
     "output_type": "stream",
     "text": [
      "[['2', '3', '4', '5', '6', '7', '8', '9', '10', 'J', 'Q', 'K', 'A'], ['2', '3', '4', '5', '6', '7', '8', '9', '10', 'J', 'Q', 'K', 'A'], ['2', '3', '4', '5', '6', '7', '8', '9', '10', 'J', 'Q', 'K', 'A'], ['2', '3', '4', '5', '6', '7', '8', '9', '10', 'J', 'Q', 'K', 'A']]\n"
     ]
    }
   ],
   "source": [
    "prac_result5 = [prac_result4 for _ in range(4)]\n",
    "print(prac_result5)"
   ]
  },
  {
   "cell_type": "code",
   "execution_count": 19,
   "id": "5f4f8df7-a391-46e1-a32b-fcb03390be9e",
   "metadata": {},
   "outputs": [
    {
     "name": "stdout",
     "output_type": "stream",
     "text": [
      "['two', '3', '4', '5', '6', '7', '8', '9', '10', 'J', 'Q', 'K', 'A']\n"
     ]
    }
   ],
   "source": [
    "prac_result4[0] = 'two'\n",
    "print(prac_result4)"
   ]
  },
  {
   "cell_type": "code",
   "execution_count": 20,
   "id": "966899db-e13a-4b2f-9795-702620023c16",
   "metadata": {},
   "outputs": [
    {
     "name": "stdout",
     "output_type": "stream",
     "text": [
      "[['two', '3', '4', '5', '6', '7', '8', '9', '10', 'J', 'Q', 'K', 'A'], ['two', '3', '4', '5', '6', '7', '8', '9', '10', 'J', 'Q', 'K', 'A'], ['two', '3', '4', '5', '6', '7', '8', '9', '10', 'J', 'Q', 'K', 'A'], ['two', '3', '4', '5', '6', '7', '8', '9', '10', 'J', 'Q', 'K', 'A']]\n"
     ]
    }
   ],
   "source": [
    "print(prac_result5)"
   ]
  },
  {
   "cell_type": "markdown",
   "id": "9563a7b1-9e29-41c6-b58d-8d50eb093675",
   "metadata": {},
   "source": [
    "# 연습 문제\n",
    "\n",
    "old_list 리스트를 만들어 변수에 담습니다. 슬라이싱을 통해 old_list 객체 전체를 그대로  \n",
    "복사해서 새로운 변수 new_list에 담아보세요. 그리고 그 둘의 id()를 비교해보고 is  \n",
    "연산자를 통해 객체 간 비교를 해보고 == 연산자를 통해 비교한 결과를 확인해보세요."
   ]
  },
  {
   "cell_type": "code",
   "execution_count": 21,
   "id": "54e28d00-ada8-4caa-8e99-b9456c955228",
   "metadata": {},
   "outputs": [
    {
     "name": "stdout",
     "output_type": "stream",
     "text": [
      "1449254389952\n",
      "1449254418624\n",
      "False\n",
      "True\n"
     ]
    }
   ],
   "source": [
    "# [1, 2, 3, 4, 5, 6, 7, 8, 9]\n",
    "old_list = list(range(10))\n",
    "new_list = old_list[:]\n",
    "\n",
    "print(id(old_list))\n",
    "print(id(new_list))\n",
    "print(old_list is new_list)\n",
    "print(old_list == new_list)"
   ]
  },
  {
   "cell_type": "code",
   "execution_count": 22,
   "id": "b3815b9f-28ed-4adc-aade-8ae50bf72719",
   "metadata": {},
   "outputs": [
    {
     "name": "stdout",
     "output_type": "stream",
     "text": [
      "[1, 2, 3, 4, 5, 6, 7, 8, 9, 10, 11, 12, 13, 14, 15, 16, 17, 18, 19, 20, 21, 22, 23, 24, 25, 26, 27, 28, 29, 30, 31, 32, 33, 34, 35, 36, 37, 38, 39, 40, 41, 42, 43, 44, 45]\n"
     ]
    }
   ],
   "source": [
    "list_sample = [_ for _ in range(1, 46)]\n",
    "print(list_sample)"
   ]
  },
  {
   "cell_type": "code",
   "execution_count": 23,
   "id": "109916b7-d063-4f0b-a27b-8bbff78de47a",
   "metadata": {},
   "outputs": [
    {
     "name": "stdout",
     "output_type": "stream",
     "text": [
      "[1, 2, 3, 4, 5, 6, 7, 8, 9, 10, 11, 12, 13, 14, 15, 16, 17, 18, 19, 20, 21, 22, 23, 24, 25, 26, 27, 28, 29, 30, 31, 32, 33, 34, 35, 36, 37, 38, 39, 40, 41, 42, 43, 44, 45]\n"
     ]
    }
   ],
   "source": [
    "# range(시작, 끝, 증감)\n",
    "# 시퀀스자료형변수[시작:끝:증감]\n",
    "# 시작 생략 = 시작부터 끝 생략 = 마지막까지 증감 += 1\n",
    "print(list_sample[:])"
   ]
  },
  {
   "cell_type": "code",
   "execution_count": 24,
   "id": "91e8ae1f-bb87-4e57-b881-eca3b6731ae9",
   "metadata": {},
   "outputs": [
    {
     "name": "stdout",
     "output_type": "stream",
     "text": [
      "1449254391408\n",
      "1449254391408\n"
     ]
    }
   ],
   "source": [
    "str_sample = \"This is str.\"\n",
    "str2 = str_sample[:]\n",
    "\n",
    "print(id(str_sample))\n",
    "print(id(str2))"
   ]
  },
  {
   "cell_type": "code",
   "execution_count": 25,
   "id": "f18a3f44-e637-4dfb-976f-5ddd99dbbdfb",
   "metadata": {},
   "outputs": [
    {
     "name": "stdout",
     "output_type": "stream",
     "text": [
      "1449250577008\n",
      "1449250577008\n"
     ]
    }
   ],
   "source": [
    "str_a = \"hello\"\n",
    "str_b = \"hello\"\n",
    "\n",
    "print(id(str_a))\n",
    "print(id(str_b))"
   ]
  },
  {
   "cell_type": "markdown",
   "id": "517a1644-d903-4316-b8c5-d8366f7ee4cf",
   "metadata": {},
   "source": [
    "# 연습 문제\n",
    "\n",
    "<순환하는 광고판 만들기>\n",
    "\n",
    "아래 예와 같이 순환할 숫자를 입력 받고 순환하는 광고판을 제작하세요."
   ]
  },
  {
   "cell_type": "code",
   "execution_count": 26,
   "id": "f017ee06-93e3-4950-8f2e-406169806274",
   "metadata": {},
   "outputs": [
    {
     "name": "stdin",
     "output_type": "stream",
     "text": [
      "순활할 숫자를 입력하세요. 10\n"
     ]
    },
    {
     "name": "stdout",
     "output_type": "stream",
     "text": [
      "1 2 3 4 5 6 7 8 9 10 \n",
      "2 3 4 5 6 7 8 9 10 1 \n",
      "3 4 5 6 7 8 9 10 1 2 \n",
      "4 5 6 7 8 9 10 1 2 3 \n",
      "5 6 7 8 9 10 1 2 3 4 \n",
      "6 7 8 9 10 1 2 3 4 5 \n",
      "7 8 9 10 1 2 3 4 5 6 \n",
      "8 9 10 1 2 3 4 5 6 7 \n",
      "9 10 1 2 3 4 5 6 7 8 \n",
      "10 1 2 3 4 5 6 7 8 9 \n"
     ]
    }
   ],
   "source": [
    "# 입력값: 10\n",
    "num = int(input(\"순활할 숫자를 입력하세요.\"))\n",
    "\n",
    "for i in range(0, num):\n",
    "    for j in range(1, num + 1):\n",
    "        if j + i >= 1:\n",
    "            result = j + i\n",
    "            if result > num:\n",
    "                result = result - num\n",
    "            print(result, end = \" \")\n",
    "    print()"
   ]
  },
  {
   "cell_type": "code",
   "execution_count": 27,
   "id": "2e9de6de-bf68-40c2-a5de-525847cdad7b",
   "metadata": {},
   "outputs": [
    {
     "name": "stdin",
     "output_type": "stream",
     "text": [
      "순환할 숫자를 입력하세요: 10\n"
     ]
    },
    {
     "name": "stdout",
     "output_type": "stream",
     "text": [
      "1 2 3 4 5 6 7 8 9 10 \n",
      "2 3 4 5 6 7 8 9 10 1 \n",
      "3 4 5 6 7 8 9 10 1 2 \n",
      "4 5 6 7 8 9 10 1 2 3 \n",
      "5 6 7 8 9 10 1 2 3 4 \n",
      "6 7 8 9 10 1 2 3 4 5 \n",
      "7 8 9 10 1 2 3 4 5 6 \n",
      "8 9 10 1 2 3 4 5 6 7 \n",
      "9 10 1 2 3 4 5 6 7 8 \n",
      "10 1 2 3 4 5 6 7 8 9 \n"
     ]
    }
   ],
   "source": [
    "# 입력값: 10\n",
    "num = int(input(\"순환할 숫자를 입력하세요:\"))\n",
    "\n",
    "# i => 1 ~ 입력한 숫자까지\n",
    "for i in range(1, num + 1):\n",
    "    for j in range(i, num + i):\n",
    "        if j % num == 0:\n",
    "            print(num, end = \" \")\n",
    "        else:\n",
    "            print(j % num, end = \" \")\n",
    "    print()"
   ]
  },
  {
   "cell_type": "code",
   "execution_count": 28,
   "id": "ffcfb1b4-6ca2-41f3-8ac7-60b7df415717",
   "metadata": {},
   "outputs": [
    {
     "name": "stdin",
     "output_type": "stream",
     "text": [
      "순환할 숫자를 입력하세요: 10\n"
     ]
    },
    {
     "name": "stdout",
     "output_type": "stream",
     "text": [
      "1 2 3 4 5 6 7 8 9 10 \n",
      "2 3 4 5 6 7 8 9 10 1 \n",
      "3 4 5 6 7 8 9 10 1 2 \n",
      "4 5 6 7 8 9 10 1 2 3 \n",
      "5 6 7 8 9 10 1 2 3 4 \n",
      "6 7 8 9 10 1 2 3 4 5 \n",
      "7 8 9 10 1 2 3 4 5 6 \n",
      "8 9 10 1 2 3 4 5 6 7 \n",
      "9 10 1 2 3 4 5 6 7 8 \n",
      "10 1 2 3 4 5 6 7 8 9 \n"
     ]
    }
   ],
   "source": [
    "# 입력값: 10\n",
    "num = int(input(\"순환할 숫자를 입력하세요:\"))\n",
    "e = [i for i in range(1, num + 1)]\n",
    "for j in range(len(e)):\n",
    "    j = 0\n",
    "    for i in e:\n",
    "        print(i, end = \" \")\n",
    "    print()\n",
    "    e.append(e[j])\n",
    "    e.remove(e[j])"
   ]
  },
  {
   "cell_type": "code",
   "execution_count": 29,
   "id": "1d119750-9316-4495-a088-272e63883a68",
   "metadata": {},
   "outputs": [],
   "source": [
    "list_i = [[0]] * 3"
   ]
  },
  {
   "cell_type": "code",
   "execution_count": 30,
   "id": "c82c581f-4a74-421a-8390-ca687cd73fa1",
   "metadata": {},
   "outputs": [
    {
     "name": "stdout",
     "output_type": "stream",
     "text": [
      "[[0], [0], [0]]\n"
     ]
    }
   ],
   "source": [
    "print(list_i)"
   ]
  },
  {
   "cell_type": "code",
   "execution_count": 31,
   "id": "5e09f82a-0bab-416a-8dfc-deb2cb281b55",
   "metadata": {},
   "outputs": [],
   "source": [
    "list_i[0][0] = 999"
   ]
  },
  {
   "cell_type": "code",
   "execution_count": 32,
   "id": "72872325-5fd5-4462-b6c1-d1d21a57e8d6",
   "metadata": {},
   "outputs": [
    {
     "name": "stdout",
     "output_type": "stream",
     "text": [
      "[[999], [999], [999]]\n"
     ]
    }
   ],
   "source": [
    "print(list_i)"
   ]
  },
  {
   "cell_type": "code",
   "execution_count": 33,
   "id": "e7332db4-af30-4c07-a62e-23e36d93720f",
   "metadata": {},
   "outputs": [],
   "source": [
    "# list_j[0] --> list 객체\n",
    "# list_j[1] --> list 객체\n",
    "list_j = [[1, 2],[3, 4]]\n",
    "list_k = list_j[:]"
   ]
  },
  {
   "cell_type": "code",
   "execution_count": 34,
   "id": "f57115e8-3174-4553-81c8-0d41bc70efbb",
   "metadata": {},
   "outputs": [
    {
     "name": "stdout",
     "output_type": "stream",
     "text": [
      "False\n"
     ]
    }
   ],
   "source": [
    "print(list_k is list_j)"
   ]
  },
  {
   "cell_type": "code",
   "execution_count": 35,
   "id": "e26e49f0-fae7-4daf-979f-f236f4c07642",
   "metadata": {},
   "outputs": [
    {
     "name": "stdout",
     "output_type": "stream",
     "text": [
      "True\n"
     ]
    }
   ],
   "source": [
    "print(list_j[0] is list_k[0])"
   ]
  },
  {
   "cell_type": "code",
   "execution_count": 36,
   "id": "f5fa465a-990b-4366-81ac-f76a5a06fe76",
   "metadata": {},
   "outputs": [
    {
     "name": "stdout",
     "output_type": "stream",
     "text": [
      "True\n"
     ]
    }
   ],
   "source": [
    "print(list_j[1] is list_k[1])"
   ]
  },
  {
   "cell_type": "code",
   "execution_count": 37,
   "id": "bbe0994b-1960-406d-9c7e-85c9ba7bb7ff",
   "metadata": {},
   "outputs": [],
   "source": [
    "list_j[0][0] = 11"
   ]
  },
  {
   "cell_type": "code",
   "execution_count": 38,
   "id": "cb56f134-328d-4060-b426-cd2866c4412c",
   "metadata": {},
   "outputs": [
    {
     "name": "stdout",
     "output_type": "stream",
     "text": [
      "[[11, 2], [3, 4]]\n"
     ]
    }
   ],
   "source": [
    "print(list_j)"
   ]
  },
  {
   "cell_type": "code",
   "execution_count": 39,
   "id": "a0e40fe1-098d-4f82-9e2c-49b14aa06e5f",
   "metadata": {},
   "outputs": [
    {
     "name": "stdout",
     "output_type": "stream",
     "text": [
      "[[11, 2], [3, 4]]\n"
     ]
    }
   ],
   "source": [
    "print(list_k)"
   ]
  },
  {
   "cell_type": "code",
   "execution_count": 40,
   "id": "84680d65-4245-4f5d-8846-5c5ffe458fd5",
   "metadata": {},
   "outputs": [
    {
     "name": "stdout",
     "output_type": "stream",
     "text": [
      "False\n"
     ]
    }
   ],
   "source": [
    "list_l = [[5, 6], [7, 8]]\n",
    "list_m = list_l.copy()\n",
    "print(list_l is list_m)"
   ]
  },
  {
   "cell_type": "code",
   "execution_count": 41,
   "id": "1ecbb804-3c89-401e-8294-e86ceb242e64",
   "metadata": {},
   "outputs": [],
   "source": [
    "list_l[1][1] = 88"
   ]
  },
  {
   "cell_type": "code",
   "execution_count": 42,
   "id": "15437ef4-031e-4bdb-aaea-d74b09636640",
   "metadata": {},
   "outputs": [
    {
     "name": "stdout",
     "output_type": "stream",
     "text": [
      "[[5, 6], [7, 88]]\n"
     ]
    }
   ],
   "source": [
    "print(list_l)"
   ]
  },
  {
   "cell_type": "code",
   "execution_count": 43,
   "id": "616e21b4-89a9-4759-8535-531fcdee4fcd",
   "metadata": {},
   "outputs": [
    {
     "name": "stdout",
     "output_type": "stream",
     "text": [
      "[[5, 6], [7, 88]]\n"
     ]
    }
   ],
   "source": [
    "print(list_m)"
   ]
  },
  {
   "cell_type": "code",
   "execution_count": 44,
   "id": "18a518e1-551f-4d72-b0ee-bd6fb7286d22",
   "metadata": {},
   "outputs": [
    {
     "name": "stdout",
     "output_type": "stream",
     "text": [
      "False\n",
      "False\n"
     ]
    }
   ],
   "source": [
    "import copy\n",
    "list_n = [[9, 10], [11, 12]]\n",
    "# deepcopy는 반환값으로 완전히 새로운 객체를 반환합니다.\n",
    "list_o = copy.deepcopy(list_n)\n",
    "print(list_n is list_o)\n",
    "print(list_n[0] is list_o[0])"
   ]
  },
  {
   "cell_type": "code",
   "execution_count": 45,
   "id": "78dc068a-2986-4b17-9142-24551c46cb53",
   "metadata": {},
   "outputs": [
    {
     "name": "stdout",
     "output_type": "stream",
     "text": [
      "11\n",
      "11\n"
     ]
    }
   ],
   "source": [
    "print(list_n[1][0])\n",
    "print([11,12][0])"
   ]
  },
  {
   "cell_type": "code",
   "execution_count": 46,
   "id": "5f461d15-d938-4ea7-afc6-9981f7452f1e",
   "metadata": {},
   "outputs": [],
   "source": [
    "list_n[1][0] = 22"
   ]
  },
  {
   "cell_type": "code",
   "execution_count": 47,
   "id": "2589550d-c4d9-4f49-a88b-9b9fb4f47adf",
   "metadata": {},
   "outputs": [
    {
     "name": "stdout",
     "output_type": "stream",
     "text": [
      "[[9, 10], [22, 12]]\n",
      "[[9, 10], [11, 12]]\n"
     ]
    }
   ],
   "source": [
    "print(list_n)\n",
    "print(list_o)"
   ]
  },
  {
   "cell_type": "code",
   "execution_count": 48,
   "id": "f20d1295-7809-44ee-858f-662b86dc9722",
   "metadata": {},
   "outputs": [
    {
     "name": "stdout",
     "output_type": "stream",
     "text": [
      "9\n"
     ]
    }
   ],
   "source": [
    "print(list_n[0][0])"
   ]
  },
  {
   "cell_type": "code",
   "execution_count": 49,
   "id": "c10d4cab-02d0-4ec5-97f2-2b00845ca54c",
   "metadata": {},
   "outputs": [
    {
     "name": "stdout",
     "output_type": "stream",
     "text": [
      "9\n"
     ]
    }
   ],
   "source": [
    "print(list_o[0][0])"
   ]
  },
  {
   "cell_type": "code",
   "execution_count": 50,
   "id": "b33883f8-f090-474a-838f-e957448cfaed",
   "metadata": {},
   "outputs": [
    {
     "name": "stdout",
     "output_type": "stream",
     "text": [
      "[0, 3, 6, 9]\n"
     ]
    }
   ],
   "source": [
    "list_p = [i for i in range(10) if i % 3 == 0]\n",
    "print(list_p)"
   ]
  },
  {
   "cell_type": "code",
   "execution_count": 51,
   "id": "a0788cb9-8a32-4abd-a0ad-954af0d2c2d9",
   "metadata": {},
   "outputs": [],
   "source": [
    "generator_variable = (_ for _ in range(10))"
   ]
  },
  {
   "cell_type": "code",
   "execution_count": 52,
   "id": "1baaa94b-c085-4b29-b053-453c7e85e62e",
   "metadata": {},
   "outputs": [
    {
     "name": "stdout",
     "output_type": "stream",
     "text": [
      "<generator object <genexpr> at 0x000001516E57C190>\n"
     ]
    }
   ],
   "source": [
    "print(generator_variable)"
   ]
  },
  {
   "cell_type": "code",
   "execution_count": 53,
   "id": "4aeadd3e-4622-406d-849e-98899be127cc",
   "metadata": {},
   "outputs": [
    {
     "name": "stdout",
     "output_type": "stream",
     "text": [
      "<class 'generator'>\n"
     ]
    }
   ],
   "source": [
    "print(type(generator_variable))"
   ]
  },
  {
   "cell_type": "code",
   "execution_count": 54,
   "id": "38c85364-507a-468c-a26b-5d150a2b54bf",
   "metadata": {},
   "outputs": [
    {
     "data": {
      "text/plain": [
       "True"
      ]
     },
     "execution_count": 54,
     "metadata": {},
     "output_type": "execute_result"
    }
   ],
   "source": [
    "#iterable\n",
    "#tuple(인수), list(인수)\n",
    "hasattr(generator_variable, \"__iter__\")"
   ]
  },
  {
   "cell_type": "markdown",
   "id": "5c012939-e371-49ee-aa0e-fd54cdbeac10",
   "metadata": {},
   "source": [
    "# 연습문제\n",
    "\n",
    "리스트에서 특정 요소만 뽑아내기\n",
    "\n",
    "다음 소스 코드를 완성하여 리스트 a에 들어있는 문자열 중에서 길이가 5인 것들만 리스트  \n",
    "형태로 출력되게 만드세요.(리스트 표현식 사용)"
   ]
  },
  {
   "cell_type": "code",
   "execution_count": 55,
   "id": "b7d79e60-b78e-43a5-8ec3-e959362b83e0",
   "metadata": {},
   "outputs": [
    {
     "name": "stdout",
     "output_type": "stream",
     "text": [
      "['alpha', 'bravo', 'delta', 'hotel', 'india']\n"
     ]
    }
   ],
   "source": [
    "a = ['alpha', 'bravo', 'charlie', 'delta', 'echo', 'foxtrot', 'golf', 'hotel', 'india']\n",
    "b = [_ for _ in a if len(_) == 5]\n",
    "\n",
    "print(b)"
   ]
  },
  {
   "cell_type": "markdown",
   "id": "4ee6b9c0-dd7b-4d9e-9439-c811cadd197e",
   "metadata": {},
   "source": [
    "# 연습문제\n",
    "\n",
    "사용자가 공백을 구분자로 정수 두 개를 입력합니다. 첫 번째 입력 값의 범위는 1 ~ 20, 두  \n",
    "번 째 입력 값의 범위는 10 ~ 30이며 첫 번째 입력 값은 두 번째 입력 값보다 항상 작습니다.\n",
    "\n",
    "첫 번째 정수부터 두 번째 정수까지를 지수로 하는 2의 거듭제곱 리스트를 출력하는  \n",
    "프로그램을 만드세요. 단, 리스트의 두 번째 요소와 뒤에서 두 번째 요소는 삭제한 뒤  \n",
    "출력하세요. 출력 결과는 리스트 형태라야 합니다."
   ]
  },
  {
   "cell_type": "code",
   "execution_count": 60,
   "id": "864b3814-4801-404d-9ffe-b6603eb9890e",
   "metadata": {},
   "outputs": [
    {
     "name": "stdin",
     "output_type": "stream",
     "text": [
      "정수 두 개 입력하세요: -1 5\n"
     ]
    },
    {
     "name": "stdout",
     "output_type": "stream",
     "text": [
      "첫 번째 값의 범위는 1 ~ 20 입니다.\n"
     ]
    },
    {
     "name": "stdin",
     "output_type": "stream",
     "text": [
      "정수 두 개 입력하세요: 1 5\n"
     ]
    },
    {
     "name": "stdout",
     "output_type": "stream",
     "text": [
      "두 번째 값의 범위는 10 ~ 30 입니다.\n"
     ]
    },
    {
     "name": "stdin",
     "output_type": "stream",
     "text": [
      "정수 두 개 입력하세요: 15 10\n"
     ]
    },
    {
     "name": "stdout",
     "output_type": "stream",
     "text": [
      "첫 번째 값은 두 번째 입력 값보다 작게 입력하세요.\n"
     ]
    },
    {
     "name": "stdin",
     "output_type": "stream",
     "text": [
      "정수 두 개 입력하세요: 10 15\n"
     ]
    },
    {
     "name": "stdout",
     "output_type": "stream",
     "text": [
      "[1024, 4096, 8192, 32768]\n"
     ]
    }
   ],
   "source": [
    "#입력1: -1, 5\n",
    "#입력2: 1, 5\n",
    "#입력3: 15, 10\n",
    "#입력4: 10, 15\n",
    "while True:\n",
    "    num1, num2 = map(int,input(\"정수 두 개 입력하세요:\").split())\n",
    "    if num1 < 1 or num1 > 20:\n",
    "        print(\"첫 번째 값의 범위는 1 ~ 20 입니다.\")\n",
    "    elif num2 < 10 or num2 > 30:\n",
    "        print(\"두 번째 값의 범위는 10 ~ 30 입니다.\")\n",
    "    elif num1 > num2:\n",
    "        print(\"첫 번째 값은 두 번째 입력 값보다 작게 입력하세요.\")\n",
    "    else:\n",
    "        break\n",
    "        \n",
    "list_num = [2 ** _ for _ in range(num1, num2 + 1) if (_ != num1 + 1) and (_ != num2 - 1)]\n",
    "print(list_num)"
   ]
  },
  {
   "cell_type": "markdown",
   "id": "fb204c33-e898-4ccd-84ad-f04897f52b97",
   "metadata": {},
   "source": [
    "# 연습 문제\n",
    "\n",
    "홀수의 제곱은 감산하고 짝수의 제곱은 가산하는 프로그램을 while문으로 구현해보세요."
   ]
  },
  {
   "cell_type": "code",
   "execution_count": 61,
   "id": "c1752c54-74bd-4c1a-85b5-59e02327d03c",
   "metadata": {},
   "outputs": [
    {
     "name": "stdout",
     "output_type": "stream",
     "text": [
      "- 1 + 4 - 9 + 16 - 25 + 36 - 49 + 64 - 81 + 100 - 121 + 144 - 169 + 196 - 225 + 256 - 289 + 324 - 361 + 400 - 441 + 484 - 529 + 576 - 625 + 676 - 729 + 784 - 841 + 900 - 961 + 1024 - 1089 + 1156 - 1225 + 1296 - 1369 + 1444 - 1521 + 1600 - 1681 + 1764 - 1849 + 1936 - 2025 + 2116 - 2209 + 2304 - 2401 + 2500 - 2601 + 2704 - 2809 + 2916 - 3025 + 3136 - 3249 + 3364 - 3481 + 3600 - 3721 + 3844 - 3969 + 4096 - 4225 + 4356 - 4489 + 4624 - 4761 + 4900 - 5041 + 5184 - 5329 + 5476 - 5625 + 5776 - 5929 + 6084 - 6241 + 6400 - 6561 + 6724 - 6889 + 7056 - 7225 + 7396 - 7569 + 7744 - 7921 + 8100 - 8281 + 8464 - 8649 + 8836 - 9025 + 9216 - 9409 + 9604 - 9801 + 10000 = 5050 입니다.\n"
     ]
    }
   ],
   "source": [
    "total = 0\n",
    "\n",
    "list_a = [_ for _ in range(1,101)]\n",
    "for _ in list_a:\n",
    "    if _ % 2 == 1:\n",
    "        total -= _ ** 2\n",
    "        print(\"-\", _ ** 2, end = \" \")\n",
    "    elif _ % 2 == 0:\n",
    "        total += _ ** 2\n",
    "        print(\"+\", _ ** 2, end = \" \")\n",
    "        \n",
    "print(\"=\", total, \"입니다.\")"
   ]
  },
  {
   "cell_type": "code",
   "execution_count": 62,
   "id": "e6de38a3-669f-4660-b071-9aad274daa6b",
   "metadata": {},
   "outputs": [
    {
     "name": "stdout",
     "output_type": "stream",
     "text": [
      "- 1 + 4 - 9 + 16 - 25 + 36 - 49 + 64 - 81 + 100 \n",
      "- 121 + 144 - 169 + 196 - 225 + 256 - 289 + 324 - 361 + 400 \n",
      "- 441 + 484 - 529 + 576 - 625 + 676 - 729 + 784 - 841 + 900 \n",
      "- 961 + 1024 - 1089 + 1156 - 1225 + 1296 - 1369 + 1444 - 1521 + 1600 \n",
      "- 1681 + 1764 - 1849 + 1936 - 2025 + 2116 - 2209 + 2304 - 2401 + 2500 \n",
      "- 2601 + 2704 - 2809 + 2916 - 3025 + 3136 - 3249 + 3364 - 3481 + 3600 \n",
      "- 3721 + 3844 - 3969 + 4096 - 4225 + 4356 - 4489 + 4624 - 4761 + 4900 \n",
      "- 5041 + 5184 - 5329 + 5476 - 5625 + 5776 - 5929 + 6084 - 6241 + 6400 \n",
      "- 6561 + 6724 - 6889 + 7056 - 7225 + 7396 - 7569 + 7744 - 7921 + 8100 \n",
      "- 8281 + 8464 - 8649 + 8836 - 9025 + 9216 - 9409 + 9604 - 9801 + 10000 \n",
      "= 5050 입니다.\n"
     ]
    }
   ],
   "source": [
    "i = 1\n",
    "line = 0\n",
    "total = 0\n",
    "while i <= 100:\n",
    "    if i % 2 == 0:\n",
    "        total += i * i\n",
    "        print(\"+\", i * i, end = \" \")\n",
    "    else:\n",
    "        total -= i * i\n",
    "        print(\"-\", i * i, end = \" \")\n",
    "    i += 1\n",
    "    line += 1\n",
    "    if line == 10:\n",
    "        line = 0\n",
    "        print()\n",
    "print(\"=\", total, \"입니다.\")"
   ]
  }
 ],
 "metadata": {
  "kernelspec": {
   "display_name": "Python 3 (ipykernel)",
   "language": "python",
   "name": "python3"
  },
  "language_info": {
   "codemirror_mode": {
    "name": "ipython",
    "version": 3
   },
   "file_extension": ".py",
   "mimetype": "text/x-python",
   "name": "python",
   "nbconvert_exporter": "python",
   "pygments_lexer": "ipython3",
   "version": "3.9.13"
  }
 },
 "nbformat": 4,
 "nbformat_minor": 5
}
